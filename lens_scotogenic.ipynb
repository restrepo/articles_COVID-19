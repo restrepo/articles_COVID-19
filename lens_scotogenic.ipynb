{
  "nbformat": 4,
  "nbformat_minor": 0,
  "metadata": {
    "colab": {
      "name": "lens_scotogenic.ipynb",
      "provenance": [],
      "include_colab_link": true
    },
    "kernelspec": {
      "display_name": "Python 3",
      "language": "python",
      "name": "python3"
    },
    "language_info": {
      "codemirror_mode": {
        "name": "ipython",
        "version": 3
      },
      "file_extension": ".py",
      "mimetype": "text/x-python",
      "name": "python",
      "nbconvert_exporter": "python",
      "pygments_lexer": "ipython3",
      "version": "3.5.3"
    },
    "latex_envs": {
      "LaTeX_envs_menu_present": true,
      "autoclose": false,
      "autocomplete": true,
      "bibliofile": "biblio.bib",
      "cite_by": "apalike",
      "current_citInitial": 1,
      "eqLabelWithNumbers": true,
      "eqNumInitial": 1,
      "hotkeys": {
        "equation": "Ctrl-E",
        "itemize": "Ctrl-I"
      },
      "labels_anchors": false,
      "latex_user_defs": false,
      "report_style_numbering": false,
      "user_envs_cfg": false
    }
  },
  "cells": [
    {
      "cell_type": "markdown",
      "metadata": {
        "id": "view-in-github",
        "colab_type": "text"
      },
      "source": [
        "<a href=\"https://colab.research.google.com/github/restrepo/articles_COVID-19/blob/master/lens_scotogenic.ipynb\" target=\"_parent\"><img src=\"https://colab.research.google.com/assets/colab-badge.svg\" alt=\"Open In Colab\"/></a>"
      ]
    },
    {
      "cell_type": "markdown",
      "metadata": {
        "colab_type": "text",
        "id": "D_lKr3Avj0Ag"
      },
      "source": [
        "# Lens API search for Scotogenic in Lens\n",
        "* 5,000 API requests and up to 5 million records per month\n",
        "* 10 API requests/minute and up to 1,000 records per request: `sleep=6`"
      ]
    },
    {
      "cell_type": "markdown",
      "metadata": {
        "colab_type": "text",
        "id": "39xV6tjuj0Ai"
      },
      "source": [
        "Check: https://docs.api.lens.org/request.html"
      ]
    },
    {
      "cell_type": "markdown",
      "metadata": {
        "colab_type": "text",
        "id": "phECk_hnj0Aj"
      },
      "source": [
        "Get token: https://www.lens.org/lens/user/subscriptions"
      ]
    },
    {
      "cell_type": "markdown",
      "metadata": {
        "id": "z9YsatRoc0yu",
        "colab_type": "text"
      },
      "source": [
        "Examples: https://github.com/cambialens/lens-api-doc"
      ]
    },
    {
      "cell_type": "markdown",
      "metadata": {
        "id": "OekButEdKmSt",
        "colab_type": "text"
      },
      "source": [
        "### Design. \n",
        "* The `query` search for exact match of any type: title, abstract, affiliation, etc.\n",
        "* The `query_terms` search for a list of maximum 20 identifiers\n",
        "* The `query_ORAND` search for a list of type: title, abstract, full_text  etc, words (phrases) with `match_type=match[_phrase]`. For example `title=['first','second','third']`.\n",
        "    * By default the OR search is done in title, abstract and full_text search"
      ]
    },
    {
      "cell_type": "markdown",
      "metadata": {
        "colab_type": "text",
        "id": "fyrZq73Yj0Ak"
      },
      "source": [
        "## Functions and global variables"
      ]
    },
    {
      "cell_type": "code",
      "metadata": {
        "colab_type": "code",
        "id": "Rw3EV881j0Am",
        "outputId": "05f3bf0c-efd8-439e-888d-62c36f9f3df0",
        "colab": {
          "base_uri": "https://localhost:8080/",
          "height": 123
        }
      },
      "source": [
        "import getpass\n",
        "import pandas as pd\n",
        "import requests\n",
        "import sys\n",
        "import time\n",
        "import os\n",
        "import datetime\n",
        "if os.getcwd()=='/content':\n",
        "    !pip install unidecode\n",
        "    !mkdir data\n",
        "import unidecode    "
      ],
      "execution_count": 0,
      "outputs": [
        {
          "output_type": "stream",
          "text": [
            "Collecting unidecode\n",
            "\u001b[?25l  Downloading https://files.pythonhosted.org/packages/d0/42/d9edfed04228bacea2d824904cae367ee9efd05e6cce7ceaaedd0b0ad964/Unidecode-1.1.1-py2.py3-none-any.whl (238kB)\n",
            "\r\u001b[K     |█▍                              | 10kB 20.2MB/s eta 0:00:01\r\u001b[K     |██▊                             | 20kB 1.7MB/s eta 0:00:01\r\u001b[K     |████▏                           | 30kB 2.4MB/s eta 0:00:01\r\u001b[K     |█████▌                          | 40kB 1.7MB/s eta 0:00:01\r\u001b[K     |██████▉                         | 51kB 2.1MB/s eta 0:00:01\r\u001b[K     |████████▎                       | 61kB 2.5MB/s eta 0:00:01\r\u001b[K     |█████████▋                      | 71kB 2.9MB/s eta 0:00:01\r\u001b[K     |███████████                     | 81kB 2.2MB/s eta 0:00:01\r\u001b[K     |████████████▍                   | 92kB 2.5MB/s eta 0:00:01\r\u001b[K     |█████████████▊                  | 102kB 2.7MB/s eta 0:00:01\r\u001b[K     |███████████████▏                | 112kB 2.7MB/s eta 0:00:01\r\u001b[K     |████████████████▌               | 122kB 2.7MB/s eta 0:00:01\r\u001b[K     |█████████████████▉              | 133kB 2.7MB/s eta 0:00:01\r\u001b[K     |███████████████████▎            | 143kB 2.7MB/s eta 0:00:01\r\u001b[K     |████████████████████▋           | 153kB 2.7MB/s eta 0:00:01\r\u001b[K     |██████████████████████          | 163kB 2.7MB/s eta 0:00:01\r\u001b[K     |███████████████████████▍        | 174kB 2.7MB/s eta 0:00:01\r\u001b[K     |████████████████████████▊       | 184kB 2.7MB/s eta 0:00:01\r\u001b[K     |██████████████████████████▏     | 194kB 2.7MB/s eta 0:00:01\r\u001b[K     |███████████████████████████▌    | 204kB 2.7MB/s eta 0:00:01\r\u001b[K     |████████████████████████████▉   | 215kB 2.7MB/s eta 0:00:01\r\u001b[K     |██████████████████████████████▎ | 225kB 2.7MB/s eta 0:00:01\r\u001b[K     |███████████████████████████████▋| 235kB 2.7MB/s eta 0:00:01\r\u001b[K     |████████████████████████████████| 245kB 2.7MB/s \n",
            "\u001b[?25hInstalling collected packages: unidecode\n",
            "Successfully installed unidecode-1.1.1\n"
          ],
          "name": "stdout"
        }
      ]
    },
    {
      "cell_type": "markdown",
      "metadata": {
        "colab_type": "text",
        "id": "TFUR-R4pj0Ap"
      },
      "source": [
        "<!-- #666mmkP9Ibp7bDpLNLKZF8bdYDxCQmxXhFuJzJViVKH92kyBlGmatE2888\n",
        " -->"
      ]
    },
    {
      "cell_type": "code",
      "metadata": {
        "colab_type": "code",
        "id": "Nl8_4Hyoj0Aq",
        "outputId": "c1bc0b72-721c-4a62-bf86-406763395807",
        "colab": {
          "base_uri": "https://localhost:8080/",
          "height": 34
        }
      },
      "source": [
        "token=getpass.getpass('token:')"
      ],
      "execution_count": 0,
      "outputs": [
        {
          "output_type": "stream",
          "text": [
            "token:··········\n"
          ],
          "name": "stdout"
        }
      ]
    },
    {
      "cell_type": "code",
      "metadata": {
        "colab_type": "code",
        "id": "TwCrMmcRj0Au",
        "colab": {}
      },
      "source": [
        "url = 'https://api.lens.org/scholarly/search'\n",
        "size=1000"
      ],
      "execution_count": 0,
      "outputs": []
    },
    {
      "cell_type": "code",
      "metadata": {
        "id": "_B86X68TKC-2",
        "colab_type": "code",
        "colab": {}
      },
      "source": [
        "def ORKEYS(key,l,kwargs):\n",
        "    ll=[ {  kwargs['match_type']:{key: unidecode.unidecode(q)} } for q in l]\n",
        "    if kwargs['abstract']==True:\n",
        "        ll=ll+[ {  kwargs['match_type']:{'abstract': unidecode.unidecode(q)} } \n",
        "                 for q in l]\n",
        "        ll=ll+[ {  kwargs['match_type']:{'full_text': unidecode.unidecode(q)} } \n",
        "                 for q in l]\n",
        "    return str(ll).replace(\"'\",'\"')\n",
        "\n",
        "def query_terms(**kwargs):\n",
        "    \"\"\"\n",
        "    WARNING: Accents will be removed!\n",
        "    Use the lens.org API to obtain a API query string\n",
        "    to feed get_query\n",
        "\n",
        "    Parameters\n",
        "    ----------\n",
        "      lens_id=list of identifiers\n",
        "      range_type=\"date_published\",\n",
        "      date_ini=1900-01-01,\n",
        "      date_end=... #Default to today\n",
        "      size=1000, \n",
        "    \"\"\"\n",
        "    key=list(kwargs.keys())[0]\n",
        "    l=kwargs[key]\n",
        "    if isinstance(l,list):\n",
        "        if len(l)>20:\n",
        "            print('WARNING: Only first 20 items will be searched')\n",
        "        ls=str(l).replace(\"'\",'\"')\n",
        "    else:\n",
        "        sys.exit( 'ERROR: {} must be a list'.format(k) )\n",
        "\n",
        "    data='''{\n",
        "    \"query\": {\n",
        "        \"terms\": {\n",
        "\t\t\t\"%s\": %s\n",
        "\t\t}\n",
        "     }\n",
        "    }''' %(key,ls )\n",
        "    return data\n",
        "\n",
        "def query(**kwargs):\n",
        "    \"\"\"\n",
        "    WARNING: Accents will be removed!\n",
        "    Use the lens.org API to obtain a API query string\n",
        "    to feed get_query\n",
        "\n",
        "    Parameters\n",
        "    ----------\n",
        "     query type must be go first! Example: title, affiliation, abstract, etc:\n",
        "     For example for `title`:\n",
        "      title=\"covid-19\" #(or Affiliation o lens_id, or ...) \n",
        "      match_type ='match_phrase' #for exact match, or match for OR between words\n",
        "      range_type=\"date_published\",\n",
        "      date_ini=1900-01-01,\n",
        "      date_end=... #Default to today\n",
        "      size=1000, \n",
        "    \"\"\"\n",
        "    key=list(kwargs.keys())[0]\n",
        "    q=unidecode.unidecode(kwargs[key])\n",
        "    #Set default values\n",
        "    if not kwargs.get('match_type'):\n",
        "        kwargs['match_type']='match_phrase'\n",
        "    if not kwargs.get('size'):\n",
        "        kwargs['size']=1000\n",
        "    if not kwargs.get('range_type'):\n",
        "        kwargs['range_type']=\"date_published\"\n",
        "    if not kwargs.get('date_ini'):\n",
        "        kwargs['date_ini']='1900-01-01'\n",
        "    if not kwargs.get('date_end'):\n",
        "        kwargs['date_end']=datetime.datetime.today().strftime('%Y-%m-%d')\n",
        "    if kwargs.get('range_type')==\"year_published\":\n",
        "        date_ini=kwargs.get('date_ini').split('-')[0]\n",
        "        date_end=kwargs.get('date_end').split('-')[0]\n",
        "    data='''{\n",
        "    \"query\": {\n",
        "       \"bool\": {\n",
        "         \"must\": [{\n",
        "           \"%s\":{\n",
        "                    \"%s\": \"%s\"\n",
        "               }\n",
        "           },\n",
        "           {\n",
        "           \"range\": {\n",
        "           \"%s\": {\n",
        "                    \"gte\": \"%s\",\n",
        "                    \"lte\": \"%s\"\n",
        "                }\n",
        "           } \n",
        "           }\n",
        "         ]\n",
        "       }\n",
        "     },\n",
        "     \"size\": %i\n",
        "    }''' %(kwargs['match_type'],key,q,\n",
        "                 kwargs.get('range_type'),\n",
        "                 kwargs.get('date_ini'),\n",
        "                 kwargs.get('date_end'),\n",
        "                 kwargs.get('size'))\n",
        "    return data\n",
        "\n",
        "\n",
        "def query_ORAND(**kwargs):\n",
        "    \"\"\"\n",
        "    WARNING: Accents will be removed!\n",
        "    Use the lens.org API to obtain a API query string\n",
        "    to feed get_query\n",
        "\n",
        "    Parameters\n",
        "    ----------\n",
        "     query type must be go first! Example: title, affiliation, abstract, etc:\n",
        "     For example for `title`:\n",
        "      title=\"covid-19\" #(or Affiliation o lens_id, or ...) \n",
        "      match_type ='match_phrase' #for exact match, or match for OR between words\n",
        "      abstract=bolean. Deafult True. Include query in abstract\n",
        "      range_type=\"date_published\",\n",
        "      date_ini=1900-01-01,\n",
        "      date_end=... #Default to today\n",
        "      size=1000,\n",
        "      abstract=True # Search also in abstract \n",
        "    \"\"\"\n",
        "    key=list(kwargs.keys())[0]\n",
        "    l=kwargs[key]\n",
        "    if not isinstance(l,list):\n",
        "        sys.exit('{} must be a list'.format(key))\n",
        "    #Set default values\n",
        "    if not kwargs.get('match_type'):\n",
        "        kwargs['match_type']='match_phrase'\n",
        "    if not kwargs.get('size'):\n",
        "        kwargs['size']=1000\n",
        "    if kwargs.get('logical')==\"AND\":\n",
        "        logical='must'\n",
        "    else:\n",
        "        kwargs['logical']=\"OR\"\n",
        "        logical='should' \n",
        "    if not kwargs.get('abstract'):\n",
        "        if kwargs['logical']==\"AND\":\n",
        "            kwargs['abstract']=False\n",
        "        else:\n",
        "            kwargs['abstract']=True\n",
        "    if not kwargs.get('logical'):\n",
        "        kwargs['logical']=\"OR\"\n",
        "    if not kwargs.get('range_type'):\n",
        "        kwargs['range_type']=\"date_published\"\n",
        "    if not kwargs.get('date_ini'):\n",
        "        kwargs['date_ini']='1900-01-01'\n",
        "    if not kwargs.get('date_end'):\n",
        "        kwargs['date_end']=datetime.datetime.today().strftime('%Y-%m-%d')\n",
        "    if kwargs.get('range_type')==\"year_published\":\n",
        "        date_ini=kwargs.get('date_ini').split('-')[0]\n",
        "        date_end=kwargs.get('date_end').split('-')[0]\n",
        "    data='''{\n",
        "    \"query\": {\n",
        "       \"bool\": {\n",
        "         \"must\": [{\n",
        "            \"bool\": {\n",
        "               \"%s\": %s\n",
        "                    }\n",
        "               },\n",
        "           {\n",
        "           \"range\": {\n",
        "           \"%s\": {\n",
        "                    \"gte\": \"%s\",\n",
        "                    \"lte\": \"%s\"\n",
        "                }\n",
        "           } \n",
        "           }\n",
        "         ]\n",
        "       }\n",
        "     },\n",
        "     \"size\": %i\n",
        "    }''' %(logical,\n",
        "           ORKEYS(key,l,kwargs),\n",
        "                 kwargs.get('range_type'),\n",
        "                 kwargs.get('date_ini'),\n",
        "                 kwargs.get('date_end'),\n",
        "                 kwargs.get('size'))\n",
        "    return data\n",
        "\n",
        "\n",
        "def get_query(*args,**kwargs):\n",
        "    '''\n",
        "    Use the lens.org API to obtain a DataFrame with the query\n",
        "\n",
        "    Parameters\n",
        "    ----------\n",
        "      data_function: function to generate the data query. See query(...)\n",
        "      title=\"covid-19\" #(or Affiliation o lens_id, or ...)\n",
        "      range_type=\"date_published\",\n",
        "      date_ini=1900-01-01,\n",
        "      date_end=... #Default to today\n",
        "      size=1000, \n",
        "      url=API_url,\n",
        "      token=token #API token  \n",
        "    '''\n",
        "    query=args[0]\n",
        "    token=kwargs.get('token')\n",
        "    url=kwargs.get('url')\n",
        "    kk=kwargs.pop('url')\n",
        "    kk=kwargs.pop('token')\n",
        "    data=query(**kwargs)\n",
        "    headers = {'Authorization': '{}'.format(token), 'Content-Type': 'application/json'}\n",
        "    response = requests.post(url, data=data, headers=headers)\n",
        "    if response.status_code != requests.codes.ok:\n",
        "        print(response.status_code)\n",
        "        r='[]'\n",
        "    else:\n",
        "        r=response.text\n",
        "    return pd.read_json(r)    \n"
      ],
      "execution_count": 0,
      "outputs": []
    },
    {
      "cell_type": "code",
      "metadata": {
        "id": "DWncq9kr0XL_",
        "colab_type": "code",
        "outputId": "87e82a8a-5601-4c2b-d5b9-8ba79164df55",
        "colab": {
          "base_uri": "https://localhost:8080/",
          "height": 51
        }
      },
      "source": [
        "RELOAD=True\n",
        "#https://link.lens.org/eBV1zZsBGQd\n",
        "querylist=[\"dark matter\",\"neutrino\"]\n",
        "rr=pd.DataFrame()\n",
        "start_date=datetime.datetime.strptime('1920-01-01','%Y-%m-%d')\n",
        "#start_date=datetime.datetime.strptime('2020-03-03','%Y-%m-%d')\n",
        "today=datetime.datetime.today()\n",
        "dd=['2014-12-31',today.strftime('%Y-%m-%d')]\n",
        "#dd=['2020-03-02']\n",
        "for d in dd:\n",
        "    if not RELOAD:\n",
        "        break\n",
        "    next_date=datetime.datetime.strptime(d,'%Y-%m-%d')\n",
        "    if next_date.date()==today.date():\n",
        "        rr.to_json('data/scotogenic_{}.json.gz'.format(\n",
        "             (start_date-datetime.timedelta(days=1)).strftime('%Y-%m-%d')   ))\n",
        "\n",
        "    print('{} → {} : '.format( start_date.strftime('%Y-%m-%d'),\n",
        "                              next_date.strftime('%Y-%m-%d') ),\n",
        "          end='')\n",
        "    tmp=get_query(query_ORAND,\n",
        "      title=querylist,\n",
        "      logical=\"AND\",\n",
        "      abstract=False,\n",
        "      range_type=\"date_published\",\n",
        "      date_ini=start_date.strftime('%Y-%m-%d'),\n",
        "      date_end=next_date.strftime('%Y-%m-%d'),\n",
        "      size=1000,\n",
        "      url=url,\n",
        "      token=token) \n",
        "\n",
        "    print(tmp.shape)\n",
        "    rr=rr.append( tmp  ).reset_index(drop=True)\n",
        "    start_date=next_date+datetime.timedelta(days=1)\n",
        "    \n",
        "    #if d==dd[0]:\n",
        "    #    break   \n",
        "    time.sleep(7)\n"
      ],
      "execution_count": 0,
      "outputs": [
        {
          "output_type": "stream",
          "text": [
            "1920-01-01 → 2014-12-31 : (923, 3)\n",
            "2015-01-01 → 2020-04-13 : (809, 3)\n"
          ],
          "name": "stdout"
        }
      ]
    },
    {
      "cell_type": "markdown",
      "metadata": {
        "colab_type": "text",
        "id": "aYFE4w2nj0BG"
      },
      "source": [
        "### Check results"
      ]
    },
    {
      "cell_type": "code",
      "metadata": {
        "id": "ihXm-9uX16Mv",
        "colab_type": "code",
        "colab": {}
      },
      "source": [
        "if RELOAD:\n",
        "    cv=pd.DataFrame(list(rr.data.values))\n",
        "    cv.to_json('data/scotogenic.json.gz')\n",
        "else:\n",
        "    urljason='https://github.com/restrepo/lensapi/raw/master/data/scotogenic.json.gz'\n",
        "    cv=pd.read_json(urljason,compression='gzip')"
      ],
      "execution_count": 0,
      "outputs": []
    },
    {
      "cell_type": "code",
      "metadata": {
        "colab_type": "code",
        "id": "8LesJKD1j0BX",
        "outputId": "a005f930-9431-4c5f-8853-9b8256cada14",
        "colab": {
          "base_uri": "https://localhost:8080/",
          "height": 34
        }
      },
      "source": [
        "cv.shape"
      ],
      "execution_count": 0,
      "outputs": [
        {
          "output_type": "execute_result",
          "data": {
            "text/plain": [
              "(1732, 29)"
            ]
          },
          "metadata": {
            "tags": []
          },
          "execution_count": 8
        }
      ]
    },
    {
      "cell_type": "code",
      "metadata": {
        "id": "dL15FCJY2Yf4",
        "colab_type": "code",
        "outputId": "58d971ad-23fe-4494-facb-e994e8de9909",
        "colab": {
          "base_uri": "https://localhost:8080/",
          "height": 34
        }
      },
      "source": [
        "cv.scholarly_citations_count.sum()"
      ],
      "execution_count": 0,
      "outputs": [
        {
          "output_type": "execute_result",
          "data": {
            "text/plain": [
              "33586.0"
            ]
          },
          "metadata": {
            "tags": []
          },
          "execution_count": 9
        }
      ]
    },
    {
      "cell_type": "code",
      "metadata": {
        "colab_type": "code",
        "id": "S5f46Ftr2vsV",
        "outputId": "5eb6d735-ba9d-42d0-b664-a19c5710b2c2",
        "colab": {
          "base_uri": "https://localhost:8080/",
          "height": 298
        }
      },
      "source": [
        "cv['Year']=cv.date_published.apply(lambda s: s.split('-')[0] if type(s)==str else \n",
        "                                          s.get('date').split('-')[0] )\n",
        "cv=cv[~cv['Year'].isna()].reset_index(drop=True)\n",
        "cv['Year']=cv['Year'].astype(int)\n",
        "cv[cv['Year']>2007]['Year'].value_counts().sort_index().plot(kind='bar')"
      ],
      "execution_count": 0,
      "outputs": [
        {
          "output_type": "execute_result",
          "data": {
            "text/plain": [
              "<matplotlib.axes._subplots.AxesSubplot at 0x7fbd8886a550>"
            ]
          },
          "metadata": {
            "tags": []
          },
          "execution_count": 10
        },
        {
          "output_type": "display_data",
          "data": {
            "image/png": "[encoded data removed]",
            "text/plain": [
              "<Figure size 432x288 with 1 Axes>"
            ]
          },
          "metadata": {
            "tags": [],
            "needs_background": "light"
          }
        }
      ]
    },
    {
      "cell_type": "markdown",
      "metadata": {
        "id": "f1W7TUxYjp8C",
        "colab_type": "text"
      },
      "source": [
        "### Search for citations"
      ]
    },
    {
      "cell_type": "code",
      "metadata": {
        "id": "otbgXEbL0T7B",
        "colab_type": "code",
        "outputId": "2078c4a5-0c42-4dbe-a847-d60e7e0b726e",
        "colab": {
          "base_uri": "https://localhost:8080/",
          "height": 123
        }
      },
      "source": [
        "import os\n",
        "if os.getcwd()=='/content':\n",
        "    from google.colab import drive\n",
        "    drive.mount('/content/drive')"
      ],
      "execution_count": 0,
      "outputs": [
        {
          "output_type": "stream",
          "text": [
            "Go to this URL in a browser: https://accounts.google.com/o/oauth2/auth?client_id=947318989803-6bn6qk8qdgf4n4g3pfee6491hc0brc4i.apps.googleusercontent.com&redirect_uri=urn%3aietf%3awg%3aoauth%3a2.0%3aoob&response_type=code&scope=email%20https%3a%2f%2fwww.googleapis.com%2fauth%2fdocs.test%20https%3a%2f%2fwww.googleapis.com%2fauth%2fdrive%20https%3a%2f%2fwww.googleapis.com%2fauth%2fdrive.photos.readonly%20https%3a%2f%2fwww.googleapis.com%2fauth%2fpeopleapi.readonly\n",
            "\n",
            "Enter your authorization code:\n",
            "··········\n",
            "Mounted at /content/drive\n"
          ],
          "name": "stdout"
        }
      ]
    },
    {
      "cell_type": "markdown",
      "metadata": {
        "id": "Ra8cZQzB8xB9",
        "colab_type": "text"
      },
      "source": [
        "Lens.org allows to search for a list of idintifiers ot length until 20"
      ]
    },
    {
      "cell_type": "code",
      "metadata": {
        "id": "JfqkPsVjKQNk",
        "colab_type": "code",
        "outputId": "fef7fbdc-698f-4ee3-ee55-74339c2ac8bc",
        "colab": {
          "base_uri": "https://localhost:8080/",
          "height": 34
        }
      },
      "source": [
        "l=list(cv['scholarly_citations'].apply(pd.Series).stack().unique())\n",
        "len(l)"
      ],
      "execution_count": 0,
      "outputs": [
        {
          "output_type": "execute_result",
          "data": {
            "text/plain": [
              "11575"
            ]
          },
          "metadata": {
            "tags": []
          },
          "execution_count": 12
        }
      ]
    },
    {
      "cell_type": "code",
      "metadata": {
        "id": "k9ZVX0US2N2A",
        "colab_type": "code",
        "colab": {}
      },
      "source": [
        "cvc=pd.DataFrame()\n",
        "rold=0\n",
        "terms_max=20\n",
        "lenl=len(l)\n",
        "steps=list(range(0,lenl,terms_max))[1:]+[ lenl ]\n",
        "for r in steps:\n",
        "    ll=l[rold:r]\n",
        "    rold=r\n",
        "    #make lens query\n",
        "    tmp=get_query(query_terms,lens_id=ll,url=url,token=token)\n",
        "    cvc=cvc.append(tmp).reset_index(drop=True)\n",
        "    cvc.to_json('scotogenic_scholarly_citations.json')\n",
        "    if os.getcwd()=='/content':\n",
        "        !cp scotogenic_scholarly_citations.json drive/My\\ Drive\n",
        "        \n",
        "    time.sleep(7)\n",
        "    #break    "
      ],
      "execution_count": 0,
      "outputs": []
    },
    {
      "cell_type": "code",
      "metadata": {
        "id": "HzUlapGURCzi",
        "colab_type": "code",
        "colab": {}
      },
      "source": [
        "import pandas as pd\n",
        "cvc=pd.read_json(\"drive/My Drive/scotogenic_scholarly_citations.json\")"
      ],
      "execution_count": 0,
      "outputs": []
    },
    {
      "cell_type": "code",
      "metadata": {
        "colab_type": "code",
        "id": "S-XGUnKSnvUc",
        "colab": {}
      },
      "source": [
        "dfcvc=pd.DataFrame(list(cvc.data.values))"
      ],
      "execution_count": 0,
      "outputs": []
    },
    {
      "cell_type": "code",
      "metadata": {
        "id": "twRJLX02RsZ1",
        "colab_type": "code",
        "colab": {}
      },
      "source": [
        "dfcvc[:14000].to_json('scotogenic_scholarly_citations_part_1.json.gz')\n",
        "dfcvc[14000:].to_json('scotogenic_scholarly_citations_part_2.json.gz')"
      ],
      "execution_count": 0,
      "outputs": []
    },
    {
      "cell_type": "code",
      "metadata": {
        "id": "NdamtqM8qEO2",
        "colab_type": "code",
        "outputId": "23aed905-b09c-41b8-c214-9f7508378916",
        "colab": {
          "base_uri": "https://localhost:8080/",
          "height": 51
        }
      },
      "source": [
        "ls -lh scotogenic_scholarly_citations_part_*"
      ],
      "execution_count": 0,
      "outputs": [
        {
          "output_type": "stream",
          "text": [
            "-rw-r--r-- 1 root root  23M Apr  8 16:45 covid_19_scholarly_citations_part_1.json.gz\n",
            "-rw-r--r-- 1 root root 8.1M Apr  8 16:45 covid_19_scholarly_citations_part_2.json.gz\n"
          ],
          "name": "stdout"
        }
      ]
    },
    {
      "cell_type": "code",
      "metadata": {
        "id": "iVApG0Za1M3f",
        "colab_type": "code",
        "outputId": "97e07df9-0aff-40e0-dcbf-1a138c7b2e23",
        "colab": {
          "base_uri": "https://localhost:8080/",
          "height": 171
        }
      },
      "source": [
        "dfcvc.columns"
      ],
      "execution_count": 0,
      "outputs": [
        {
          "output_type": "execute_result",
          "data": {
            "text/plain": [
              "Index(['lens_id', 'created', 'open_access', 'publication_type',\n",
              "       'publication_supplementary_type', 'authors', 'title', 'volume', 'issue',\n",
              "       'languages', 'references', 'mesh_terms', 'chemicals', 'fields_of_study',\n",
              "       'funding', 'source_urls', 'abstract', 'year_published',\n",
              "       'references_count', 'scholarly_citations_count', 'external_ids',\n",
              "       'start_page', 'end_page', 'source', 'scholarly_citations',\n",
              "       'author_count', 'date_published', 'keywords', 'patent_citations',\n",
              "       'patent_citations_count', 'conference', 'clinical_trials'],\n",
              "      dtype='object')"
            ]
          },
          "metadata": {
            "tags": []
          },
          "execution_count": 28
        }
      ]
    },
    {
      "cell_type": "markdown",
      "metadata": {
        "id": "3GRU5MPtVnOu",
        "colab_type": "text"
      },
      "source": [
        "# Pajek files generation"
      ]
    },
    {
      "cell_type": "code",
      "metadata": {
        "id": "7jQh-u_EPXmE",
        "colab_type": "code",
        "colab": {}
      },
      "source": [
        "import pandas as pd\n",
        "import time\n",
        "qq=[]\n",
        "def to_pajek(row,newlist=qq):\n",
        "    c=len(row.get('scholarly_citations'))\n",
        "    for i in range(c):\n",
        "        qq.append({ 'lens_id': row.get('lens_id'),'scholarly_citations': row.get('scholarly_citations')[i] })\n",
        "    return 'qq is being build'\n",
        "def to_authors(row,newlist=qq):\n",
        "    try:\n",
        "        c=len(row.get('authors'))\n",
        "    except:\n",
        "        c=0\n",
        "    for i in range(c):\n",
        "        try:\n",
        "            i_author=row.get('authors')[i]\n",
        "        except:\n",
        "            i_author={}\n",
        "        try:\n",
        "            i_affiliations=i_author.get('affiliations')[0]\n",
        "        except:\n",
        "            i_affiliations={}\n",
        "        qq.append({ 'lens_id': row.get('lens_id'),\n",
        "                   'author': '{} {}'.format(i_author.get('first_name'),\n",
        "                                            i_author.get('last_name')),\n",
        "                   'affiliation': i_affiliations.get('name'),\n",
        "                   'country': i_affiliations.get('country_code')})\n",
        "    return qq#'qq is being build'"
      ],
      "execution_count": 0,
      "outputs": []
    },
    {
      "cell_type": "code",
      "metadata": {
        "id": "W2x6OsXlPawM",
        "colab_type": "code",
        "colab": {}
      },
      "source": [
        "base='https://github.com/restrepo/articles_COVID-19/raw/master/data/'\n",
        "file='scotogenic.json.gz'\n",
        "cv=pd.read_json('{}{}'.format(base,file),compression='gzip')\n",
        "time.sleep(2)\n",
        "file='scotogenic_scholarly_citations.json.gz'\n",
        "cvc=pd.read_json('{}{}'.format(base,file),compression='gzip')"
      ],
      "execution_count": 0,
      "outputs": []
    },
    {
      "cell_type": "code",
      "metadata": {
        "id": "M6gRR7vByfoc",
        "colab_type": "code",
        "outputId": "588b496a-de50-4ff9-d76c-7abb1f8e0ce7",
        "colab": {
          "base_uri": "https://localhost:8080/",
          "height": 185
        }
      },
      "source": [
        "cvc[cvc.lens_id=='004-766-632-851-036']"
      ],
      "execution_count": 0,
      "outputs": [
        {
          "output_type": "execute_result",
          "data": {
            "text/html": [
              "<div>\n",
              "<style scoped>\n",
              "    .dataframe tbody tr th:only-of-type {\n",
              "        vertical-align: middle;\n",
              "    }\n",
              "\n",
              "    .dataframe tbody tr th {\n",
              "        vertical-align: top;\n",
              "    }\n",
              "\n",
              "    .dataframe thead th {\n",
              "        text-align: right;\n",
              "    }\n",
              "</style>\n",
              "<table border=\"1\" class=\"dataframe\">\n",
              "  <thead>\n",
              "    <tr style=\"text-align: right;\">\n",
              "      <th></th>\n",
              "      <th>lens_id</th>\n",
              "      <th>created</th>\n",
              "      <th>open_access</th>\n",
              "      <th>publication_type</th>\n",
              "      <th>authors</th>\n",
              "      <th>title</th>\n",
              "      <th>volume</th>\n",
              "      <th>issue</th>\n",
              "      <th>languages</th>\n",
              "      <th>references</th>\n",
              "      <th>fields_of_study</th>\n",
              "      <th>funding</th>\n",
              "      <th>source_urls</th>\n",
              "      <th>abstract</th>\n",
              "      <th>year_published</th>\n",
              "      <th>references_count</th>\n",
              "      <th>scholarly_citations_count</th>\n",
              "      <th>external_ids</th>\n",
              "      <th>start_page</th>\n",
              "      <th>source</th>\n",
              "      <th>scholarly_citations</th>\n",
              "      <th>author_count</th>\n",
              "      <th>date_published</th>\n",
              "      <th>end_page</th>\n",
              "      <th>publication_supplementary_type</th>\n",
              "      <th>patent_citations</th>\n",
              "      <th>patent_citations_count</th>\n",
              "      <th>keywords</th>\n",
              "      <th>mesh_terms</th>\n",
              "      <th>conference</th>\n",
              "      <th>chemicals</th>\n",
              "    </tr>\n",
              "  </thead>\n",
              "  <tbody>\n",
              "    <tr>\n",
              "      <th>7080</th>\n",
              "      <td>004-766-632-851-036</td>\n",
              "      <td>2019-01-15T01:43:41.098000+00:00</td>\n",
              "      <td>{'locations': {}, 'license': 'cc-by', 'colour'...</td>\n",
              "      <td>journal article</td>\n",
              "      <td>[{'collective_name': None, 'first_name': 'Juli...</td>\n",
              "      <td>Minimal radiative Dirac neutrino mass models</td>\n",
              "      <td>99</td>\n",
              "      <td>7</td>\n",
              "      <td>[en]</td>\n",
              "      <td>[{'lens_id': '001-740-521-380-003'}, {'lens_id...</td>\n",
              "      <td>[Lepton number, Particle physics, Physics, Dar...</td>\n",
              "      <td>[{'org': 'Consejería de Educación, Universidad...</td>\n",
              "      <td>[{'type': 'pdf', 'url': 'https://arxiv.org/pdf...</td>\n",
              "      <td>Neutrinos may be Dirac particles whose masses ...</td>\n",
              "      <td>2019</td>\n",
              "      <td>58</td>\n",
              "      <td>15.0</td>\n",
              "      <td>[{'type': 'magid', 'value': '2903617953'}, {'t...</td>\n",
              "      <td>None</td>\n",
              "      <td>{'title': 'Physical Review D', 'type': 'Journa...</td>\n",
              "      <td>[017-930-819-670-095, 021-281-153-747-005, 030...</td>\n",
              "      <td>4.0</td>\n",
              "      <td>2019-04-09T00:00:00+00:00</td>\n",
              "      <td>None</td>\n",
              "      <td>None</td>\n",
              "      <td>None</td>\n",
              "      <td>NaN</td>\n",
              "      <td>None</td>\n",
              "      <td>None</td>\n",
              "      <td>None</td>\n",
              "      <td>None</td>\n",
              "    </tr>\n",
              "  </tbody>\n",
              "</table>\n",
              "</div>"
            ],
            "text/plain": [
              "                  lens_id  ... chemicals\n",
              "7080  004-766-632-851-036  ...      None\n",
              "\n",
              "[1 rows x 31 columns]"
            ]
          },
          "metadata": {
            "tags": []
          },
          "execution_count": 9
        }
      ]
    },
    {
      "cell_type": "code",
      "metadata": {
        "id": "R9RiJhRd2F_a",
        "colab_type": "code",
        "outputId": "ef53d337-b942-46a2-b453-c6123e9ab697",
        "colab": {
          "base_uri": "https://localhost:8080/",
          "height": 1000
        }
      },
      "source": [
        "cv.sort_values('scholarly_citations_count',ascending=False)"
      ],
      "execution_count": 0,
      "outputs": [
        {
          "output_type": "execute_result",
          "data": {
            "text/html": [
              "<div>\n",
              "<style scoped>\n",
              "    .dataframe tbody tr th:only-of-type {\n",
              "        vertical-align: middle;\n",
              "    }\n",
              "\n",
              "    .dataframe tbody tr th {\n",
              "        vertical-align: top;\n",
              "    }\n",
              "\n",
              "    .dataframe thead th {\n",
              "        text-align: right;\n",
              "    }\n",
              "</style>\n",
              "<table border=\"1\" class=\"dataframe\">\n",
              "  <thead>\n",
              "    <tr style=\"text-align: right;\">\n",
              "      <th></th>\n",
              "      <th>lens_id</th>\n",
              "      <th>created</th>\n",
              "      <th>open_access</th>\n",
              "      <th>publication_type</th>\n",
              "      <th>authors</th>\n",
              "      <th>title</th>\n",
              "      <th>volume</th>\n",
              "      <th>issue</th>\n",
              "      <th>languages</th>\n",
              "      <th>references</th>\n",
              "      <th>fields_of_study</th>\n",
              "      <th>source_urls</th>\n",
              "      <th>abstract</th>\n",
              "      <th>year_published</th>\n",
              "      <th>references_count</th>\n",
              "      <th>scholarly_citations_count</th>\n",
              "      <th>external_ids</th>\n",
              "      <th>start_page</th>\n",
              "      <th>source</th>\n",
              "      <th>scholarly_citations</th>\n",
              "      <th>author_count</th>\n",
              "      <th>date_published</th>\n",
              "      <th>end_page</th>\n",
              "      <th>funding</th>\n",
              "      <th>publication_supplementary_type</th>\n",
              "      <th>patent_citations</th>\n",
              "      <th>patent_citations_count</th>\n",
              "      <th>mesh_terms</th>\n",
              "      <th>keywords</th>\n",
              "    </tr>\n",
              "  </thead>\n",
              "  <tbody>\n",
              "    <tr>\n",
              "      <th>458</th>\n",
              "      <td>065-989-521-308-04X</td>\n",
              "      <td>2018-05-12T21:00:37.814000+00:00</td>\n",
              "      <td>{'locations': {}, 'colour': 'green'}</td>\n",
              "      <td>journal article</td>\n",
              "      <td>[{'collective_name': None, 'first_name': 'Erne...</td>\n",
              "      <td>Verifiable radiative seesaw mechanism of neutr...</td>\n",
              "      <td>73</td>\n",
              "      <td>7</td>\n",
              "      <td>[en]</td>\n",
              "      <td>[{'lens_id': '008-450-256-388-272'}, {'lens_id...</td>\n",
              "      <td>[Neutrino oscillation, Particle physics, Physi...</td>\n",
              "      <td>[{'type': 'html', 'url': 'http://inspirehep.ne...</td>\n",
              "      <td>Neutrino oscillations have established that ne...</td>\n",
              "      <td>2006</td>\n",
              "      <td>14.0</td>\n",
              "      <td>912.0</td>\n",
              "      <td>[{'type': 'magid', 'value': '2123578256'}, {'t...</td>\n",
              "      <td>077301</td>\n",
              "      <td>{'title': 'Physical Review D', 'type': 'Journa...</td>\n",
              "      <td>[000-176-214-377-698, 000-403-508-273-162, 000...</td>\n",
              "      <td>1</td>\n",
              "      <td>2006-04-14T00:00:00+00:00</td>\n",
              "      <td>None</td>\n",
              "      <td>None</td>\n",
              "      <td>None</td>\n",
              "      <td>None</td>\n",
              "      <td>NaN</td>\n",
              "      <td>None</td>\n",
              "      <td>None</td>\n",
              "    </tr>\n",
              "    <tr>\n",
              "      <th>246</th>\n",
              "      <td>032-623-365-480-871</td>\n",
              "      <td>2018-05-08T22:27:50.181000+00:00</td>\n",
              "      <td>{'locations': {}, 'colour': 'green'}</td>\n",
              "      <td>journal article</td>\n",
              "      <td>[{'collective_name': None, 'first_name': 'Scot...</td>\n",
              "      <td>Sterile neutrinos as dark matter</td>\n",
              "      <td>72</td>\n",
              "      <td>1</td>\n",
              "      <td>[en]</td>\n",
              "      <td>[{'lens_id': '001-147-942-052-027'}, {'lens_id...</td>\n",
              "      <td>[Sterile neutrino, Particle physics, Warm dark...</td>\n",
              "      <td>[{'type': 'html', 'url': 'http://cds.cern.ch/r...</td>\n",
              "      <td>The simplest model that can accommodate a viab...</td>\n",
              "      <td>1994</td>\n",
              "      <td>23.0</td>\n",
              "      <td>906.0</td>\n",
              "      <td>[{'type': 'magid', 'value': '2138874905'}, {'t...</td>\n",
              "      <td>17</td>\n",
              "      <td>{'title': 'Physical Review Letters', 'type': '...</td>\n",
              "      <td>[000-090-787-660-274, 000-109-171-990-213, 000...</td>\n",
              "      <td>2</td>\n",
              "      <td>1994-01-03T00:00:00+00:00</td>\n",
              "      <td>20</td>\n",
              "      <td>None</td>\n",
              "      <td>None</td>\n",
              "      <td>None</td>\n",
              "      <td>NaN</td>\n",
              "      <td>None</td>\n",
              "      <td>None</td>\n",
              "    </tr>\n",
              "    <tr>\n",
              "      <th>727</th>\n",
              "      <td>125-995-698-066-395</td>\n",
              "      <td>2018-05-12T21:03:48.867000+00:00</td>\n",
              "      <td>None</td>\n",
              "      <td>journal article</td>\n",
              "      <td>[{'collective_name': None, 'first_name': 'Matt...</td>\n",
              "      <td>Constraining warm dark matter candidates inclu...</td>\n",
              "      <td>71</td>\n",
              "      <td>6</td>\n",
              "      <td>[en]</td>\n",
              "      <td>[{'lens_id': '000-510-576-701-943'}, {'lens_id...</td>\n",
              "      <td>[Particle physics, Warm dark matter, Supersymm...</td>\n",
              "      <td>[{'type': 'html', 'url': 'http://www.arxiv-van...</td>\n",
              "      <td>The matter power spectrum at comoving scales o...</td>\n",
              "      <td>2005</td>\n",
              "      <td>56.0</td>\n",
              "      <td>631.0</td>\n",
              "      <td>[{'type': 'magid', 'value': '2150480596'}, {'t...</td>\n",
              "      <td>063534</td>\n",
              "      <td>{'title': 'Physical Review D', 'type': 'Journa...</td>\n",
              "      <td>[000-009-327-216-753, 000-066-053-238-322, 000...</td>\n",
              "      <td>5</td>\n",
              "      <td>2005-03-31T00:00:00+00:00</td>\n",
              "      <td>None</td>\n",
              "      <td>None</td>\n",
              "      <td>None</td>\n",
              "      <td>None</td>\n",
              "      <td>NaN</td>\n",
              "      <td>None</td>\n",
              "      <td>None</td>\n",
              "    </tr>\n",
              "    <tr>\n",
              "      <th>764</th>\n",
              "      <td>136-907-729-532-579</td>\n",
              "      <td>2018-05-12T16:20:35.295000+00:00</td>\n",
              "      <td>{'locations': {}, 'license': 'cc-by', 'colour'...</td>\n",
              "      <td>journal article</td>\n",
              "      <td>[{'collective_name': None, 'first_name': 'Take...</td>\n",
              "      <td>The $\\nu$MSM, Dark Matter and Neutrino Masses</td>\n",
              "      <td>631</td>\n",
              "      <td>4</td>\n",
              "      <td>[en]</td>\n",
              "      <td>[{'lens_id': '005-281-525-925-061'}, {'lens_id...</td>\n",
              "      <td>[Sterile neutrino, Particle physics, Physics, ...</td>\n",
              "      <td>[{'type': 'pdf', 'url': 'https://arxiv.org/pdf...</td>\n",
              "      <td>We investigate an extension of the Minimal Sta...</td>\n",
              "      <td>2005</td>\n",
              "      <td>27.0</td>\n",
              "      <td>538.0</td>\n",
              "      <td>[{'type': 'magid', 'value': '2986640630'}, {'t...</td>\n",
              "      <td>151</td>\n",
              "      <td>{'title': 'Physics Letters B', 'type': 'Journa...</td>\n",
              "      <td>[000-090-787-660-274, 000-109-171-990-213, 000...</td>\n",
              "      <td>3</td>\n",
              "      <td>2005-03-07T00:00:00+00:00</td>\n",
              "      <td>156</td>\n",
              "      <td>None</td>\n",
              "      <td>[repository]</td>\n",
              "      <td>None</td>\n",
              "      <td>NaN</td>\n",
              "      <td>None</td>\n",
              "      <td>None</td>\n",
              "    </tr>\n",
              "    <tr>\n",
              "      <th>725</th>\n",
              "      <td>125-627-669-400-789</td>\n",
              "      <td>2018-05-12T21:16:43.812000+00:00</td>\n",
              "      <td>{'locations': {}, 'colour': 'green'}</td>\n",
              "      <td>journal article</td>\n",
              "      <td>[{'collective_name': None, 'first_name': 'Xian...</td>\n",
              "      <td>New Dark Matter Candidate: Nonthermal Sterile ...</td>\n",
              "      <td>82</td>\n",
              "      <td>14</td>\n",
              "      <td>[en]</td>\n",
              "      <td>[{'lens_id': '003-264-494-151-229'}, {'lens_id...</td>\n",
              "      <td>[Sterile neutrino, Neutrino oscillation, Lepto...</td>\n",
              "      <td>[{'type': 'pdf', 'url': 'https://arxiv.org/pdf...</td>\n",
              "      <td>Author(s): Shi, Xiangdong; Fuller, George M | ...</td>\n",
              "      <td>1999</td>\n",
              "      <td>21.0</td>\n",
              "      <td>532.0</td>\n",
              "      <td>[{'type': 'magid', 'value': '2007184284'}, {'t...</td>\n",
              "      <td>2832</td>\n",
              "      <td>{'title': 'Physical Review Letters', 'type': '...</td>\n",
              "      <td>[000-090-787-660-274, 000-109-171-990-213, 000...</td>\n",
              "      <td>2</td>\n",
              "      <td>1999-04-05T00:00:00+00:00</td>\n",
              "      <td>2835</td>\n",
              "      <td>None</td>\n",
              "      <td>None</td>\n",
              "      <td>None</td>\n",
              "      <td>NaN</td>\n",
              "      <td>None</td>\n",
              "      <td>None</td>\n",
              "    </tr>\n",
              "    <tr>\n",
              "      <th>...</th>\n",
              "      <td>...</td>\n",
              "      <td>...</td>\n",
              "      <td>...</td>\n",
              "      <td>...</td>\n",
              "      <td>...</td>\n",
              "      <td>...</td>\n",
              "      <td>...</td>\n",
              "      <td>...</td>\n",
              "      <td>...</td>\n",
              "      <td>...</td>\n",
              "      <td>...</td>\n",
              "      <td>...</td>\n",
              "      <td>...</td>\n",
              "      <td>...</td>\n",
              "      <td>...</td>\n",
              "      <td>...</td>\n",
              "      <td>...</td>\n",
              "      <td>...</td>\n",
              "      <td>...</td>\n",
              "      <td>...</td>\n",
              "      <td>...</td>\n",
              "      <td>...</td>\n",
              "      <td>...</td>\n",
              "      <td>...</td>\n",
              "      <td>...</td>\n",
              "      <td>...</td>\n",
              "      <td>...</td>\n",
              "      <td>...</td>\n",
              "      <td>...</td>\n",
              "    </tr>\n",
              "    <tr>\n",
              "      <th>1719</th>\n",
              "      <td>192-390-280-503-568</td>\n",
              "      <td>2018-05-16T02:43:28.643000+00:00</td>\n",
              "      <td>None</td>\n",
              "      <td>None</td>\n",
              "      <td>[{'collective_name': None, 'first_name': 'Robe...</td>\n",
              "      <td>Constraints on sterile neutrino dark matter ca...</td>\n",
              "      <td>None</td>\n",
              "      <td>None</td>\n",
              "      <td>[en]</td>\n",
              "      <td>None</td>\n",
              "      <td>[Sterile neutrino, Neutrino oscillation, Warm ...</td>\n",
              "      <td>[{'type': 'pdf', 'url': 'http://inspirehep.net...</td>\n",
              "      <td>The Fermi Gamma-Ray Burst Monitor (GBM) is an ...</td>\n",
              "      <td>2015</td>\n",
              "      <td>NaN</td>\n",
              "      <td>NaN</td>\n",
              "      <td>[{'type': 'magid', 'value': '2275310907'}]</td>\n",
              "      <td>233</td>\n",
              "      <td>None</td>\n",
              "      <td>None</td>\n",
              "      <td>5</td>\n",
              "      <td>2015-01-01T00:00:00+00:00</td>\n",
              "      <td>236</td>\n",
              "      <td>None</td>\n",
              "      <td>None</td>\n",
              "      <td>None</td>\n",
              "      <td>NaN</td>\n",
              "      <td>None</td>\n",
              "      <td>None</td>\n",
              "    </tr>\n",
              "    <tr>\n",
              "      <th>1721</th>\n",
              "      <td>193-090-281-344-484</td>\n",
              "      <td>2018-05-16T22:46:58.920000+00:00</td>\n",
              "      <td>None</td>\n",
              "      <td>None</td>\n",
              "      <td>[{'collective_name': None, 'first_name': 'Alfi...</td>\n",
              "      <td>Search for neutralino dark matter with 6 years...</td>\n",
              "      <td>None</td>\n",
              "      <td>None</td>\n",
              "      <td>[no]</td>\n",
              "      <td>None</td>\n",
              "      <td>[Particle physics, Warm dark matter, Physics, ...</td>\n",
              "      <td>[{'type': 'pdf', 'url': 'http://inspirehep.net...</td>\n",
              "      <td>None</td>\n",
              "      <td>2017</td>\n",
              "      <td>NaN</td>\n",
              "      <td>NaN</td>\n",
              "      <td>[{'type': 'magid', 'value': '2765890219'}]</td>\n",
              "      <td>None</td>\n",
              "      <td>None</td>\n",
              "      <td>None</td>\n",
              "      <td>1</td>\n",
              "      <td>2017-10-25T00:00:00+00:00</td>\n",
              "      <td>None</td>\n",
              "      <td>None</td>\n",
              "      <td>None</td>\n",
              "      <td>None</td>\n",
              "      <td>NaN</td>\n",
              "      <td>None</td>\n",
              "      <td>None</td>\n",
              "    </tr>\n",
              "    <tr>\n",
              "      <th>1725</th>\n",
              "      <td>195-557-071-564-904</td>\n",
              "      <td>2020-01-11T13:48:18.541000+00:00</td>\n",
              "      <td>None</td>\n",
              "      <td>None</td>\n",
              "      <td>[{'collective_name': None, 'first_name': 'Tist...</td>\n",
              "      <td>Estimation of Baryon Asymmetry from Dark Matte...</td>\n",
              "      <td>None</td>\n",
              "      <td>None</td>\n",
              "      <td>[en]</td>\n",
              "      <td>[{'lens_id': '000-762-586-580-242'}, {'lens_id...</td>\n",
              "      <td>[Particle physics, Physics, Dark matter, Neutr...</td>\n",
              "      <td>[{'type': 'html', 'url': 'https://arxiv.org/pd...</td>\n",
              "      <td>The recent results of IceCube Neutrino Observa...</td>\n",
              "      <td>2019</td>\n",
              "      <td>36.0</td>\n",
              "      <td>NaN</td>\n",
              "      <td>[{'type': 'magid', 'value': '2990640104'}]</td>\n",
              "      <td>None</td>\n",
              "      <td>{'title': 'arXiv: High Energy Physics - Phenom...</td>\n",
              "      <td>None</td>\n",
              "      <td>4</td>\n",
              "      <td>2019-11-22T00:00:00+00:00</td>\n",
              "      <td>None</td>\n",
              "      <td>None</td>\n",
              "      <td>[repository]</td>\n",
              "      <td>None</td>\n",
              "      <td>NaN</td>\n",
              "      <td>None</td>\n",
              "      <td>None</td>\n",
              "    </tr>\n",
              "    <tr>\n",
              "      <th>1728</th>\n",
              "      <td>197-405-534-122-302</td>\n",
              "      <td>2019-07-17T19:28:55.279000+00:00</td>\n",
              "      <td>None</td>\n",
              "      <td>None</td>\n",
              "      <td>[{'collective_name': None, 'first_name': None,...</td>\n",
              "      <td>Unifying leptogenesis, dark matter and high-en...</td>\n",
              "      <td>None</td>\n",
              "      <td>None</td>\n",
              "      <td>[en]</td>\n",
              "      <td>None</td>\n",
              "      <td>[Particle physics, Physics, Higgs boson, Dark ...</td>\n",
              "      <td>[{'type': 'unknown', 'url': 'https://digital.c...</td>\n",
              "      <td>None</td>\n",
              "      <td>2016</td>\n",
              "      <td>NaN</td>\n",
              "      <td>NaN</td>\n",
              "      <td>[{'type': 'magid', 'value': '2951530737'}]</td>\n",
              "      <td>None</td>\n",
              "      <td>None</td>\n",
              "      <td>None</td>\n",
              "      <td>1</td>\n",
              "      <td>2016-11-01T00:00:00+00:00</td>\n",
              "      <td>None</td>\n",
              "      <td>None</td>\n",
              "      <td>None</td>\n",
              "      <td>None</td>\n",
              "      <td>NaN</td>\n",
              "      <td>None</td>\n",
              "      <td>None</td>\n",
              "    </tr>\n",
              "    <tr>\n",
              "      <th>1730</th>\n",
              "      <td>198-094-284-733-127</td>\n",
              "      <td>2018-05-16T11:02:43.786000+00:00</td>\n",
              "      <td>None</td>\n",
              "      <td>journal article</td>\n",
              "      <td>[{'collective_name': None, 'first_name': 'B. G...</td>\n",
              "      <td>Measuring Sub-keV Ionization Yields in Liquid ...</td>\n",
              "      <td>None</td>\n",
              "      <td>None</td>\n",
              "      <td>[en]</td>\n",
              "      <td>None</td>\n",
              "      <td>[Physics, Dark matter, Atomic physics, Nuclear...</td>\n",
              "      <td>[{'type': 'html', 'url': 'http://meetings.aps....</td>\n",
              "      <td>None</td>\n",
              "      <td>2016</td>\n",
              "      <td>NaN</td>\n",
              "      <td>NaN</td>\n",
              "      <td>[{'type': 'magid', 'value': '2413047750'}]</td>\n",
              "      <td>None</td>\n",
              "      <td>{'title': 'Bulletin of the American Physical S...</td>\n",
              "      <td>None</td>\n",
              "      <td>8</td>\n",
              "      <td>2016-04-17T00:00:00+00:00</td>\n",
              "      <td>None</td>\n",
              "      <td>None</td>\n",
              "      <td>None</td>\n",
              "      <td>None</td>\n",
              "      <td>NaN</td>\n",
              "      <td>None</td>\n",
              "      <td>None</td>\n",
              "    </tr>\n",
              "  </tbody>\n",
              "</table>\n",
              "<p>1732 rows × 29 columns</p>\n",
              "</div>"
            ],
            "text/plain": [
              "                  lens_id                           created  ... mesh_terms keywords\n",
              "458   065-989-521-308-04X  2018-05-12T21:00:37.814000+00:00  ...       None     None\n",
              "246   032-623-365-480-871  2018-05-08T22:27:50.181000+00:00  ...       None     None\n",
              "727   125-995-698-066-395  2018-05-12T21:03:48.867000+00:00  ...       None     None\n",
              "764   136-907-729-532-579  2018-05-12T16:20:35.295000+00:00  ...       None     None\n",
              "725   125-627-669-400-789  2018-05-12T21:16:43.812000+00:00  ...       None     None\n",
              "...                   ...                               ...  ...        ...      ...\n",
              "1719  192-390-280-503-568  2018-05-16T02:43:28.643000+00:00  ...       None     None\n",
              "1721  193-090-281-344-484  2018-05-16T22:46:58.920000+00:00  ...       None     None\n",
              "1725  195-557-071-564-904  2020-01-11T13:48:18.541000+00:00  ...       None     None\n",
              "1728  197-405-534-122-302  2019-07-17T19:28:55.279000+00:00  ...       None     None\n",
              "1730  198-094-284-733-127  2018-05-16T11:02:43.786000+00:00  ...       None     None\n",
              "\n",
              "[1732 rows x 29 columns]"
            ]
          },
          "metadata": {
            "tags": []
          },
          "execution_count": 8
        }
      ]
    },
    {
      "cell_type": "code",
      "metadata": {
        "id": "v8Pyg8n6V0mv",
        "colab_type": "code",
        "outputId": "d0f44d3f-3a60-4cb3-f80d-234cd7b2cc6f",
        "colab": {
          "base_uri": "https://localhost:8080/",
          "height": 222
        }
      },
      "source": [
        "qq=[]\n",
        "#remove articles without citations\n",
        "cvac=cv.dropna(subset=['scholarly_citations'])\n",
        "cvac.apply( \n",
        "    to_pajek ,axis='columns')"
      ],
      "execution_count": 0,
      "outputs": [
        {
          "output_type": "execute_result",
          "data": {
            "text/plain": [
              "0       qq is being build\n",
              "2       qq is being build\n",
              "3       qq is being build\n",
              "5       qq is being build\n",
              "8       qq is being build\n",
              "              ...        \n",
              "1724    qq is being build\n",
              "1726    qq is being build\n",
              "1727    qq is being build\n",
              "1729    qq is being build\n",
              "1731    qq is being build\n",
              "Length: 1146, dtype: object"
            ]
          },
          "metadata": {
            "tags": []
          },
          "execution_count": 7
        }
      ]
    },
    {
      "cell_type": "code",
      "metadata": {
        "id": "2newO9uDZNX7",
        "colab_type": "code",
        "colab": {}
      },
      "source": [
        "\n",
        "pcvac=pd.DataFrame(qq)\n",
        "pcvac.to_excel('scotogenic_pajek_hoja_1.xlsx',index=False)"
      ],
      "execution_count": 0,
      "outputs": []
    },
    {
      "cell_type": "code",
      "metadata": {
        "id": "UMoGzPDbZcMv",
        "colab_type": "code",
        "outputId": "b0151569-f56a-4c5d-fb06-e06e4de038c3",
        "colab": {
          "base_uri": "https://localhost:8080/",
          "height": 34
        }
      },
      "source": [
        "cvt=cvac.append(cvc).reset_index(drop=True)\n",
        "cvt=cvt.drop_duplicates('lens_id').reset_index(drop=True)\n",
        "cvt.shape"
      ],
      "execution_count": 0,
      "outputs": [
        {
          "output_type": "execute_result",
          "data": {
            "text/plain": [
              "(11917, 31)"
            ]
          },
          "metadata": {
            "tags": []
          },
          "execution_count": 12
        }
      ]
    },
    {
      "cell_type": "code",
      "metadata": {
        "id": "VOqkUqXndQk-",
        "colab_type": "code",
        "colab": {}
      },
      "source": [
        "qq=[]\n",
        "cvt.apply(to_authors,axis='columns').values"
      ],
      "execution_count": 0,
      "outputs": []
    },
    {
      "cell_type": "code",
      "metadata": {
        "id": "sWURk-EcdbQE",
        "colab_type": "code",
        "colab": {}
      },
      "source": [
        "pcvt=pd.DataFrame(qq)\n",
        "pcvt.to_excel('scotogenic_pajek_hoja_3.xlsx',index=False)"
      ],
      "execution_count": 0,
      "outputs": []
    },
    {
      "cell_type": "code",
      "metadata": {
        "id": "N_G2Nddzdg2W",
        "colab_type": "code",
        "colab": {}
      },
      "source": [
        "cvt['date']=cvt.created.str.split('T').str[0]\n",
        "cvt['journal']=cvt.source.apply(lambda d: d.get('title') if isinstance(d,dict) else '')\n",
        "cvt[['lens_id','title','date','journal']].to_excel('scotogenic_pajek_hoja_2.xlsx',index=False)"
      ],
      "execution_count": 0,
      "outputs": []
    },
    {
      "cell_type": "markdown",
      "metadata": {
        "id": "ozfzjit-drrB",
        "colab_type": "text"
      },
      "source": [
        "# Graphs"
      ]
    },
    {
      "cell_type": "code",
      "metadata": {
        "id": "y6SVUteuxa2R",
        "colab_type": "code",
        "colab": {}
      },
      "source": [
        "import pandas as pd\n",
        "pd.set_option('display.max_colwidth',200)"
      ],
      "execution_count": 0,
      "outputs": []
    },
    {
      "cell_type": "code",
      "metadata": {
        "id": "_ayDHIHxxcbh",
        "colab_type": "code",
        "colab": {}
      },
      "source": [
        "df=pd.read_excel('https://docs.google.com/spreadsheets/d/e/2PACX-1vRYwt7RIivFHPvMdvJXegaqXEeECkORVX4i9dHqK6wN2pMvqcPaiGZpwPLS7auWnQ/pub?output=xlsx',\n",
        "                 sheet_name=1)"
      ],
      "execution_count": 0,
      "outputs": []
    },
    {
      "cell_type": "code",
      "metadata": {
        "id": "CyEhT019L41B",
        "colab_type": "code",
        "colab": {}
      },
      "source": [
        "gr=df.dropna(subset=['Nodo en el grafo']).reset_index(drop=True)"
      ],
      "execution_count": 0,
      "outputs": []
    },
    {
      "cell_type": "markdown",
      "metadata": {
        "id": "LHm54dwNNyl1",
        "colab_type": "text"
      },
      "source": [
        ""
      ]
    },
    {
      "cell_type": "code",
      "metadata": {
        "id": "dSy1n49dMxQG",
        "colab_type": "code",
        "colab": {}
      },
      "source": [
        "gr1=gr[gr['Nodo en el grafo'].astype(int).apply(lambda n: n in \n",
        "            [29,57,59,63,57,59,67,79,89,90,92,101,107,109,110,114,119,147,152,154,155,160,162,163,164,165,175,\n",
        "             180])]#[\n",
        "            #['title','Predictor de importantes último mes','Nodo en el grafo']]"
      ],
      "execution_count": 0,
      "outputs": []
    },
    {
      "cell_type": "code",
      "metadata": {
        "id": "H2ezvZy2NMCf",
        "colab_type": "code",
        "colab": {}
      },
      "source": [
        "gr1.to_excel('cluster_centro_inferior.xlsx',index=False)"
      ],
      "execution_count": 0,
      "outputs": []
    },
    {
      "cell_type": "code",
      "metadata": {
        "id": "YD0_2x7rTRGf",
        "colab_type": "code",
        "outputId": "49f81ace-61c8-48ae-eea9-aef59381b9b4",
        "colab": {
          "base_uri": "https://localhost:8080/",
          "height": 514
        }
      },
      "source": [
        "gr[gr['Nodo en el grafo'].astype(int).apply(lambda n: n in \n",
        "            [30,75,105,124,141,192,148,133,143])]"
      ],
      "execution_count": 0,
      "outputs": [
        {
          "output_type": "execute_result",
          "data": {
            "text/html": [
              "<div>\n",
              "<style scoped>\n",
              "    .dataframe tbody tr th:only-of-type {\n",
              "        vertical-align: middle;\n",
              "    }\n",
              "\n",
              "    .dataframe tbody tr th {\n",
              "        vertical-align: top;\n",
              "    }\n",
              "\n",
              "    .dataframe thead th {\n",
              "        text-align: right;\n",
              "    }\n",
              "</style>\n",
              "<table border=\"1\" class=\"dataframe\">\n",
              "  <thead>\n",
              "    <tr style=\"text-align: right;\">\n",
              "      <th></th>\n",
              "      <th>ID</th>\n",
              "      <th>lens_id</th>\n",
              "      <th>SPLC</th>\n",
              "      <th>title</th>\n",
              "      <th>date</th>\n",
              "      <th>journal</th>\n",
              "      <th>Predictor de importantes último mes</th>\n",
              "      <th>Partición</th>\n",
              "      <th>Nodo en el grafo</th>\n",
              "    </tr>\n",
              "  </thead>\n",
              "  <tbody>\n",
              "    <tr>\n",
              "      <th>5</th>\n",
              "      <td>77</td>\n",
              "      <td>032-221-358-108-842</td>\n",
              "      <td>0.0063</td>\n",
              "      <td>Dodelson-Widrow Mechanism in the Presence of Self-Interacting Neutrinos</td>\n",
              "      <td>2020-03-05</td>\n",
              "      <td>Physical Review Letters</td>\n",
              "      <td>0.6300</td>\n",
              "      <td>1</td>\n",
              "      <td>30.0</td>\n",
              "    </tr>\n",
              "    <tr>\n",
              "      <th>36</th>\n",
              "      <td>3069</td>\n",
              "      <td>094-690-739-382-440</td>\n",
              "      <td>0.8576</td>\n",
              "      <td>Radiative Scaling Neutrino Mass and Warm Dark Matter</td>\n",
              "      <td>2018-05-15</td>\n",
              "      <td>Physics Letters B</td>\n",
              "      <td>0.8576</td>\n",
              "      <td>0</td>\n",
              "      <td>75.0</td>\n",
              "    </tr>\n",
              "    <tr>\n",
              "      <th>39</th>\n",
              "      <td>11775</td>\n",
              "      <td>032-623-365-480-871</td>\n",
              "      <td>0.6506</td>\n",
              "      <td>Sterile neutrinos as dark matter</td>\n",
              "      <td>2018-05-08</td>\n",
              "      <td>Physical Review Letters</td>\n",
              "      <td>0.6506</td>\n",
              "      <td>0</td>\n",
              "      <td>192.0</td>\n",
              "    </tr>\n",
              "    <tr>\n",
              "      <th>44</th>\n",
              "      <td>5488</td>\n",
              "      <td>125-627-669-400-789</td>\n",
              "      <td>0.4843</td>\n",
              "      <td>New Dark Matter Candidate: Nonthermal Sterile Neutrinos</td>\n",
              "      <td>2018-05-12</td>\n",
              "      <td>Physical Review Letters</td>\n",
              "      <td>0.4843</td>\n",
              "      <td>0</td>\n",
              "      <td>141.0</td>\n",
              "    </tr>\n",
              "    <tr>\n",
              "      <th>47</th>\n",
              "      <td>5344</td>\n",
              "      <td>046-461-192-353-610</td>\n",
              "      <td>0.4483</td>\n",
              "      <td>Constraining the window on sterile neutrinos as warm dark matter</td>\n",
              "      <td>2018-05-12</td>\n",
              "      <td>Monthly Notices of the Royal Astronomical Society</td>\n",
              "      <td>0.4483</td>\n",
              "      <td>0</td>\n",
              "      <td>124.0</td>\n",
              "    </tr>\n",
              "    <tr>\n",
              "      <th>69</th>\n",
              "      <td>5490</td>\n",
              "      <td>125-995-698-066-395</td>\n",
              "      <td>0.2592</td>\n",
              "      <td>Constraining warm dark matter candidates including sterile neutrinos and light gravitinos with WMAP and the Lyman-alpha forest</td>\n",
              "      <td>2018-05-12</td>\n",
              "      <td>Physical Review D</td>\n",
              "      <td>0.2592</td>\n",
              "      <td>0</td>\n",
              "      <td>143.0</td>\n",
              "    </tr>\n",
              "    <tr>\n",
              "      <th>82</th>\n",
              "      <td>5523</td>\n",
              "      <td>164-503-743-754-236</td>\n",
              "      <td>0.1742</td>\n",
              "      <td>Dark matter sterile neutrinos in stellar collapse: Alteration of energy/lepton number transport and a mechanism for supernova explosion enhancement</td>\n",
              "      <td>2018-05-12</td>\n",
              "      <td>Physical Review D</td>\n",
              "      <td>0.1742</td>\n",
              "      <td>0</td>\n",
              "      <td>148.0</td>\n",
              "    </tr>\n",
              "    <tr>\n",
              "      <th>104</th>\n",
              "      <td>5403</td>\n",
              "      <td>075-064-918-781-255</td>\n",
              "      <td>0.0797</td>\n",
              "      <td>Can sterile neutrinos be the dark matter</td>\n",
              "      <td>2018-05-12</td>\n",
              "      <td>Physical Review Letters</td>\n",
              "      <td>0.0797</td>\n",
              "      <td>0</td>\n",
              "      <td>133.0</td>\n",
              "    </tr>\n",
              "    <tr>\n",
              "      <th>117</th>\n",
              "      <td>5248</td>\n",
              "      <td>012-623-029-421-017</td>\n",
              "      <td>0.0631</td>\n",
              "      <td>Clustering properties of a sterile neutrino dark matter candidate</td>\n",
              "      <td>2018-05-12</td>\n",
              "      <td>Physical Review D</td>\n",
              "      <td>0.0631</td>\n",
              "      <td>0</td>\n",
              "      <td>105.0</td>\n",
              "    </tr>\n",
              "  </tbody>\n",
              "</table>\n",
              "</div>"
            ],
            "text/plain": [
              "        ID              lens_id  ...  Partición Nodo en el grafo\n",
              "5       77  032-221-358-108-842  ...          1             30.0\n",
              "36    3069  094-690-739-382-440  ...          0             75.0\n",
              "39   11775  032-623-365-480-871  ...          0            192.0\n",
              "44    5488  125-627-669-400-789  ...          0            141.0\n",
              "47    5344  046-461-192-353-610  ...          0            124.0\n",
              "69    5490  125-995-698-066-395  ...          0            143.0\n",
              "82    5523  164-503-743-754-236  ...          0            148.0\n",
              "104   5403  075-064-918-781-255  ...          0            133.0\n",
              "117   5248  012-623-029-421-017  ...          0            105.0\n",
              "\n",
              "[9 rows x 9 columns]"
            ]
          },
          "metadata": {
            "tags": []
          },
          "execution_count": 47
        }
      ]
    },
    {
      "cell_type": "code",
      "metadata": {
        "id": "QMatu-2PeOmL",
        "colab_type": "code",
        "outputId": "57309e54-84e7-4695-aedb-9c2b08ce567e",
        "colab": {
          "base_uri": "https://localhost:8080/",
          "height": 401
        }
      },
      "source": [
        "gr[gr['Nodo en el grafo'].astype(int).apply(lambda n: n in \n",
        "            [14,47,54,95,161,166,182])]"
      ],
      "execution_count": 0,
      "outputs": [
        {
          "output_type": "execute_result",
          "data": {
            "text/html": [
              "<div>\n",
              "<style scoped>\n",
              "    .dataframe tbody tr th:only-of-type {\n",
              "        vertical-align: middle;\n",
              "    }\n",
              "\n",
              "    .dataframe tbody tr th {\n",
              "        vertical-align: top;\n",
              "    }\n",
              "\n",
              "    .dataframe thead th {\n",
              "        text-align: right;\n",
              "    }\n",
              "</style>\n",
              "<table border=\"1\" class=\"dataframe\">\n",
              "  <thead>\n",
              "    <tr style=\"text-align: right;\">\n",
              "      <th></th>\n",
              "      <th>ID</th>\n",
              "      <th>lens_id</th>\n",
              "      <th>SPLC</th>\n",
              "      <th>title</th>\n",
              "      <th>date</th>\n",
              "      <th>journal</th>\n",
              "      <th>Predictor de importantes último mes</th>\n",
              "      <th>Partición</th>\n",
              "      <th>Nodo en el grafo</th>\n",
              "    </tr>\n",
              "  </thead>\n",
              "  <tbody>\n",
              "    <tr>\n",
              "      <th>1</th>\n",
              "      <td>39</td>\n",
              "      <td>127-861-135-556-015</td>\n",
              "      <td>0.0076</td>\n",
              "      <td>Neutrino Portal to FIMP Dark Matter with an Early Matter Era</td>\n",
              "      <td>2020-03-23</td>\n",
              "      <td>arXiv: High Energy Physics - Phenomenology</td>\n",
              "      <td>0.7600</td>\n",
              "      <td>1</td>\n",
              "      <td>14.0</td>\n",
              "    </tr>\n",
              "    <tr>\n",
              "      <th>95</th>\n",
              "      <td>5571</td>\n",
              "      <td>017-603-650-608-094</td>\n",
              "      <td>0.1031</td>\n",
              "      <td>Neutrino lines from majoron dark matter</td>\n",
              "      <td>2018-05-12</td>\n",
              "      <td>Journal of High Energy Physics</td>\n",
              "      <td>0.1031</td>\n",
              "      <td>0</td>\n",
              "      <td>161.0</td>\n",
              "    </tr>\n",
              "    <tr>\n",
              "      <th>96</th>\n",
              "      <td>1435</td>\n",
              "      <td>001-281-578-599-196</td>\n",
              "      <td>0.1018</td>\n",
              "      <td>Neutrino portals to dark matter.</td>\n",
              "      <td>2019-03-30</td>\n",
              "      <td>European Physical Journal C</td>\n",
              "      <td>0.1018</td>\n",
              "      <td>0</td>\n",
              "      <td>47.0</td>\n",
              "    </tr>\n",
              "    <tr>\n",
              "      <th>97</th>\n",
              "      <td>5614</td>\n",
              "      <td>043-015-494-896-187</td>\n",
              "      <td>0.1009</td>\n",
              "      <td>New Search for Monochromatic Neutrinos from Dark Matter Decay</td>\n",
              "      <td>2018-05-12</td>\n",
              "      <td>Physical Review D</td>\n",
              "      <td>0.1009</td>\n",
              "      <td>0</td>\n",
              "      <td>166.0</td>\n",
              "    </tr>\n",
              "    <tr>\n",
              "      <th>115</th>\n",
              "      <td>1588</td>\n",
              "      <td>059-952-889-220-592</td>\n",
              "      <td>0.0658</td>\n",
              "      <td>Monochromatic dark neutrinos and boosted dark matter in noble liquid direct detection</td>\n",
              "      <td>2019-01-15</td>\n",
              "      <td>Physical Review D</td>\n",
              "      <td>0.0658</td>\n",
              "      <td>0</td>\n",
              "      <td>54.0</td>\n",
              "    </tr>\n",
              "    <tr>\n",
              "      <th>152</th>\n",
              "      <td>4515</td>\n",
              "      <td>144-196-164-000-832</td>\n",
              "      <td>0.0255</td>\n",
              "      <td>Prospects for discovering a neutrino line induced by dark matter annihilation</td>\n",
              "      <td>2018-05-13</td>\n",
              "      <td>Journal of Cosmology and Astroparticle Physics</td>\n",
              "      <td>0.0255</td>\n",
              "      <td>0</td>\n",
              "      <td>95.0</td>\n",
              "    </tr>\n",
              "    <tr>\n",
              "      <th>191</th>\n",
              "      <td>5703</td>\n",
              "      <td>134-976-134-346-773</td>\n",
              "      <td>0.0106</td>\n",
              "      <td>Dark matter decay to a photon and a neutrino: The double monochromatic smoking gun scenario</td>\n",
              "      <td>2018-05-12</td>\n",
              "      <td>Physical Review D</td>\n",
              "      <td>0.0106</td>\n",
              "      <td>0</td>\n",
              "      <td>182.0</td>\n",
              "    </tr>\n",
              "  </tbody>\n",
              "</table>\n",
              "</div>"
            ],
            "text/plain": [
              "       ID              lens_id  ...  Partición Nodo en el grafo\n",
              "1      39  127-861-135-556-015  ...          1             14.0\n",
              "95   5571  017-603-650-608-094  ...          0            161.0\n",
              "96   1435  001-281-578-599-196  ...          0             47.0\n",
              "97   5614  043-015-494-896-187  ...          0            166.0\n",
              "115  1588  059-952-889-220-592  ...          0             54.0\n",
              "152  4515  144-196-164-000-832  ...          0             95.0\n",
              "191  5703  134-976-134-346-773  ...          0            182.0\n",
              "\n",
              "[7 rows x 9 columns]"
            ]
          },
          "metadata": {
            "tags": []
          },
          "execution_count": 50
        }
      ]
    },
    {
      "cell_type": "code",
      "metadata": {
        "id": "KRZhjwF6e99X",
        "colab_type": "code",
        "outputId": "bc2f86c5-8fa3-4820-b640-585adf2bc15e",
        "colab": {
          "base_uri": "https://localhost:8080/",
          "height": 305
        }
      },
      "source": [
        "gr[gr['Nodo en el grafo'].astype(int).apply(lambda n: n in \n",
        "            [10,34,2,86,87])]"
      ],
      "execution_count": 0,
      "outputs": [
        {
          "output_type": "execute_result",
          "data": {
            "text/html": [
              "<div>\n",
              "<style scoped>\n",
              "    .dataframe tbody tr th:only-of-type {\n",
              "        vertical-align: middle;\n",
              "    }\n",
              "\n",
              "    .dataframe tbody tr th {\n",
              "        vertical-align: top;\n",
              "    }\n",
              "\n",
              "    .dataframe thead th {\n",
              "        text-align: right;\n",
              "    }\n",
              "</style>\n",
              "<table border=\"1\" class=\"dataframe\">\n",
              "  <thead>\n",
              "    <tr style=\"text-align: right;\">\n",
              "      <th></th>\n",
              "      <th>ID</th>\n",
              "      <th>lens_id</th>\n",
              "      <th>SPLC</th>\n",
              "      <th>title</th>\n",
              "      <th>date</th>\n",
              "      <th>journal</th>\n",
              "      <th>Predictor de importantes último mes</th>\n",
              "      <th>Partición</th>\n",
              "      <th>Nodo en el grafo</th>\n",
              "    </tr>\n",
              "  </thead>\n",
              "  <tbody>\n",
              "    <tr>\n",
              "      <th>18</th>\n",
              "      <td>7</td>\n",
              "      <td>173-160-587-911-248</td>\n",
              "      <td>0.0011</td>\n",
              "      <td>Singlet-doublet fermionic dark matter and gravitational waves in a two-Higgs-doublet extension of the Standard Model</td>\n",
              "      <td>2020-03-27</td>\n",
              "      <td>Physical Review D</td>\n",
              "      <td>0.1100</td>\n",
              "      <td>1</td>\n",
              "      <td>2.0</td>\n",
              "    </tr>\n",
              "    <tr>\n",
              "      <th>26</th>\n",
              "      <td>27</td>\n",
              "      <td>042-017-880-325-115</td>\n",
              "      <td>0.0005</td>\n",
              "      <td>Scotogenic dark matter and Dirac neutrinos from unbroken gauged $B-L$ symmetry.</td>\n",
              "      <td>2020-03-23</td>\n",
              "      <td>arXiv: High Energy Physics - Phenomenology</td>\n",
              "      <td>0.0500</td>\n",
              "      <td>1</td>\n",
              "      <td>10.0</td>\n",
              "    </tr>\n",
              "    <tr>\n",
              "      <th>27</th>\n",
              "      <td>84</td>\n",
              "      <td>010-030-271-102-085</td>\n",
              "      <td>0.0005</td>\n",
              "      <td>Dark matter stability and Dirac neutrinos using only standard model symmetries</td>\n",
              "      <td>2020-03-05</td>\n",
              "      <td>Physical Review D</td>\n",
              "      <td>0.0500</td>\n",
              "      <td>1</td>\n",
              "      <td>34.0</td>\n",
              "    </tr>\n",
              "    <tr>\n",
              "      <th>105</th>\n",
              "      <td>4476</td>\n",
              "      <td>038-981-250-917-605</td>\n",
              "      <td>0.0787</td>\n",
              "      <td>Seesaw roadmap to neutrino mass and dark matter</td>\n",
              "      <td>2018-05-13</td>\n",
              "      <td>Physics Letters B</td>\n",
              "      <td>0.0787</td>\n",
              "      <td>0</td>\n",
              "      <td>86.0</td>\n",
              "    </tr>\n",
              "    <tr>\n",
              "      <th>188</th>\n",
              "      <td>4477</td>\n",
              "      <td>039-299-125-527-127</td>\n",
              "      <td>0.0111</td>\n",
              "      <td>Generalized bottom-tau unification, neutrino oscillations and dark matter: Predictions from a lepton quarticity flavor approach</td>\n",
              "      <td>2018-05-13</td>\n",
              "      <td>Physics Letters B</td>\n",
              "      <td>0.0111</td>\n",
              "      <td>0</td>\n",
              "      <td>87.0</td>\n",
              "    </tr>\n",
              "  </tbody>\n",
              "</table>\n",
              "</div>"
            ],
            "text/plain": [
              "       ID              lens_id  ...  Partición Nodo en el grafo\n",
              "18      7  173-160-587-911-248  ...          1              2.0\n",
              "26     27  042-017-880-325-115  ...          1             10.0\n",
              "27     84  010-030-271-102-085  ...          1             34.0\n",
              "105  4476  038-981-250-917-605  ...          0             86.0\n",
              "188  4477  039-299-125-527-127  ...          0             87.0\n",
              "\n",
              "[5 rows x 9 columns]"
            ]
          },
          "metadata": {
            "tags": []
          },
          "execution_count": 54
        }
      ]
    },
    {
      "cell_type": "code",
      "metadata": {
        "id": "CeetjS11fpSA",
        "colab_type": "code",
        "outputId": "f5074ff8-56f5-41ec-c65e-9579cfc92660",
        "colab": {
          "base_uri": "https://localhost:8080/",
          "height": 418
        }
      },
      "source": [
        "gr[gr['Nodo en el grafo'].astype(int).apply(lambda n: n in \n",
        "            [3,5,11,15,21,22,43])]"
      ],
      "execution_count": 0,
      "outputs": [
        {
          "output_type": "execute_result",
          "data": {
            "text/html": [
              "<div>\n",
              "<style scoped>\n",
              "    .dataframe tbody tr th:only-of-type {\n",
              "        vertical-align: middle;\n",
              "    }\n",
              "\n",
              "    .dataframe tbody tr th {\n",
              "        vertical-align: top;\n",
              "    }\n",
              "\n",
              "    .dataframe thead th {\n",
              "        text-align: right;\n",
              "    }\n",
              "</style>\n",
              "<table border=\"1\" class=\"dataframe\">\n",
              "  <thead>\n",
              "    <tr style=\"text-align: right;\">\n",
              "      <th></th>\n",
              "      <th>ID</th>\n",
              "      <th>lens_id</th>\n",
              "      <th>SPLC</th>\n",
              "      <th>title</th>\n",
              "      <th>date</th>\n",
              "      <th>journal</th>\n",
              "      <th>Predictor de importantes último mes</th>\n",
              "      <th>Partición</th>\n",
              "      <th>Nodo en el grafo</th>\n",
              "    </tr>\n",
              "  </thead>\n",
              "  <tbody>\n",
              "    <tr>\n",
              "      <th>0</th>\n",
              "      <td>40</td>\n",
              "      <td>194-666-813-225-917</td>\n",
              "      <td>0.0081</td>\n",
              "      <td>Light $Z^\\prime$ and Dark Matter from U(1)$_X$ Gauge Symmetry.</td>\n",
              "      <td>2020-03-23</td>\n",
              "      <td>arXiv: High Energy Physics - Phenomenology</td>\n",
              "      <td>0.8100</td>\n",
              "      <td>1</td>\n",
              "      <td>15.0</td>\n",
              "    </tr>\n",
              "    <tr>\n",
              "      <th>6</th>\n",
              "      <td>60</td>\n",
              "      <td>199-535-702-091-356</td>\n",
              "      <td>0.0061</td>\n",
              "      <td>Boltzmann hierarchies for self-interacting warm dark matter scenarios</td>\n",
              "      <td>2020-03-07</td>\n",
              "      <td>arXiv: Cosmology and Nongalactic Astrophysics</td>\n",
              "      <td>0.6100</td>\n",
              "      <td>1</td>\n",
              "      <td>22.0</td>\n",
              "    </tr>\n",
              "    <tr>\n",
              "      <th>9</th>\n",
              "      <td>28</td>\n",
              "      <td>048-650-358-851-085</td>\n",
              "      <td>0.0039</td>\n",
              "      <td>Scotogenic dark matter and single-zero textures of the neutrino mass matrix</td>\n",
              "      <td>2020-03-23</td>\n",
              "      <td>Journal of Physics: Conference Series</td>\n",
              "      <td>0.3900</td>\n",
              "      <td>1</td>\n",
              "      <td>11.0</td>\n",
              "    </tr>\n",
              "    <tr>\n",
              "      <th>10</th>\n",
              "      <td>8</td>\n",
              "      <td>071-830-953-469-157</td>\n",
              "      <td>0.0031</td>\n",
              "      <td>Minimal seesaw extension for neutrino mass and mixing, leptogenesis and dark matter: FIMPzillas through the right-handed neutrino portal</td>\n",
              "      <td>2020-03-23</td>\n",
              "      <td>Journal of Cosmology and Astroparticle Physics</td>\n",
              "      <td>0.3100</td>\n",
              "      <td>1</td>\n",
              "      <td>3.0</td>\n",
              "    </tr>\n",
              "    <tr>\n",
              "      <th>11</th>\n",
              "      <td>10</td>\n",
              "      <td>145-907-801-501-272</td>\n",
              "      <td>0.0029</td>\n",
              "      <td>Minimal dark matter models with radiative neutrino masses: From Lagrangians to observables.</td>\n",
              "      <td>2020-03-23</td>\n",
              "      <td>arXiv: High Energy Physics - Phenomenology</td>\n",
              "      <td>0.2900</td>\n",
              "      <td>1</td>\n",
              "      <td>5.0</td>\n",
              "    </tr>\n",
              "    <tr>\n",
              "      <th>14</th>\n",
              "      <td>59</td>\n",
              "      <td>145-289-912-938-332</td>\n",
              "      <td>0.0019</td>\n",
              "      <td>A Dark Matter Interpretation of Excesses in Multiple Direct Detection Experiments</td>\n",
              "      <td>2020-03-07</td>\n",
              "      <td>arXiv: High Energy Physics - Phenomenology</td>\n",
              "      <td>0.1900</td>\n",
              "      <td>1</td>\n",
              "      <td>21.0</td>\n",
              "    </tr>\n",
              "    <tr>\n",
              "      <th>131</th>\n",
              "      <td>993</td>\n",
              "      <td>059-152-574-334-143</td>\n",
              "      <td>0.0471</td>\n",
              "      <td>Dark matter from freeze-in via the neutrino portal</td>\n",
              "      <td>2019-07-25</td>\n",
              "      <td>European Physical Journal C</td>\n",
              "      <td>0.0471</td>\n",
              "      <td>0</td>\n",
              "      <td>43.0</td>\n",
              "    </tr>\n",
              "  </tbody>\n",
              "</table>\n",
              "</div>"
            ],
            "text/plain": [
              "      ID              lens_id  ...  Partición Nodo en el grafo\n",
              "0     40  194-666-813-225-917  ...          1             15.0\n",
              "6     60  199-535-702-091-356  ...          1             22.0\n",
              "9     28  048-650-358-851-085  ...          1             11.0\n",
              "10     8  071-830-953-469-157  ...          1              3.0\n",
              "11    10  145-907-801-501-272  ...          1              5.0\n",
              "14    59  145-289-912-938-332  ...          1             21.0\n",
              "131  993  059-152-574-334-143  ...          0             43.0\n",
              "\n",
              "[7 rows x 9 columns]"
            ]
          },
          "metadata": {
            "tags": []
          },
          "execution_count": 65
        }
      ]
    },
    {
      "cell_type": "code",
      "metadata": {
        "id": "kQu3ifVAgiTc",
        "colab_type": "code",
        "colab": {}
      },
      "source": [
        "import pandas as pd\n",
        "pd.set_option('display.max_colwidth',200)"
      ],
      "execution_count": 0,
      "outputs": []
    },
    {
      "cell_type": "code",
      "metadata": {
        "id": "y2ZhgV9KtPYD",
        "colab_type": "code",
        "colab": {}
      },
      "source": [
        "gr=pd.read_excel('https://docs.google.com/spreadsheets/d/e/2PACX-1vRAxaR-A_Sbr_kYjKoKF9vC6KEqDyjqsHYKKTvhdgwngEsVE7ggd2f-O6dTFsYUYkwHKdMLysTYsC-l/pub?output=xlsx')"
      ],
      "execution_count": 0,
      "outputs": []
    },
    {
      "cell_type": "markdown",
      "metadata": {
        "id": "PjL5J1QRzvhy",
        "colab_type": "text"
      },
      "source": [
        "\n",
        "\n",
        "Red: Heavy Right handed neutrino dark matter\n",
        "\n"
      ]
    },
    {
      "cell_type": "code",
      "metadata": {
        "id": "yBQP3srjvx5C",
        "colab_type": "code",
        "colab": {
          "base_uri": "https://localhost:8080/",
          "height": 510
        },
        "outputId": "6c70fdcc-10f4-4248-9b4c-1544d273f3ff"
      },
      "source": [
        "gr[gr['Nodo'].astype(int).apply(lambda n: n in \n",
        "            [9,13,35,38,51,67,72,74,98,103,170,181,165,329,317])]"
      ],
      "execution_count": 21,
      "outputs": [
        {
          "output_type": "execute_result",
          "data": {
            "text/html": [
              "<div>\n",
              "<style scoped>\n",
              "    .dataframe tbody tr th:only-of-type {\n",
              "        vertical-align: middle;\n",
              "    }\n",
              "\n",
              "    .dataframe tbody tr th {\n",
              "        vertical-align: top;\n",
              "    }\n",
              "\n",
              "    .dataframe thead th {\n",
              "        text-align: right;\n",
              "    }\n",
              "</style>\n",
              "<table border=\"1\" class=\"dataframe\">\n",
              "  <thead>\n",
              "    <tr style=\"text-align: right;\">\n",
              "      <th></th>\n",
              "      <th>Nodo</th>\n",
              "      <th>ID Lens</th>\n",
              "      <th>Título</th>\n",
              "    </tr>\n",
              "  </thead>\n",
              "  <tbody>\n",
              "    <tr>\n",
              "      <th>231</th>\n",
              "      <td>13</td>\n",
              "      <td>147-652-172-053-155</td>\n",
              "      <td>Decaying dark matter at IceCube and its signature on High Energy gamma experiments</td>\n",
              "    </tr>\n",
              "    <tr>\n",
              "      <th>237</th>\n",
              "      <td>51</td>\n",
              "      <td>130-711-280-525-025</td>\n",
              "      <td>Neutrinophilic Dark Matter in the epoch of IceCube and Fermi-LAT</td>\n",
              "    </tr>\n",
              "    <tr>\n",
              "      <th>238</th>\n",
              "      <td>103</td>\n",
              "      <td>142-673-402-748-640</td>\n",
              "      <td>Probing decaying heavy dark matter with the 4-year IceCube HESE data</td>\n",
              "    </tr>\n",
              "    <tr>\n",
              "      <th>246</th>\n",
              "      <td>98</td>\n",
              "      <td>040-314-597-762-326</td>\n",
              "      <td>PeV scale supersymmetry breaking and the IceCube neutrino flux</td>\n",
              "    </tr>\n",
              "    <tr>\n",
              "      <th>254</th>\n",
              "      <td>181</td>\n",
              "      <td>118-332-581-216-221</td>\n",
              "      <td>γ-ray Constraints on Decaying Dark Matter and Implications for IceCube</td>\n",
              "    </tr>\n",
              "    <tr>\n",
              "      <th>257</th>\n",
              "      <td>170</td>\n",
              "      <td>153-502-466-600-445</td>\n",
              "      <td>Multi-component fermionic dark matter and IceCube PeV scale neutrinos in left-right model with gauge unification</td>\n",
              "    </tr>\n",
              "    <tr>\n",
              "      <th>261</th>\n",
              "      <td>165</td>\n",
              "      <td>106-772-205-695-832</td>\n",
              "      <td>High-energy neutrinos from multibody decaying dark matter</td>\n",
              "    </tr>\n",
              "    <tr>\n",
              "      <th>262</th>\n",
              "      <td>329</td>\n",
              "      <td>077-049-844-080-700</td>\n",
              "      <td>Heavy right-handed neutrino dark matter and PeV neutrinos at IceCube</td>\n",
              "    </tr>\n",
              "    <tr>\n",
              "      <th>268</th>\n",
              "      <td>317</td>\n",
              "      <td>043-015-494-896-187</td>\n",
              "      <td>New Search for Monochromatic Neutrinos from Dark Matter Decay</td>\n",
              "    </tr>\n",
              "    <tr>\n",
              "      <th>270</th>\n",
              "      <td>38</td>\n",
              "      <td>000-853-524-359-351</td>\n",
              "      <td>Update on decaying and annihilating heavy dark matter with the 6-year IceCube HESE data</td>\n",
              "    </tr>\n",
              "    <tr>\n",
              "      <th>272</th>\n",
              "      <td>74</td>\n",
              "      <td>033-460-871-817-564</td>\n",
              "      <td>Search for neutrinos from decaying dark matter with IceCube.</td>\n",
              "    </tr>\n",
              "    <tr>\n",
              "      <th>273</th>\n",
              "      <td>9</td>\n",
              "      <td>075-813-764-897-719</td>\n",
              "      <td>Decaying dark matter at IceCube and its signature on High Energy gamma experiments</td>\n",
              "    </tr>\n",
              "    <tr>\n",
              "      <th>275</th>\n",
              "      <td>72</td>\n",
              "      <td>152-708-263-786-902</td>\n",
              "      <td>A UV Complete Framework of Freeze-in Massive Particle Dark Matter</td>\n",
              "    </tr>\n",
              "    <tr>\n",
              "      <th>278</th>\n",
              "      <td>35</td>\n",
              "      <td>033-157-045-556-081</td>\n",
              "      <td>Update on decaying and annihilating heavy dark matter with the 6-year IceCube HESE data</td>\n",
              "    </tr>\n",
              "    <tr>\n",
              "      <th>284</th>\n",
              "      <td>67</td>\n",
              "      <td>172-482-987-300-185</td>\n",
              "      <td>A combined astrophysical and dark matter interpretation of the IceCube HESE and throughgoing muon events</td>\n",
              "    </tr>\n",
              "  </tbody>\n",
              "</table>\n",
              "</div>"
            ],
            "text/plain": [
              "     Nodo  ...                                                                                                            Título\n",
              "231    13  ...                                Decaying dark matter at IceCube and its signature on High Energy gamma experiments\n",
              "237    51  ...                                                  Neutrinophilic Dark Matter in the epoch of IceCube and Fermi-LAT\n",
              "238   103  ...                                              Probing decaying heavy dark matter with the 4-year IceCube HESE data\n",
              "246    98  ...                                                    PeV scale supersymmetry breaking and the IceCube neutrino flux\n",
              "254   181  ...                                            γ-ray Constraints on Decaying Dark Matter and Implications for IceCube\n",
              "257   170  ...  Multi-component fermionic dark matter and IceCube PeV scale neutrinos in left-right model with gauge unification\n",
              "261   165  ...                                                         High-energy neutrinos from multibody decaying dark matter\n",
              "262   329  ...                                              Heavy right-handed neutrino dark matter and PeV neutrinos at IceCube\n",
              "268   317  ...                                                     New Search for Monochromatic Neutrinos from Dark Matter Decay\n",
              "270    38  ...                           Update on decaying and annihilating heavy dark matter with the 6-year IceCube HESE data\n",
              "272    74  ...                                                      Search for neutrinos from decaying dark matter with IceCube.\n",
              "273     9  ...                                Decaying dark matter at IceCube and its signature on High Energy gamma experiments\n",
              "275    72  ...                                                 A UV Complete Framework of Freeze-in Massive Particle Dark Matter\n",
              "278    35  ...                           Update on decaying and annihilating heavy dark matter with the 6-year IceCube HESE data\n",
              "284    67  ...          A combined astrophysical and dark matter interpretation of the IceCube HESE and throughgoing muon events\n",
              "\n",
              "[15 rows x 3 columns]"
            ]
          },
          "metadata": {
            "tags": []
          },
          "execution_count": 21
        }
      ]
    },
    {
      "cell_type": "markdown",
      "metadata": {
        "id": "F60af-qVzt2I",
        "colab_type": "text"
      },
      "source": [
        "Blue:Direct detection"
      ]
    },
    {
      "cell_type": "code",
      "metadata": {
        "id": "L0VFWIHfv9Th",
        "colab_type": "code",
        "colab": {
          "base_uri": "https://localhost:8080/",
          "height": 326
        },
        "outputId": "3b3e25d8-4d30-4760-b7c2-57bd548bd936"
      },
      "source": [
        "gr[gr['Nodo'].astype(int).apply(lambda n: n in \n",
        "            [26,31,48,50,59,164,204,282,485])]"
      ],
      "execution_count": 20,
      "outputs": [
        {
          "output_type": "execute_result",
          "data": {
            "text/html": [
              "<div>\n",
              "<style scoped>\n",
              "    .dataframe tbody tr th:only-of-type {\n",
              "        vertical-align: middle;\n",
              "    }\n",
              "\n",
              "    .dataframe tbody tr th {\n",
              "        vertical-align: top;\n",
              "    }\n",
              "\n",
              "    .dataframe thead th {\n",
              "        text-align: right;\n",
              "    }\n",
              "</style>\n",
              "<table border=\"1\" class=\"dataframe\">\n",
              "  <thead>\n",
              "    <tr style=\"text-align: right;\">\n",
              "      <th></th>\n",
              "      <th>Nodo</th>\n",
              "      <th>ID Lens</th>\n",
              "      <th>Título</th>\n",
              "    </tr>\n",
              "  </thead>\n",
              "  <tbody>\n",
              "    <tr>\n",
              "      <th>113</th>\n",
              "      <td>204</td>\n",
              "      <td>009-478-697-750-709</td>\n",
              "      <td>Resonant production of the sterile neutrino dark matter and fine-tunings in the neutrino minimal standard model</td>\n",
              "    </tr>\n",
              "    <tr>\n",
              "      <th>155</th>\n",
              "      <td>31</td>\n",
              "      <td>032-084-666-411-386</td>\n",
              "      <td>Neutrino Physics with Dark Matter Detectors</td>\n",
              "    </tr>\n",
              "    <tr>\n",
              "      <th>164</th>\n",
              "      <td>59</td>\n",
              "      <td>168-714-230-147-321</td>\n",
              "      <td>How high is the neutrino floor</td>\n",
              "    </tr>\n",
              "    <tr>\n",
              "      <th>179</th>\n",
              "      <td>26</td>\n",
              "      <td>144-789-786-046-492</td>\n",
              "      <td>Direct detections of dark matter in the presence of non-standard neutrino interactions</td>\n",
              "    </tr>\n",
              "    <tr>\n",
              "      <th>184</th>\n",
              "      <td>50</td>\n",
              "      <td>032-101-221-833-537</td>\n",
              "      <td>Direct detection experiments at the neutrino dipole portal frontier</td>\n",
              "    </tr>\n",
              "    <tr>\n",
              "      <th>187</th>\n",
              "      <td>48</td>\n",
              "      <td>129-728-047-909-669</td>\n",
              "      <td>How high is the neutrino floor?</td>\n",
              "    </tr>\n",
              "    <tr>\n",
              "      <th>193</th>\n",
              "      <td>164</td>\n",
              "      <td>072-536-477-002-685</td>\n",
              "      <td>Non-standard interactions of solar neutrinos in dark matter experiments</td>\n",
              "    </tr>\n",
              "    <tr>\n",
              "      <th>205</th>\n",
              "      <td>282</td>\n",
              "      <td>160-059-384-393-200</td>\n",
              "      <td>Implication of neutrino backgrounds on the reach of next generation dark matter direct detection experiments</td>\n",
              "    </tr>\n",
              "    <tr>\n",
              "      <th>207</th>\n",
              "      <td>485</td>\n",
              "      <td>107-543-710-696-091</td>\n",
              "      <td>Solar and Atmospheric Neutrinos: Background Sources for the Direct Dark Matter Searches</td>\n",
              "    </tr>\n",
              "  </tbody>\n",
              "</table>\n",
              "</div>"
            ],
            "text/plain": [
              "     Nodo  ...                                                                                                           Título\n",
              "113   204  ...  Resonant production of the sterile neutrino dark matter and fine-tunings in the neutrino minimal standard model\n",
              "155    31  ...                                                                      Neutrino Physics with Dark Matter Detectors\n",
              "164    59  ...                                                                                   How high is the neutrino floor\n",
              "179    26  ...                           Direct detections of dark matter in the presence of non-standard neutrino interactions\n",
              "184    50  ...                                              Direct detection experiments at the neutrino dipole portal frontier\n",
              "187    48  ...                                                                                  How high is the neutrino floor?\n",
              "193   164  ...                                          Non-standard interactions of solar neutrinos in dark matter experiments\n",
              "205   282  ...     Implication of neutrino backgrounds on the reach of next generation dark matter direct detection experiments\n",
              "207   485  ...                          Solar and Atmospheric Neutrinos: Background Sources for the Direct Dark Matter Searches\n",
              "\n",
              "[9 rows x 3 columns]"
            ]
          },
          "metadata": {
            "tags": []
          },
          "execution_count": 20
        }
      ]
    },
    {
      "cell_type": "markdown",
      "metadata": {
        "id": "3DKwoGqzzc_k",
        "colab_type": "text"
      },
      "source": [
        "Green Sterile neutrinos"
      ]
    },
    {
      "cell_type": "code",
      "metadata": {
        "id": "HdMrOyBCzDEj",
        "colab_type": "code",
        "colab": {
          "base_uri": "https://localhost:8080/",
          "height": 603
        },
        "outputId": "44a2d923-ff7a-4a6e-949e-0309802ec936"
      },
      "source": [
        "gr[gr['Nodo'].astype(int).apply(lambda n: n in \n",
        "            [52,73,84,92,96,128,151,157,162,207,137,300,350,409,419,451,460,463])]"
      ],
      "execution_count": 22,
      "outputs": [
        {
          "output_type": "execute_result",
          "data": {
            "text/html": [
              "<div>\n",
              "<style scoped>\n",
              "    .dataframe tbody tr th:only-of-type {\n",
              "        vertical-align: middle;\n",
              "    }\n",
              "\n",
              "    .dataframe tbody tr th {\n",
              "        vertical-align: top;\n",
              "    }\n",
              "\n",
              "    .dataframe thead th {\n",
              "        text-align: right;\n",
              "    }\n",
              "</style>\n",
              "<table border=\"1\" class=\"dataframe\">\n",
              "  <thead>\n",
              "    <tr style=\"text-align: right;\">\n",
              "      <th></th>\n",
              "      <th>Nodo</th>\n",
              "      <th>ID Lens</th>\n",
              "      <th>Título</th>\n",
              "    </tr>\n",
              "  </thead>\n",
              "  <tbody>\n",
              "    <tr>\n",
              "      <th>290</th>\n",
              "      <td>460</td>\n",
              "      <td>065-994-094-324-120</td>\n",
              "      <td>3.55 keV line in minimal decaying dark matter scenarios</td>\n",
              "    </tr>\n",
              "    <tr>\n",
              "      <th>296</th>\n",
              "      <td>128</td>\n",
              "      <td>049-532-687-632-966</td>\n",
              "      <td>Snowmass-2013 Cosmic Frontier 3 (CF3) Working Group Summary: Non-WIMP dark matter</td>\n",
              "    </tr>\n",
              "    <tr>\n",
              "      <th>308</th>\n",
              "      <td>52</td>\n",
              "      <td>190-564-713-801-072</td>\n",
              "      <td>N-body simulations of structure formation in thermal inflation cosmologies</td>\n",
              "    </tr>\n",
              "    <tr>\n",
              "      <th>312</th>\n",
              "      <td>207</td>\n",
              "      <td>011-322-926-218-945</td>\n",
              "      <td>Dark matter progenitor: Light vector boson decay into sterile neutrinos</td>\n",
              "    </tr>\n",
              "    <tr>\n",
              "      <th>318</th>\n",
              "      <td>419</td>\n",
              "      <td>131-545-507-644-850</td>\n",
              "      <td>Constraints on 3.55 keV line emission from stacked observations of dwarf spheroidal galaxies</td>\n",
              "    </tr>\n",
              "    <tr>\n",
              "      <th>326</th>\n",
              "      <td>409</td>\n",
              "      <td>069-908-166-039-866</td>\n",
              "      <td>PeV Neutrinos and a 3.5 keV X-Ray Line from a PeV Scale Supersymmetric Neutrino Sector</td>\n",
              "    </tr>\n",
              "    <tr>\n",
              "      <th>337</th>\n",
              "      <td>96</td>\n",
              "      <td>141-467-401-884-25X</td>\n",
              "      <td>Cosmological imprints of frozen-in light sterile neutrinos</td>\n",
              "    </tr>\n",
              "    <tr>\n",
              "      <th>342</th>\n",
              "      <td>92</td>\n",
              "      <td>165-365-603-952-250</td>\n",
              "      <td>Influence of ∼7 keV sterile neutrino dark matter on the process of reionization</td>\n",
              "    </tr>\n",
              "    <tr>\n",
              "      <th>355</th>\n",
              "      <td>350</td>\n",
              "      <td>193-482-587-058-432</td>\n",
              "      <td>Freeze-in production of sterile neutrino dark matter in U(1)B−Lmodel</td>\n",
              "    </tr>\n",
              "    <tr>\n",
              "      <th>356</th>\n",
              "      <td>84</td>\n",
              "      <td>066-549-819-056-276</td>\n",
              "      <td>Constraints from Ly-α forests on non-thermal dark matter including resonantly-produced sterile neutrinos</td>\n",
              "    </tr>\n",
              "    <tr>\n",
              "      <th>362</th>\n",
              "      <td>162</td>\n",
              "      <td>054-929-219-769-01X</td>\n",
              "      <td>Galaxy Formation in Sterile Neutrino Dark Matter Models</td>\n",
              "    </tr>\n",
              "    <tr>\n",
              "      <th>374</th>\n",
              "      <td>157</td>\n",
              "      <td>013-352-641-850-154</td>\n",
              "      <td>Thermalizing Sterile Neutrino Dark Matter</td>\n",
              "    </tr>\n",
              "    <tr>\n",
              "      <th>381</th>\n",
              "      <td>151</td>\n",
              "      <td>099-859-543-430-503</td>\n",
              "      <td>How many new particles do we need after the Higgs boson</td>\n",
              "    </tr>\n",
              "    <tr>\n",
              "      <th>382</th>\n",
              "      <td>300</td>\n",
              "      <td>011-716-464-788-151</td>\n",
              "      <td>Satellite galaxies in semi-analytic models of galaxy formation with sterile neutrino dark matter</td>\n",
              "    </tr>\n",
              "    <tr>\n",
              "      <th>384</th>\n",
              "      <td>73</td>\n",
              "      <td>021-264-902-720-383</td>\n",
              "      <td>A new mechanism of sterile neutrino dark matter production</td>\n",
              "    </tr>\n",
              "    <tr>\n",
              "      <th>387</th>\n",
              "      <td>451</td>\n",
              "      <td>152-622-548-431-294</td>\n",
              "      <td>Dark matter in the minimal inverse seesaw mechanism</td>\n",
              "    </tr>\n",
              "    <tr>\n",
              "      <th>388</th>\n",
              "      <td>463</td>\n",
              "      <td>034-100-441-977-530</td>\n",
              "      <td>Fundamental physics with the Hubble Frontier Fields: constraining Dark Matter models with the abundance of extremely faint and distant galaxies</td>\n",
              "    </tr>\n",
              "    <tr>\n",
              "      <th>395</th>\n",
              "      <td>137</td>\n",
              "      <td>077-223-173-941-469</td>\n",
              "      <td>Next decade of sterile neutrino studies</td>\n",
              "    </tr>\n",
              "  </tbody>\n",
              "</table>\n",
              "</div>"
            ],
            "text/plain": [
              "     Nodo  ...                                                                                                                                           Título\n",
              "290   460  ...                                                                                          3.55 keV line in minimal decaying dark matter scenarios\n",
              "296   128  ...                                                                Snowmass-2013 Cosmic Frontier 3 (CF3) Working Group Summary: Non-WIMP dark matter\n",
              "308    52  ...                                                                       N-body simulations of structure formation in thermal inflation cosmologies\n",
              "312   207  ...                                                                          Dark matter progenitor: Light vector boson decay into sterile neutrinos\n",
              "318   419  ...                                                     Constraints on 3.55 keV line emission from stacked observations of dwarf spheroidal galaxies\n",
              "326   409  ...                                                           PeV Neutrinos and a 3.5 keV X-Ray Line from a PeV Scale Supersymmetric Neutrino Sector\n",
              "337    96  ...                                                                                       Cosmological imprints of frozen-in light sterile neutrinos\n",
              "342    92  ...                                                                  Influence of ∼7 keV sterile neutrino dark matter on the process of reionization\n",
              "355   350  ...                                                                             Freeze-in production of sterile neutrino dark matter in U(1)B−Lmodel\n",
              "356    84  ...                                         Constraints from Ly-α forests on non-thermal dark matter including resonantly-produced sterile neutrinos\n",
              "362   162  ...                                                                                          Galaxy Formation in Sterile Neutrino Dark Matter Models\n",
              "374   157  ...                                                                                                        Thermalizing Sterile Neutrino Dark Matter\n",
              "381   151  ...                                                                                          How many new particles do we need after the Higgs boson\n",
              "382   300  ...                                                 Satellite galaxies in semi-analytic models of galaxy formation with sterile neutrino dark matter\n",
              "384    73  ...                                                                                       A new mechanism of sterile neutrino dark matter production\n",
              "387   451  ...                                                                                              Dark matter in the minimal inverse seesaw mechanism\n",
              "388   463  ...  Fundamental physics with the Hubble Frontier Fields: constraining Dark Matter models with the abundance of extremely faint and distant galaxies\n",
              "395   137  ...                                                                                                          Next decade of sterile neutrino studies\n",
              "\n",
              "[18 rows x 3 columns]"
            ]
          },
          "metadata": {
            "tags": []
          },
          "execution_count": 22
        }
      ]
    },
    {
      "cell_type": "markdown",
      "metadata": {
        "id": "YDpNUJYozTPU",
        "colab_type": "text"
      },
      "source": [
        "Yellow: Majorana"
      ]
    },
    {
      "cell_type": "code",
      "metadata": {
        "id": "lb7BuO0T0G0s",
        "colab_type": "code",
        "colab": {
          "base_uri": "https://localhost:8080/",
          "height": 295
        },
        "outputId": "3d2a5814-dd36-43ec-e7ed-97042b545540"
      },
      "source": [
        "gr[gr['Nodo'].astype(int).apply(lambda n: n in \n",
        "            [30,61,69,126,296,260,293,303])]"
      ],
      "execution_count": 18,
      "outputs": [
        {
          "output_type": "execute_result",
          "data": {
            "text/html": [
              "<div>\n",
              "<style scoped>\n",
              "    .dataframe tbody tr th:only-of-type {\n",
              "        vertical-align: middle;\n",
              "    }\n",
              "\n",
              "    .dataframe tbody tr th {\n",
              "        vertical-align: top;\n",
              "    }\n",
              "\n",
              "    .dataframe thead th {\n",
              "        text-align: right;\n",
              "    }\n",
              "</style>\n",
              "<table border=\"1\" class=\"dataframe\">\n",
              "  <thead>\n",
              "    <tr style=\"text-align: right;\">\n",
              "      <th></th>\n",
              "      <th>Nodo</th>\n",
              "      <th>ID Lens</th>\n",
              "      <th>Título</th>\n",
              "    </tr>\n",
              "  </thead>\n",
              "  <tbody>\n",
              "    <tr>\n",
              "      <th>412</th>\n",
              "      <td>126</td>\n",
              "      <td>190-807-630-415-807</td>\n",
              "      <td>Non-thermal production of minimal dark matter via right-handed neutrino decay</td>\n",
              "    </tr>\n",
              "    <tr>\n",
              "      <th>415</th>\n",
              "      <td>296</td>\n",
              "      <td>009-429-651-646-892</td>\n",
              "      <td>Closing in on minimal dark matter and radiative neutrino masses</td>\n",
              "    </tr>\n",
              "    <tr>\n",
              "      <th>420</th>\n",
              "      <td>293</td>\n",
              "      <td>006-529-220-557-061</td>\n",
              "      <td>Radiative Two-Loop Neutrino Masses with Dark Matter</td>\n",
              "    </tr>\n",
              "    <tr>\n",
              "      <th>421</th>\n",
              "      <td>69</td>\n",
              "      <td>117-926-160-275-532</td>\n",
              "      <td>Dark side of the seesaw</td>\n",
              "    </tr>\n",
              "    <tr>\n",
              "      <th>466</th>\n",
              "      <td>303</td>\n",
              "      <td>018-680-145-951-604</td>\n",
              "      <td>Scale-invariant models with one-loop neutrino mass and dark matter candidates</td>\n",
              "    </tr>\n",
              "    <tr>\n",
              "      <th>477</th>\n",
              "      <td>260</td>\n",
              "      <td>076-407-027-747-57X</td>\n",
              "      <td>Leptogenesis and dark matter detection in a TeV scale neutrino mass model with inverted mass hierarchy</td>\n",
              "    </tr>\n",
              "    <tr>\n",
              "      <th>501</th>\n",
              "      <td>61</td>\n",
              "      <td>072-141-906-323-545</td>\n",
              "      <td>Scotogenic dark matter and single-zero textures of the neutrino mass matrix</td>\n",
              "    </tr>\n",
              "    <tr>\n",
              "      <th>520</th>\n",
              "      <td>30</td>\n",
              "      <td>036-354-152-463-51X</td>\n",
              "      <td>Low scale leptogenesis in a hybrid model of the scotogenic type I and III seesaw models</td>\n",
              "    </tr>\n",
              "  </tbody>\n",
              "</table>\n",
              "</div>"
            ],
            "text/plain": [
              "     Nodo  ...                                                                                                  Título\n",
              "412   126  ...                           Non-thermal production of minimal dark matter via right-handed neutrino decay\n",
              "415   296  ...                                         Closing in on minimal dark matter and radiative neutrino masses\n",
              "420   293  ...                                                     Radiative Two-Loop Neutrino Masses with Dark Matter\n",
              "421    69  ...                                                                                 Dark side of the seesaw\n",
              "466   303  ...                           Scale-invariant models with one-loop neutrino mass and dark matter candidates\n",
              "477   260  ...  Leptogenesis and dark matter detection in a TeV scale neutrino mass model with inverted mass hierarchy\n",
              "501    61  ...                             Scotogenic dark matter and single-zero textures of the neutrino mass matrix\n",
              "520    30  ...                 Low scale leptogenesis in a hybrid model of the scotogenic type I and III seesaw models\n",
              "\n",
              "[8 rows x 3 columns]"
            ]
          },
          "metadata": {
            "tags": []
          },
          "execution_count": 18
        }
      ]
    },
    {
      "cell_type": "code",
      "metadata": {
        "id": "9WeOEzd80SvI",
        "colab_type": "code",
        "colab": {}
      },
      "source": [
        ""
      ],
      "execution_count": 0,
      "outputs": []
    }
  ]
}