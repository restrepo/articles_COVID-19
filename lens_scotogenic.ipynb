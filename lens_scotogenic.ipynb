{
  "nbformat": 4,
  "nbformat_minor": 0,
  "metadata": {
    "colab": {
      "name": "lens_scotogenic.ipynb",
      "provenance": [],
      "include_colab_link": true
    },
    "kernelspec": {
      "display_name": "Python 3",
      "language": "python",
      "name": "python3"
    },
    "language_info": {
      "codemirror_mode": {
        "name": "ipython",
        "version": 3
      },
      "file_extension": ".py",
      "mimetype": "text/x-python",
      "name": "python",
      "nbconvert_exporter": "python",
      "pygments_lexer": "ipython3",
      "version": "3.5.3"
    },
    "latex_envs": {
      "LaTeX_envs_menu_present": true,
      "autoclose": false,
      "autocomplete": true,
      "bibliofile": "biblio.bib",
      "cite_by": "apalike",
      "current_citInitial": 1,
      "eqLabelWithNumbers": true,
      "eqNumInitial": 1,
      "hotkeys": {
        "equation": "Ctrl-E",
        "itemize": "Ctrl-I"
      },
      "labels_anchors": false,
      "latex_user_defs": false,
      "report_style_numbering": false,
      "user_envs_cfg": false
    }
  },
  "cells": [
    {
      "cell_type": "markdown",
      "metadata": {
        "id": "view-in-github",
        "colab_type": "text"
      },
      "source": [
        "<a href=\"https://colab.research.google.com/github/restrepo/articles_COVID-19/blob/master/lens_scotogenic.ipynb\" target=\"_parent\"><img src=\"https://colab.research.google.com/assets/colab-badge.svg\" alt=\"Open In Colab\"/></a>"
      ]
    },
    {
      "cell_type": "markdown",
      "metadata": {
        "colab_type": "text",
        "id": "D_lKr3Avj0Ag"
      },
      "source": [
        "# Lens API search for Scotogenic in Lens\n",
        "* 5,000 API requests and up to 5 million records per month\n",
        "* 10 API requests/minute and up to 1,000 records per request: `sleep=6`"
      ]
    },
    {
      "cell_type": "markdown",
      "metadata": {
        "colab_type": "text",
        "id": "39xV6tjuj0Ai"
      },
      "source": [
        "Check: https://docs.api.lens.org/request.html"
      ]
    },
    {
      "cell_type": "markdown",
      "metadata": {
        "colab_type": "text",
        "id": "phECk_hnj0Aj"
      },
      "source": [
        "Get token: https://www.lens.org/lens/user/subscriptions"
      ]
    },
    {
      "cell_type": "markdown",
      "metadata": {
        "id": "z9YsatRoc0yu",
        "colab_type": "text"
      },
      "source": [
        "Examples: https://github.com/cambialens/lens-api-doc"
      ]
    },
    {
      "cell_type": "markdown",
      "metadata": {
        "id": "OekButEdKmSt",
        "colab_type": "text"
      },
      "source": [
        "### Design. \n",
        "* The `query` search for exact match of any type: title, abstract, affiliation, etc.\n",
        "* The `query_terms` search for a list of maximum 20 identifiers\n",
        "* The `query_ORAND` search for a list of type: title, abstract, full_text  etc, words (phrases) with `match_type=match[_phrase]`. For example `title=['first','second','third']`.\n",
        "    * By default the OR search is done in title, abstract and full_text search"
      ]
    },
    {
      "cell_type": "markdown",
      "metadata": {
        "colab_type": "text",
        "id": "fyrZq73Yj0Ak"
      },
      "source": [
        "## Functions and global variables"
      ]
    },
    {
      "cell_type": "code",
      "metadata": {
        "colab_type": "code",
        "id": "Rw3EV881j0Am",
        "outputId": "05f3bf0c-efd8-439e-888d-62c36f9f3df0",
        "colab": {
          "base_uri": "https://localhost:8080/",
          "height": 123
        }
      },
      "source": [
        "import getpass\n",
        "import pandas as pd\n",
        "import requests\n",
        "import sys\n",
        "import time\n",
        "import os\n",
        "import datetime\n",
        "if os.getcwd()=='/content':\n",
        "    !pip install unidecode\n",
        "    !mkdir data\n",
        "import unidecode    "
      ],
      "execution_count": 0,
      "outputs": [
        {
          "output_type": "stream",
          "text": [
            "Collecting unidecode\n",
            "\u001b[?25l  Downloading https://files.pythonhosted.org/packages/d0/42/d9edfed04228bacea2d824904cae367ee9efd05e6cce7ceaaedd0b0ad964/Unidecode-1.1.1-py2.py3-none-any.whl (238kB)\n",
            "\r\u001b[K     |█▍                              | 10kB 20.2MB/s eta 0:00:01\r\u001b[K     |██▊                             | 20kB 1.7MB/s eta 0:00:01\r\u001b[K     |████▏                           | 30kB 2.4MB/s eta 0:00:01\r\u001b[K     |█████▌                          | 40kB 1.7MB/s eta 0:00:01\r\u001b[K     |██████▉                         | 51kB 2.1MB/s eta 0:00:01\r\u001b[K     |████████▎                       | 61kB 2.5MB/s eta 0:00:01\r\u001b[K     |█████████▋                      | 71kB 2.9MB/s eta 0:00:01\r\u001b[K     |███████████                     | 81kB 2.2MB/s eta 0:00:01\r\u001b[K     |████████████▍                   | 92kB 2.5MB/s eta 0:00:01\r\u001b[K     |█████████████▊                  | 102kB 2.7MB/s eta 0:00:01\r\u001b[K     |███████████████▏                | 112kB 2.7MB/s eta 0:00:01\r\u001b[K     |████████████████▌               | 122kB 2.7MB/s eta 0:00:01\r\u001b[K     |█████████████████▉              | 133kB 2.7MB/s eta 0:00:01\r\u001b[K     |███████████████████▎            | 143kB 2.7MB/s eta 0:00:01\r\u001b[K     |████████████████████▋           | 153kB 2.7MB/s eta 0:00:01\r\u001b[K     |██████████████████████          | 163kB 2.7MB/s eta 0:00:01\r\u001b[K     |███████████████████████▍        | 174kB 2.7MB/s eta 0:00:01\r\u001b[K     |████████████████████████▊       | 184kB 2.7MB/s eta 0:00:01\r\u001b[K     |██████████████████████████▏     | 194kB 2.7MB/s eta 0:00:01\r\u001b[K     |███████████████████████████▌    | 204kB 2.7MB/s eta 0:00:01\r\u001b[K     |████████████████████████████▉   | 215kB 2.7MB/s eta 0:00:01\r\u001b[K     |██████████████████████████████▎ | 225kB 2.7MB/s eta 0:00:01\r\u001b[K     |███████████████████████████████▋| 235kB 2.7MB/s eta 0:00:01\r\u001b[K     |████████████████████████████████| 245kB 2.7MB/s \n",
            "\u001b[?25hInstalling collected packages: unidecode\n",
            "Successfully installed unidecode-1.1.1\n"
          ],
          "name": "stdout"
        }
      ]
    },
    {
      "cell_type": "markdown",
      "metadata": {
        "colab_type": "text",
        "id": "TFUR-R4pj0Ap"
      },
      "source": [
        "<!-- #666mmkP9Ibp7bDpLNLKZF8bdYDxCQmxXhFuJzJViVKH92kyBlGmatE2888\n",
        " -->"
      ]
    },
    {
      "cell_type": "code",
      "metadata": {
        "colab_type": "code",
        "id": "Nl8_4Hyoj0Aq",
        "outputId": "c1bc0b72-721c-4a62-bf86-406763395807",
        "colab": {
          "base_uri": "https://localhost:8080/",
          "height": 34
        }
      },
      "source": [
        "token=getpass.getpass('token:')"
      ],
      "execution_count": 0,
      "outputs": [
        {
          "output_type": "stream",
          "text": [
            "token:··········\n"
          ],
          "name": "stdout"
        }
      ]
    },
    {
      "cell_type": "code",
      "metadata": {
        "colab_type": "code",
        "id": "TwCrMmcRj0Au",
        "colab": {}
      },
      "source": [
        "url = 'https://api.lens.org/scholarly/search'\n",
        "size=1000"
      ],
      "execution_count": 0,
      "outputs": []
    },
    {
      "cell_type": "code",
      "metadata": {
        "id": "_B86X68TKC-2",
        "colab_type": "code",
        "colab": {}
      },
      "source": [
        "def ORKEYS(key,l,kwargs):\n",
        "    ll=[ {  kwargs['match_type']:{key: unidecode.unidecode(q)} } for q in l]\n",
        "    if kwargs['abstract']==True:\n",
        "        ll=ll+[ {  kwargs['match_type']:{'abstract': unidecode.unidecode(q)} } \n",
        "                 for q in l]\n",
        "        ll=ll+[ {  kwargs['match_type']:{'full_text': unidecode.unidecode(q)} } \n",
        "                 for q in l]\n",
        "    return str(ll).replace(\"'\",'\"')\n",
        "\n",
        "def query_terms(**kwargs):\n",
        "    \"\"\"\n",
        "    WARNING: Accents will be removed!\n",
        "    Use the lens.org API to obtain a API query string\n",
        "    to feed get_query\n",
        "\n",
        "    Parameters\n",
        "    ----------\n",
        "      lens_id=list of identifiers\n",
        "      range_type=\"date_published\",\n",
        "      date_ini=1900-01-01,\n",
        "      date_end=... #Default to today\n",
        "      size=1000, \n",
        "    \"\"\"\n",
        "    key=list(kwargs.keys())[0]\n",
        "    l=kwargs[key]\n",
        "    if isinstance(l,list):\n",
        "        if len(l)>20:\n",
        "            print('WARNING: Only first 20 items will be searched')\n",
        "        ls=str(l).replace(\"'\",'\"')\n",
        "    else:\n",
        "        sys.exit( 'ERROR: {} must be a list'.format(k) )\n",
        "\n",
        "    data='''{\n",
        "    \"query\": {\n",
        "        \"terms\": {\n",
        "\t\t\t\"%s\": %s\n",
        "\t\t}\n",
        "     }\n",
        "    }''' %(key,ls )\n",
        "    return data\n",
        "\n",
        "def query(**kwargs):\n",
        "    \"\"\"\n",
        "    WARNING: Accents will be removed!\n",
        "    Use the lens.org API to obtain a API query string\n",
        "    to feed get_query\n",
        "\n",
        "    Parameters\n",
        "    ----------\n",
        "     query type must be go first! Example: title, affiliation, abstract, etc:\n",
        "     For example for `title`:\n",
        "      title=\"covid-19\" #(or Affiliation o lens_id, or ...) \n",
        "      match_type ='match_phrase' #for exact match, or match for OR between words\n",
        "      range_type=\"date_published\",\n",
        "      date_ini=1900-01-01,\n",
        "      date_end=... #Default to today\n",
        "      size=1000, \n",
        "    \"\"\"\n",
        "    key=list(kwargs.keys())[0]\n",
        "    q=unidecode.unidecode(kwargs[key])\n",
        "    #Set default values\n",
        "    if not kwargs.get('match_type'):\n",
        "        kwargs['match_type']='match_phrase'\n",
        "    if not kwargs.get('size'):\n",
        "        kwargs['size']=1000\n",
        "    if not kwargs.get('range_type'):\n",
        "        kwargs['range_type']=\"date_published\"\n",
        "    if not kwargs.get('date_ini'):\n",
        "        kwargs['date_ini']='1900-01-01'\n",
        "    if not kwargs.get('date_end'):\n",
        "        kwargs['date_end']=datetime.datetime.today().strftime('%Y-%m-%d')\n",
        "    if kwargs.get('range_type')==\"year_published\":\n",
        "        date_ini=kwargs.get('date_ini').split('-')[0]\n",
        "        date_end=kwargs.get('date_end').split('-')[0]\n",
        "    data='''{\n",
        "    \"query\": {\n",
        "       \"bool\": {\n",
        "         \"must\": [{\n",
        "           \"%s\":{\n",
        "                    \"%s\": \"%s\"\n",
        "               }\n",
        "           },\n",
        "           {\n",
        "           \"range\": {\n",
        "           \"%s\": {\n",
        "                    \"gte\": \"%s\",\n",
        "                    \"lte\": \"%s\"\n",
        "                }\n",
        "           } \n",
        "           }\n",
        "         ]\n",
        "       }\n",
        "     },\n",
        "     \"size\": %i\n",
        "    }''' %(kwargs['match_type'],key,q,\n",
        "                 kwargs.get('range_type'),\n",
        "                 kwargs.get('date_ini'),\n",
        "                 kwargs.get('date_end'),\n",
        "                 kwargs.get('size'))\n",
        "    return data\n",
        "\n",
        "\n",
        "def query_ORAND(**kwargs):\n",
        "    \"\"\"\n",
        "    WARNING: Accents will be removed!\n",
        "    Use the lens.org API to obtain a API query string\n",
        "    to feed get_query\n",
        "\n",
        "    Parameters\n",
        "    ----------\n",
        "     query type must be go first! Example: title, affiliation, abstract, etc:\n",
        "     For example for `title`:\n",
        "      title=\"covid-19\" #(or Affiliation o lens_id, or ...) \n",
        "      match_type ='match_phrase' #for exact match, or match for OR between words\n",
        "      abstract=bolean. Deafult True. Include query in abstract\n",
        "      range_type=\"date_published\",\n",
        "      date_ini=1900-01-01,\n",
        "      date_end=... #Default to today\n",
        "      size=1000,\n",
        "      abstract=True # Search also in abstract \n",
        "    \"\"\"\n",
        "    key=list(kwargs.keys())[0]\n",
        "    l=kwargs[key]\n",
        "    if not isinstance(l,list):\n",
        "        sys.exit('{} must be a list'.format(key))\n",
        "    #Set default values\n",
        "    if not kwargs.get('match_type'):\n",
        "        kwargs['match_type']='match_phrase'\n",
        "    if not kwargs.get('size'):\n",
        "        kwargs['size']=1000\n",
        "    if kwargs.get('logical')==\"AND\":\n",
        "        logical='must'\n",
        "    else:\n",
        "        kwargs['logical']=\"OR\"\n",
        "        logical='should' \n",
        "    if not kwargs.get('abstract'):\n",
        "        if kwargs['logical']==\"AND\":\n",
        "            kwargs['abstract']=False\n",
        "        else:\n",
        "            kwargs['abstract']=True\n",
        "    if not kwargs.get('logical'):\n",
        "        kwargs['logical']=\"OR\"\n",
        "    if not kwargs.get('range_type'):\n",
        "        kwargs['range_type']=\"date_published\"\n",
        "    if not kwargs.get('date_ini'):\n",
        "        kwargs['date_ini']='1900-01-01'\n",
        "    if not kwargs.get('date_end'):\n",
        "        kwargs['date_end']=datetime.datetime.today().strftime('%Y-%m-%d')\n",
        "    if kwargs.get('range_type')==\"year_published\":\n",
        "        date_ini=kwargs.get('date_ini').split('-')[0]\n",
        "        date_end=kwargs.get('date_end').split('-')[0]\n",
        "    data='''{\n",
        "    \"query\": {\n",
        "       \"bool\": {\n",
        "         \"must\": [{\n",
        "            \"bool\": {\n",
        "               \"%s\": %s\n",
        "                    }\n",
        "               },\n",
        "           {\n",
        "           \"range\": {\n",
        "           \"%s\": {\n",
        "                    \"gte\": \"%s\",\n",
        "                    \"lte\": \"%s\"\n",
        "                }\n",
        "           } \n",
        "           }\n",
        "         ]\n",
        "       }\n",
        "     },\n",
        "     \"size\": %i\n",
        "    }''' %(logical,\n",
        "           ORKEYS(key,l,kwargs),\n",
        "                 kwargs.get('range_type'),\n",
        "                 kwargs.get('date_ini'),\n",
        "                 kwargs.get('date_end'),\n",
        "                 kwargs.get('size'))\n",
        "    return data\n",
        "\n",
        "\n",
        "def get_query(*args,**kwargs):\n",
        "    '''\n",
        "    Use the lens.org API to obtain a DataFrame with the query\n",
        "\n",
        "    Parameters\n",
        "    ----------\n",
        "      data_function: function to generate the data query. See query(...)\n",
        "      title=\"covid-19\" #(or Affiliation o lens_id, or ...)\n",
        "      range_type=\"date_published\",\n",
        "      date_ini=1900-01-01,\n",
        "      date_end=... #Default to today\n",
        "      size=1000, \n",
        "      url=API_url,\n",
        "      token=token #API token  \n",
        "    '''\n",
        "    query=args[0]\n",
        "    token=kwargs.get('token')\n",
        "    url=kwargs.get('url')\n",
        "    kk=kwargs.pop('url')\n",
        "    kk=kwargs.pop('token')\n",
        "    data=query(**kwargs)\n",
        "    headers = {'Authorization': '{}'.format(token), 'Content-Type': 'application/json'}\n",
        "    response = requests.post(url, data=data, headers=headers)\n",
        "    if response.status_code != requests.codes.ok:\n",
        "        print(response.status_code)\n",
        "        r='[]'\n",
        "    else:\n",
        "        r=response.text\n",
        "    return pd.read_json(r)    \n"
      ],
      "execution_count": 0,
      "outputs": []
    },
    {
      "cell_type": "code",
      "metadata": {
        "id": "DWncq9kr0XL_",
        "colab_type": "code",
        "outputId": "87e82a8a-5601-4c2b-d5b9-8ba79164df55",
        "colab": {
          "base_uri": "https://localhost:8080/",
          "height": 51
        }
      },
      "source": [
        "RELOAD=True\n",
        "#https://link.lens.org/eBV1zZsBGQd\n",
        "querylist=[\"dark matter\",\"neutrino\"]\n",
        "rr=pd.DataFrame()\n",
        "start_date=datetime.datetime.strptime('1920-01-01','%Y-%m-%d')\n",
        "#start_date=datetime.datetime.strptime('2020-03-03','%Y-%m-%d')\n",
        "today=datetime.datetime.today()\n",
        "dd=['2014-12-31',today.strftime('%Y-%m-%d')]\n",
        "#dd=['2020-03-02']\n",
        "for d in dd:\n",
        "    if not RELOAD:\n",
        "        break\n",
        "    next_date=datetime.datetime.strptime(d,'%Y-%m-%d')\n",
        "    if next_date.date()==today.date():\n",
        "        rr.to_json('data/scotogenic_{}.json.gz'.format(\n",
        "             (start_date-datetime.timedelta(days=1)).strftime('%Y-%m-%d')   ))\n",
        "\n",
        "    print('{} → {} : '.format( start_date.strftime('%Y-%m-%d'),\n",
        "                              next_date.strftime('%Y-%m-%d') ),\n",
        "          end='')\n",
        "    tmp=get_query(query_ORAND,\n",
        "      title=querylist,\n",
        "      logical=\"AND\",\n",
        "      abstract=False,\n",
        "      range_type=\"date_published\",\n",
        "      date_ini=start_date.strftime('%Y-%m-%d'),\n",
        "      date_end=next_date.strftime('%Y-%m-%d'),\n",
        "      size=1000,\n",
        "      url=url,\n",
        "      token=token) \n",
        "\n",
        "    print(tmp.shape)\n",
        "    rr=rr.append( tmp  ).reset_index(drop=True)\n",
        "    start_date=next_date+datetime.timedelta(days=1)\n",
        "    \n",
        "    #if d==dd[0]:\n",
        "    #    break   \n",
        "    time.sleep(7)\n"
      ],
      "execution_count": 0,
      "outputs": [
        {
          "output_type": "stream",
          "text": [
            "1920-01-01 → 2014-12-31 : (923, 3)\n",
            "2015-01-01 → 2020-04-13 : (809, 3)\n"
          ],
          "name": "stdout"
        }
      ]
    },
    {
      "cell_type": "markdown",
      "metadata": {
        "colab_type": "text",
        "id": "aYFE4w2nj0BG"
      },
      "source": [
        "### Check results"
      ]
    },
    {
      "cell_type": "code",
      "metadata": {
        "id": "ihXm-9uX16Mv",
        "colab_type": "code",
        "colab": {}
      },
      "source": [
        "if RELOAD:\n",
        "    cv=pd.DataFrame(list(rr.data.values))\n",
        "    cv.to_json('data/scotogenic.json.gz')\n",
        "else:\n",
        "    urljason='https://github.com/restrepo/lensapi/raw/master/data/scotogenic.json.gz'\n",
        "    cv=pd.read_json(urljason,compression='gzip')"
      ],
      "execution_count": 0,
      "outputs": []
    },
    {
      "cell_type": "code",
      "metadata": {
        "colab_type": "code",
        "id": "8LesJKD1j0BX",
        "outputId": "a005f930-9431-4c5f-8853-9b8256cada14",
        "colab": {
          "base_uri": "https://localhost:8080/",
          "height": 34
        }
      },
      "source": [
        "cv.shape"
      ],
      "execution_count": 0,
      "outputs": [
        {
          "output_type": "execute_result",
          "data": {
            "text/plain": [
              "(1732, 29)"
            ]
          },
          "metadata": {
            "tags": []
          },
          "execution_count": 8
        }
      ]
    },
    {
      "cell_type": "code",
      "metadata": {
        "id": "dL15FCJY2Yf4",
        "colab_type": "code",
        "outputId": "58d971ad-23fe-4494-facb-e994e8de9909",
        "colab": {
          "base_uri": "https://localhost:8080/",
          "height": 34
        }
      },
      "source": [
        "cv.scholarly_citations_count.sum()"
      ],
      "execution_count": 0,
      "outputs": [
        {
          "output_type": "execute_result",
          "data": {
            "text/plain": [
              "33586.0"
            ]
          },
          "metadata": {
            "tags": []
          },
          "execution_count": 9
        }
      ]
    },
    {
      "cell_type": "code",
      "metadata": {
        "colab_type": "code",
        "id": "S5f46Ftr2vsV",
        "outputId": "5eb6d735-ba9d-42d0-b664-a19c5710b2c2",
        "colab": {
          "base_uri": "https://localhost:8080/",
          "height": 298
        }
      },
      "source": [
        "cv['Year']=cv.date_published.apply(lambda s: s.split('-')[0] if type(s)==str else \n",
        "                                          s.get('date').split('-')[0] )\n",
        "cv=cv[~cv['Year'].isna()].reset_index(drop=True)\n",
        "cv['Year']=cv['Year'].astype(int)\n",
        "cv[cv['Year']>2007]['Year'].value_counts().sort_index().plot(kind='bar')"
      ],
      "execution_count": 0,
      "outputs": [
        {
          "output_type": "execute_result",
          "data": {
            "text/plain": [
              "<matplotlib.axes._subplots.AxesSubplot at 0x7fbd8886a550>"
            ]
          },
          "metadata": {
            "tags": []
          },
          "execution_count": 10
        },
        {
          "output_type": "display_data",
          "data": {
            "image/png": "[encoded data removed]",
            "text/plain": [
              "<Figure size 432x288 with 1 Axes>"
            ]
          },
          "metadata": {
            "tags": [],
            "needs_background": "light"
          }
        }
      ]
    },
    {
      "cell_type": "markdown",
      "metadata": {
        "id": "f1W7TUxYjp8C",
        "colab_type": "text"
      },
      "source": [
        "### Search for citations"
      ]
    },
    {
      "cell_type": "code",
      "metadata": {
        "id": "otbgXEbL0T7B",
        "colab_type": "code",
        "outputId": "2078c4a5-0c42-4dbe-a847-d60e7e0b726e",
        "colab": {
          "base_uri": "https://localhost:8080/",
          "height": 123
        }
      },
      "source": [
        "import os\n",
        "if os.getcwd()=='/content':\n",
        "    from google.colab import drive\n",
        "    drive.mount('/content/drive')"
      ],
      "execution_count": 0,
      "outputs": [
        {
          "output_type": "stream",
          "text": [
            "Go to this URL in a browser: https://accounts.google.com/o/oauth2/auth?client_id=947318989803-6bn6qk8qdgf4n4g3pfee6491hc0brc4i.apps.googleusercontent.com&redirect_uri=urn%3aietf%3awg%3aoauth%3a2.0%3aoob&response_type=code&scope=email%20https%3a%2f%2fwww.googleapis.com%2fauth%2fdocs.test%20https%3a%2f%2fwww.googleapis.com%2fauth%2fdrive%20https%3a%2f%2fwww.googleapis.com%2fauth%2fdrive.photos.readonly%20https%3a%2f%2fwww.googleapis.com%2fauth%2fpeopleapi.readonly\n",
            "\n",
            "Enter your authorization code:\n",
            "··········\n",
            "Mounted at /content/drive\n"
          ],
          "name": "stdout"
        }
      ]
    },
    {
      "cell_type": "markdown",
      "metadata": {
        "id": "Ra8cZQzB8xB9",
        "colab_type": "text"
      },
      "source": [
        "Lens.org allows to search for a list of idintifiers ot length until 20"
      ]
    },
    {
      "cell_type": "code",
      "metadata": {
        "id": "JfqkPsVjKQNk",
        "colab_type": "code",
        "outputId": "fef7fbdc-698f-4ee3-ee55-74339c2ac8bc",
        "colab": {
          "base_uri": "https://localhost:8080/",
          "height": 34
        }
      },
      "source": [
        "l=list(cv['scholarly_citations'].apply(pd.Series).stack().unique())\n",
        "len(l)"
      ],
      "execution_count": 0,
      "outputs": [
        {
          "output_type": "execute_result",
          "data": {
            "text/plain": [
              "11575"
            ]
          },
          "metadata": {
            "tags": []
          },
          "execution_count": 12
        }
      ]
    },
    {
      "cell_type": "code",
      "metadata": {
        "id": "k9ZVX0US2N2A",
        "colab_type": "code",
        "colab": {}
      },
      "source": [
        "cvc=pd.DataFrame()\n",
        "rold=0\n",
        "terms_max=20\n",
        "lenl=len(l)\n",
        "steps=list(range(0,lenl,terms_max))[1:]+[ lenl ]\n",
        "for r in steps:\n",
        "    ll=l[rold:r]\n",
        "    rold=r\n",
        "    #make lens query\n",
        "    tmp=get_query(query_terms,lens_id=ll,url=url,token=token)\n",
        "    cvc=cvc.append(tmp).reset_index(drop=True)\n",
        "    cvc.to_json('scotogenic_scholarly_citations.json')\n",
        "    if os.getcwd()=='/content':\n",
        "        !cp scotogenic_scholarly_citations.json drive/My\\ Drive\n",
        "        \n",
        "    time.sleep(7)\n",
        "    #break    "
      ],
      "execution_count": 0,
      "outputs": []
    },
    {
      "cell_type": "code",
      "metadata": {
        "id": "HzUlapGURCzi",
        "colab_type": "code",
        "colab": {}
      },
      "source": [
        "import pandas as pd\n",
        "cvc=pd.read_json(\"drive/My Drive/scotogenic_scholarly_citations.json\")"
      ],
      "execution_count": 0,
      "outputs": []
    },
    {
      "cell_type": "code",
      "metadata": {
        "colab_type": "code",
        "id": "S-XGUnKSnvUc",
        "colab": {}
      },
      "source": [
        "dfcvc=pd.DataFrame(list(cvc.data.values))"
      ],
      "execution_count": 0,
      "outputs": []
    },
    {
      "cell_type": "code",
      "metadata": {
        "id": "twRJLX02RsZ1",
        "colab_type": "code",
        "colab": {}
      },
      "source": [
        "dfcvc[:14000].to_json('scotogenic_scholarly_citations_part_1.json.gz')\n",
        "dfcvc[14000:].to_json('scotogenic_scholarly_citations_part_2.json.gz')"
      ],
      "execution_count": 0,
      "outputs": []
    },
    {
      "cell_type": "code",
      "metadata": {
        "id": "NdamtqM8qEO2",
        "colab_type": "code",
        "outputId": "23aed905-b09c-41b8-c214-9f7508378916",
        "colab": {
          "base_uri": "https://localhost:8080/",
          "height": 51
        }
      },
      "source": [
        "ls -lh scotogenic_scholarly_citations_part_*"
      ],
      "execution_count": 0,
      "outputs": [
        {
          "output_type": "stream",
          "text": [
            "-rw-r--r-- 1 root root  23M Apr  8 16:45 covid_19_scholarly_citations_part_1.json.gz\n",
            "-rw-r--r-- 1 root root 8.1M Apr  8 16:45 covid_19_scholarly_citations_part_2.json.gz\n"
          ],
          "name": "stdout"
        }
      ]
    },
    {
      "cell_type": "code",
      "metadata": {
        "id": "iVApG0Za1M3f",
        "colab_type": "code",
        "outputId": "97e07df9-0aff-40e0-dcbf-1a138c7b2e23",
        "colab": {
          "base_uri": "https://localhost:8080/",
          "height": 171
        }
      },
      "source": [
        "dfcvc.columns"
      ],
      "execution_count": 0,
      "outputs": [
        {
          "output_type": "execute_result",
          "data": {
            "text/plain": [
              "Index(['lens_id', 'created', 'open_access', 'publication_type',\n",
              "       'publication_supplementary_type', 'authors', 'title', 'volume', 'issue',\n",
              "       'languages', 'references', 'mesh_terms', 'chemicals', 'fields_of_study',\n",
              "       'funding', 'source_urls', 'abstract', 'year_published',\n",
              "       'references_count', 'scholarly_citations_count', 'external_ids',\n",
              "       'start_page', 'end_page', 'source', 'scholarly_citations',\n",
              "       'author_count', 'date_published', 'keywords', 'patent_citations',\n",
              "       'patent_citations_count', 'conference', 'clinical_trials'],\n",
              "      dtype='object')"
            ]
          },
          "metadata": {
            "tags": []
          },
          "execution_count": 28
        }
      ]
    },
    {
      "cell_type": "markdown",
      "metadata": {
        "id": "3GRU5MPtVnOu",
        "colab_type": "text"
      },
      "source": [
        "# Pajek files generation"
      ]
    },
    {
      "cell_type": "code",
      "metadata": {
        "id": "7jQh-u_EPXmE",
        "colab_type": "code",
        "colab": {}
      },
      "source": [
        "import pandas as pd\n",
        "import time\n",
        "qq=[]\n",
        "def to_pajek(row,newlist=qq):\n",
        "    c=len(row.get('scholarly_citations'))\n",
        "    for i in range(c):\n",
        "        qq.append({ 'lens_id': row.get('lens_id'),'scholarly_citations': row.get('scholarly_citations')[i] })\n",
        "    return 'qq is being build'\n",
        "def to_authors(row,newlist=qq):\n",
        "    try:\n",
        "        c=len(row.get('authors'))\n",
        "    except:\n",
        "        c=0\n",
        "    for i in range(c):\n",
        "        try:\n",
        "            i_author=row.get('authors')[i]\n",
        "        except:\n",
        "            i_author={}\n",
        "        try:\n",
        "            i_affiliations=i_author.get('affiliations')[0]\n",
        "        except:\n",
        "            i_affiliations={}\n",
        "        qq.append({ 'lens_id': row.get('lens_id'),\n",
        "                   'author': '{} {}'.format(i_author.get('first_name'),\n",
        "                                            i_author.get('last_name')),\n",
        "                   'affiliation': i_affiliations.get('name'),\n",
        "                   'country': i_affiliations.get('country_code')})\n",
        "    return qq#'qq is being build'"
      ],
      "execution_count": 0,
      "outputs": []
    },
    {
      "cell_type": "code",
      "metadata": {
        "id": "W2x6OsXlPawM",
        "colab_type": "code",
        "colab": {}
      },
      "source": [
        "base='https://github.com/restrepo/articles_COVID-19/raw/master/data/'\n",
        "file='scotogenic.json.gz'\n",
        "cv=pd.read_json('{}{}'.format(base,file),compression='gzip')\n",
        "time.sleep(2)\n",
        "file='scotogenic_scholarly_citations.json.gz'\n",
        "cvc=pd.read_json('{}{}'.format(base,file),compression='gzip')"
      ],
      "execution_count": 0,
      "outputs": []
    },
    {
      "cell_type": "code",
      "metadata": {
        "id": "v8Pyg8n6V0mv",
        "colab_type": "code",
        "colab": {
          "base_uri": "https://localhost:8080/",
          "height": 222
        },
        "outputId": "d0f44d3f-3a60-4cb3-f80d-234cd7b2cc6f"
      },
      "source": [
        "qq=[]\n",
        "#remove articles without citations\n",
        "cvac=cv.dropna(subset=['scholarly_citations'])\n",
        "cvac.apply( \n",
        "    to_pajek ,axis='columns')"
      ],
      "execution_count": 7,
      "outputs": [
        {
          "output_type": "execute_result",
          "data": {
            "text/plain": [
              "0       qq is being build\n",
              "2       qq is being build\n",
              "3       qq is being build\n",
              "5       qq is being build\n",
              "8       qq is being build\n",
              "              ...        \n",
              "1724    qq is being build\n",
              "1726    qq is being build\n",
              "1727    qq is being build\n",
              "1729    qq is being build\n",
              "1731    qq is being build\n",
              "Length: 1146, dtype: object"
            ]
          },
          "metadata": {
            "tags": []
          },
          "execution_count": 7
        }
      ]
    },
    {
      "cell_type": "code",
      "metadata": {
        "id": "2newO9uDZNX7",
        "colab_type": "code",
        "colab": {}
      },
      "source": [
        "\n",
        "pcvac=pd.DataFrame(qq)\n",
        "pcvac.to_excel('scotogenic_pajek_hoja_1.xlsx',index=False)"
      ],
      "execution_count": 0,
      "outputs": []
    },
    {
      "cell_type": "code",
      "metadata": {
        "id": "UMoGzPDbZcMv",
        "colab_type": "code",
        "colab": {
          "base_uri": "https://localhost:8080/",
          "height": 34
        },
        "outputId": "b0151569-f56a-4c5d-fb06-e06e4de038c3"
      },
      "source": [
        "cvt=cvac.append(cvc).reset_index(drop=True)\n",
        "cvt=cvt.drop_duplicates('lens_id').reset_index(drop=True)\n",
        "cvt.shape"
      ],
      "execution_count": 12,
      "outputs": [
        {
          "output_type": "execute_result",
          "data": {
            "text/plain": [
              "(11917, 31)"
            ]
          },
          "metadata": {
            "tags": []
          },
          "execution_count": 12
        }
      ]
    },
    {
      "cell_type": "code",
      "metadata": {
        "id": "VOqkUqXndQk-",
        "colab_type": "code",
        "colab": {}
      },
      "source": [
        "qq=[]\n",
        "cvt.apply(to_authors,axis='columns').values"
      ],
      "execution_count": 0,
      "outputs": []
    },
    {
      "cell_type": "code",
      "metadata": {
        "id": "sWURk-EcdbQE",
        "colab_type": "code",
        "colab": {}
      },
      "source": [
        "pcvt=pd.DataFrame(qq)\n",
        "pcvt.to_excel('scotogenic_pajek_hoja_3.xlsx',index=False)"
      ],
      "execution_count": 0,
      "outputs": []
    },
    {
      "cell_type": "code",
      "metadata": {
        "id": "N_G2Nddzdg2W",
        "colab_type": "code",
        "colab": {}
      },
      "source": [
        "cvt['date']=cvt.created.str.split('T').str[0]\n",
        "cvt['journal']=cvt.source.apply(lambda d: d.get('title') if isinstance(d,dict) else '')\n",
        "cvt[['lens_id','title','date','journal']].to_excel('scotogenic_pajek_hoja_2.xlsx',index=False)"
      ],
      "execution_count": 0,
      "outputs": []
    },
    {
      "cell_type": "code",
      "metadata": {
        "id": "ozfzjit-drrB",
        "colab_type": "code",
        "colab": {}
      },
      "source": [
        ""
      ],
      "execution_count": 0,
      "outputs": []
    }
  ]
}