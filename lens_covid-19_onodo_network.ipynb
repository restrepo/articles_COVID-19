{
  "nbformat": 4,
  "nbformat_minor": 0,
  "metadata": {
    "colab": {
      "name": "lens_covid-19_onodo_network.ipynb",
      "provenance": [],
      "include_colab_link": true
    },
    "kernelspec": {
      "display_name": "Python 3",
      "language": "python",
      "name": "python3"
    },
    "language_info": {
      "codemirror_mode": {
        "name": "ipython",
        "version": 3
      },
      "file_extension": ".py",
      "mimetype": "text/x-python",
      "name": "python",
      "nbconvert_exporter": "python",
      "pygments_lexer": "ipython3",
      "version": "3.5.3"
    },
    "latex_envs": {
      "LaTeX_envs_menu_present": true,
      "autoclose": false,
      "autocomplete": true,
      "bibliofile": "biblio.bib",
      "cite_by": "apalike",
      "current_citInitial": 1,
      "eqLabelWithNumbers": true,
      "eqNumInitial": 1,
      "hotkeys": {
        "equation": "Ctrl-E",
        "itemize": "Ctrl-I"
      },
      "labels_anchors": false,
      "latex_user_defs": false,
      "report_style_numbering": false,
      "user_envs_cfg": false
    }
  },
  "cells": [
    {
      "cell_type": "markdown",
      "metadata": {
        "id": "view-in-github",
        "colab_type": "text"
      },
      "source": [
        "<a href=\"https://colab.research.google.com/github/restrepo/articles_COVID-19/blob/master/lens_covid-19_onodo_network.ipynb\" target=\"_parent\"><img src=\"https://colab.research.google.com/assets/colab-badge.svg\" alt=\"Open In Colab\"/></a>"
      ]
    },
    {
      "cell_type": "markdown",
      "metadata": {
        "colab_type": "text",
        "id": "D_lKr3Avj0Ag"
      },
      "source": [
        "# Articles with `COVID-19`  in `title` of Lens.org"
      ]
    },
    {
      "cell_type": "markdown",
      "metadata": {
        "id": "o77CFWgaFJLU",
        "colab_type": "text"
      },
      "source": [
        "See [lens_covid.ipynb](./lens_covid.ipynb) [[GitHub]](https://github.com/restrepo/articles_COVID-19/blob/master/lens_covid.ipynb) [[Colab]](https://colab.research.google.com/github/restrepo/articles_COVID-19/blob/master/lens_covid.ipynb) to get the databases from lens.org API"
      ]
    },
    {
      "cell_type": "code",
      "metadata": {
        "colab_type": "code",
        "id": "Rw3EV881j0Am",
        "colab": {}
      },
      "source": [
        "import pandas as pd\n",
        "import time"
      ],
      "execution_count": 0,
      "outputs": []
    },
    {
      "cell_type": "markdown",
      "metadata": {
        "id": "hodglFYuEWqw",
        "colab_type": "text"
      },
      "source": [
        "### Articles"
      ]
    },
    {
      "cell_type": "markdown",
      "metadata": {
        "id": "IwG6wRFhDBL-",
        "colab_type": "text"
      },
      "source": [
        "Load articles with title covid-19"
      ]
    },
    {
      "cell_type": "code",
      "metadata": {
        "id": "JhaOA415CCss",
        "colab_type": "code",
        "outputId": "fea2039a-d0c9-475d-ddb7-3a387901e240",
        "colab": {
          "base_uri": "https://localhost:8080/",
          "height": 34
        }
      },
      "source": [
        "base='https://github.com/restrepo/articles_COVID-19/raw/master/data/'\n",
        "file='covid_19.json.gz'\n",
        "cv=pd.read_json('{}{}'.format(base,file),compression='gzip')\n",
        "cv.shape"
      ],
      "execution_count": 2,
      "outputs": [
        {
          "output_type": "execute_result",
          "data": {
            "text/plain": [
              "(6493, 32)"
            ]
          },
          "metadata": {
            "tags": []
          },
          "execution_count": 2
        }
      ]
    },
    {
      "cell_type": "code",
      "metadata": {
        "id": "4ciL3DYHE3cm",
        "colab_type": "code",
        "colab": {}
      },
      "source": [
        "cvac=cv.dropna(subset=['scholarly_citations'])"
      ],
      "execution_count": 0,
      "outputs": []
    },
    {
      "cell_type": "markdown",
      "metadata": {
        "id": "KixLRBR5Eay5",
        "colab_type": "text"
      },
      "source": [
        "### Citations"
      ]
    },
    {
      "cell_type": "markdown",
      "metadata": {
        "id": "YqAgRPLuDUid",
        "colab_type": "text"
      },
      "source": [
        "Load citations to articles. Get the metadata for each one of the `lens_id` citations"
      ]
    },
    {
      "cell_type": "code",
      "metadata": {
        "id": "QYLV4JPIy_7t",
        "colab_type": "code",
        "outputId": "d6bc339e-60fb-4c39-bc5f-72f8f93e22bc",
        "colab": {
          "base_uri": "https://localhost:8080/",
          "height": 34
        }
      },
      "source": [
        "base='https://github.com/restrepo/articles_COVID-19/raw/master/data/'\n",
        "file='covid_19_scholarly_citations_part_1.json.gz'\n",
        "cvc=pd.read_json('{}{}'.format(base,file),compression='gzip')\n",
        "file='covid_19_scholarly_citations_part_2.json.gz'\n",
        "cvc=cvc.append( pd.read_json('{}{}'.format(base,file),compression='gzip') \n",
        "        ).reset_index(drop=True)\n",
        "cvc.shape"
      ],
      "execution_count": 4,
      "outputs": [
        {
          "output_type": "execute_result",
          "data": {
            "text/plain": [
              "(19652, 32)"
            ]
          },
          "metadata": {
            "tags": []
          },
          "execution_count": 4
        }
      ]
    },
    {
      "cell_type": "code",
      "metadata": {
        "id": "AUL9JG_0WgQr",
        "colab_type": "code",
        "colab": {}
      },
      "source": [
        "cvt=cvac.append(cvc).reset_index(drop=True)"
      ],
      "execution_count": 0,
      "outputs": []
    },
    {
      "cell_type": "code",
      "metadata": {
        "id": "vgb7zPl4WlpR",
        "colab_type": "code",
        "outputId": "3f9e5efe-31b0-4762-db16-e4176db441ae",
        "colab": {
          "base_uri": "https://localhost:8080/",
          "height": 34
        }
      },
      "source": [
        "cvt.shape"
      ],
      "execution_count": 6,
      "outputs": [
        {
          "output_type": "execute_result",
          "data": {
            "text/plain": [
              "(21218, 32)"
            ]
          },
          "metadata": {
            "tags": []
          },
          "execution_count": 6
        }
      ]
    },
    {
      "cell_type": "code",
      "metadata": {
        "id": "8expvl_5Wn89",
        "colab_type": "code",
        "colab": {}
      },
      "source": [
        "cvt=cvt.drop_duplicates('lens_id').reset_index(drop=True)"
      ],
      "execution_count": 0,
      "outputs": []
    },
    {
      "cell_type": "code",
      "metadata": {
        "id": "UpOQQSvjbp4Y",
        "colab_type": "code",
        "outputId": "3b5d89e8-8c98-410f-aa38-ab7e1e7c29e0",
        "colab": {
          "base_uri": "https://localhost:8080/",
          "height": 34
        }
      },
      "source": [
        "cvt.shape"
      ],
      "execution_count": 8,
      "outputs": [
        {
          "output_type": "execute_result",
          "data": {
            "text/plain": [
              "(20045, 32)"
            ]
          },
          "metadata": {
            "tags": []
          },
          "execution_count": 8
        }
      ]
    },
    {
      "cell_type": "code",
      "metadata": {
        "id": "Ma4UuKOk0Ej_",
        "colab_type": "code",
        "outputId": "7b5330c7-a2d4-463c-91f8-8375706b31a0",
        "colab": {
          "base_uri": "https://localhost:8080/",
          "height": 188
        }
      },
      "source": [
        "cv.columns"
      ],
      "execution_count": 9,
      "outputs": [
        {
          "output_type": "execute_result",
          "data": {
            "text/plain": [
              "Index(['lens_id', 'created', 'open_access', 'publication_type', 'authors',\n",
              "       'title', 'volume', 'issue', 'languages', 'references',\n",
              "       'fields_of_study', 'funding', 'source_urls', 'abstract',\n",
              "       'year_published', 'references_count', 'scholarly_citations_count',\n",
              "       'external_ids', 'start_page', 'end_page', 'source',\n",
              "       'scholarly_citations', 'author_count', 'date_published',\n",
              "       'publication_supplementary_type', 'mesh_terms', 'patent_citations',\n",
              "       'patent_citations_count', 'chemicals', 'keywords', 'conference',\n",
              "       'clinical_trials'],\n",
              "      dtype='object')"
            ]
          },
          "metadata": {
            "tags": []
          },
          "execution_count": 9
        }
      ]
    },
    {
      "cell_type": "markdown",
      "metadata": {
        "id": "CCPk6EaL3XhR",
        "colab_type": "text"
      },
      "source": [
        "## Onodo network"
      ]
    },
    {
      "cell_type": "code",
      "metadata": {
        "id": "mPpIaTxFYx4-",
        "colab_type": "code",
        "colab": {}
      },
      "source": [
        "base='https://github.com/restrepo/articles_COVID-19/raw/master/data/'\n",
        "file='COVID-19.xlsx'\n",
        "on1=pd.read_excel('{}{}'.format(base,file),sheet_name=0)\n",
        "time.sleep(1)\n",
        "on2=pd.read_excel('{}{}'.format(base,file),sheet_name=1)"
      ],
      "execution_count": 0,
      "outputs": []
    },
    {
      "cell_type": "code",
      "metadata": {
        "id": "6xUdMRr7eoWq",
        "colab_type": "code",
        "colab": {}
      },
      "source": [
        "on1['Visible']=''\n",
        "on1['Link']=''\n",
        "on1['Description']=''"
      ],
      "execution_count": 0,
      "outputs": []
    },
    {
      "cell_type": "code",
      "metadata": {
        "id": "qK2l3Faxdn_6",
        "colab_type": "code",
        "outputId": "af4ed0a1-45cf-4378-a2a8-334d9713a026",
        "colab": {
          "base_uri": "https://localhost:8080/",
          "height": 416
        }
      },
      "source": [
        "on1"
      ],
      "execution_count": 13,
      "outputs": [
        {
          "output_type": "execute_result",
          "data": {
            "text/html": [
              "<div>\n",
              "<style scoped>\n",
              "    .dataframe tbody tr th:only-of-type {\n",
              "        vertical-align: middle;\n",
              "    }\n",
              "\n",
              "    .dataframe tbody tr th {\n",
              "        vertical-align: top;\n",
              "    }\n",
              "\n",
              "    .dataframe thead th {\n",
              "        text-align: right;\n",
              "    }\n",
              "</style>\n",
              "<table border=\"1\" class=\"dataframe\">\n",
              "  <thead>\n",
              "    <tr style=\"text-align: right;\">\n",
              "      <th></th>\n",
              "      <th>Name</th>\n",
              "      <th>Type</th>\n",
              "      <th>Description</th>\n",
              "      <th>Visible</th>\n",
              "      <th>Title</th>\n",
              "      <th>Importance</th>\n",
              "      <th>Lens id</th>\n",
              "      <th>Journal</th>\n",
              "      <th>Date</th>\n",
              "      <th>Node size</th>\n",
              "      <th>Link</th>\n",
              "    </tr>\n",
              "  </thead>\n",
              "  <tbody>\n",
              "    <tr>\n",
              "      <th>0</th>\n",
              "      <td>111-1.23</td>\n",
              "      <td>New</td>\n",
              "      <td></td>\n",
              "      <td></td>\n",
              "      <td>The Impact of COVID-19 on Radiology Trainees</td>\n",
              "      <td>1.23</td>\n",
              "      <td>064-522-912-524-932</td>\n",
              "      <td>Radiology</td>\n",
              "      <td>2020-03-29</td>\n",
              "      <td>12.3</td>\n",
              "      <td></td>\n",
              "    </tr>\n",
              "    <tr>\n",
              "      <th>1</th>\n",
              "      <td>11-1.59</td>\n",
              "      <td>New</td>\n",
              "      <td></td>\n",
              "      <td></td>\n",
              "      <td>Radiological Society of North America Expert C...</td>\n",
              "      <td>1.59</td>\n",
              "      <td>008-414-334-467-980</td>\n",
              "      <td>Radiology: Cardiothoracic Imaging</td>\n",
              "      <td>2020-03-28</td>\n",
              "      <td>15.9</td>\n",
              "      <td></td>\n",
              "    </tr>\n",
              "    <tr>\n",
              "      <th>2</th>\n",
              "      <td>112-1.01</td>\n",
              "      <td>New</td>\n",
              "      <td></td>\n",
              "      <td></td>\n",
              "      <td>Potential Effects of Coronaviruses on the Card...</td>\n",
              "      <td>1.01</td>\n",
              "      <td>003-052-408-102-208</td>\n",
              "      <td>JAMA Cardiology</td>\n",
              "      <td>2020-03-29</td>\n",
              "      <td>10.1</td>\n",
              "      <td></td>\n",
              "    </tr>\n",
              "    <tr>\n",
              "      <th>3</th>\n",
              "      <td>113-0.86</td>\n",
              "      <td>New</td>\n",
              "      <td></td>\n",
              "      <td></td>\n",
              "      <td>Covid-19: risk factors for severe disease and ...</td>\n",
              "      <td>0.86</td>\n",
              "      <td>008-537-158-868-338</td>\n",
              "      <td>BMJ</td>\n",
              "      <td>2020-03-29</td>\n",
              "      <td>8.6</td>\n",
              "      <td></td>\n",
              "    </tr>\n",
              "    <tr>\n",
              "      <th>4</th>\n",
              "      <td>114-0.81</td>\n",
              "      <td>New</td>\n",
              "      <td></td>\n",
              "      <td></td>\n",
              "      <td>Internet hospitals help prevent and control th...</td>\n",
              "      <td>0.81</td>\n",
              "      <td>106-468-328-231-644</td>\n",
              "      <td>NaN</td>\n",
              "      <td>2020-03-29</td>\n",
              "      <td>8.1</td>\n",
              "      <td></td>\n",
              "    </tr>\n",
              "    <tr>\n",
              "      <th>...</th>\n",
              "      <td>...</td>\n",
              "      <td>...</td>\n",
              "      <td>...</td>\n",
              "      <td>...</td>\n",
              "      <td>...</td>\n",
              "      <td>...</td>\n",
              "      <td>...</td>\n",
              "      <td>...</td>\n",
              "      <td>...</td>\n",
              "      <td>...</td>\n",
              "      <td>...</td>\n",
              "    </tr>\n",
              "    <tr>\n",
              "      <th>244</th>\n",
              "      <td>983-0.01</td>\n",
              "      <td>Old</td>\n",
              "      <td></td>\n",
              "      <td></td>\n",
              "      <td>Patients with RT-PCR Confirmed COVID-19 and No...</td>\n",
              "      <td>0.01</td>\n",
              "      <td>151-555-753-218-755</td>\n",
              "      <td>Radiology</td>\n",
              "      <td>2020-03-07</td>\n",
              "      <td>0.1</td>\n",
              "      <td></td>\n",
              "    </tr>\n",
              "    <tr>\n",
              "      <th>245</th>\n",
              "      <td>984-0.01</td>\n",
              "      <td>Old</td>\n",
              "      <td></td>\n",
              "      <td></td>\n",
              "      <td>Sensitivity of Chest CT for COVID-19: Comparis...</td>\n",
              "      <td>0.01</td>\n",
              "      <td>060-480-337-496-438</td>\n",
              "      <td>Radiology</td>\n",
              "      <td>2020-02-21</td>\n",
              "      <td>0.1</td>\n",
              "      <td></td>\n",
              "    </tr>\n",
              "    <tr>\n",
              "      <th>246</th>\n",
              "      <td>985-0.01</td>\n",
              "      <td>Old</td>\n",
              "      <td></td>\n",
              "      <td></td>\n",
              "      <td>Human coronavirus NL63 infection and other cor...</td>\n",
              "      <td>0.01</td>\n",
              "      <td>088-388-879-348-055</td>\n",
              "      <td>Clinical Infectious Diseases</td>\n",
              "      <td>2018-05-12</td>\n",
              "      <td>0.1</td>\n",
              "      <td></td>\n",
              "    </tr>\n",
              "    <tr>\n",
              "      <th>247</th>\n",
              "      <td>986-0.01</td>\n",
              "      <td>Old</td>\n",
              "      <td></td>\n",
              "      <td></td>\n",
              "      <td>A novel coronavirus outbreak of global health ...</td>\n",
              "      <td>0.01</td>\n",
              "      <td>011-919-504-186-623</td>\n",
              "      <td>The Lancet</td>\n",
              "      <td>2020-01-26</td>\n",
              "      <td>0.1</td>\n",
              "      <td></td>\n",
              "    </tr>\n",
              "    <tr>\n",
              "      <th>248</th>\n",
              "      <td>987-0.01</td>\n",
              "      <td>Old</td>\n",
              "      <td></td>\n",
              "      <td></td>\n",
              "      <td>CD209L (L-SIGN) is a receptor for severe acute...</td>\n",
              "      <td>0.01</td>\n",
              "      <td>031-548-667-280-855</td>\n",
              "      <td>Proceedings of the National Academy of Science...</td>\n",
              "      <td>2018-05-12</td>\n",
              "      <td>0.1</td>\n",
              "      <td></td>\n",
              "    </tr>\n",
              "  </tbody>\n",
              "</table>\n",
              "<p>249 rows × 11 columns</p>\n",
              "</div>"
            ],
            "text/plain": [
              "         Name Type Description  ...        Date Node size  Link\n",
              "0    111-1.23  New              ...  2020-03-29      12.3      \n",
              "1     11-1.59  New              ...  2020-03-28      15.9      \n",
              "2    112-1.01  New              ...  2020-03-29      10.1      \n",
              "3    113-0.86  New              ...  2020-03-29       8.6      \n",
              "4    114-0.81  New              ...  2020-03-29       8.1      \n",
              "..        ...  ...         ...  ...         ...       ...   ...\n",
              "244  983-0.01  Old              ...  2020-03-07       0.1      \n",
              "245  984-0.01  Old              ...  2020-02-21       0.1      \n",
              "246  985-0.01  Old              ...  2018-05-12       0.1      \n",
              "247  986-0.01  Old              ...  2020-01-26       0.1      \n",
              "248  987-0.01  Old              ...  2018-05-12       0.1      \n",
              "\n",
              "[249 rows x 11 columns]"
            ]
          },
          "metadata": {
            "tags": []
          },
          "execution_count": 13
        }
      ]
    },
    {
      "cell_type": "markdown",
      "metadata": {
        "id": "hX7vURSOeEOp",
        "colab_type": "text"
      },
      "source": [
        "<div><a href=\"https://www.lens.org/lens/scholar/article/019-696-870-676-337/main\">\n",
        "Connecting neutrino physics with dark matter</a><br>\n",
        "Massimiliano Lattanzi , Roberto A Lineros, Marco Taoso <br><br>\n",
        "The origin of neutrino masses and the nature of dark matter are two in most pressing open questions in modern astro-particle physics. We consider here the possibility that these two problems are related, and review some theoretical scenarios which offer common solutions. ...\n",
        "<br><br>\n",
        "DOI: <a href=\"http://dx.doi.org/10.1088/1367-2630/16/12/125012\">10.1088/1367-2630/16/12/125012</a> [<a href=\"http://arxiv.org/abs/1406.0004\">PDF</a>]</div>"
      ]
    },
    {
      "cell_type": "code",
      "metadata": {
        "id": "wi1N-mK-hkOL",
        "colab_type": "code",
        "colab": {}
      },
      "source": [
        "from IPython import display"
      ],
      "execution_count": 0,
      "outputs": []
    },
    {
      "cell_type": "code",
      "metadata": {
        "id": "WO529KwHg7vz",
        "colab_type": "code",
        "colab": {}
      },
      "source": [
        "lens_id='019-696-870-676-337'\n",
        "title='Connecting neutrino physics with dark matter'\n",
        "authors='Massimiliano Lattanzi, Roberto A Lineros, Marco Taoso'\n",
        "abstract='The origin of neutrino masses and the nature of dark matter are two in most pressing open questions in modern astro-particle physics. We consider here the possibility that these two problems are related, and review some theoretical scenarios which offer common solutions. ...'\n",
        "\n",
        "DOI='10.1088/1367-2630/16/12/125012'\n",
        "PDF='http://arxiv.org/abs/1406.0004'\n",
        "\n",
        "def fill_description(lens_id,title='',authors=None,\n",
        "                     abstract=None,DOI=None,PDF=None):\n",
        "    dscr='<div><a href=\"https://www.lens.org/lens/scholar/article/{}/main\">\\n'.format(\n",
        "            lens_id)\n",
        "    if len(title)>400:\n",
        "        title=title[:400]+'...'\n",
        "    dscr=dscr+'{}</a><br>\\n'.format(title)\n",
        "    if authors:    \n",
        "        dscr=dscr+'{} <br><br>\\n'.format(authors)\n",
        "    if abstract:\n",
        "        if len(abstract)>400:\n",
        "            abstract=abstract[:400]+'...'\n",
        "        dscr=dscr+'{}\\n<br><br>\\n'.format(abstract)\n",
        "    if DOI:\n",
        "        dscr=dscr+'DOI: <a href=\"http://dx.doi.org/{}\">{}</a> '.format(DOI,DOI)\n",
        "    if PDF:\n",
        "        dscr=dscr+'[<a href=\"{}\">PDF</a>]</div>'.format(PDF)\n",
        "    return dscr"
      ],
      "execution_count": 0,
      "outputs": []
    },
    {
      "cell_type": "code",
      "metadata": {
        "id": "yxmOlGmWpBDG",
        "colab_type": "code",
        "colab": {
          "base_uri": "https://localhost:8080/",
          "height": 54
        },
        "outputId": "002dc3f1-e62f-4fbc-8503-8cfdf562c53b"
      },
      "source": [
        "dscr=fill_description(lens_id,title,authors,abstract,DOI,PDF)\n",
        "dscr"
      ],
      "execution_count": 57,
      "outputs": [
        {
          "output_type": "execute_result",
          "data": {
            "text/plain": [
              "'<div><a href=\"https://www.lens.org/lens/scholar/article/019-696-870-676-337/main\">\\nConnecting neutrino physics with dark matter</a><br>\\nMassimiliano Lattanzi, Roberto A Lineros, Marco Taoso <br><br>\\nThe origin of neutrino masses and the nature of dark matter are two in most pressing open questions in modern astro-particle physics. We consider here the possibility that these two problems are related, and review some theoretical scenarios which offer common solutions. ...\\n<br><br>\\nDOI: <a href=\"http://dx.doi.org/10.1088/1367-2630/16/12/125012\">10.1088/1367-2630/16/12/125012</a> [<a href=\"http://arxiv.org/abs/1406.0004\">PDF</a>]</div>'"
            ]
          },
          "metadata": {
            "tags": []
          },
          "execution_count": 57
        }
      ]
    },
    {
      "cell_type": "code",
      "metadata": {
        "id": "dDd0HlvlhzL2",
        "colab_type": "code",
        "colab": {
          "base_uri": "https://localhost:8080/",
          "height": 34
        },
        "outputId": "d6d9e1f2-6074-45ba-ca17-f492603e2bc3"
      },
      "source": [
        "display.HTML(dscr)"
      ],
      "execution_count": 56,
      "outputs": [
        {
          "output_type": "execute_result",
          "data": {
            "text/html": [
              "<div><a href=\"https://www.lens.org/lens/scholar/article/019-696-870-676-337/main\">\n",
              "Connecting neutrino physics with dark matter</a><br>\n"
            ],
            "text/plain": [
              "<IPython.core.display.HTML object>"
            ]
          },
          "metadata": {
            "tags": []
          },
          "execution_count": 56
        }
      ]
    },
    {
      "cell_type": "code",
      "metadata": {
        "id": "xHSQFcsgh6aP",
        "colab_type": "code",
        "colab": {
          "base_uri": "https://localhost:8080/",
          "height": 34
        },
        "outputId": "874db315-6fe5-4cce-b5e8-326fb3286067"
      },
      "source": [
        "lens_id"
      ],
      "execution_count": 44,
      "outputs": [
        {
          "output_type": "execute_result",
          "data": {
            "text/plain": [
              "'019-696-870-676-337'"
            ]
          },
          "metadata": {
            "tags": []
          },
          "execution_count": 44
        }
      ]
    },
    {
      "cell_type": "code",
      "metadata": {
        "id": "svpbhGXUiGjf",
        "colab_type": "code",
        "colab": {}
      },
      "source": [
        ""
      ],
      "execution_count": 0,
      "outputs": []
    }
  ]
}