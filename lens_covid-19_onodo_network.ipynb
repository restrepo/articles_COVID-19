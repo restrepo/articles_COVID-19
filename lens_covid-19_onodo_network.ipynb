{
  "nbformat": 4,
  "nbformat_minor": 0,
  "metadata": {
    "colab": {
      "name": "lens_covid-19_with_citations_Pajek.ipynb",
      "provenance": [],
      "include_colab_link": true
    },
    "kernelspec": {
      "display_name": "Python 3",
      "language": "python",
      "name": "python3"
    },
    "language_info": {
      "codemirror_mode": {
        "name": "ipython",
        "version": 3
      },
      "file_extension": ".py",
      "mimetype": "text/x-python",
      "name": "python",
      "nbconvert_exporter": "python",
      "pygments_lexer": "ipython3",
      "version": "3.5.3"
    },
    "latex_envs": {
      "LaTeX_envs_menu_present": true,
      "autoclose": false,
      "autocomplete": true,
      "bibliofile": "biblio.bib",
      "cite_by": "apalike",
      "current_citInitial": 1,
      "eqLabelWithNumbers": true,
      "eqNumInitial": 1,
      "hotkeys": {
        "equation": "Ctrl-E",
        "itemize": "Ctrl-I"
      },
      "labels_anchors": false,
      "latex_user_defs": false,
      "report_style_numbering": false,
      "user_envs_cfg": false
    }
  },
  "cells": [
    {
      "cell_type": "markdown",
      "metadata": {
        "id": "view-in-github",
        "colab_type": "text"
      },
      "source": [
        "<a href=\"https://colab.research.google.com/github/restrepo/articles_COVID-19/blob/master/lens_covid-19_onodo_network.ipynb\" target=\"_parent\"><img src=\"https://colab.research.google.com/assets/colab-badge.svg\" alt=\"Open In Colab\"/></a>"
      ]
    },
    {
      "cell_type": "markdown",
      "metadata": {
        "colab_type": "text",
        "id": "D_lKr3Avj0Ag"
      },
      "source": [
        "# Articles with `COVID-19`  in `title` of Lens.org"
      ]
    },
    {
      "cell_type": "markdown",
      "metadata": {
        "id": "o77CFWgaFJLU",
        "colab_type": "text"
      },
      "source": [
        "See [lens_covid.ipynb](./lens_covid.ipynb) [[GitHub]](https://github.com/restrepo/articles_COVID-19/blob/master/lens_covid.ipynb) [[Colab]](https://colab.research.google.com/github/restrepo/articles_COVID-19/blob/master/lens_covid.ipynb) to get the databases from lens.org API"
      ]
    },
    {
      "cell_type": "code",
      "metadata": {
        "colab_type": "code",
        "id": "Rw3EV881j0Am",
        "colab": {}
      },
      "source": [
        "import pandas as pd\n",
        "import time"
      ],
      "execution_count": 0,
      "outputs": []
    },
    {
      "cell_type": "markdown",
      "metadata": {
        "id": "hodglFYuEWqw",
        "colab_type": "text"
      },
      "source": [
        "### Articles"
      ]
    },
    {
      "cell_type": "markdown",
      "metadata": {
        "id": "IwG6wRFhDBL-",
        "colab_type": "text"
      },
      "source": [
        "Load articles with title covid-19"
      ]
    },
    {
      "cell_type": "code",
      "metadata": {
        "id": "JhaOA415CCss",
        "colab_type": "code",
        "outputId": "5f8e21c3-8261-4556-b02e-2055f48b11dc",
        "colab": {
          "base_uri": "https://localhost:8080/",
          "height": 34
        }
      },
      "source": [
        "base='https://github.com/restrepo/articles_COVID-19/raw/master/data/'\n",
        "file='covid_19.json.gz'\n",
        "cv=pd.read_json('{}{}'.format(base,file),compression='gzip')\n",
        "cv.shape"
      ],
      "execution_count": 2,
      "outputs": [
        {
          "output_type": "execute_result",
          "data": {
            "text/plain": [
              "(6493, 32)"
            ]
          },
          "metadata": {
            "tags": []
          },
          "execution_count": 2
        }
      ]
    },
    {
      "cell_type": "code",
      "metadata": {
        "id": "4ciL3DYHE3cm",
        "colab_type": "code",
        "colab": {}
      },
      "source": [
        "cvac=cv.dropna(subset=['scholarly_citations'])"
      ],
      "execution_count": 0,
      "outputs": []
    },
    {
      "cell_type": "markdown",
      "metadata": {
        "id": "KixLRBR5Eay5",
        "colab_type": "text"
      },
      "source": [
        "### Citations"
      ]
    },
    {
      "cell_type": "markdown",
      "metadata": {
        "id": "YqAgRPLuDUid",
        "colab_type": "text"
      },
      "source": [
        "Load citations to articles. Get the metadata for each one of the `lens_id` citations"
      ]
    },
    {
      "cell_type": "code",
      "metadata": {
        "id": "QYLV4JPIy_7t",
        "colab_type": "code",
        "outputId": "1b58d1c1-7e9d-43f0-cc69-761ee1da29e6",
        "colab": {
          "base_uri": "https://localhost:8080/",
          "height": 34
        }
      },
      "source": [
        "base='https://github.com/restrepo/articles_COVID-19/raw/master/data/'\n",
        "file='covid_19_scholarly_citations_part_1.json.gz'\n",
        "cvc=pd.read_json('{}{}'.format(base,file),compression='gzip')\n",
        "file='covid_19_scholarly_citations_part_2.json.gz'\n",
        "cvc=cvc.append( pd.read_json('{}{}'.format(base,file),compression='gzip') \n",
        "        ).reset_index(drop=True)\n",
        "cvc.shape"
      ],
      "execution_count": 4,
      "outputs": [
        {
          "output_type": "execute_result",
          "data": {
            "text/plain": [
              "(19652, 32)"
            ]
          },
          "metadata": {
            "tags": []
          },
          "execution_count": 4
        }
      ]
    },
    {
      "cell_type": "code",
      "metadata": {
        "id": "AUL9JG_0WgQr",
        "colab_type": "code",
        "colab": {}
      },
      "source": [
        "cvt=cvac.append(cvc).reset_index(drop=True)"
      ],
      "execution_count": 0,
      "outputs": []
    },
    {
      "cell_type": "code",
      "metadata": {
        "id": "vgb7zPl4WlpR",
        "colab_type": "code",
        "outputId": "b0ae4f8d-18cc-452a-bbfd-11574d7edfb7",
        "colab": {
          "base_uri": "https://localhost:8080/",
          "height": 34
        }
      },
      "source": [
        "cvt.shape"
      ],
      "execution_count": 7,
      "outputs": [
        {
          "output_type": "execute_result",
          "data": {
            "text/plain": [
              "(21218, 32)"
            ]
          },
          "metadata": {
            "tags": []
          },
          "execution_count": 7
        }
      ]
    },
    {
      "cell_type": "code",
      "metadata": {
        "id": "8expvl_5Wn89",
        "colab_type": "code",
        "colab": {}
      },
      "source": [
        "cvt=cvt.drop_duplicates('lens_id').reset_index(drop=True)"
      ],
      "execution_count": 0,
      "outputs": []
    },
    {
      "cell_type": "code",
      "metadata": {
        "id": "UpOQQSvjbp4Y",
        "colab_type": "code",
        "outputId": "2ca67c97-9dcf-4362-f720-5e2c80450d9c",
        "colab": {
          "base_uri": "https://localhost:8080/",
          "height": 34
        }
      },
      "source": [
        "cvt.shape"
      ],
      "execution_count": 9,
      "outputs": [
        {
          "output_type": "execute_result",
          "data": {
            "text/plain": [
              "(20045, 32)"
            ]
          },
          "metadata": {
            "tags": []
          },
          "execution_count": 9
        }
      ]
    },
    {
      "cell_type": "code",
      "metadata": {
        "id": "Ma4UuKOk0Ej_",
        "colab_type": "code",
        "outputId": "3792fc71-816a-431e-8e04-625abc2970e9",
        "colab": {
          "base_uri": "https://localhost:8080/",
          "height": 188
        }
      },
      "source": [
        "cv.columns"
      ],
      "execution_count": 0,
      "outputs": [
        {
          "output_type": "execute_result",
          "data": {
            "text/plain": [
              "Index(['lens_id', 'created', 'open_access', 'publication_type', 'authors',\n",
              "       'title', 'volume', 'issue', 'languages', 'references',\n",
              "       'fields_of_study', 'funding', 'source_urls', 'abstract',\n",
              "       'year_published', 'references_count', 'scholarly_citations_count',\n",
              "       'external_ids', 'start_page', 'end_page', 'source',\n",
              "       'scholarly_citations', 'author_count', 'date_published',\n",
              "       'publication_supplementary_type', 'mesh_terms', 'patent_citations',\n",
              "       'patent_citations_count', 'chemicals', 'keywords', 'conference',\n",
              "       'clinical_trials'],\n",
              "      dtype='object')"
            ]
          },
          "metadata": {
            "tags": []
          },
          "execution_count": 9
        }
      ]
    },
    {
      "cell_type": "markdown",
      "metadata": {
        "id": "CCPk6EaL3XhR",
        "colab_type": "text"
      },
      "source": [
        "## Onodo network"
      ]
    },
    {
      "cell_type": "code",
      "metadata": {
        "id": "mPpIaTxFYx4-",
        "colab_type": "code",
        "colab": {}
      },
      "source": [
        "base='https://github.com/restrepo/articles_COVID-19/raw/master/data/'\n",
        "file='COVID-19.xlsx'\n",
        "on1=pd.read_excel('{}{}'.format(base,file),sheet_name=0)\n",
        "time.sleep(1)\n",
        "on2=pd.read_excel('{}{}'.format(base,file),sheet_name=1)"
      ],
      "execution_count": 0,
      "outputs": []
    },
    {
      "cell_type": "code",
      "metadata": {
        "id": "6xUdMRr7eoWq",
        "colab_type": "code",
        "colab": {}
      },
      "source": [
        "on1['Visible']=''\n",
        "on1['Link']=''\n",
        "on1[]"
      ],
      "execution_count": 0,
      "outputs": []
    },
    {
      "cell_type": "code",
      "metadata": {
        "id": "qK2l3Faxdn_6",
        "colab_type": "code",
        "colab": {
          "base_uri": "https://localhost:8080/",
          "height": 416
        },
        "outputId": "40205c02-0c1b-4983-cd22-2f41735b0fd1"
      },
      "source": [
        "on1"
      ],
      "execution_count": 14,
      "outputs": [
        {
          "output_type": "execute_result",
          "data": {
            "text/html": [
              "<div>\n",
              "<style scoped>\n",
              "    .dataframe tbody tr th:only-of-type {\n",
              "        vertical-align: middle;\n",
              "    }\n",
              "\n",
              "    .dataframe tbody tr th {\n",
              "        vertical-align: top;\n",
              "    }\n",
              "\n",
              "    .dataframe thead th {\n",
              "        text-align: right;\n",
              "    }\n",
              "</style>\n",
              "<table border=\"1\" class=\"dataframe\">\n",
              "  <thead>\n",
              "    <tr style=\"text-align: right;\">\n",
              "      <th></th>\n",
              "      <th>Name</th>\n",
              "      <th>Type</th>\n",
              "      <th>Description</th>\n",
              "      <th>Visible</th>\n",
              "      <th>Title</th>\n",
              "      <th>Importance</th>\n",
              "      <th>Lens id</th>\n",
              "      <th>Journal</th>\n",
              "      <th>Date</th>\n",
              "      <th>Node size</th>\n",
              "      <th>Link</th>\n",
              "    </tr>\n",
              "  </thead>\n",
              "  <tbody>\n",
              "    <tr>\n",
              "      <th>0</th>\n",
              "      <td>111-1.23</td>\n",
              "      <td>New</td>\n",
              "      <td>3-1.23</td>\n",
              "      <td>NaN</td>\n",
              "      <td>The Impact of COVID-19 on Radiology Trainees</td>\n",
              "      <td>1.23</td>\n",
              "      <td>064-522-912-524-932</td>\n",
              "      <td>Radiology</td>\n",
              "      <td>2020-03-29</td>\n",
              "      <td>12.3</td>\n",
              "      <td>NaN</td>\n",
              "    </tr>\n",
              "    <tr>\n",
              "      <th>1</th>\n",
              "      <td>11-1.59</td>\n",
              "      <td>New</td>\n",
              "      <td>2-1.59</td>\n",
              "      <td>NaN</td>\n",
              "      <td>Radiological Society of North America Expert C...</td>\n",
              "      <td>1.59</td>\n",
              "      <td>008-414-334-467-980</td>\n",
              "      <td>Radiology: Cardiothoracic Imaging</td>\n",
              "      <td>2020-03-28</td>\n",
              "      <td>15.9</td>\n",
              "      <td>NaN</td>\n",
              "    </tr>\n",
              "    <tr>\n",
              "      <th>2</th>\n",
              "      <td>112-1.01</td>\n",
              "      <td>New</td>\n",
              "      <td>4-1.01</td>\n",
              "      <td>NaN</td>\n",
              "      <td>Potential Effects of Coronaviruses on the Card...</td>\n",
              "      <td>1.01</td>\n",
              "      <td>003-052-408-102-208</td>\n",
              "      <td>JAMA Cardiology</td>\n",
              "      <td>2020-03-29</td>\n",
              "      <td>10.1</td>\n",
              "      <td>NaN</td>\n",
              "    </tr>\n",
              "    <tr>\n",
              "      <th>3</th>\n",
              "      <td>113-0.86</td>\n",
              "      <td>New</td>\n",
              "      <td>5-0.86</td>\n",
              "      <td>NaN</td>\n",
              "      <td>Covid-19: risk factors for severe disease and ...</td>\n",
              "      <td>0.86</td>\n",
              "      <td>008-537-158-868-338</td>\n",
              "      <td>BMJ</td>\n",
              "      <td>2020-03-29</td>\n",
              "      <td>8.6</td>\n",
              "      <td>NaN</td>\n",
              "    </tr>\n",
              "    <tr>\n",
              "      <th>4</th>\n",
              "      <td>114-0.81</td>\n",
              "      <td>New</td>\n",
              "      <td>6-0.81</td>\n",
              "      <td>NaN</td>\n",
              "      <td>Internet hospitals help prevent and control th...</td>\n",
              "      <td>0.81</td>\n",
              "      <td>106-468-328-231-644</td>\n",
              "      <td>NaN</td>\n",
              "      <td>2020-03-29</td>\n",
              "      <td>8.1</td>\n",
              "      <td>NaN</td>\n",
              "    </tr>\n",
              "    <tr>\n",
              "      <th>...</th>\n",
              "      <td>...</td>\n",
              "      <td>...</td>\n",
              "      <td>...</td>\n",
              "      <td>...</td>\n",
              "      <td>...</td>\n",
              "      <td>...</td>\n",
              "      <td>...</td>\n",
              "      <td>...</td>\n",
              "      <td>...</td>\n",
              "      <td>...</td>\n",
              "      <td>...</td>\n",
              "    </tr>\n",
              "    <tr>\n",
              "      <th>244</th>\n",
              "      <td>983-0.01</td>\n",
              "      <td>Old</td>\n",
              "      <td>245-0.01</td>\n",
              "      <td>NaN</td>\n",
              "      <td>Patients with RT-PCR Confirmed COVID-19 and No...</td>\n",
              "      <td>0.01</td>\n",
              "      <td>151-555-753-218-755</td>\n",
              "      <td>Radiology</td>\n",
              "      <td>2020-03-07</td>\n",
              "      <td>0.1</td>\n",
              "      <td>NaN</td>\n",
              "    </tr>\n",
              "    <tr>\n",
              "      <th>245</th>\n",
              "      <td>984-0.01</td>\n",
              "      <td>Old</td>\n",
              "      <td>246-0.01</td>\n",
              "      <td>NaN</td>\n",
              "      <td>Sensitivity of Chest CT for COVID-19: Comparis...</td>\n",
              "      <td>0.01</td>\n",
              "      <td>060-480-337-496-438</td>\n",
              "      <td>Radiology</td>\n",
              "      <td>2020-02-21</td>\n",
              "      <td>0.1</td>\n",
              "      <td>NaN</td>\n",
              "    </tr>\n",
              "    <tr>\n",
              "      <th>246</th>\n",
              "      <td>985-0.01</td>\n",
              "      <td>Old</td>\n",
              "      <td>247-0.01</td>\n",
              "      <td>NaN</td>\n",
              "      <td>Human coronavirus NL63 infection and other cor...</td>\n",
              "      <td>0.01</td>\n",
              "      <td>088-388-879-348-055</td>\n",
              "      <td>Clinical Infectious Diseases</td>\n",
              "      <td>2018-05-12</td>\n",
              "      <td>0.1</td>\n",
              "      <td>NaN</td>\n",
              "    </tr>\n",
              "    <tr>\n",
              "      <th>247</th>\n",
              "      <td>986-0.01</td>\n",
              "      <td>Old</td>\n",
              "      <td>248-0.01</td>\n",
              "      <td>NaN</td>\n",
              "      <td>A novel coronavirus outbreak of global health ...</td>\n",
              "      <td>0.01</td>\n",
              "      <td>011-919-504-186-623</td>\n",
              "      <td>The Lancet</td>\n",
              "      <td>2020-01-26</td>\n",
              "      <td>0.1</td>\n",
              "      <td>NaN</td>\n",
              "    </tr>\n",
              "    <tr>\n",
              "      <th>248</th>\n",
              "      <td>987-0.01</td>\n",
              "      <td>Old</td>\n",
              "      <td>249-0.01</td>\n",
              "      <td>NaN</td>\n",
              "      <td>CD209L (L-SIGN) is a receptor for severe acute...</td>\n",
              "      <td>0.01</td>\n",
              "      <td>031-548-667-280-855</td>\n",
              "      <td>Proceedings of the National Academy of Science...</td>\n",
              "      <td>2018-05-12</td>\n",
              "      <td>0.1</td>\n",
              "      <td>NaN</td>\n",
              "    </tr>\n",
              "  </tbody>\n",
              "</table>\n",
              "<p>249 rows × 11 columns</p>\n",
              "</div>"
            ],
            "text/plain": [
              "         Name Type Description  ...        Date Node size  Link\n",
              "0    111-1.23  New      3-1.23  ...  2020-03-29      12.3   NaN\n",
              "1     11-1.59  New      2-1.59  ...  2020-03-28      15.9   NaN\n",
              "2    112-1.01  New      4-1.01  ...  2020-03-29      10.1   NaN\n",
              "3    113-0.86  New      5-0.86  ...  2020-03-29       8.6   NaN\n",
              "4    114-0.81  New      6-0.81  ...  2020-03-29       8.1   NaN\n",
              "..        ...  ...         ...  ...         ...       ...   ...\n",
              "244  983-0.01  Old    245-0.01  ...  2020-03-07       0.1   NaN\n",
              "245  984-0.01  Old    246-0.01  ...  2020-02-21       0.1   NaN\n",
              "246  985-0.01  Old    247-0.01  ...  2018-05-12       0.1   NaN\n",
              "247  986-0.01  Old    248-0.01  ...  2020-01-26       0.1   NaN\n",
              "248  987-0.01  Old    249-0.01  ...  2018-05-12       0.1   NaN\n",
              "\n",
              "[249 rows x 11 columns]"
            ]
          },
          "metadata": {
            "tags": []
          },
          "execution_count": 14
        }
      ]
    },
    {
      "cell_type": "code",
      "metadata": {
        "id": "hX7vURSOeEOp",
        "colab_type": "code",
        "colab": {}
      },
      "source": [
        "on1"
      ],
      "execution_count": 0,
      "outputs": []
    }
  ]
}