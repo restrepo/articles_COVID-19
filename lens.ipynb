{
  "nbformat": 4,
  "nbformat_minor": 0,
  "metadata": {
    "kernelspec": {
      "display_name": "Python 3",
      "language": "python",
      "name": "python3"
    },
    "language_info": {
      "codemirror_mode": {
        "name": "ipython",
        "version": 3
      },
      "file_extension": ".py",
      "mimetype": "text/x-python",
      "name": "python",
      "nbconvert_exporter": "python",
      "pygments_lexer": "ipython3",
      "version": "3.5.3"
    },
    "colab": {
      "name": "lens.ipynb",
      "provenance": [],
      "include_colab_link": true
    }
  },
  "cells": [
    {
      "cell_type": "markdown",
      "metadata": {
        "id": "view-in-github",
        "colab_type": "text"
      },
      "source": [
        "<a href=\"https://colab.research.google.com/github/restrepo/articles_COVID-19/blob/master/lens.ipynb\" target=\"_parent\"><img src=\"https://colab.research.google.com/assets/colab-badge.svg\" alt=\"Open In Colab\"/></a>"
      ]
    },
    {
      "cell_type": "code",
      "metadata": {
        "id": "NQk7CfhBUrR1",
        "colab_type": "code",
        "colab": {}
      },
      "source": [
        "import pandas as pd\n",
        "import datetime"
      ],
      "execution_count": 0,
      "outputs": []
    },
    {
      "cell_type": "code",
      "metadata": {
        "id": "f9xF26QtUrR5",
        "colab_type": "code",
        "colab": {}
      },
      "source": [
        "LOCAL=True\n",
        "if LOCAL:\n",
        "    url='https://github.com/restrepo/articles_COVID-19/blob/master/data/Coronavirus-broad_03_04_2020.json.gz?raw=true'\n",
        "    df_all=pd.read_json(url,orient='records',lines=True,compression='gzip')\n",
        "else:\n",
        "    url='https://lens-public.s3.us-west-2.amazonaws.com/coronavirus/scholarly/export/Coronavirus-broad.json'\n",
        "    df_all=pd.read_json(url)"
      ],
      "execution_count": 0,
      "outputs": []
    },
    {
      "cell_type": "code",
      "metadata": {
        "id": "1q8w2lQvUrR8",
        "colab_type": "code",
        "outputId": "501f1362-a686-4df8-a082-c52716028f8d",
        "colab": {
          "base_uri": "https://localhost:8080/",
          "height": 120
        }
      },
      "source": [
        "df_all.columns"
      ],
      "execution_count": 0,
      "outputs": [
        {
          "output_type": "execute_result",
          "data": {
            "text/plain": [
              "Index(['abstract', 'authors', 'chemicals', 'date_published', 'end_page',\n",
              "       'external_ids', 'fields_of_study', 'funding', 'issue', 'keywords',\n",
              "       'lens_id', 'mesh_terms', 'patent_citations_count', 'publication_type',\n",
              "       'references', 'scholarly_citations_count', 'source', 'source_urls',\n",
              "       'start_page', 'title', 'volume', 'year_published'],\n",
              "      dtype='object')"
            ]
          },
          "metadata": {
            "tags": []
          },
          "execution_count": 7
        }
      ]
    },
    {
      "cell_type": "code",
      "metadata": {
        "id": "SrUgSYB1UrR_",
        "colab_type": "code",
        "colab": {}
      },
      "source": [
        "df=df_all[pd.to_datetime( \n",
        "    df_all.date_published.apply(lambda d: d.get('date'))\n",
        "   ).apply(lambda d: d.date()>datetime.datetime.strptime('30/10/2019','%d/%m/%Y').date())\n",
        "  ]"
      ],
      "execution_count": 0,
      "outputs": []
    },
    {
      "cell_type": "code",
      "metadata": {
        "id": "7-d_qadNUrSC",
        "colab_type": "code",
        "colab": {}
      },
      "source": [
        "SAVE=False\n",
        "if SAVE:\n",
        "    df.to_json('Coronavirus-broad_03_04_2020.json.gz',orient='records',lines=True)#,compression='gzip')"
      ],
      "execution_count": 0,
      "outputs": []
    },
    {
      "cell_type": "code",
      "metadata": {
        "id": "9BQ7JrgYUrSZ",
        "colab_type": "code",
        "colab": {}
      },
      "source": [
        ""
      ],
      "execution_count": 0,
      "outputs": []
    },
    {
      "cell_type": "markdown",
      "metadata": {
        "id": "PrCaNYfUUrSb",
        "colab_type": "text"
      },
      "source": [
        "EXAMPLE OF IMPORTANT ARTICLE WITHOUT CITES YET\n",
        "* https://scholar.google.com/scholar?hl=en&as_sdt=0%2C5&q=Virological+assessment+of+hospitalized+patients+with+COVID-2019&btnG=\n",
        "* https://app.dimensions.ai/discover/publication?search_text=Virological%20assessment%20of%20hospitalized%20patients%20with%20COVID-2019&search_type=kws&search_field=text_search\n",
        "* https://www.lens.org/lens/scholar/search/results?q=title:(Virological%20assessment%20of%20hospitalized%20patients%20with%20COVID-2019)&toYear=2020&fromYear=1950&dateFilterField=year_published&filterMap=%7B%7D&preview=true\n",
        "* https://www.ncbi.nlm.nih.gov/pubmed?term=Virological%20assessment%20of%20hospitalized%20patients%20with%20COVID-2019%5BTitle%5D\n",
        "* Prediction models for diagnosis and prognosis of covid-19 infection: systematic review and critical appraisal,\n",
        "BMJ 2020; 369 doi: https://doi.org/10.1136/bmj.m1328 (Published 07 April 2020). medRxiv preprint doi: https://doi.org/10.1101/2020.03.24.20041020."
      ]
    },
    {
      "cell_type": "code",
      "metadata": {
        "id": "nCcNECTCUrSc",
        "colab_type": "code",
        "colab": {}
      },
      "source": [
        ""
      ],
      "execution_count": 0,
      "outputs": []
    }
  ]
}