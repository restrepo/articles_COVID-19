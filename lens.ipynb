{
 "cells": [
  {
   "cell_type": "code",
   "execution_count": 2,
   "metadata": {},
   "outputs": [],
   "source": [
    "import pandas as pd\n",
    "import datetime"
   ]
  },
  {
   "cell_type": "code",
   "execution_count": 3,
   "metadata": {},
   "outputs": [],
   "source": [
    "df=pd.read_json('https://lens-public.s3.us-west-2.amazonaws.com/coronavirus/scholarly/export/Coronavirus-broad.json')"
   ]
  },
  {
   "cell_type": "code",
   "execution_count": 6,
   "metadata": {},
   "outputs": [
    {
     "data": {
      "text/plain": [
       "Index(['abstract', 'authors', 'chemicals', 'date_published', 'end_page',\n",
       "       'external_ids', 'fields_of_study', 'funding', 'issue', 'keywords',\n",
       "       'lens_id', 'mesh_terms', 'patent_citations_count', 'publication_type',\n",
       "       'references', 'scholarly_citations_count', 'source', 'source_urls',\n",
       "       'start_page', 'title', 'volume', 'year_published'],\n",
       "      dtype='object')"
      ]
     },
     "execution_count": 6,
     "metadata": {},
     "output_type": "execute_result"
    }
   ],
   "source": [
    "df.columns"
   ]
  },
  {
   "cell_type": "code",
   "execution_count": 45,
   "metadata": {},
   "outputs": [
    {
     "data": {
      "text/plain": [
       "(1544, 22)"
      ]
     },
     "execution_count": 45,
     "metadata": {},
     "output_type": "execute_result"
    }
   ],
   "source": [
    "df[pd.to_datetime( \n",
    "    df.date_published.apply(lambda d: d.get('date'))\n",
    "   ).apply(lambda d: d.date()>datetime.datetime.strptime('30/10/2019','%d/%m/%Y').date())\n",
    "  ].shape"
   ]
  },
  {
   "cell_type": "code",
   "execution_count": 52,
   "metadata": {},
   "outputs": [],
   "source": [
    "df.to_json('Coronavirus-broad_03_04_2020.json.gz',orient='records',lines=True)#,compression='gzip')"
   ]
  },
  {
   "cell_type": "code",
   "execution_count": 55,
   "metadata": {},
   "outputs": [],
   "source": [
    "qq=pd.read_json('Coronavirus-broad_03_04_2020.json.gz',orient='records',lines=True)"
   ]
  },
  {
   "cell_type": "code",
   "execution_count": 60,
   "metadata": {},
   "outputs": [],
   "source": [
    "mv Coronavirus-broad_03_04_2020.json.gz articles_COVID-19/data"
   ]
  },
  {
   "cell_type": "code",
   "execution_count": 17,
   "metadata": {},
   "outputs": [],
   "source": [
    "qq=kkk.loc[0]"
   ]
  },
  {
   "cell_type": "code",
   "execution_count": 25,
   "metadata": {},
   "outputs": [
    {
     "data": {
      "text/plain": [
       "2015"
      ]
     },
     "execution_count": 25,
     "metadata": {},
     "output_type": "execute_result"
    }
   ],
   "source": [
    "int(qq.strftime('%Y'))"
   ]
  },
  {
   "cell_type": "code",
   "execution_count": 26,
   "metadata": {},
   "outputs": [
    {
     "data": {
      "text/plain": [
       "1"
      ]
     },
     "execution_count": 26,
     "metadata": {},
     "output_type": "execute_result"
    }
   ],
   "source": [
    "int(qq.strftime('%m'))"
   ]
  },
  {
   "cell_type": "code",
   "execution_count": 27,
   "metadata": {},
   "outputs": [],
   "source": []
  },
  {
   "cell_type": "code",
   "execution_count": 33,
   "metadata": {},
   "outputs": [
    {
     "data": {
      "text/plain": [
       "datetime.date(2019, 10, 30)"
      ]
     },
     "execution_count": 33,
     "metadata": {},
     "output_type": "execute_result"
    }
   ],
   "source": []
  },
  {
   "cell_type": "code",
   "execution_count": 35,
   "metadata": {},
   "outputs": [
    {
     "data": {
      "text/plain": [
       "False"
      ]
     },
     "execution_count": 35,
     "metadata": {},
     "output_type": "execute_result"
    }
   ],
   "source": [
    "qq.date()>datetime.datetime.strptime('30/10/2019','%d/%m/%Y').date()"
   ]
  },
  {
   "cell_type": "code",
   "execution_count": null,
   "metadata": {},
   "outputs": [],
   "source": [
    "qq"
   ]
  },
  {
   "cell_type": "markdown",
   "metadata": {},
   "source": [
    "* https://scholar.google.com/scholar?hl=en&as_sdt=0%2C5&q=Virological+assessment+of+hospitalized+patients+with+COVID-2019&btnG=\n",
    "\n",
    "* https://app.dimensions.ai/discover/publication?search_text=Virological%20assessment%20of%20hospitalized%20patients%20with%20COVID-2019&search_type=kws&search_field=text_search\n",
    "\n",
    "* https://www.lens.org/lens/scholar/search/results?q=title:(Virological%20assessment%20of%20hospitalized%20patients%20with%20COVID-2019)&toYear=2020&fromYear=1950&dateFilterField=year_published&filterMap=%7B%7D&preview=true\n",
    "\n",
    "* https://www.ncbi.nlm.nih.gov/pubmed?term=Virological%20assessment%20of%20hospitalized%20patients%20with%20COVID-2019%5BTitle%5D"
   ]
  },
  {
   "cell_type": "code",
   "execution_count": null,
   "metadata": {},
   "outputs": [],
   "source": []
  }
 ],
 "metadata": {
  "kernelspec": {
   "display_name": "Python 3",
   "language": "python",
   "name": "python3"
  },
  "language_info": {
   "codemirror_mode": {
    "name": "ipython",
    "version": 3
   },
   "file_extension": ".py",
   "mimetype": "text/x-python",
   "name": "python",
   "nbconvert_exporter": "python",
   "pygments_lexer": "ipython3",
   "version": "3.5.3"
  }
 },
 "nbformat": 4,
 "nbformat_minor": 2
}
