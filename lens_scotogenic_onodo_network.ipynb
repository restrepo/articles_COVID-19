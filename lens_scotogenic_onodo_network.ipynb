{
  "nbformat": 4,
  "nbformat_minor": 0,
  "metadata": {
    "colab": {
      "name": "lens_scotogenic-19_onodo_network.ipynb",
      "provenance": [],
      "include_colab_link": true
    },
    "kernelspec": {
      "display_name": "Python 3",
      "language": "python",
      "name": "python3"
    },
    "language_info": {
      "codemirror_mode": {
        "name": "ipython",
        "version": 3
      },
      "file_extension": ".py",
      "mimetype": "text/x-python",
      "name": "python",
      "nbconvert_exporter": "python",
      "pygments_lexer": "ipython3",
      "version": "3.5.3"
    },
    "latex_envs": {
      "LaTeX_envs_menu_present": true,
      "autoclose": false,
      "autocomplete": true,
      "bibliofile": "biblio.bib",
      "cite_by": "apalike",
      "current_citInitial": 1,
      "eqLabelWithNumbers": true,
      "eqNumInitial": 1,
      "hotkeys": {
        "equation": "Ctrl-E",
        "itemize": "Ctrl-I"
      },
      "labels_anchors": false,
      "latex_user_defs": false,
      "report_style_numbering": false,
      "user_envs_cfg": false
    }
  },
  "cells": [
    {
      "cell_type": "markdown",
      "metadata": {
        "id": "view-in-github",
        "colab_type": "text"
      },
      "source": [
        "<a href=\"https://colab.research.google.com/github/restrepo/articles_COVID-19/blob/master/lens_scotogenic_onodo_network.ipynb\" target=\"_parent\"><img src=\"https://colab.research.google.com/assets/colab-badge.svg\" alt=\"Open In Colab\"/></a>"
      ]
    },
    {
      "cell_type": "markdown",
      "metadata": {
        "colab_type": "text",
        "id": "D_lKr3Avj0Ag"
      },
      "source": [
        "# Articles with `COVID-19`  in `title` of Lens.org"
      ]
    },
    {
      "cell_type": "markdown",
      "metadata": {
        "id": "o77CFWgaFJLU",
        "colab_type": "text"
      },
      "source": [
        "See [lens_covid.ipynb](./lens_covid.ipynb) [[GitHub]](https://github.com/restrepo/articles_COVID-19/blob/master/lens_covid.ipynb) [[Colab]](https://colab.research.google.com/github/restrepo/articles_COVID-19/blob/master/lens_covid.ipynb) to get the databases from lens.org API"
      ]
    },
    {
      "cell_type": "code",
      "metadata": {
        "colab_type": "code",
        "id": "Rw3EV881j0Am",
        "colab": {}
      },
      "source": [
        "import pandas as pd\n",
        "import time"
      ],
      "execution_count": 0,
      "outputs": []
    },
    {
      "cell_type": "markdown",
      "metadata": {
        "id": "hodglFYuEWqw",
        "colab_type": "text"
      },
      "source": [
        "### Articles"
      ]
    },
    {
      "cell_type": "markdown",
      "metadata": {
        "id": "IwG6wRFhDBL-",
        "colab_type": "text"
      },
      "source": [
        "Load articles with title covid-19"
      ]
    },
    {
      "cell_type": "code",
      "metadata": {
        "id": "JhaOA415CCss",
        "colab_type": "code",
        "outputId": "66beea47-5506-475f-c74b-3d047427139e",
        "colab": {
          "base_uri": "https://localhost:8080/",
          "height": 34
        }
      },
      "source": [
        "base='https://github.com/restrepo/articles_COVID-19/raw/master/data/'\n",
        "file='scotogenic.json.gz'\n",
        "cv=pd.read_json('{}{}'.format(base,file),compression='gzip')\n",
        "cv.shape"
      ],
      "execution_count": 3,
      "outputs": [
        {
          "output_type": "execute_result",
          "data": {
            "text/plain": [
              "(1732, 29)"
            ]
          },
          "metadata": {
            "tags": []
          },
          "execution_count": 3
        }
      ]
    },
    {
      "cell_type": "code",
      "metadata": {
        "id": "4ciL3DYHE3cm",
        "colab_type": "code",
        "colab": {}
      },
      "source": [
        "cvac=cv.dropna(subset=['scholarly_citations'])"
      ],
      "execution_count": 0,
      "outputs": []
    },
    {
      "cell_type": "markdown",
      "metadata": {
        "id": "KixLRBR5Eay5",
        "colab_type": "text"
      },
      "source": [
        "### Citations"
      ]
    },
    {
      "cell_type": "markdown",
      "metadata": {
        "id": "YqAgRPLuDUid",
        "colab_type": "text"
      },
      "source": [
        "Load citations to articles. Get the metadata for each one of the `lens_id` citations"
      ]
    },
    {
      "cell_type": "code",
      "metadata": {
        "id": "QYLV4JPIy_7t",
        "colab_type": "code",
        "outputId": "6921f0b9-1e36-4c1a-8a2b-22b95ea0cc99",
        "colab": {
          "base_uri": "https://localhost:8080/",
          "height": 34
        }
      },
      "source": [
        "base='https://github.com/restrepo/articles_COVID-19/raw/master/data/'\n",
        "file='scotogenic_scholarly_citations.json.gz'\n",
        "cvc=pd.read_json('{}{}'.format(base,file),compression='gzip')\n",
        "cvc.shape"
      ],
      "execution_count": 5,
      "outputs": [
        {
          "output_type": "execute_result",
          "data": {
            "text/plain": [
              "(11575, 31)"
            ]
          },
          "metadata": {
            "tags": []
          },
          "execution_count": 5
        }
      ]
    },
    {
      "cell_type": "code",
      "metadata": {
        "id": "AUL9JG_0WgQr",
        "colab_type": "code",
        "colab": {}
      },
      "source": [
        "cvt=cvac.append(cvc).reset_index(drop=True)"
      ],
      "execution_count": 0,
      "outputs": []
    },
    {
      "cell_type": "code",
      "metadata": {
        "id": "vgb7zPl4WlpR",
        "colab_type": "code",
        "outputId": "00d26928-b168-47c6-b808-8b7536631ea3",
        "colab": {
          "base_uri": "https://localhost:8080/",
          "height": 34
        }
      },
      "source": [
        "cvt.shape"
      ],
      "execution_count": 7,
      "outputs": [
        {
          "output_type": "execute_result",
          "data": {
            "text/plain": [
              "(12721, 31)"
            ]
          },
          "metadata": {
            "tags": []
          },
          "execution_count": 7
        }
      ]
    },
    {
      "cell_type": "code",
      "metadata": {
        "id": "8expvl_5Wn89",
        "colab_type": "code",
        "colab": {}
      },
      "source": [
        "cvt=cvt.drop_duplicates('lens_id').reset_index(drop=True)"
      ],
      "execution_count": 0,
      "outputs": []
    },
    {
      "cell_type": "code",
      "metadata": {
        "id": "UpOQQSvjbp4Y",
        "colab_type": "code",
        "outputId": "0169e31e-41b0-4241-e63a-7804786bd80b",
        "colab": {
          "base_uri": "https://localhost:8080/",
          "height": 34
        }
      },
      "source": [
        "cvt.shape"
      ],
      "execution_count": 9,
      "outputs": [
        {
          "output_type": "execute_result",
          "data": {
            "text/plain": [
              "(11917, 31)"
            ]
          },
          "metadata": {
            "tags": []
          },
          "execution_count": 9
        }
      ]
    },
    {
      "cell_type": "code",
      "metadata": {
        "id": "Ma4UuKOk0Ej_",
        "colab_type": "code",
        "outputId": "573762e2-2c81-41d7-d5a9-2917092985d0",
        "colab": {
          "base_uri": "https://localhost:8080/",
          "height": 171
        }
      },
      "source": [
        "cv.columns"
      ],
      "execution_count": 10,
      "outputs": [
        {
          "output_type": "execute_result",
          "data": {
            "text/plain": [
              "Index(['lens_id', 'created', 'open_access', 'publication_type', 'authors',\n",
              "       'title', 'volume', 'issue', 'languages', 'references',\n",
              "       'fields_of_study', 'source_urls', 'abstract', 'year_published',\n",
              "       'references_count', 'scholarly_citations_count', 'external_ids',\n",
              "       'start_page', 'source', 'scholarly_citations', 'author_count',\n",
              "       'date_published', 'end_page', 'funding',\n",
              "       'publication_supplementary_type', 'patent_citations',\n",
              "       'patent_citations_count', 'mesh_terms', 'keywords'],\n",
              "      dtype='object')"
            ]
          },
          "metadata": {
            "tags": []
          },
          "execution_count": 10
        }
      ]
    },
    {
      "cell_type": "markdown",
      "metadata": {
        "id": "CCPk6EaL3XhR",
        "colab_type": "text"
      },
      "source": [
        "## Onodo network"
      ]
    },
    {
      "cell_type": "code",
      "metadata": {
        "id": "mPpIaTxFYx4-",
        "colab_type": "code",
        "colab": {}
      },
      "source": [
        "base='https://github.com/restrepo/articles_COVID-19/raw/master/data/'\n",
        "file='onodo_scotogenic_SPNL.xlsx'\n",
        "on1=pd.read_excel('{}{}'.format(base,file),sheet_name=0)\n",
        "time.sleep(1)\n",
        "on2=pd.read_excel('{}{}'.format(base,file),sheet_name=1)"
      ],
      "execution_count": 0,
      "outputs": []
    },
    {
      "cell_type": "code",
      "metadata": {
        "id": "6xUdMRr7eoWq",
        "colab_type": "code",
        "colab": {}
      },
      "source": [
        "on1['Visible']=''\n",
        "on1['Link']=''\n",
        "on1['Description']=''"
      ],
      "execution_count": 0,
      "outputs": []
    },
    {
      "cell_type": "code",
      "metadata": {
        "id": "qK2l3Faxdn_6",
        "colab_type": "code",
        "outputId": "281aa938-f660-4730-a8ae-bd83199ac0c6",
        "colab": {
          "base_uri": "https://localhost:8080/",
          "height": 141
        }
      },
      "source": [
        "on1[:3]"
      ],
      "execution_count": 13,
      "outputs": [
        {
          "output_type": "execute_result",
          "data": {
            "text/html": [
              "<div>\n",
              "<style scoped>\n",
              "    .dataframe tbody tr th:only-of-type {\n",
              "        vertical-align: middle;\n",
              "    }\n",
              "\n",
              "    .dataframe tbody tr th {\n",
              "        vertical-align: top;\n",
              "    }\n",
              "\n",
              "    .dataframe thead th {\n",
              "        text-align: right;\n",
              "    }\n",
              "</style>\n",
              "<table border=\"1\" class=\"dataframe\">\n",
              "  <thead>\n",
              "    <tr style=\"text-align: right;\">\n",
              "      <th></th>\n",
              "      <th>Name</th>\n",
              "      <th>Type</th>\n",
              "      <th>Description</th>\n",
              "      <th>Visible</th>\n",
              "      <th>Title</th>\n",
              "      <th>Date</th>\n",
              "      <th>Journal</th>\n",
              "      <th>Lens_ID</th>\n",
              "      <th>Citations</th>\n",
              "      <th>Importance</th>\n",
              "      <th>Link</th>\n",
              "    </tr>\n",
              "  </thead>\n",
              "  <tbody>\n",
              "    <tr>\n",
              "      <th>0</th>\n",
              "      <td>1-0,8576</td>\n",
              "      <td>Old</td>\n",
              "      <td></td>\n",
              "      <td></td>\n",
              "      <td>Radiative Scaling Neutrino Mass and Warm Dark ...</td>\n",
              "      <td>2018-05-15</td>\n",
              "      <td>Physics Letters B</td>\n",
              "      <td>094-690-739-382-440</td>\n",
              "      <td>36</td>\n",
              "      <td>0.8576</td>\n",
              "      <td></td>\n",
              "    </tr>\n",
              "    <tr>\n",
              "      <th>1</th>\n",
              "      <td>2-0,81</td>\n",
              "      <td>New</td>\n",
              "      <td></td>\n",
              "      <td></td>\n",
              "      <td>Light $Z^\\prime$ and Dark Matter from U(1)$_X$...</td>\n",
              "      <td>2020-03-23</td>\n",
              "      <td>arXiv: High Energy Physics - Phenomenology</td>\n",
              "      <td>194-666-813-225-917</td>\n",
              "      <td>0</td>\n",
              "      <td>0.8100</td>\n",
              "      <td></td>\n",
              "    </tr>\n",
              "    <tr>\n",
              "      <th>2</th>\n",
              "      <td>3-0,806</td>\n",
              "      <td>Old</td>\n",
              "      <td></td>\n",
              "      <td></td>\n",
              "      <td>Multicomponent dark matter particles in a two-...</td>\n",
              "      <td>2018-05-12</td>\n",
              "      <td>Physical Review D</td>\n",
              "      <td>020-650-282-178-018</td>\n",
              "      <td>69</td>\n",
              "      <td>0.8060</td>\n",
              "      <td></td>\n",
              "    </tr>\n",
              "  </tbody>\n",
              "</table>\n",
              "</div>"
            ],
            "text/plain": [
              "       Name Type Description  ... Citations Importance Link\n",
              "0  1-0,8576  Old              ...        36     0.8576     \n",
              "1    2-0,81  New              ...         0     0.8100     \n",
              "2   3-0,806  Old              ...        69     0.8060     \n",
              "\n",
              "[3 rows x 11 columns]"
            ]
          },
          "metadata": {
            "tags": []
          },
          "execution_count": 13
        }
      ]
    },
    {
      "cell_type": "markdown",
      "metadata": {
        "id": "hX7vURSOeEOp",
        "colab_type": "text"
      },
      "source": [
        "<div><a href=\"https://www.lens.org/lens/scholar/article/019-696-870-676-337/main\">\n",
        "Connecting neutrino physics with dark matter</a><br>\n",
        "Massimiliano Lattanzi , Roberto A Lineros, Marco Taoso <br><br>\n",
        "The origin of neutrino masses and the nature of dark matter are two in most pressing open questions in modern astro-particle physics. We consider here the possibility that these two problems are related, and review some theoretical scenarios which offer common solutions. ...\n",
        "<br><br>\n",
        "DOI: <a href=\"http://dx.doi.org/10.1088/1367-2630/16/12/125012\">10.1088/1367-2630/16/12/125012</a> [<a href=\"http://arxiv.org/abs/1406.0004\">PDF</a>]</div>"
      ]
    },
    {
      "cell_type": "code",
      "metadata": {
        "id": "wi1N-mK-hkOL",
        "colab_type": "code",
        "colab": {}
      },
      "source": [
        "from IPython import display"
      ],
      "execution_count": 0,
      "outputs": []
    },
    {
      "cell_type": "code",
      "metadata": {
        "id": "WO529KwHg7vz",
        "colab_type": "code",
        "colab": {}
      },
      "source": [
        "def fill_description(lens_id,title='',authors=None,\n",
        "                     abstract=None,DOI=None,PDF=None):\n",
        "    dscr='<div><a href=\"https://www.lens.org/lens/scholar/article/{}/main\">\\n'.format(\n",
        "            lens_id)\n",
        "    if len(title)>400:\n",
        "        title=title[:400]+'...'\n",
        "    dscr=dscr+'{}</a><br>\\n'.format(title)\n",
        "    if authors:    \n",
        "        dscr=dscr+'{} <br><br>\\n'.format(authors)\n",
        "    if abstract:\n",
        "        if len(abstract)>400:\n",
        "            abstract=abstract[:400]+'...'\n",
        "        dscr=dscr+'{}\\n<br><br>\\n'.format(abstract)\n",
        "    if DOI:\n",
        "        dscr=dscr+'DOI: <a href=\"http://dx.doi.org/{}\">{}</a> '.format(DOI,DOI)\n",
        "    if PDF:\n",
        "        dscr=dscr+'[<a href=\"{}\">PDF</a>]</div>'.format(PDF)\n",
        "    return dscr"
      ],
      "execution_count": 0,
      "outputs": []
    },
    {
      "cell_type": "code",
      "metadata": {
        "id": "xHSQFcsgh6aP",
        "colab_type": "code",
        "colab": {}
      },
      "source": [
        "def get_metadata(lens_id,df=cvt):\n",
        "    r=df[df['lens_id']==lens_id].reset_index(drop=True)\n",
        "    if r.shape[0]==1:\n",
        "        rr=r.loc[0]\n",
        "    title=None\n",
        "    if rr.get('title'):\n",
        "        title=rr.get('title')\n",
        "    authors=None\n",
        "    if rr.get('authors'):\n",
        "        l=['{} {}'.format(a.get('first_name'),a.get('last_name')) for a in rr.get('authors')]\n",
        "        etal=''\n",
        "        if len(l)>3:\n",
        "            l=l[:3]\n",
        "            etal=', <i>et al.</i>'\n",
        "        authors=', '.join(l)+etal\n",
        "    abstract=None\n",
        "    if rr.get('abstract'):\n",
        "        abstract=rr.get('abstract')\n",
        "    DOI=None\n",
        "    if rr.get('external_ids'):\n",
        "        DOIl=[d.get('value') for d in rr.get('external_ids') if d.get('type')=='doi']\n",
        "        if len(DOIl)>0:\n",
        "            DOI=DOIl[0]\n",
        "        \n",
        "    PDF=None\n",
        "    if rr.get('source_urls'):\n",
        "        PDFl=[ d.get('url') for d in rr.get('source_urls') if d.get('url').lower().find('rxiv')>-1 ]\n",
        "        if len(PDFl)>0:\n",
        "            PDF=PDFl[0]\n",
        "\n",
        "    dscr=fill_description(lens_id,title,authors,abstract,DOI,PDF)\n",
        "    return dscr"
      ],
      "execution_count": 0,
      "outputs": []
    },
    {
      "cell_type": "code",
      "metadata": {
        "id": "kEjN0Jz225kG",
        "colab_type": "code",
        "colab": {}
      },
      "source": [
        "on1['Description']=on1['Lens_ID'].apply(lambda s: get_metadata(s) if isinstance(s,str) else '')"
      ],
      "execution_count": 0,
      "outputs": []
    },
    {
      "cell_type": "code",
      "metadata": {
        "id": "DHEXTrV04R5-",
        "colab_type": "code",
        "outputId": "a10f6f03-5d43-4baa-bacc-a69a08a69052",
        "colab": {
          "base_uri": "https://localhost:8080/",
          "height": 137
        }
      },
      "source": [
        "display.HTML(on1.sample().reset_index(drop=True).loc[0,'Description'])"
      ],
      "execution_count": 27,
      "outputs": [
        {
          "output_type": "execute_result",
          "data": {
            "text/html": [
              "<div><a href=\"https://www.lens.org/lens/scholar/article/015-076-297-823-425/main\">\n",
              "Comment on \"A three-loop radiative neutrino mass model with dark matter\" (Phys. Lett. B 741 (2015) 163)</a><br>\n",
              "Chao-Qiang Geng, Da Huang, Lu-Hsing Tsai <br><br>\n",
              "Abstract We revisit the calculation of the three-loop diagrams for the radiative neutrino mass generation and consider some relevant constraints on the model recently proposed by Jin et al. (2015) [1] . We find that the previous approximation is inappropriate due to the neglect of some important contributions, and the benchmark point proposed can neither give rise to enough neutrino masses nor acc...\n",
              "<br><br>\n",
              "DOI: <a href=\"http://dx.doi.org/10.1016/j.physletb.2015.04.034\">10.1016/j.physletb.2015.04.034</a> [<a href=\"https://arxiv.org/abs/1504.05468\">PDF</a>]</div>"
            ],
            "text/plain": [
              "<IPython.core.display.HTML object>"
            ]
          },
          "metadata": {
            "tags": []
          },
          "execution_count": 27
        }
      ]
    },
    {
      "cell_type": "code",
      "metadata": {
        "id": "anSIqShD45MW",
        "colab_type": "code",
        "colab": {}
      },
      "source": [
        "from pandas import ExcelWriter\n",
        "# from pandas.io.parsers import ExcelWriter"
      ],
      "execution_count": 0,
      "outputs": []
    },
    {
      "cell_type": "code",
      "metadata": {
        "id": "xzN_jgLV5ZqG",
        "colab_type": "code",
        "colab": {}
      },
      "source": [
        "with ExcelWriter('scotogenic_covid-19.xlsx') as writer:\n",
        "    on1.to_excel(writer,'Nodes',index=False)\n",
        "    on2.to_excel(writer,'Relations',index=False)\n",
        "    writer.save()"
      ],
      "execution_count": 0,
      "outputs": []
    },
    {
      "cell_type": "code",
      "metadata": {
        "id": "ImwwHX35w1KG",
        "colab_type": "code",
        "colab": {}
      },
      "source": [
        "import numpy as np"
      ],
      "execution_count": 0,
      "outputs": []
    },
    {
      "cell_type": "code",
      "metadata": {
        "id": "Lp1il_TmwzYW",
        "colab_type": "code",
        "colab": {}
      },
      "source": [
        "mask = np.column_stack([cvt[col].astype(str).str.lower().str.contains(r\"rxiv\", na=False) for col in cvt])\n",
        "kk=cvt.loc[mask.any(axis=1)][['lens_id','open_access','publication_type','source_urls','external_ids','source']].reset_index(drop=True)"
      ],
      "execution_count": 0,
      "outputs": []
    },
    {
      "cell_type": "code",
      "metadata": {
        "id": "woNaEFKJyiD1",
        "colab_type": "code",
        "outputId": "ebe21558-fe8b-4825-8173-9c3f7fbadf45",
        "colab": {
          "base_uri": "https://localhost:8080/",
          "height": 416
        }
      },
      "source": [
        "kk"
      ],
      "execution_count": 0,
      "outputs": [
        {
          "output_type": "execute_result",
          "data": {
            "text/html": [
              "<div>\n",
              "<style scoped>\n",
              "    .dataframe tbody tr th:only-of-type {\n",
              "        vertical-align: middle;\n",
              "    }\n",
              "\n",
              "    .dataframe tbody tr th {\n",
              "        vertical-align: top;\n",
              "    }\n",
              "\n",
              "    .dataframe thead th {\n",
              "        text-align: right;\n",
              "    }\n",
              "</style>\n",
              "<table border=\"1\" class=\"dataframe\">\n",
              "  <thead>\n",
              "    <tr style=\"text-align: right;\">\n",
              "      <th></th>\n",
              "      <th>lens_id</th>\n",
              "      <th>open_access</th>\n",
              "      <th>publication_type</th>\n",
              "      <th>source_urls</th>\n",
              "      <th>external_ids</th>\n",
              "      <th>source</th>\n",
              "    </tr>\n",
              "  </thead>\n",
              "  <tbody>\n",
              "    <tr>\n",
              "      <th>0</th>\n",
              "      <td>019-364-917-998-018</td>\n",
              "      <td>None</td>\n",
              "      <td>None</td>\n",
              "      <td>[{'type': 'pdf', 'url': 'https://arxiv.org/pdf...</td>\n",
              "      <td>[{'type': 'magid', 'value': '1960786865'}]</td>\n",
              "      <td>{'title': 'arXiv: Populations and Evolution'}</td>\n",
              "    </tr>\n",
              "    <tr>\n",
              "      <th>1</th>\n",
              "      <td>029-801-242-386-288</td>\n",
              "      <td>{'locations': {}, 'colour': 'green'}</td>\n",
              "      <td>journal article</td>\n",
              "      <td>[{'type': 'html', 'url': 'https://arxiv.org/ab...</td>\n",
              "      <td>[{'type': 'magid', 'value': '2009606198'}, {'t...</td>\n",
              "      <td>{'title': 'Physica A-statistical Mechanics and...</td>\n",
              "    </tr>\n",
              "    <tr>\n",
              "      <th>2</th>\n",
              "      <td>000-851-047-428-254</td>\n",
              "      <td>None</td>\n",
              "      <td>preprint</td>\n",
              "      <td>[{'type': 'html', 'url': 'https://www.biorxiv....</td>\n",
              "      <td>[{'type': 'magid', 'value': '3004151654'}, {'t...</td>\n",
              "      <td>{'title': 'bioRxiv'}</td>\n",
              "    </tr>\n",
              "    <tr>\n",
              "      <th>3</th>\n",
              "      <td>002-281-978-092-075</td>\n",
              "      <td>None</td>\n",
              "      <td>preprint</td>\n",
              "      <td>[{'type': 'unknown', 'url': 'https://www.medrx...</td>\n",
              "      <td>[{'type': 'magid', 'value': '3006592697'}, {'t...</td>\n",
              "      <td>{'title': 'medRxiv'}</td>\n",
              "    </tr>\n",
              "    <tr>\n",
              "      <th>4</th>\n",
              "      <td>002-906-736-392-056</td>\n",
              "      <td>None</td>\n",
              "      <td>preprint</td>\n",
              "      <td>[{'type': 'html', 'url': 'https://www.medrxiv....</td>\n",
              "      <td>[{'type': 'magid', 'value': '3006590857'}, {'t...</td>\n",
              "      <td>{'title': 'medRxiv'}</td>\n",
              "    </tr>\n",
              "    <tr>\n",
              "      <th>...</th>\n",
              "      <td>...</td>\n",
              "      <td>...</td>\n",
              "      <td>...</td>\n",
              "      <td>...</td>\n",
              "      <td>...</td>\n",
              "      <td>...</td>\n",
              "    </tr>\n",
              "    <tr>\n",
              "      <th>535</th>\n",
              "      <td>139-143-876-442-831</td>\n",
              "      <td>None</td>\n",
              "      <td>preprint</td>\n",
              "      <td>[{'type': 'html', 'url': 'https://europepmc.or...</td>\n",
              "      <td>[{'type': 'magid', 'value': '3008897748'}, {'t...</td>\n",
              "      <td>{'title': 'bioRxiv'}</td>\n",
              "    </tr>\n",
              "    <tr>\n",
              "      <th>536</th>\n",
              "      <td>010-093-802-970-403</td>\n",
              "      <td>None</td>\n",
              "      <td>preprint</td>\n",
              "      <td>[{'type': 'html', 'url': 'https://www.medrxiv....</td>\n",
              "      <td>[{'type': 'magid', 'value': '3010211880'}, {'t...</td>\n",
              "      <td>{'title': 'medRxiv'}</td>\n",
              "    </tr>\n",
              "    <tr>\n",
              "      <th>537</th>\n",
              "      <td>000-071-000-180-100</td>\n",
              "      <td>None</td>\n",
              "      <td>None</td>\n",
              "      <td>[{'type': 'html', 'url': 'https://arxiv.org/pd...</td>\n",
              "      <td>[{'type': 'magid', 'value': '3009762978'}]</td>\n",
              "      <td>{'title': 'arXiv: Physics and Society'}</td>\n",
              "    </tr>\n",
              "    <tr>\n",
              "      <th>538</th>\n",
              "      <td>042-986-203-395-32X</td>\n",
              "      <td>None</td>\n",
              "      <td>preprint</td>\n",
              "      <td>[{'type': 'html', 'url': 'https://www.medrxiv....</td>\n",
              "      <td>[{'type': 'magid', 'value': '3009526522'}, {'t...</td>\n",
              "      <td>{'title': 'medRxiv'}</td>\n",
              "    </tr>\n",
              "    <tr>\n",
              "      <th>539</th>\n",
              "      <td>173-937-414-673-667</td>\n",
              "      <td>None</td>\n",
              "      <td>None</td>\n",
              "      <td>[{'type': 'html', 'url': 'https://arxiv.org/ab...</td>\n",
              "      <td>[{'type': 'magid', 'value': '3010624982'}]</td>\n",
              "      <td>{'title': 'arXiv: Populations and Evolution'}</td>\n",
              "    </tr>\n",
              "  </tbody>\n",
              "</table>\n",
              "<p>540 rows × 6 columns</p>\n",
              "</div>"
            ],
            "text/plain": [
              "                 lens_id  ...                                             source\n",
              "0    019-364-917-998-018  ...      {'title': 'arXiv: Populations and Evolution'}\n",
              "1    029-801-242-386-288  ...  {'title': 'Physica A-statistical Mechanics and...\n",
              "2    000-851-047-428-254  ...                               {'title': 'bioRxiv'}\n",
              "3    002-281-978-092-075  ...                               {'title': 'medRxiv'}\n",
              "4    002-906-736-392-056  ...                               {'title': 'medRxiv'}\n",
              "..                   ...  ...                                                ...\n",
              "535  139-143-876-442-831  ...                               {'title': 'bioRxiv'}\n",
              "536  010-093-802-970-403  ...                               {'title': 'medRxiv'}\n",
              "537  000-071-000-180-100  ...            {'title': 'arXiv: Physics and Society'}\n",
              "538  042-986-203-395-32X  ...                               {'title': 'medRxiv'}\n",
              "539  173-937-414-673-667  ...      {'title': 'arXiv: Populations and Evolution'}\n",
              "\n",
              "[540 rows x 6 columns]"
            ]
          },
          "metadata": {
            "tags": []
          },
          "execution_count": 130
        }
      ]
    },
    {
      "cell_type": "code",
      "metadata": {
        "id": "MWUnd4w-yUMf",
        "colab_type": "code",
        "outputId": "2a211645-bd00-4ba8-bfe5-51093e1b70f7",
        "colab": {
          "base_uri": "https://localhost:8080/",
          "height": 79
        }
      },
      "source": [
        "kk"
      ],
      "execution_count": 0,
      "outputs": [
        {
          "output_type": "execute_result",
          "data": {
            "text/html": [
              "<div>\n",
              "<style scoped>\n",
              "    .dataframe tbody tr th:only-of-type {\n",
              "        vertical-align: middle;\n",
              "    }\n",
              "\n",
              "    .dataframe tbody tr th {\n",
              "        vertical-align: top;\n",
              "    }\n",
              "\n",
              "    .dataframe thead th {\n",
              "        text-align: right;\n",
              "    }\n",
              "</style>\n",
              "<table border=\"1\" class=\"dataframe\">\n",
              "  <thead>\n",
              "    <tr style=\"text-align: right;\">\n",
              "      <th></th>\n",
              "      <th>open_access</th>\n",
              "      <th>publication_type</th>\n",
              "      <th>source_urls</th>\n",
              "      <th>external_ids</th>\n",
              "      <th>source</th>\n",
              "    </tr>\n",
              "  </thead>\n",
              "  <tbody>\n",
              "    <tr>\n",
              "      <th>0</th>\n",
              "      <td>None</td>\n",
              "      <td>preprint</td>\n",
              "      <td>[{'type': 'unknown', 'url': 'https://www.medrx...</td>\n",
              "      <td>[{'type': 'magid', 'value': '3006592697'}, {'t...</td>\n",
              "      <td>{'title': 'medRxiv'}</td>\n",
              "    </tr>\n",
              "  </tbody>\n",
              "</table>\n",
              "</div>"
            ],
            "text/plain": [
              "  open_access  ...                source\n",
              "0        None  ...  {'title': 'medRxiv'}\n",
              "\n",
              "[1 rows x 5 columns]"
            ]
          },
          "metadata": {
            "tags": []
          },
          "execution_count": 126
        }
      ]
    },
    {
      "cell_type": "code",
      "metadata": {
        "id": "s37Jw6_Krelk",
        "colab_type": "code",
        "outputId": "eef6c81d-9702-4ad9-f023-e37ff7e9338a",
        "colab": {
          "base_uri": "https://localhost:8080/",
          "height": 51
        }
      },
      "source": [
        "kk.loc[0,'external_ids']"
      ],
      "execution_count": 0,
      "outputs": [
        {
          "output_type": "execute_result",
          "data": {
            "text/plain": [
              "[{'type': 'magid', 'value': '3006592697'},\n",
              " {'type': 'doi', 'value': '10.1101/2020.02.12.20022327'}]"
            ]
          },
          "metadata": {
            "tags": []
          },
          "execution_count": 124
        }
      ]
    },
    {
      "cell_type": "code",
      "metadata": {
        "id": "8L_qV51ztCe-",
        "colab_type": "code",
        "colab": {}
      },
      "source": [
        ""
      ],
      "execution_count": 0,
      "outputs": []
    },
    {
      "cell_type": "code",
      "metadata": {
        "id": "4rgmDzNpuWT2",
        "colab_type": "code",
        "outputId": "921b7107-46a1-4571-a097-7ff4363704ca",
        "colab": {
          "base_uri": "https://localhost:8080/",
          "height": 68
        }
      },
      "source": [
        "cvt[cvt.external_ids.astype(str).str.lower().str.contains('xiv')]['external_ids']"
      ],
      "execution_count": 0,
      "outputs": [
        {
          "output_type": "execute_result",
          "data": {
            "text/plain": [
              "1026    [{'type': 'doi', 'value': '10.26434/chemrxiv.1...\n",
              "1236    [{'type': 'doi', 'value': '10.26434/chemrxiv.1...\n",
              "Name: external_ids, dtype: object"
            ]
          },
          "metadata": {
            "tags": []
          },
          "execution_count": 107
        }
      ]
    },
    {
      "cell_type": "code",
      "metadata": {
        "id": "XLR1XJgFujv3",
        "colab_type": "code",
        "colab": {}
      },
      "source": [
        ""
      ],
      "execution_count": 0,
      "outputs": []
    }
  ]
}
