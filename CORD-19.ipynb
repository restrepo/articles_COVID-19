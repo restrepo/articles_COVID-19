{
  "nbformat": 4,
  "nbformat_minor": 0,
  "metadata": {
    "kernelspec": {
      "display_name": "Python 3",
      "language": "python",
      "name": "python3"
    },
    "language_info": {
      "codemirror_mode": {
        "name": "ipython",
        "version": 3
      },
      "file_extension": ".py",
      "mimetype": "text/x-python",
      "name": "python",
      "nbconvert_exporter": "python",
      "pygments_lexer": "ipython3",
      "version": "3.5.3"
    },
    "colab": {
      "name": "CORD-19.ipynb",
      "provenance": [],
      "include_colab_link": true
    }
  },
  "cells": [
    {
      "cell_type": "markdown",
      "metadata": {
        "id": "view-in-github",
        "colab_type": "text"
      },
      "source": [
        "<a href=\"https://colab.research.google.com/github/restrepo/articles_COVID-19/blob/master/CORD-19.ipynb\" target=\"_parent\"><img src=\"https://colab.research.google.com/assets/colab-badge.svg\" alt=\"Open In Colab\"/></a>"
      ]
    },
    {
      "cell_type": "markdown",
      "metadata": {
        "id": "yKoe6vqvhjon",
        "colab_type": "text"
      },
      "source": [
        "# CORD-19\n",
        "50,000+ scholarly articles from CORD-19 used in https://covid19-research-explorer.appspot.com\n",
        "\n",
        "## Metadata of full articles from:\n",
        "https://www.kaggle.com/allen-institute-for-ai/CORD-19-research-challenge/data#metadata.csv\n",
        "\n",
        "Downloaded May 12, 2020"
      ]
    },
    {
      "cell_type": "code",
      "metadata": {
        "id": "0NltD4_JhLKe",
        "colab_type": "code",
        "colab": {}
      },
      "source": [
        "import pandas as pd"
      ],
      "execution_count": 0,
      "outputs": []
    },
    {
      "cell_type": "code",
      "metadata": {
        "id": "apCOxxFihLKk",
        "colab_type": "code",
        "colab": {}
      },
      "source": [
        "df=pd.read_csv('http://fisica.udea.edu.co/downloads/metadata.csv.zip',compression='zip',\n",
        "               low_memory=False)"
      ],
      "execution_count": 0,
      "outputs": []
    },
    {
      "cell_type": "code",
      "metadata": {
        "id": "8pRvm1a4hexe",
        "colab_type": "code",
        "colab": {
          "base_uri": "https://localhost:8080/",
          "height": 35
        },
        "outputId": "fc3ad0e1-0943-40ce-9966-f85bb8277936"
      },
      "source": [
        "df.shape"
      ],
      "execution_count": 4,
      "outputs": [
        {
          "output_type": "execute_result",
          "data": {
            "text/plain": [
              "(59887, 19)"
            ]
          },
          "metadata": {
            "tags": []
          },
          "execution_count": 4
        }
      ]
    },
    {
      "cell_type": "code",
      "metadata": {
        "id": "-G7LaiDzhLKn",
        "colab_type": "code",
        "colab": {
          "base_uri": "https://localhost:8080/",
          "height": 400
        },
        "outputId": "cac0ba81-0897-4ed1-f73d-be9924ac4edb"
      },
      "source": [
        "df[:3]"
      ],
      "execution_count": 3,
      "outputs": [
        {
          "output_type": "execute_result",
          "data": {
            "text/html": [
              "<div>\n",
              "<style scoped>\n",
              "    .dataframe tbody tr th:only-of-type {\n",
              "        vertical-align: middle;\n",
              "    }\n",
              "\n",
              "    .dataframe tbody tr th {\n",
              "        vertical-align: top;\n",
              "    }\n",
              "\n",
              "    .dataframe thead th {\n",
              "        text-align: right;\n",
              "    }\n",
              "</style>\n",
              "<table border=\"1\" class=\"dataframe\">\n",
              "  <thead>\n",
              "    <tr style=\"text-align: right;\">\n",
              "      <th></th>\n",
              "      <th>cord_uid</th>\n",
              "      <th>sha</th>\n",
              "      <th>source_x</th>\n",
              "      <th>title</th>\n",
              "      <th>doi</th>\n",
              "      <th>pmcid</th>\n",
              "      <th>pubmed_id</th>\n",
              "      <th>license</th>\n",
              "      <th>abstract</th>\n",
              "      <th>publish_time</th>\n",
              "      <th>authors</th>\n",
              "      <th>journal</th>\n",
              "      <th>Microsoft Academic Paper ID</th>\n",
              "      <th>WHO #Covidence</th>\n",
              "      <th>arxiv_id</th>\n",
              "      <th>has_pdf_parse</th>\n",
              "      <th>has_pmc_xml_parse</th>\n",
              "      <th>full_text_file</th>\n",
              "      <th>url</th>\n",
              "    </tr>\n",
              "  </thead>\n",
              "  <tbody>\n",
              "    <tr>\n",
              "      <th>0</th>\n",
              "      <td>zjufx4fo</td>\n",
              "      <td>b2897e1277f56641193a6db73825f707eed3e4c9</td>\n",
              "      <td>PMC</td>\n",
              "      <td>Sequence requirements for RNA strand transfer ...</td>\n",
              "      <td>10.1093/emboj/20.24.7220</td>\n",
              "      <td>PMC125340</td>\n",
              "      <td>11742998.0</td>\n",
              "      <td>unk</td>\n",
              "      <td>Nidovirus subgenomic mRNAs contain a leader se...</td>\n",
              "      <td>2001-12-17</td>\n",
              "      <td>Pasternak, Alexander O.; van den Born, Erwin; ...</td>\n",
              "      <td>The EMBO Journal</td>\n",
              "      <td>NaN</td>\n",
              "      <td>NaN</td>\n",
              "      <td>NaN</td>\n",
              "      <td>True</td>\n",
              "      <td>True</td>\n",
              "      <td>custom_license</td>\n",
              "      <td>http://europepmc.org/articles/pmc125340?pdf=re...</td>\n",
              "    </tr>\n",
              "    <tr>\n",
              "      <th>1</th>\n",
              "      <td>ymceytj3</td>\n",
              "      <td>e3d0d482ebd9a8ba81c254cc433f314142e72174</td>\n",
              "      <td>PMC</td>\n",
              "      <td>Crystal structure of murine sCEACAM1a[1,4]: a ...</td>\n",
              "      <td>10.1093/emboj/21.9.2076</td>\n",
              "      <td>PMC125375</td>\n",
              "      <td>11980704.0</td>\n",
              "      <td>unk</td>\n",
              "      <td>CEACAM1 is a member of the carcinoembryonic an...</td>\n",
              "      <td>2002-05-01</td>\n",
              "      <td>Tan, Kemin; Zelus, Bruce D.; Meijers, Rob; Liu...</td>\n",
              "      <td>The EMBO Journal</td>\n",
              "      <td>NaN</td>\n",
              "      <td>NaN</td>\n",
              "      <td>NaN</td>\n",
              "      <td>True</td>\n",
              "      <td>True</td>\n",
              "      <td>custom_license</td>\n",
              "      <td>http://europepmc.org/articles/pmc125375?pdf=re...</td>\n",
              "    </tr>\n",
              "    <tr>\n",
              "      <th>2</th>\n",
              "      <td>wzj2glte</td>\n",
              "      <td>00b1d99e70f779eb4ede50059db469c65e8c1469</td>\n",
              "      <td>PMC</td>\n",
              "      <td>Synthesis of a novel hepatitis C virus protein...</td>\n",
              "      <td>10.1093/emboj/20.14.3840</td>\n",
              "      <td>PMC125543</td>\n",
              "      <td>11447125.0</td>\n",
              "      <td>no-cc</td>\n",
              "      <td>Hepatitis C virus (HCV) is an important human ...</td>\n",
              "      <td>2001-07-16</td>\n",
              "      <td>Xu, Zhenming; Choi, Jinah; Yen, T.S.Benedict; ...</td>\n",
              "      <td>EMBO J</td>\n",
              "      <td>NaN</td>\n",
              "      <td>NaN</td>\n",
              "      <td>NaN</td>\n",
              "      <td>True</td>\n",
              "      <td>True</td>\n",
              "      <td>custom_license</td>\n",
              "      <td>https://www.ncbi.nlm.nih.gov/pmc/articles/PMC1...</td>\n",
              "    </tr>\n",
              "  </tbody>\n",
              "</table>\n",
              "</div>"
            ],
            "text/plain": [
              "   cord_uid  ...                                                url\n",
              "0  zjufx4fo  ...  http://europepmc.org/articles/pmc125340?pdf=re...\n",
              "1  ymceytj3  ...  http://europepmc.org/articles/pmc125375?pdf=re...\n",
              "2  wzj2glte  ...  https://www.ncbi.nlm.nih.gov/pmc/articles/PMC1...\n",
              "\n",
              "[3 rows x 19 columns]"
            ]
          },
          "metadata": {
            "tags": []
          },
          "execution_count": 3
        }
      ]
    },
    {
      "cell_type": "markdown",
      "metadata": {
        "id": "3SqiA2vbipjE",
        "colab_type": "text"
      },
      "source": [
        "The articles is identified with the `sha` column: The full text of the article in json is a file in the full data base with name given by the `sha` and the\n",
        "file extension `json`. For example:"
      ]
    },
    {
      "cell_type": "code",
      "metadata": {
        "id": "zgIGbw9ohLKr",
        "colab_type": "code",
        "colab": {
          "base_uri": "https://localhost:8080/",
          "height": 219
        },
        "outputId": "249a911e-9b32-4024-d4c1-26dbf09801f6"
      },
      "source": [
        "df[df.sha=='003d2e515e1aaf06f0052769953e861ed8e56608']"
      ],
      "execution_count": 6,
      "outputs": [
        {
          "output_type": "execute_result",
          "data": {
            "text/html": [
              "<div>\n",
              "<style scoped>\n",
              "    .dataframe tbody tr th:only-of-type {\n",
              "        vertical-align: middle;\n",
              "    }\n",
              "\n",
              "    .dataframe tbody tr th {\n",
              "        vertical-align: top;\n",
              "    }\n",
              "\n",
              "    .dataframe thead th {\n",
              "        text-align: right;\n",
              "    }\n",
              "</style>\n",
              "<table border=\"1\" class=\"dataframe\">\n",
              "  <thead>\n",
              "    <tr style=\"text-align: right;\">\n",
              "      <th></th>\n",
              "      <th>cord_uid</th>\n",
              "      <th>sha</th>\n",
              "      <th>source_x</th>\n",
              "      <th>title</th>\n",
              "      <th>doi</th>\n",
              "      <th>pmcid</th>\n",
              "      <th>pubmed_id</th>\n",
              "      <th>license</th>\n",
              "      <th>abstract</th>\n",
              "      <th>publish_time</th>\n",
              "      <th>authors</th>\n",
              "      <th>journal</th>\n",
              "      <th>Microsoft Academic Paper ID</th>\n",
              "      <th>WHO #Covidence</th>\n",
              "      <th>arxiv_id</th>\n",
              "      <th>has_pdf_parse</th>\n",
              "      <th>has_pmc_xml_parse</th>\n",
              "      <th>full_text_file</th>\n",
              "      <th>url</th>\n",
              "    </tr>\n",
              "  </thead>\n",
              "  <tbody>\n",
              "    <tr>\n",
              "      <th>42821</th>\n",
              "      <td>fitte5bf</td>\n",
              "      <td>003d2e515e1aaf06f0052769953e861ed8e56608</td>\n",
              "      <td>arxiv</td>\n",
              "      <td>Weakly Supervised Deep Learning for COVID-19 I...</td>\n",
              "      <td>NaN</td>\n",
              "      <td>NaN</td>\n",
              "      <td>NaN</td>\n",
              "      <td>arxiv</td>\n",
              "      <td>An outbreak of a novel coronavirus disease (i....</td>\n",
              "      <td>2020-04-14</td>\n",
              "      <td>Shaoping Hu; Yuan Gao; Zhangming Niu; Yinghui ...</td>\n",
              "      <td>NaN</td>\n",
              "      <td>NaN</td>\n",
              "      <td>NaN</td>\n",
              "      <td>2004.06689</td>\n",
              "      <td>True</td>\n",
              "      <td>False</td>\n",
              "      <td>arxiv</td>\n",
              "      <td>https://arxiv.org/abs/2004.06689</td>\n",
              "    </tr>\n",
              "  </tbody>\n",
              "</table>\n",
              "</div>"
            ],
            "text/plain": [
              "       cord_uid  ...                               url\n",
              "42821  fitte5bf  ...  https://arxiv.org/abs/2004.06689\n",
              "\n",
              "[1 rows x 19 columns]"
            ]
          },
          "metadata": {
            "tags": []
          },
          "execution_count": 6
        }
      ]
    },
    {
      "cell_type": "markdown",
      "metadata": {
        "id": "a-P3d82iiikf",
        "colab_type": "text"
      },
      "source": [
        "Is at: https://www.kaggle.com/allen-institute-for-ai/CORD-19-research-challenge/data#003d2e515e1aaf06f0052769953e861ed8e56608.json"
      ]
    }
  ]
}