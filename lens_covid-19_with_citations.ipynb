{
  "nbformat": 4,
  "nbformat_minor": 0,
  "metadata": {
    "colab": {
      "name": "lens_covid-19_with_citations.ipynb",
      "provenance": [],
      "include_colab_link": true
    },
    "kernelspec": {
      "display_name": "Python 3",
      "language": "python",
      "name": "python3"
    },
    "language_info": {
      "codemirror_mode": {
        "name": "ipython",
        "version": 3
      },
      "file_extension": ".py",
      "mimetype": "text/x-python",
      "name": "python",
      "nbconvert_exporter": "python",
      "pygments_lexer": "ipython3",
      "version": "3.5.3"
    },
    "latex_envs": {
      "LaTeX_envs_menu_present": true,
      "autoclose": false,
      "autocomplete": true,
      "bibliofile": "biblio.bib",
      "cite_by": "apalike",
      "current_citInitial": 1,
      "eqLabelWithNumbers": true,
      "eqNumInitial": 1,
      "hotkeys": {
        "equation": "Ctrl-E",
        "itemize": "Ctrl-I"
      },
      "labels_anchors": false,
      "latex_user_defs": false,
      "report_style_numbering": false,
      "user_envs_cfg": false
    }
  },
  "cells": [
    {
      "cell_type": "markdown",
      "metadata": {
        "id": "view-in-github",
        "colab_type": "text"
      },
      "source": [
        "<a href=\"https://colab.research.google.com/github/restrepo/articles_COVID-19/blob/master/lens_covid-19_with_citations.ipynb\" target=\"_parent\"><img src=\"https://colab.research.google.com/assets/colab-badge.svg\" alt=\"Open In Colab\"/></a>"
      ]
    },
    {
      "cell_type": "markdown",
      "metadata": {
        "colab_type": "text",
        "id": "D_lKr3Avj0Ag"
      },
      "source": [
        "# Articles with `COVID-19`  in `title` of Lens.org"
      ]
    },
    {
      "cell_type": "markdown",
      "metadata": {
        "id": "o77CFWgaFJLU",
        "colab_type": "text"
      },
      "source": [
        "See [lens_covid.ipynb](./lens_covid.ipynb) [[GitHub]](https://github.com/restrepo/articles_COVID-19/blob/master/lens_covid.ipynb) [[Colab]](https://colab.research.google.com/github/restrepo/articles_COVID-19/blob/master/lens_covid.ipynb) to get the databases from lens.org API"
      ]
    },
    {
      "cell_type": "code",
      "metadata": {
        "colab_type": "code",
        "id": "Rw3EV881j0Am",
        "colab": {}
      },
      "source": [
        "import pandas as pd"
      ],
      "execution_count": 0,
      "outputs": []
    },
    {
      "cell_type": "markdown",
      "metadata": {
        "id": "hodglFYuEWqw",
        "colab_type": "text"
      },
      "source": [
        "### Articles"
      ]
    },
    {
      "cell_type": "markdown",
      "metadata": {
        "id": "IwG6wRFhDBL-",
        "colab_type": "text"
      },
      "source": [
        "Load articles with title covid-19"
      ]
    },
    {
      "cell_type": "code",
      "metadata": {
        "id": "JhaOA415CCss",
        "colab_type": "code",
        "outputId": "da6a5351-b095-45f8-f9f3-4889d676496a",
        "colab": {
          "base_uri": "https://localhost:8080/",
          "height": 34
        }
      },
      "source": [
        "url='https://github.com/restrepo/articles_COVID-19/raw/master/data/covid_19.json.gz'\n",
        "cv=pd.read_json(url,compression='gzip')\n",
        "cv.shape"
      ],
      "execution_count": 11,
      "outputs": [
        {
          "output_type": "execute_result",
          "data": {
            "text/plain": [
              "(2923, 30)"
            ]
          },
          "metadata": {
            "tags": []
          },
          "execution_count": 11
        }
      ]
    },
    {
      "cell_type": "code",
      "metadata": {
        "id": "atROfF5lGj3P",
        "colab_type": "code",
        "outputId": "d0461431-361e-44e6-a92d-9a78ad127616",
        "colab": {
          "base_uri": "https://localhost:8080/",
          "height": 34
        }
      },
      "source": [
        "cv['scholarly_citations_count'].sum()"
      ],
      "execution_count": 12,
      "outputs": [
        {
          "output_type": "execute_result",
          "data": {
            "text/plain": [
              "732.0"
            ]
          },
          "metadata": {
            "tags": []
          },
          "execution_count": 12
        }
      ]
    },
    {
      "cell_type": "markdown",
      "metadata": {
        "id": "6UDMtZEYDsCn",
        "colab_type": "text"
      },
      "source": [
        "Citations list of `lens_id` for sample for article 1"
      ]
    },
    {
      "cell_type": "code",
      "metadata": {
        "id": "xcb-RJNuD0Rd",
        "colab_type": "code",
        "colab": {
          "base_uri": "https://localhost:8080/",
          "height": 34
        },
        "outputId": "620a55b2-2fc8-4d01-8b3c-c5d596f20ff2"
      },
      "source": [
        "cv.loc[1,'scholarly_citations']"
      ],
      "execution_count": 13,
      "outputs": [
        {
          "output_type": "execute_result",
          "data": {
            "text/plain": [
              "['031-883-225-563-477', '041-669-833-363-319']"
            ]
          },
          "metadata": {
            "tags": []
          },
          "execution_count": 13
        }
      ]
    },
    {
      "cell_type": "markdown",
      "metadata": {
        "id": "KixLRBR5Eay5",
        "colab_type": "text"
      },
      "source": [
        "### Citations"
      ]
    },
    {
      "cell_type": "markdown",
      "metadata": {
        "id": "YqAgRPLuDUid",
        "colab_type": "text"
      },
      "source": [
        "Load citations to articles. Get the metadata for each one of the `lens_id` citations"
      ]
    },
    {
      "cell_type": "code",
      "metadata": {
        "id": "BREebsGIEUi4",
        "colab_type": "code",
        "outputId": "085f8a00-b74e-4b83-cc5e-338ad2c03fe4",
        "colab": {
          "base_uri": "https://localhost:8080/",
          "height": 34
        }
      },
      "source": [
        "url='https://github.com/restrepo/articles_COVID-19/raw/master/data/covid_19_scholarly_citations.json'\n",
        "cvc=pd.read_json(url)\n",
        "cvc.shape"
      ],
      "execution_count": 14,
      "outputs": [
        {
          "output_type": "execute_result",
          "data": {
            "text/plain": [
              "(377, 29)"
            ]
          },
          "metadata": {
            "tags": []
          },
          "execution_count": 14
        }
      ]
    }
  ]
}