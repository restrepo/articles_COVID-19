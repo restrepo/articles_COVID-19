{
  "nbformat": 4,
  "nbformat_minor": 0,
  "metadata": {
    "colab": {
      "name": "lens_covid-19_with_citations.ipynb",
      "provenance": [],
      "include_colab_link": true
    },
    "kernelspec": {
      "display_name": "Python 3",
      "language": "python",
      "name": "python3"
    },
    "language_info": {
      "codemirror_mode": {
        "name": "ipython",
        "version": 3
      },
      "file_extension": ".py",
      "mimetype": "text/x-python",
      "name": "python",
      "nbconvert_exporter": "python",
      "pygments_lexer": "ipython3",
      "version": "3.5.3"
    },
    "latex_envs": {
      "LaTeX_envs_menu_present": true,
      "autoclose": false,
      "autocomplete": true,
      "bibliofile": "biblio.bib",
      "cite_by": "apalike",
      "current_citInitial": 1,
      "eqLabelWithNumbers": true,
      "eqNumInitial": 1,
      "hotkeys": {
        "equation": "Ctrl-E",
        "itemize": "Ctrl-I"
      },
      "labels_anchors": false,
      "latex_user_defs": false,
      "report_style_numbering": false,
      "user_envs_cfg": false
    }
  },
  "cells": [
    {
      "cell_type": "markdown",
      "metadata": {
        "id": "view-in-github",
        "colab_type": "text"
      },
      "source": [
        "<a href=\"https://colab.research.google.com/github/restrepo/articles_COVID-19/blob/master/lens_covid-19_with_citations.ipynb\" target=\"_parent\"><img src=\"https://colab.research.google.com/assets/colab-badge.svg\" alt=\"Open In Colab\"/></a>"
      ]
    },
    {
      "cell_type": "markdown",
      "metadata": {
        "colab_type": "text",
        "id": "D_lKr3Avj0Ag"
      },
      "source": [
        "# Articles with `COVID-19`  in `title` of Lens.org"
      ]
    },
    {
      "cell_type": "markdown",
      "metadata": {
        "id": "o77CFWgaFJLU",
        "colab_type": "text"
      },
      "source": [
        "See [lens_covid.ipynb](./lens_covid.ipynb) [[GitHub]](https://github.com/restrepo/articles_COVID-19/blob/master/lens_covid.ipynb) [[Colab]](https://colab.research.google.com/github/restrepo/articles_COVID-19/blob/master/lens_covid.ipynb) to get the databases from lens.org API"
      ]
    },
    {
      "cell_type": "code",
      "metadata": {
        "colab_type": "code",
        "id": "Rw3EV881j0Am",
        "colab": {}
      },
      "source": [
        "import pandas as pd"
      ],
      "execution_count": 0,
      "outputs": []
    },
    {
      "cell_type": "markdown",
      "metadata": {
        "id": "hodglFYuEWqw",
        "colab_type": "text"
      },
      "source": [
        "### Articles"
      ]
    },
    {
      "cell_type": "markdown",
      "metadata": {
        "id": "IwG6wRFhDBL-",
        "colab_type": "text"
      },
      "source": [
        "Load articles with title covid-19"
      ]
    },
    {
      "cell_type": "code",
      "metadata": {
        "id": "JhaOA415CCss",
        "colab_type": "code",
        "outputId": "ea65c6bf-c678-46d5-b738-6049ad1f5627",
        "colab": {
          "base_uri": "https://localhost:8080/",
          "height": 34
        }
      },
      "source": [
        "base='https://github.com/restrepo/articles_COVID-19/raw/master/data/'\n",
        "file='covid_19.json.gz'\n",
        "cv=pd.read_json('{}{}'.format(base,file),compression='gzip')\n",
        "cv.shape"
      ],
      "execution_count": 9,
      "outputs": [
        {
          "output_type": "execute_result",
          "data": {
            "text/plain": [
              "(6493, 32)"
            ]
          },
          "metadata": {
            "tags": []
          },
          "execution_count": 9
        }
      ]
    },
    {
      "cell_type": "code",
      "metadata": {
        "id": "atROfF5lGj3P",
        "colab_type": "code",
        "outputId": "53c0116f-2e91-4181-a15c-83aea61d96d6",
        "colab": {
          "base_uri": "https://localhost:8080/",
          "height": 34
        }
      },
      "source": [
        "cv['scholarly_citations_count'].sum()"
      ],
      "execution_count": 3,
      "outputs": [
        {
          "output_type": "execute_result",
          "data": {
            "text/plain": [
              "51235.0"
            ]
          },
          "metadata": {
            "tags": []
          },
          "execution_count": 3
        }
      ]
    },
    {
      "cell_type": "markdown",
      "metadata": {
        "id": "6UDMtZEYDsCn",
        "colab_type": "text"
      },
      "source": [
        "Citations list of `lens_id` for sample for article 1"
      ]
    },
    {
      "cell_type": "code",
      "metadata": {
        "id": "xcb-RJNuD0Rd",
        "colab_type": "code",
        "outputId": "c62f58f2-eb5a-4cd5-e52d-8e1372138f94",
        "colab": {
          "base_uri": "https://localhost:8080/",
          "height": 34
        }
      },
      "source": [
        "cv.loc[4,'scholarly_citations']"
      ],
      "execution_count": 8,
      "outputs": [
        {
          "output_type": "execute_result",
          "data": {
            "text/plain": [
              "['013-540-154-555-148', '021-208-857-863-45X']"
            ]
          },
          "metadata": {
            "tags": []
          },
          "execution_count": 8
        }
      ]
    },
    {
      "cell_type": "markdown",
      "metadata": {
        "id": "KixLRBR5Eay5",
        "colab_type": "text"
      },
      "source": [
        "### Citations"
      ]
    },
    {
      "cell_type": "markdown",
      "metadata": {
        "id": "YqAgRPLuDUid",
        "colab_type": "text"
      },
      "source": [
        "Load citations to articles. Get the metadata for each one of the `lens_id` citations"
      ]
    },
    {
      "cell_type": "code",
      "metadata": {
        "id": "QYLV4JPIy_7t",
        "colab_type": "code",
        "colab": {
          "base_uri": "https://localhost:8080/",
          "height": 34
        },
        "outputId": "8713058f-2db5-470a-f367-a921f68ff0fe"
      },
      "source": [
        "base='https://github.com/restrepo/articles_COVID-19/raw/master/data/'\n",
        "file='covid_19_scholarly_citations_part_1.json.gz'\n",
        "cvc=pd.read_json('{}{}'.format(base,file),compression='gzip')\n",
        "file='covid_19_scholarly_citations_part_2.json.gz'\n",
        "cvc=cvc.append( pd.read_json('{}{}'.format(base,file),compression='gzip') \n",
        "        ).reset_index(drop=True)\n",
        "cvc.shape"
      ],
      "execution_count": 12,
      "outputs": [
        {
          "output_type": "execute_result",
          "data": {
            "text/plain": [
              "(19652, 32)"
            ]
          },
          "metadata": {
            "tags": []
          },
          "execution_count": 12
        }
      ]
    },
    {
      "cell_type": "markdown",
      "metadata": {
        "id": "udxrDDLVzs-M",
        "colab_type": "text"
      },
      "source": [
        "## Articles with references column"
      ]
    },
    {
      "cell_type": "code",
      "metadata": {
        "id": "Cv4qMHRmzyCH",
        "colab_type": "code",
        "colab": {
          "base_uri": "https://localhost:8080/",
          "height": 34
        },
        "outputId": "26ada065-3d9c-4c44-8a48-1ec8a9ed4bf4"
      },
      "source": [
        "base='https://github.com/restrepo/articles_COVID-19/raw/master/data/'\n",
        "file='lens_covid-19_web.json'\n",
        "cv_with_references=pd.read_json('{}{}'.format(base,file))\n",
        "cv_with_references.shape"
      ],
      "execution_count": 13,
      "outputs": [
        {
          "output_type": "execute_result",
          "data": {
            "text/plain": [
              "(6446, 22)"
            ]
          },
          "metadata": {
            "tags": []
          },
          "execution_count": 13
        }
      ]
    },
    {
      "cell_type": "code",
      "metadata": {
        "id": "Ma4UuKOk0Ej_",
        "colab_type": "code",
        "colab": {}
      },
      "source": [
        ""
      ],
      "execution_count": 0,
      "outputs": []
    }
  ]
}