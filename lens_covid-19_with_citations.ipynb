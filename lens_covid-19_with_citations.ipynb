{
  "nbformat": 4,
  "nbformat_minor": 0,
  "metadata": {
    "colab": {
      "name": "lens_covid.ipynb",
      "provenance": [],
      "include_colab_link": true
    },
    "kernelspec": {
      "display_name": "Python 3",
      "language": "python",
      "name": "python3"
    },
    "language_info": {
      "codemirror_mode": {
        "name": "ipython",
        "version": 3
      },
      "file_extension": ".py",
      "mimetype": "text/x-python",
      "name": "python",
      "nbconvert_exporter": "python",
      "pygments_lexer": "ipython3",
      "version": "3.5.3"
    },
    "latex_envs": {
      "LaTeX_envs_menu_present": true,
      "autoclose": false,
      "autocomplete": true,
      "bibliofile": "biblio.bib",
      "cite_by": "apalike",
      "current_citInitial": 1,
      "eqLabelWithNumbers": true,
      "eqNumInitial": 1,
      "hotkeys": {
        "equation": "Ctrl-E",
        "itemize": "Ctrl-I"
      },
      "labels_anchors": false,
      "latex_user_defs": false,
      "report_style_numbering": false,
      "user_envs_cfg": false
    }
  },
  "cells": [
    {
      "cell_type": "markdown",
      "metadata": {
        "id": "view-in-github",
        "colab_type": "text"
      },
      "source": [
        "<a href=\"https://colab.research.google.com/github/restrepo/articles_COVID-19/blob/master/lens_covid-19_with_citations.ipynb\" target=\"_parent\"><img src=\"https://colab.research.google.com/assets/colab-badge.svg\" alt=\"Open In Colab\"/></a>"
      ]
    },
    {
      "cell_type": "markdown",
      "metadata": {
        "colab_type": "text",
        "id": "D_lKr3Avj0Ag"
      },
      "source": [
        "# Articles with `COVID-19`  in `title` of Lens.org"
      ]
    },
    {
      "cell_type": "markdown",
      "metadata": {
        "id": "o77CFWgaFJLU",
        "colab_type": "text"
      },
      "source": [
        "See [lens_covid.ipynb](./lens_covid.ipynb) [[GitHub]](https://github.com/restrepo/articles_COVID-19/blob/master/lens_covid.ipynb) [[Colab]](https://colab.research.google.com/github/restrepo/articles_COVID-19/blob/master/lens_covid.ipynb) to get the databases from lens.org API"
      ]
    },
    {
      "cell_type": "code",
      "metadata": {
        "colab_type": "code",
        "id": "Rw3EV881j0Am",
        "colab": {}
      },
      "source": [
        "import pandas as pd"
      ],
      "execution_count": 0,
      "outputs": []
    },
    {
      "cell_type": "markdown",
      "metadata": {
        "id": "hodglFYuEWqw",
        "colab_type": "text"
      },
      "source": [
        "### Articles"
      ]
    },
    {
      "cell_type": "markdown",
      "metadata": {
        "id": "IwG6wRFhDBL-",
        "colab_type": "text"
      },
      "source": [
        "Load articles with title covid-19"
      ]
    },
    {
      "cell_type": "code",
      "metadata": {
        "id": "JhaOA415CCss",
        "colab_type": "code",
        "outputId": "1f7ac562-bbd6-4c4c-c5a7-35aa0d16f746",
        "colab": {
          "base_uri": "https://localhost:8080/",
          "height": 34
        }
      },
      "source": [
        "url='https://github.com/restrepo/articles_COVID-19/raw/master/data/covid_19.json.gz'\n",
        "cv=pd.read_json(url,compression='gzip')\n",
        "cv.shape"
      ],
      "execution_count": 3,
      "outputs": [
        {
          "output_type": "execute_result",
          "data": {
            "text/plain": [
              "(2923, 30)"
            ]
          },
          "metadata": {
            "tags": []
          },
          "execution_count": 3
        }
      ]
    },
    {
      "cell_type": "code",
      "metadata": {
        "id": "atROfF5lGj3P",
        "colab_type": "code",
        "colab": {
          "base_uri": "https://localhost:8080/",
          "height": 34
        },
        "outputId": "20f0dbdc-0fb3-4058-bfad-0edbcfc75bd2"
      },
      "source": [
        "cv['scholarly_citations_count'].sum()"
      ],
      "execution_count": 9,
      "outputs": [
        {
          "output_type": "execute_result",
          "data": {
            "text/plain": [
              "732.0"
            ]
          },
          "metadata": {
            "tags": []
          },
          "execution_count": 9
        }
      ]
    },
    {
      "cell_type": "markdown",
      "metadata": {
        "id": "6UDMtZEYDsCn",
        "colab_type": "text"
      },
      "source": [
        "Citations list of `lens_id` for sample for article 1"
      ]
    },
    {
      "cell_type": "code",
      "metadata": {
        "id": "xcb-RJNuD0Rd",
        "colab_type": "code",
        "colab": {}
      },
      "source": [
        "cv.loc[1,'scholarly_citations']"
      ],
      "execution_count": 0,
      "outputs": []
    },
    {
      "cell_type": "markdown",
      "metadata": {
        "id": "KixLRBR5Eay5",
        "colab_type": "text"
      },
      "source": [
        "### Citations"
      ]
    },
    {
      "cell_type": "markdown",
      "metadata": {
        "id": "YqAgRPLuDUid",
        "colab_type": "text"
      },
      "source": [
        "Load citations to articles. Get the metadata for each one of the `lens_id` citations"
      ]
    },
    {
      "cell_type": "code",
      "metadata": {
        "id": "BREebsGIEUi4",
        "colab_type": "code",
        "outputId": "cdc3758a-c68a-458a-c469-dc06c54c5e5c",
        "colab": {
          "base_uri": "https://localhost:8080/",
          "height": 34
        }
      },
      "source": [
        "url='https://github.com/restrepo/articles_COVID-19/raw/master/data/covid_19_scholarly_citations.json'\n",
        "cvc=pd.read_json(url)\n",
        "cvc.shape"
      ],
      "execution_count": 0,
      "outputs": [
        {
          "output_type": "execute_result",
          "data": {
            "text/plain": [
              "(377, 29)"
            ]
          },
          "metadata": {
            "tags": []
          },
          "execution_count": 53
        }
      ]
    }
  ]
}