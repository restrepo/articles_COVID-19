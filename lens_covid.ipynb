{
  "nbformat": 4,
  "nbformat_minor": 0,
  "metadata": {
    "colab": {
      "name": "lens_covid.ipynb",
      "provenance": [],
      "include_colab_link": true
    },
    "kernelspec": {
      "display_name": "Python 3",
      "language": "python",
      "name": "python3"
    },
    "language_info": {
      "codemirror_mode": {
        "name": "ipython",
        "version": 3
      },
      "file_extension": ".py",
      "mimetype": "text/x-python",
      "name": "python",
      "nbconvert_exporter": "python",
      "pygments_lexer": "ipython3",
      "version": "3.5.3"
    },
    "latex_envs": {
      "LaTeX_envs_menu_present": true,
      "autoclose": false,
      "autocomplete": true,
      "bibliofile": "biblio.bib",
      "cite_by": "apalike",
      "current_citInitial": 1,
      "eqLabelWithNumbers": true,
      "eqNumInitial": 1,
      "hotkeys": {
        "equation": "Ctrl-E",
        "itemize": "Ctrl-I"
      },
      "labels_anchors": false,
      "latex_user_defs": false,
      "report_style_numbering": false,
      "user_envs_cfg": false
    }
  },
  "cells": [
    {
      "cell_type": "markdown",
      "metadata": {
        "id": "view-in-github",
        "colab_type": "text"
      },
      "source": [
        "<a href=\"https://colab.research.google.com/github/restrepo/articles_COVID-19/blob/master/lens_covid.ipynb\" target=\"_parent\"><img src=\"https://colab.research.google.com/assets/colab-badge.svg\" alt=\"Open In Colab\"/></a>"
      ]
    },
    {
      "cell_type": "markdown",
      "metadata": {
        "colab_type": "text",
        "id": "D_lKr3Avj0Ag"
      },
      "source": [
        "# Lens API search for Coronavirus in Lens"
      ]
    },
    {
      "cell_type": "markdown",
      "metadata": {
        "colab_type": "text",
        "id": "39xV6tjuj0Ai"
      },
      "source": [
        "Check: https://docs.api.lens.org/request.html"
      ]
    },
    {
      "cell_type": "markdown",
      "metadata": {
        "colab_type": "text",
        "id": "phECk_hnj0Aj"
      },
      "source": [
        "Get token: https://www.lens.org/lens/user/subscriptions"
      ]
    },
    {
      "cell_type": "markdown",
      "metadata": {
        "id": "z9YsatRoc0yu",
        "colab_type": "text"
      },
      "source": [
        "Examples: https://github.com/cambialens/lens-api-doc"
      ]
    },
    {
      "cell_type": "markdown",
      "metadata": {
        "id": "OekButEdKmSt",
        "colab_type": "text"
      },
      "source": [
        "### Design. \n",
        "* The `query` search for exact match of any type: title, abstract, affiliation, etc.\n",
        "* The `query_terms` search for a list of maximum 20 identifiers\n",
        "* The `query_OR` search for a list of type: title, abstract, etc, words (phrases) with `match_type=match[_phrase]`. For example `title=['first','second','third']`.\n",
        "    * Currently implemented for list of two words (phrases)\n",
        "\n",
        "To a full list of articles make several queries with the same list of words (phrases) for each type: title, abstract, etc.\n"
      ]
    },
    {
      "cell_type": "markdown",
      "metadata": {
        "colab_type": "text",
        "id": "fyrZq73Yj0Ak"
      },
      "source": [
        "## Functions and global variables"
      ]
    },
    {
      "cell_type": "code",
      "metadata": {
        "colab_type": "code",
        "id": "Rw3EV881j0Am",
        "outputId": "47172f69-de18-47c7-9dd4-e43360ea1e7b",
        "colab": {
          "base_uri": "https://localhost:8080/",
          "height": 103
        }
      },
      "source": [
        "import getpass\n",
        "import pandas as pd\n",
        "import requests\n",
        "import sys\n",
        "import time\n",
        "import os\n",
        "import datetime\n",
        "if os.getcwd()=='/content':\n",
        "    !pip install unidecode\n",
        "    !mkdir data\n",
        "import unidecode    "
      ],
      "execution_count": 17,
      "outputs": [
        {
          "output_type": "stream",
          "text": [
            "Collecting unidecode\n",
            "\u001b[?25l  Downloading https://files.pythonhosted.org/packages/d0/42/d9edfed04228bacea2d824904cae367ee9efd05e6cce7ceaaedd0b0ad964/Unidecode-1.1.1-py2.py3-none-any.whl (238kB)\n",
            "\r\u001b[K     |█▍                              | 10kB 15.9MB/s eta 0:00:01\r\u001b[K     |██▊                             | 20kB 1.8MB/s eta 0:00:01\r\u001b[K     |████▏                           | 30kB 2.1MB/s eta 0:00:01\r\u001b[K     |█████▌                          | 40kB 1.7MB/s eta 0:00:01\r\u001b[K     |██████▉                         | 51kB 1.9MB/s eta 0:00:01\r\u001b[K     |████████▎                       | 61kB 2.2MB/s eta 0:00:01\r\u001b[K     |█████████▋                      | 71kB 2.4MB/s eta 0:00:01\r\u001b[K     |███████████                     | 81kB 2.5MB/s eta 0:00:01\r\u001b[K     |████████████▍                   | 92kB 2.8MB/s eta 0:00:01\r\u001b[K     |█████████████▊                  | 102kB 2.8MB/s eta 0:00:01\r\u001b[K     |███████████████▏                | 112kB 2.8MB/s eta 0:00:01\r\u001b[K     |████████████████▌               | 122kB 2.8MB/s eta 0:00:01\r\u001b[K     |█████████████████▉              | 133kB 2.8MB/s eta 0:00:01\r\u001b[K     |███████████████████▎            | 143kB 2.8MB/s eta 0:00:01\r\u001b[K     |████████████████████▋           | 153kB 2.8MB/s eta 0:00:01\r\u001b[K     |██████████████████████          | 163kB 2.8MB/s eta 0:00:01\r\u001b[K     |███████████████████████▍        | 174kB 2.8MB/s eta 0:00:01\r\u001b[K     |████████████████████████▊       | 184kB 2.8MB/s eta 0:00:01\r\u001b[K     |██████████████████████████▏     | 194kB 2.8MB/s eta 0:00:01\r\u001b[K     |███████████████████████████▌    | 204kB 2.8MB/s eta 0:00:01\r\u001b[K     |████████████████████████████▉   | 215kB 2.8MB/s eta 0:00:01\r\u001b[K     |██████████████████████████████▎ | 225kB 2.8MB/s eta 0:00:01\r\u001b[K     |███████████████████████████████▋| 235kB 2.8MB/s eta 0:00:01\r\u001b[K     |████████████████████████████████| 245kB 2.8MB/s \n",
            "\u001b[?25hInstalling collected packages: unidecode\n",
            "Successfully installed unidecode-1.1.1\n"
          ],
          "name": "stdout"
        }
      ]
    },
    {
      "cell_type": "markdown",
      "metadata": {
        "colab_type": "text",
        "id": "TFUR-R4pj0Ap"
      },
      "source": [
        "<!-- #mmkP9Ibp7bDpLNLKZF8bdYDxCQmxXhFuJzJViVKH92kyBlGmatE2\n",
        " -->"
      ]
    },
    {
      "cell_type": "code",
      "metadata": {
        "colab_type": "code",
        "id": "Nl8_4Hyoj0Aq",
        "outputId": "3905e75e-514d-4fa2-9c1f-abaf86127a5a",
        "colab": {
          "base_uri": "https://localhost:8080/",
          "height": 34
        }
      },
      "source": [
        "token=getpass.getpass('token:')"
      ],
      "execution_count": 29,
      "outputs": [
        {
          "output_type": "stream",
          "text": [
            "token:··········\n"
          ],
          "name": "stdout"
        }
      ]
    },
    {
      "cell_type": "code",
      "metadata": {
        "colab_type": "code",
        "id": "TwCrMmcRj0Au",
        "colab": {}
      },
      "source": [
        "url = 'https://api.lens.org/scholarly/search'\n",
        "size=1000"
      ],
      "execution_count": 0,
      "outputs": []
    },
    {
      "cell_type": "code",
      "metadata": {
        "id": "vXLNe49FIPuG",
        "colab_type": "code",
        "colab": {}
      },
      "source": [
        "kwargs={'match_type':'match_phrase'}\n",
        "key='title'\n",
        "l=['A-Á','B-B']\n",
        "\n",
        "def ORKEYS(key,l,kwargs):\n",
        "    ll=[ {  kwargs['match_type']:{key: unidecode.unidecode(q)} } for q in l]\n",
        "    return str(ll).replace(\"'\",'\"')"
      ],
      "execution_count": 0,
      "outputs": []
    },
    {
      "cell_type": "code",
      "metadata": {
        "id": "qTOwcnfU2fdY",
        "colab_type": "code",
        "colab": {
          "base_uri": "https://localhost:8080/",
          "height": 34
        },
        "outputId": "e8cae3cb-9267-4454-eb69-5578dcfa6836"
      },
      "source": [
        "ORKEYS(key,l,kwargs)"
      ],
      "execution_count": 42,
      "outputs": [
        {
          "output_type": "execute_result",
          "data": {
            "text/plain": [
              "'[{\"match_phrase\": {\"title\": \"A-A\"}}, {\"match_phrase\": {\"title\": \"B-B\"}}]'"
            ]
          },
          "metadata": {
            "tags": []
          },
          "execution_count": 42
        }
      ]
    },
    {
      "cell_type": "code",
      "metadata": {
        "id": "_B86X68TKC-2",
        "colab_type": "code",
        "colab": {}
      },
      "source": [
        "def query_terms(**kwargs):\n",
        "    \"\"\"\n",
        "    WARNING: Accents will be removed!\n",
        "    Use the lens.org API to obtain a API query string\n",
        "    to feed get_query\n",
        "\n",
        "    Parameters\n",
        "    ----------\n",
        "      lens_id=list of identifiers\n",
        "      range_type=\"date_published\",\n",
        "      date_ini=1900-01-01,\n",
        "      date_end=... #Default to today\n",
        "      size=1000, \n",
        "    \"\"\"\n",
        "    key=list(kwargs.keys())[0]\n",
        "    l=kwargs[key]\n",
        "    if isinstance(l,list):\n",
        "        if len(l)>20:\n",
        "            print('WARNING: Only first 20 items will be searched')\n",
        "        ls=str(l).replace(\"'\",'\"')\n",
        "    else:\n",
        "        sys.exit( 'ERROR: {} must be a list'.format(k) )\n",
        "\n",
        "    data='''{\n",
        "    \"query\": {\n",
        "        \"terms\": {\n",
        "\t\t\t\"%s\": %s\n",
        "\t\t}\n",
        "     }\n",
        "    }''' %(key,ls )\n",
        "    return data\n",
        "\n",
        "def query(**kwargs):\n",
        "    \"\"\"\n",
        "    WARNING: Accents will be removed!\n",
        "    Use the lens.org API to obtain a API query string\n",
        "    to feed get_query\n",
        "\n",
        "    Parameters\n",
        "    ----------\n",
        "     query type must be go first! Example: title, affiliation, abstract, etc:\n",
        "     For example for `title`:\n",
        "      title=\"covid-19\" #(or Affiliation o lens_id, or ...) \n",
        "      match_type ='match_phrase' #for exact match, or match for OR between words\n",
        "      range_type=\"date_published\",\n",
        "      date_ini=1900-01-01,\n",
        "      date_end=... #Default to today\n",
        "      size=1000, \n",
        "    \"\"\"\n",
        "    key=list(kwargs.keys())[0]\n",
        "    q=unidecode.unidecode(kwargs[key])\n",
        "    #Set default values\n",
        "    if not kwargs.get('match_type'):\n",
        "        kwargs['match_type']='match_phrase'\n",
        "    if not kwargs.get('size'):\n",
        "        kwargs['size']=1000\n",
        "    if not kwargs.get('range_type'):\n",
        "        kwargs['range_type']=\"date_published\"\n",
        "    if not kwargs.get('date_ini'):\n",
        "        kwargs['date_ini']='1900-01-01'\n",
        "    if not kwargs.get('date_end'):\n",
        "        kwargs['date_end']=datetime.datetime.today().strftime('%Y-%m-%d')\n",
        "    if kwargs.get('range_type')==\"year_published\":\n",
        "        date_ini=kwargs.get('date_ini').split('-')[0]\n",
        "        date_end=kwargs.get('date_end').split('-')[0]\n",
        "    data='''{\n",
        "    \"query\": {\n",
        "       \"bool\": {\n",
        "         \"must\": [{\n",
        "           \"%s\":{\n",
        "                    \"%s\": \"%s\"\n",
        "               }\n",
        "           },\n",
        "           {\n",
        "           \"range\": {\n",
        "           \"%s\": {\n",
        "                    \"gte\": \"%s\",\n",
        "                    \"lte\": \"%s\"\n",
        "                }\n",
        "           } \n",
        "           }\n",
        "         ]\n",
        "       }\n",
        "     },\n",
        "     \"size\": %i\n",
        "    }''' %(kwargs['match_type'],key,q,\n",
        "                 kwargs.get('range_type'),\n",
        "                 kwargs.get('date_ini'),\n",
        "                 kwargs.get('date_end'),\n",
        "                 kwargs.get('size'))\n",
        "    return data\n",
        "\n",
        "\n",
        "def query_OR(**kwargs):\n",
        "    \"\"\"\n",
        "    WARNING: Accents will be removed!\n",
        "    Use the lens.org API to obtain a API query string\n",
        "    to feed get_query\n",
        "\n",
        "    Parameters\n",
        "    ----------\n",
        "     query type must be go first! Example: title, affiliation, abstract, etc:\n",
        "     For example for `title`:\n",
        "      title=\"covid-19\" #(or Affiliation o lens_id, or ...) \n",
        "      match_type ='match_phrase' #for exact match, or match for OR between words\n",
        "      range_type=\"date_published\",\n",
        "      date_ini=1900-01-01,\n",
        "      date_end=... #Default to today\n",
        "      size=1000,\n",
        "      abstract=True # Search also in abstract \n",
        "    \"\"\"\n",
        "    key=list(kwargs.keys())[0]\n",
        "    l=kwargs[key]\n",
        "    if not isinstance(l,list):\n",
        "        sys.exit('{} must be a list'.format(key))\n",
        "    #Set default values\n",
        "    if not kwargs.get('match_type'):\n",
        "        kwargs['match_type']='match_phrase'\n",
        "    if not kwargs.get('size'):\n",
        "        kwargs['size']=1000\n",
        "    if not kwargs.get('range_type'):\n",
        "        kwargs['range_type']=\"date_published\"\n",
        "    if not kwargs.get('date_ini'):\n",
        "        kwargs['date_ini']='1900-01-01'\n",
        "    if not kwargs.get('date_end'):\n",
        "        kwargs['date_end']=datetime.datetime.today().strftime('%Y-%m-%d')\n",
        "    if kwargs.get('range_type')==\"year_published\":\n",
        "        date_ini=kwargs.get('date_ini').split('-')[0]\n",
        "        date_end=kwargs.get('date_end').split('-')[0]\n",
        "    data='''{\n",
        "    \"query\": {\n",
        "       \"bool\": {\n",
        "         \"must\": [{\n",
        "            \"bool\": {\n",
        "               \"should\": %s\n",
        "                    }\n",
        "               },\n",
        "           {\n",
        "           \"range\": {\n",
        "           \"%s\": {\n",
        "                    \"gte\": \"%s\",\n",
        "                    \"lte\": \"%s\"\n",
        "                }\n",
        "           } \n",
        "           }\n",
        "         ]\n",
        "       }\n",
        "     },\n",
        "     \"size\": %i\n",
        "    }''' %(ORKEYS(key,l,kwargs),\n",
        "                 kwargs.get('range_type'),\n",
        "                 kwargs.get('date_ini'),\n",
        "                 kwargs.get('date_end'),\n",
        "                 kwargs.get('size'))\n",
        "    return data\n",
        "\n",
        "\n",
        "def get_query(*args,**kwargs):\n",
        "    '''\n",
        "    Use the lens.org API to obtain a DataFrame with the query\n",
        "\n",
        "    Parameters\n",
        "    ----------\n",
        "      data_function: function to generate the data query. See query(...)\n",
        "      title=\"covid-19\" #(or Affiliation o lens_id, or ...)\n",
        "      range_type=\"date_published\",\n",
        "      date_ini=1900-01-01,\n",
        "      date_end=... #Default to today\n",
        "      size=1000, \n",
        "      url=API_url,\n",
        "      token=token #API token  \n",
        "    '''\n",
        "    query=args[0]\n",
        "    token=kwargs.get('token')\n",
        "    url=kwargs.get('url')\n",
        "    kk=kwargs.pop('url')\n",
        "    kk=kwargs.pop('token')\n",
        "    data=query(**kwargs)\n",
        "    headers = {'Authorization': '{}'.format(token), 'Content-Type': 'application/json'}\n",
        "    response = requests.post(url, data=data, headers=headers)\n",
        "    if response.status_code != requests.codes.ok:\n",
        "        print(response.status_code)\n",
        "        r='[]'\n",
        "    else:\n",
        "        r=response.text\n",
        "    return pd.read_json(r)    \n"
      ],
      "execution_count": 0,
      "outputs": []
    },
    {
      "cell_type": "code",
      "metadata": {
        "id": "jjRdz-yeKIey",
        "colab_type": "code",
        "colab": {
          "base_uri": "https://localhost:8080/",
          "height": 427
        },
        "outputId": "02c6f9ff-b94e-4196-f599-5de1b60b07cd"
      },
      "source": [
        "kk=query_OR(\n",
        "      title=[\"covid-19\",\"sars-cov-2\"],\n",
        "      range_type=\"date_published\",\n",
        "      date_ini='1900-01-01',\n",
        "      date_end='2020-04-07',\n",
        "      size=1000)\n",
        "print(kk)"
      ],
      "execution_count": 38,
      "outputs": [
        {
          "output_type": "stream",
          "text": [
            "{\n",
            "    \"query\": {\n",
            "       \"bool\": {\n",
            "         \"must\": [{\n",
            "            \"bool\": {\n",
            "               \"should\": [\n",
            "                   {  \"match_phrase\":{\"title\": \"covid-19\"} },\n",
            "                   {  \"match_phrase\":{\"title\": \"sars-cov-2\"} }\n",
            "                      ]\n",
            "                    }\n",
            "               },\n",
            "           {\n",
            "           \"range\": {\n",
            "           \"date_published\": {\n",
            "                    \"gte\": \"1900-01-01\",\n",
            "                    \"lte\": \"2020-04-07\"\n",
            "                }\n",
            "           } \n",
            "           }\n",
            "         ]\n",
            "       }\n",
            "     },\n",
            "     \"size\": 1000\n",
            "    }\n"
          ],
          "name": "stdout"
        }
      ]
    },
    {
      "cell_type": "code",
      "metadata": {
        "id": "YOmcwaMh78D_",
        "colab_type": "code",
        "colab": {
          "base_uri": "https://localhost:8080/",
          "height": 376
        },
        "outputId": "4646e313-7862-4167-c011-69cd83868f09"
      },
      "source": [
        "kk=query_OR(\n",
        "      title=[\"covid-19\",\"sars-cov-2\"],\n",
        "      range_type=\"date_published\",\n",
        "      date_ini='1900-01-01',\n",
        "      date_end='2020-04-07',\n",
        "      size=1000)\n",
        "print(kk)"
      ],
      "execution_count": 44,
      "outputs": [
        {
          "output_type": "stream",
          "text": [
            "{\n",
            "    \"query\": {\n",
            "       \"bool\": {\n",
            "         \"must\": [{\n",
            "            \"bool\": {\n",
            "               \"should\": [{\"match_phrase\": {\"title\": \"covid-19\"}}, {\"match_phrase\": {\"title\": \"sars-cov-2\"}}]\n",
            "                    }\n",
            "               },\n",
            "           {\n",
            "           \"range\": {\n",
            "           \"date_published\": {\n",
            "                    \"gte\": \"1900-01-01\",\n",
            "                    \"lte\": \"2020-04-07\"\n",
            "                }\n",
            "           } \n",
            "           }\n",
            "         ]\n",
            "       }\n",
            "     },\n",
            "     \"size\": 1000\n",
            "    }\n"
          ],
          "name": "stdout"
        }
      ]
    },
    {
      "cell_type": "code",
      "metadata": {
        "id": "nkXq8Vsyo_MN",
        "colab_type": "code",
        "outputId": "a1f2f534-f456-4cf3-c596-6dd5c780a99c",
        "colab": {
          "base_uri": "https://localhost:8080/",
          "height": 34
        }
      },
      "source": [
        "RELOAD=True\n",
        "rr=pd.DataFrame()\n",
        "start_date=datetime.datetime.strptime('1900-01-01','%Y-%m-%d')\n",
        "#start_date=datetime.datetime.strptime('2020-03-24','%Y-%m-%d')\n",
        "today=datetime.datetime.today()\n",
        "dd=['2020-03-03','2020-03-13','2020-03-23',today.strftime('%Y-%m-%d')]\n",
        "#dd=['2020-04-07']\n",
        "for d in dd:\n",
        "    if not RELOAD:\n",
        "        break\n",
        "    next_date=datetime.datetime.strptime(d,'%Y-%m-%d')\n",
        "    if next_date.date()==today.date():\n",
        "        rr.to_json('data/covid_19_{}.json.gz'.format(\n",
        "             (start_date-datetime.timedelta(days=1)).strftime('%Y-%m-%d')   ))\n",
        "\n",
        "    print('{} → {} : '.format( start_date.strftime('%Y-%m-%d'),\n",
        "                              next_date.strftime('%Y-%m-%d') ),\n",
        "          end='')\n",
        "    tmp=get_query(query_OR,\n",
        "      title=[\"covid-19\",\"sars-cov-2\"],\n",
        "      range_type=\"date_published\",\n",
        "      date_ini=start_date.strftime('%Y-%m-%d'),\n",
        "      date_end=next_date.strftime('%Y-%m-%d'),\n",
        "      size=1000,\n",
        "      url=url,\n",
        "      token=token) \n",
        "\n",
        "    print(tmp.shape)\n",
        "    rr=rr.append( tmp  ).reset_index(drop=True)\n",
        "    start_date=next_date+datetime.timedelta(days=1)\n",
        "    \n",
        "    if d==dd[0]:\n",
        "        break   \n",
        "    time.sleep(5)"
      ],
      "execution_count": 45,
      "outputs": [
        {
          "output_type": "stream",
          "text": [
            "1900-01-01 → 2020-03-03 : (960, 3)\n"
          ],
          "name": "stdout"
        }
      ]
    },
    {
      "cell_type": "markdown",
      "metadata": {
        "colab_type": "text",
        "id": "aYFE4w2nj0BG"
      },
      "source": [
        "### Check results"
      ]
    },
    {
      "cell_type": "code",
      "metadata": {
        "id": "ihXm-9uX16Mv",
        "colab_type": "code",
        "colab": {}
      },
      "source": [
        "if RELOAD:\n",
        "    cv=pd.DataFrame(list(rr.data.values))\n",
        "    cv.to_json('data/covid_19.json.gz')\n",
        "else:\n",
        "    urljason='https://github.com/restrepo/lensapi/raw/master/data/covid_19.json.gz'\n",
        "    cv=pd.read_json(urljason,compression='gzip')"
      ],
      "execution_count": 0,
      "outputs": []
    },
    {
      "cell_type": "code",
      "metadata": {
        "colab_type": "code",
        "id": "8LesJKD1j0BX",
        "outputId": "fb34b6b8-4d2d-4ef1-9e3a-c11b6be5a0e5",
        "colab": {
          "base_uri": "https://localhost:8080/",
          "height": 34
        }
      },
      "source": [
        "cv.shape"
      ],
      "execution_count": 0,
      "outputs": [
        {
          "output_type": "execute_result",
          "data": {
            "text/plain": [
              "(3538, 29)"
            ]
          },
          "metadata": {
            "tags": []
          },
          "execution_count": 201
        }
      ]
    },
    {
      "cell_type": "code",
      "metadata": {
        "id": "dL15FCJY2Yf4",
        "colab_type": "code",
        "outputId": "57acabeb-1176-42e9-c558-0050af08c457",
        "colab": {
          "base_uri": "https://localhost:8080/",
          "height": 34
        }
      },
      "source": [
        "cv.scholarly_citations_count.sum()"
      ],
      "execution_count": 0,
      "outputs": [
        {
          "output_type": "execute_result",
          "data": {
            "text/plain": [
              "933.0"
            ]
          },
          "metadata": {
            "tags": []
          },
          "execution_count": 202
        }
      ]
    },
    {
      "cell_type": "code",
      "metadata": {
        "colab_type": "code",
        "id": "S5f46Ftr2vsV",
        "outputId": "ef5d553e-1617-4606-88a8-120ef997ec67",
        "colab": {
          "base_uri": "https://localhost:8080/",
          "height": 298
        }
      },
      "source": [
        "cv['Year']=cv.date_published.apply(lambda s: s.split('-')[0] if type(s)==str else \n",
        "                                          s.get('date').split('-')[0] )\n",
        "cv=cv[~cv['Year'].isna()].reset_index(drop=True)\n",
        "cv['Year']=cv['Year'].astype(int)\n",
        "cv[cv['Year']>2007]['Year'].value_counts().sort_index().plot(kind='bar')"
      ],
      "execution_count": 0,
      "outputs": [
        {
          "output_type": "execute_result",
          "data": {
            "text/plain": [
              "<matplotlib.axes._subplots.AxesSubplot at 0x7f65de466eb8>"
            ]
          },
          "metadata": {
            "tags": []
          },
          "execution_count": 203
        },
        {
          "output_type": "display_data",
          "data": {
            "image/png": "[encoded data removed]",
            "text/plain": [
              "<Figure size 432x288 with 1 Axes>"
            ]
          },
          "metadata": {
            "tags": []
          }
        }
      ]
    },
    {
      "cell_type": "markdown",
      "metadata": {
        "id": "f1W7TUxYjp8C",
        "colab_type": "text"
      },
      "source": [
        "### Search for citations"
      ]
    },
    {
      "cell_type": "code",
      "metadata": {
        "id": "otbgXEbL0T7B",
        "colab_type": "code",
        "outputId": "d013a1e4-3424-4746-cd5d-864a9be2c5aa",
        "colab": {
          "base_uri": "https://localhost:8080/",
          "height": 34
        }
      },
      "source": [
        "if os.getcwd()=='/content':\n",
        "    from google.colab import drive\n",
        "    drive.mount('/content/drive')"
      ],
      "execution_count": 0,
      "outputs": [
        {
          "output_type": "stream",
          "text": [
            "Drive already mounted at /content/drive; to attempt to forcibly remount, call drive.mount(\"/content/drive\", force_remount=True).\n"
          ],
          "name": "stdout"
        }
      ]
    },
    {
      "cell_type": "markdown",
      "metadata": {
        "id": "Ra8cZQzB8xB9",
        "colab_type": "text"
      },
      "source": [
        "Lens.org allows to search for a list of idintifiers ot length until 20"
      ]
    },
    {
      "cell_type": "code",
      "metadata": {
        "id": "JfqkPsVjKQNk",
        "colab_type": "code",
        "outputId": "3e6e4a4e-8ef4-4f47-9336-f98bee9dc72d",
        "colab": {
          "base_uri": "https://localhost:8080/",
          "height": 34
        }
      },
      "source": [
        "l=list(cv['scholarly_citations'].apply(pd.Series).stack().unique())\n",
        "len(l)"
      ],
      "execution_count": 0,
      "outputs": [
        {
          "output_type": "execute_result",
          "data": {
            "text/plain": [
              "452"
            ]
          },
          "metadata": {
            "tags": []
          },
          "execution_count": 205
        }
      ]
    },
    {
      "cell_type": "code",
      "metadata": {
        "id": "k9ZVX0US2N2A",
        "colab_type": "code",
        "colab": {}
      },
      "source": [
        "cvc=pd.DataFrame()\n",
        "rold=0\n",
        "terms_max=20\n",
        "lenl=len(l)\n",
        "steps=list(range(0,lenl,terms_max))[1:]+[ lenl ]\n",
        "for r in steps:\n",
        "    ll=l[rold:r]\n",
        "    rold=r\n",
        "    #make lens query\n",
        "    tmp=get_query(query_terms,lens_id=ll,url=url,token=token)\n",
        "    cvc=cvc.append(tmp).reset_index(drop=True)\n",
        "    cvc.to_json('covid_19_scholarly_citations.json')\n",
        "    if os.getcwd()=='/content':\n",
        "        !cp covid_19_scholarly_citations.json drive/My\\ Drive\n",
        "        \n",
        "    time.sleep(5)\n",
        "    #break    "
      ],
      "execution_count": 0,
      "outputs": []
    },
    {
      "cell_type": "code",
      "metadata": {
        "id": "jniryELF8M8I",
        "colab_type": "code",
        "outputId": "667a3e8c-80ae-4ee8-9f84-eb2b83e8c8c3",
        "colab": {
          "base_uri": "https://localhost:8080/",
          "height": 416
        }
      },
      "source": [
        "cvc"
      ],
      "execution_count": 0,
      "outputs": [
        {
          "output_type": "execute_result",
          "data": {
            "text/html": [
              "<div>\n",
              "<style scoped>\n",
              "    .dataframe tbody tr th:only-of-type {\n",
              "        vertical-align: middle;\n",
              "    }\n",
              "\n",
              "    .dataframe tbody tr th {\n",
              "        vertical-align: top;\n",
              "    }\n",
              "\n",
              "    .dataframe thead th {\n",
              "        text-align: right;\n",
              "    }\n",
              "</style>\n",
              "<table border=\"1\" class=\"dataframe\">\n",
              "  <thead>\n",
              "    <tr style=\"text-align: right;\">\n",
              "      <th></th>\n",
              "      <th>total</th>\n",
              "      <th>data</th>\n",
              "      <th>results</th>\n",
              "    </tr>\n",
              "  </thead>\n",
              "  <tbody>\n",
              "    <tr>\n",
              "      <th>0</th>\n",
              "      <td>20</td>\n",
              "      <td>{'lens_id': '003-127-464-982-370', 'created': ...</td>\n",
              "      <td>20</td>\n",
              "    </tr>\n",
              "    <tr>\n",
              "      <th>1</th>\n",
              "      <td>20</td>\n",
              "      <td>{'lens_id': '012-011-397-538-967', 'created': ...</td>\n",
              "      <td>20</td>\n",
              "    </tr>\n",
              "    <tr>\n",
              "      <th>2</th>\n",
              "      <td>20</td>\n",
              "      <td>{'lens_id': '014-541-219-035-444', 'created': ...</td>\n",
              "      <td>20</td>\n",
              "    </tr>\n",
              "    <tr>\n",
              "      <th>3</th>\n",
              "      <td>20</td>\n",
              "      <td>{'lens_id': '015-517-208-703-589', 'created': ...</td>\n",
              "      <td>20</td>\n",
              "    </tr>\n",
              "    <tr>\n",
              "      <th>4</th>\n",
              "      <td>20</td>\n",
              "      <td>{'lens_id': '018-684-021-973-690', 'created': ...</td>\n",
              "      <td>20</td>\n",
              "    </tr>\n",
              "    <tr>\n",
              "      <th>...</th>\n",
              "      <td>...</td>\n",
              "      <td>...</td>\n",
              "      <td>...</td>\n",
              "    </tr>\n",
              "    <tr>\n",
              "      <th>447</th>\n",
              "      <td>12</td>\n",
              "      <td>{'lens_id': '110-036-168-210-398', 'created': ...</td>\n",
              "      <td>12</td>\n",
              "    </tr>\n",
              "    <tr>\n",
              "      <th>448</th>\n",
              "      <td>12</td>\n",
              "      <td>{'lens_id': '165-124-194-843-143', 'created': ...</td>\n",
              "      <td>12</td>\n",
              "    </tr>\n",
              "    <tr>\n",
              "      <th>449</th>\n",
              "      <td>12</td>\n",
              "      <td>{'lens_id': '192-133-947-684-196', 'created': ...</td>\n",
              "      <td>12</td>\n",
              "    </tr>\n",
              "    <tr>\n",
              "      <th>450</th>\n",
              "      <td>12</td>\n",
              "      <td>{'lens_id': '194-137-793-241-923', 'created': ...</td>\n",
              "      <td>12</td>\n",
              "    </tr>\n",
              "    <tr>\n",
              "      <th>451</th>\n",
              "      <td>12</td>\n",
              "      <td>{'lens_id': '199-885-697-490-52X', 'created': ...</td>\n",
              "      <td>12</td>\n",
              "    </tr>\n",
              "  </tbody>\n",
              "</table>\n",
              "<p>452 rows × 3 columns</p>\n",
              "</div>"
            ],
            "text/plain": [
              "     total                                               data  results\n",
              "0       20  {'lens_id': '003-127-464-982-370', 'created': ...       20\n",
              "1       20  {'lens_id': '012-011-397-538-967', 'created': ...       20\n",
              "2       20  {'lens_id': '014-541-219-035-444', 'created': ...       20\n",
              "3       20  {'lens_id': '015-517-208-703-589', 'created': ...       20\n",
              "4       20  {'lens_id': '018-684-021-973-690', 'created': ...       20\n",
              "..     ...                                                ...      ...\n",
              "447     12  {'lens_id': '110-036-168-210-398', 'created': ...       12\n",
              "448     12  {'lens_id': '165-124-194-843-143', 'created': ...       12\n",
              "449     12  {'lens_id': '192-133-947-684-196', 'created': ...       12\n",
              "450     12  {'lens_id': '194-137-793-241-923', 'created': ...       12\n",
              "451     12  {'lens_id': '199-885-697-490-52X', 'created': ...       12\n",
              "\n",
              "[452 rows x 3 columns]"
            ]
          },
          "metadata": {
            "tags": []
          },
          "execution_count": 207
        }
      ]
    },
    {
      "cell_type": "code",
      "metadata": {
        "id": "-wzLS4Tp0z7B",
        "colab_type": "code",
        "colab": {}
      },
      "source": [
        "dfcvc=pd.DataFrame(list(cvc.data.values))"
      ],
      "execution_count": 0,
      "outputs": []
    },
    {
      "cell_type": "code",
      "metadata": {
        "id": "dM02vh2hCE_J",
        "colab_type": "code",
        "colab": {}
      },
      "source": [
        "dfcvc.to_json('covid_19_scholarly_citations.json')"
      ],
      "execution_count": 0,
      "outputs": []
    },
    {
      "cell_type": "code",
      "metadata": {
        "id": "iVApG0Za1M3f",
        "colab_type": "code",
        "outputId": "41d94dd3-8f04-4faa-d535-19a1fa8bdcab",
        "colab": {
          "base_uri": "https://localhost:8080/",
          "height": 171
        }
      },
      "source": [
        "dfcvc.columns"
      ],
      "execution_count": 0,
      "outputs": [
        {
          "output_type": "execute_result",
          "data": {
            "text/plain": [
              "Index(['lens_id', 'created', 'publication_type',\n",
              "       'publication_supplementary_type', 'authors', 'title', 'languages',\n",
              "       'references', 'fields_of_study', 'source_urls', 'abstract',\n",
              "       'year_published', 'references_count', 'external_ids', 'source',\n",
              "       'author_count', 'date_published', 'volume', 'issue', 'open_access',\n",
              "       'start_page', 'end_page', 'keywords', 'mesh_terms', 'chemicals',\n",
              "       'scholarly_citations_count', 'scholarly_citations', 'funding',\n",
              "       'clinical_trials'],\n",
              "      dtype='object')"
            ]
          },
          "metadata": {
            "tags": []
          },
          "execution_count": 210
        }
      ]
    },
    {
      "cell_type": "code",
      "metadata": {
        "id": "JhaOA415CCss",
        "colab_type": "code",
        "colab": {}
      },
      "source": [
        ""
      ],
      "execution_count": 0,
      "outputs": []
    }
  ]
}