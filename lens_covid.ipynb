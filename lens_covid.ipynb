{
  "nbformat": 4,
  "nbformat_minor": 0,
  "metadata": {
    "colab": {
      "name": "lens_covid.ipynb",
      "provenance": [],
      "include_colab_link": true
    },
    "kernelspec": {
      "display_name": "Python 3",
      "language": "python",
      "name": "python3"
    },
    "language_info": {
      "codemirror_mode": {
        "name": "ipython",
        "version": 3
      },
      "file_extension": ".py",
      "mimetype": "text/x-python",
      "name": "python",
      "nbconvert_exporter": "python",
      "pygments_lexer": "ipython3",
      "version": "3.5.3"
    },
    "latex_envs": {
      "LaTeX_envs_menu_present": true,
      "autoclose": false,
      "autocomplete": true,
      "bibliofile": "biblio.bib",
      "cite_by": "apalike",
      "current_citInitial": 1,
      "eqLabelWithNumbers": true,
      "eqNumInitial": 1,
      "hotkeys": {
        "equation": "Ctrl-E",
        "itemize": "Ctrl-I"
      },
      "labels_anchors": false,
      "latex_user_defs": false,
      "report_style_numbering": false,
      "user_envs_cfg": false
    }
  },
  "cells": [
    {
      "cell_type": "markdown",
      "metadata": {
        "id": "view-in-github",
        "colab_type": "text"
      },
      "source": [
        "<a href=\"https://colab.research.google.com/github/restrepo/articles_COVID-19/blob/master/lens_covid.ipynb\" target=\"_parent\"><img src=\"https://colab.research.google.com/assets/colab-badge.svg\" alt=\"Open In Colab\"/></a>"
      ]
    },
    {
      "cell_type": "markdown",
      "metadata": {
        "colab_type": "text",
        "id": "D_lKr3Avj0Ag"
      },
      "source": [
        "# Lens API search for Coronavirus in Lens\n",
        "* 5,000 API requests and up to 5 million records per month\n",
        "* 10 API requests/minute and up to 1,000 records per request: `sleep=6`"
      ]
    },
    {
      "cell_type": "markdown",
      "metadata": {
        "colab_type": "text",
        "id": "39xV6tjuj0Ai"
      },
      "source": [
        "Check: https://docs.api.lens.org/request.html"
      ]
    },
    {
      "cell_type": "markdown",
      "metadata": {
        "colab_type": "text",
        "id": "phECk_hnj0Aj"
      },
      "source": [
        "Get token: https://www.lens.org/lens/user/subscriptions"
      ]
    },
    {
      "cell_type": "markdown",
      "metadata": {
        "id": "z9YsatRoc0yu",
        "colab_type": "text"
      },
      "source": [
        "Examples: https://github.com/cambialens/lens-api-doc"
      ]
    },
    {
      "cell_type": "markdown",
      "metadata": {
        "id": "OekButEdKmSt",
        "colab_type": "text"
      },
      "source": [
        "### Design. \n",
        "* The `query` search for exact match of any type: title, abstract, affiliation, etc.\n",
        "* The `query_terms` search for a list of maximum 20 identifiers\n",
        "* The `query_ORAND` search for a list of type: title, abstract, full_text  etc, words (phrases) with `match_type=match[_phrase]`. For example `title=['first','second','third']`.\n",
        "    * By default the OR search is done in title, abstract and full_text search"
      ]
    },
    {
      "cell_type": "markdown",
      "metadata": {
        "colab_type": "text",
        "id": "fyrZq73Yj0Ak"
      },
      "source": [
        "## Functions and global variables"
      ]
    },
    {
      "cell_type": "code",
      "metadata": {
        "colab_type": "code",
        "id": "Rw3EV881j0Am",
        "outputId": "48f95fb9-a9fb-4475-f594-23b1805811d6",
        "colab": {
          "base_uri": "https://localhost:8080/",
          "height": 53
        }
      },
      "source": [
        "import getpass\n",
        "import numpy as np\n",
        "import pandas as pd\n",
        "import requests\n",
        "import sys\n",
        "import time\n",
        "import os\n",
        "import datetime\n",
        "if os.getcwd()=='/content':\n",
        "    !pip install unidecode\n",
        "    !mkdir data\n",
        "import unidecode\n",
        "urljason='https://github.com/restrepo/articles_COVID-19/raw/master/data'"
      ],
      "execution_count": 7,
      "outputs": [
        {
          "output_type": "stream",
          "text": [
            "Requirement already satisfied: unidecode in /usr/local/lib/python3.6/dist-packages (1.1.1)\n",
            "mkdir: cannot create directory ‘data’: File exists\n"
          ],
          "name": "stdout"
        }
      ]
    },
    {
      "cell_type": "markdown",
      "metadata": {
        "colab_type": "text",
        "id": "TFUR-R4pj0Ap"
      },
      "source": [
        "<!-- #666mmkP9Ibp7bDpLNLKZF8bdYDxCQmxXhFuJzJViVKH92kyBlGmatE2888\n",
        " -->"
      ]
    },
    {
      "cell_type": "code",
      "metadata": {
        "colab_type": "code",
        "id": "Nl8_4Hyoj0Aq",
        "outputId": "6fde7fb6-c1c6-4f05-e402-fe332260ce3a",
        "colab": {
          "base_uri": "https://localhost:8080/",
          "height": 35
        }
      },
      "source": [
        "token=getpass.getpass('token:')"
      ],
      "execution_count": 4,
      "outputs": [
        {
          "output_type": "stream",
          "text": [
            "token:··········\n"
          ],
          "name": "stdout"
        }
      ]
    },
    {
      "cell_type": "code",
      "metadata": {
        "colab_type": "code",
        "id": "TwCrMmcRj0Au",
        "colab": {}
      },
      "source": [
        "url = 'https://api.lens.org/scholarly/search'\n",
        "size=1000"
      ],
      "execution_count": 0,
      "outputs": []
    },
    {
      "cell_type": "code",
      "metadata": {
        "id": "_B86X68TKC-2",
        "colab_type": "code",
        "colab": {}
      },
      "source": [
        "def ORKEYS(key,l,kwargs):\n",
        "    ll=[ {  kwargs['match_type']:{key: unidecode.unidecode(q)} } for q in l]\n",
        "    if kwargs['abstract']==True:\n",
        "        ll=ll+[ {  kwargs['match_type']:{'abstract': unidecode.unidecode(q)} } \n",
        "                 for q in l]\n",
        "        ll=ll+[ {  kwargs['match_type']:{'full_text': unidecode.unidecode(q)} } \n",
        "                 for q in l]\n",
        "    return str(ll).replace(\"'\",'\"')\n",
        "\n",
        "def query_terms(**kwargs):\n",
        "    \"\"\"\n",
        "    WARNING: Accents will be removed!\n",
        "    Use the lens.org API to obtain a API query string\n",
        "    to feed get_query\n",
        "\n",
        "    Parameters\n",
        "    ----------\n",
        "      lens_id=list of identifiers\n",
        "      range_type=\"date_published\",\n",
        "      date_ini=1900-01-01,\n",
        "      date_end=... #Default to today\n",
        "      size=1000, \n",
        "    \"\"\"\n",
        "    key=list(kwargs.keys())[0]\n",
        "    l=kwargs[key]\n",
        "    if isinstance(l,list):\n",
        "        if len(l)>20:\n",
        "            print('WARNING: Only first 20 items will be searched')\n",
        "        ls=str(l).replace(\"'\",'\"')\n",
        "    else:\n",
        "        sys.exit( 'ERROR: {} must be a list'.format(k) )\n",
        "\n",
        "    data='''{\n",
        "    \"query\": {\n",
        "        \"terms\": {\n",
        "\t\t\t\"%s\": %s\n",
        "\t\t}\n",
        "     }\n",
        "    }''' %(key,ls )\n",
        "    return data\n",
        "\n",
        "def query(**kwargs):\n",
        "    \"\"\"\n",
        "    WARNING: Accents will be removed!\n",
        "    Use the lens.org API to obtain a API query string\n",
        "    to feed get_query\n",
        "\n",
        "    Parameters\n",
        "    ----------\n",
        "     query type must be go first! Example: title, affiliation, abstract, etc:\n",
        "     For example for `title`:\n",
        "      title=\"covid-19\" #(or Affiliation o lens_id, or ...) \n",
        "      match_type ='match_phrase' #for exact match, or match for OR between words\n",
        "      range_type=\"date_published\",\n",
        "      date_ini=1900-01-01,\n",
        "      date_end=... #Default to today\n",
        "      size=1000, \n",
        "    \"\"\"\n",
        "    key=list(kwargs.keys())[0]\n",
        "    q=unidecode.unidecode(kwargs[key])\n",
        "    #Set default values\n",
        "    if not kwargs.get('match_type'):\n",
        "        kwargs['match_type']='match_phrase'\n",
        "    if not kwargs.get('size'):\n",
        "        kwargs['size']=1000\n",
        "    if not kwargs.get('range_type'):\n",
        "        kwargs['range_type']=\"date_published\"\n",
        "    if not kwargs.get('date_ini'):\n",
        "        kwargs['date_ini']='1900-01-01'\n",
        "    if not kwargs.get('date_end'):\n",
        "        kwargs['date_end']=datetime.datetime.today().strftime('%Y-%m-%d')\n",
        "    if kwargs.get('range_type')==\"year_published\":\n",
        "        date_ini=kwargs.get('date_ini').split('-')[0]\n",
        "        date_end=kwargs.get('date_end').split('-')[0]\n",
        "    data='''{\n",
        "    \"query\": {\n",
        "       \"bool\": {\n",
        "         \"must\": [{\n",
        "           \"%s\":{\n",
        "                    \"%s\": \"%s\"\n",
        "               }\n",
        "           },\n",
        "           {\n",
        "           \"range\": {\n",
        "           \"%s\": {\n",
        "                    \"gte\": \"%s\",\n",
        "                    \"lte\": \"%s\"\n",
        "                }\n",
        "           } \n",
        "           }\n",
        "         ]\n",
        "       }\n",
        "     },\n",
        "     \"size\": %i\n",
        "    }''' %(kwargs['match_type'],key,q,\n",
        "                 kwargs.get('range_type'),\n",
        "                 kwargs.get('date_ini'),\n",
        "                 kwargs.get('date_end'),\n",
        "                 kwargs.get('size'))\n",
        "    return data\n",
        "\n",
        "\n",
        "def query_ORAND(**kwargs):\n",
        "    \"\"\"\n",
        "    WARNING: Accents will be removed!\n",
        "    Use the lens.org API to obtain a API query string\n",
        "    to feed get_query\n",
        "\n",
        "    Parameters\n",
        "    ----------\n",
        "     query type must be go first! Example: title, affiliation, abstract, etc:\n",
        "     For example for `title`:\n",
        "      title=\"covid-19\" #(or Affiliation o lens_id, or ...) \n",
        "      match_type ='match_phrase' #for exact match, or match for OR between words\n",
        "      abstract=bolean. Deafult True. Include query in abstract\n",
        "      range_type=\"date_published\",\n",
        "      date_ini=1900-01-01,\n",
        "      date_end=... #Default to today\n",
        "      size=1000,\n",
        "      abstract=True # Search also in abstract \n",
        "    \"\"\"\n",
        "    key=list(kwargs.keys())[0]\n",
        "    l=kwargs[key]\n",
        "    if not isinstance(l,list):\n",
        "        sys.exit('{} must be a list'.format(key))\n",
        "    #Set default values\n",
        "    if not kwargs.get('match_type'):\n",
        "        kwargs['match_type']='match_phrase'\n",
        "    if not kwargs.get('size'):\n",
        "        kwargs['size']=1000\n",
        "    if kwargs.get('logical')==\"AND\":\n",
        "        logical='must'\n",
        "    else:\n",
        "        kwargs['logical']=\"OR\"\n",
        "        logical='should' \n",
        "    if not kwargs.get('abstract'):\n",
        "        if kwargs['logical']==\"AND\":\n",
        "            kwargs['abstract']=False\n",
        "        else:\n",
        "            kwargs['abstract']=True\n",
        "    if not kwargs.get('logical'):\n",
        "        kwargs['logical']=\"OR\"\n",
        "    if not kwargs.get('range_type'):\n",
        "        kwargs['range_type']=\"date_published\"\n",
        "    if not kwargs.get('date_ini'):\n",
        "        kwargs['date_ini']='1900-01-01'\n",
        "    if not kwargs.get('date_end'):\n",
        "        kwargs['date_end']=datetime.datetime.today().strftime('%Y-%m-%d')\n",
        "    if kwargs.get('range_type')==\"year_published\":\n",
        "        date_ini=kwargs.get('date_ini').split('-')[0]\n",
        "        date_end=kwargs.get('date_end').split('-')[0]\n",
        "    data='''{\n",
        "    \"query\": {\n",
        "       \"bool\": {\n",
        "         \"must\": [{\n",
        "            \"bool\": {\n",
        "               \"%s\": %s\n",
        "                    }\n",
        "               },\n",
        "           {\n",
        "           \"range\": {\n",
        "           \"%s\": {\n",
        "                    \"gte\": \"%s\",\n",
        "                    \"lte\": \"%s\"\n",
        "                }\n",
        "           } \n",
        "           }\n",
        "         ]\n",
        "       }\n",
        "     },\n",
        "     \"size\": %i\n",
        "    }''' %(logical,\n",
        "           ORKEYS(key,l,kwargs),\n",
        "                 kwargs.get('range_type'),\n",
        "                 kwargs.get('date_ini'),\n",
        "                 kwargs.get('date_end'),\n",
        "                 kwargs.get('size'))\n",
        "    return data\n",
        "\n",
        "\n",
        "def get_query(*args,**kwargs):\n",
        "    '''\n",
        "    Use the lens.org API to obtain a DataFrame with the query\n",
        "\n",
        "    Parameters\n",
        "    ----------\n",
        "      data_function: function to generate the data query. See query(...)\n",
        "      title=\"covid-19\" #(or Affiliation o lens_id, or ...)\n",
        "      range_type=\"date_published\",\n",
        "      date_ini=1900-01-01,\n",
        "      date_end=... #Default to today\n",
        "      size=1000, \n",
        "      url=API_url,\n",
        "      token=token #API token  \n",
        "    '''\n",
        "    query=args[0]\n",
        "    token=kwargs.get('token')\n",
        "    url=kwargs.get('url')\n",
        "    kk=kwargs.pop('url')\n",
        "    kk=kwargs.pop('token')\n",
        "    data=query(**kwargs)\n",
        "    headers = {'Authorization': '{}'.format(token), 'Content-Type': 'application/json'}\n",
        "    response = requests.post(url, data=data, headers=headers)\n",
        "    if response.status_code != requests.codes.ok:\n",
        "        print(response.status_code)\n",
        "        r='[]'\n",
        "    else:\n",
        "        r=response.text\n",
        "    return pd.read_json(r)    \n"
      ],
      "execution_count": 0,
      "outputs": []
    },
    {
      "cell_type": "markdown",
      "metadata": {
        "id": "oRQDzrJNEAvQ",
        "colab_type": "text"
      },
      "source": [
        "* Pubmed formula:\n",
        "```\n",
        "«SARS-CoV-2″[Title/Abstract] OR «SARSCoV2″[Title/Abstract] \n",
        "OR «2019-nCoV»[Title/Abstract] OR «COVID-19″[Title/Abstract] \n",
        "OR «COVID19″[Title/Abstract] OR «Hcov-19″[Title/Abstract] \n",
        "OR «novel coronavirus» [Title/Abstract] \n",
        "OR «Coronavirus Disease 2019» \n",
        "OR «new coronavirus»[Title/Abstract] \n",
        "#OR (wuhan AND coronavirus)\n",
        "```\n",
        "* [Lens.org formula](https://link.lens.org/vlRajW10NJh)"
      ]
    },
    {
      "cell_type": "code",
      "metadata": {
        "id": "nkXq8Vsyo_MN",
        "colab_type": "code",
        "outputId": "4df5e652-fd8c-445a-dbcf-ee7bdf1bf9ab",
        "colab": {
          "base_uri": "https://localhost:8080/",
          "height": 413
        }
      },
      "source": [
        "RELOAD=True\n",
        "UPDATE=False\n",
        "querylist=[\"covid-19\",\"covid19\",\"covid-2019\",\"sars-cov-2\",\"sarscov2\",\"Hcov-19\",\n",
        "           \"novel coronavirus\",\"new coronavirus\",\"Coronavirus Disease 2019\"]\n",
        "rr=pd.DataFrame()\n",
        "start_date=datetime.datetime.strptime('1920-01-01','%Y-%m-%d')\n",
        "#start_date=datetime.datetime.strptime('2020-03-03','%Y-%m-%d')\n",
        "today=datetime.datetime.today()\n",
        "dd=['2015-05-31','2020-02-15','2020-02-29','2020-03-10','2020-03-16',\n",
        "    '2020-03-21','2020-03-25','2020-03-29','2020-03-31','2020-04-02',\n",
        "    '2020-04-05','2020-04-07','2020-04-09','2020-04-12','2020-04-14',\n",
        "    '2020-04-16','2020-04-19','2020-04-21','2020-04-23','2020-04-25',\n",
        "    today.strftime('%Y-%m-%d')]\n",
        "if UPDATE:\n",
        "    start_date=datetime.datetime.strptime('2020-03-24','%Y-%m-%d')\n",
        "    dd=[today.strftime('%Y-%m-%d')]\n",
        "    rr=pd.read_json('{}/covid_19_{}.json.gz'.format(urljason,\n",
        "                ( start_date-datetime.timedelta(days=1) ).strftime('%Y-%m-%d') ),\n",
        "                compression='gzip')\n",
        "#dd=['2020-03-02']\n",
        "for d in dd:\n",
        "    if not RELOAD:\n",
        "        break\n",
        "    next_date=datetime.datetime.strptime(d,'%Y-%m-%d')\n",
        "    if next_date.date()==today.date():\n",
        "        rr.to_json('data/covid_19_{}.json.gz'.format(\n",
        "             (start_date-datetime.timedelta(days=1)).strftime('%Y-%m-%d')   ))\n",
        "\n",
        "    print('{} → {} : '.format( start_date.strftime('%Y-%m-%d'),\n",
        "                              next_date.strftime('%Y-%m-%d') ),\n",
        "          end='')\n",
        "    tmp=get_query(query_ORAND,\n",
        "      title=querylist,\n",
        "      range_type=\"date_published\",\n",
        "      date_ini=start_date.strftime('%Y-%m-%d'),\n",
        "      date_end=next_date.strftime('%Y-%m-%d'),\n",
        "      size=1000,\n",
        "      url=url,\n",
        "      token=token) \n",
        "\n",
        "    print(tmp.shape)\n",
        "    rr=rr.append( tmp  ).reset_index(drop=True)\n",
        "    start_date=next_date+datetime.timedelta(days=1)\n",
        "    \n",
        "    #if d==dd[0]:\n",
        "    #    break   \n",
        "    time.sleep(7)\n",
        "kk='''\n",
        "1920-01-01 → 2015-05-31 : (997, 3)\n",
        "2015-06-01 → 2020-02-15 : (927, 3)\n",
        "2020-02-16 → 2020-02-28 : (945, 3)\n",
        "2020-02-29 → 2020-03-08 : (956, 3)\n",
        "2020-03-09 → 2020-03-12 : (962, 3)\n",
        "2020-03-13 → 2020-03-16 : (945, 3)\n",
        "2020-03-17 → 2020-03-18 : (732, 3)\n",
        "2020-03-19 → 2020-03-20 : (704, 3)\n",
        "2020-03-21 → 2020-03-25 : (964, 3)\n",
        "2020-03-26 → 2020-03-29 : (749, 3)\n",
        "2020-03-30 → 2020-03-31 : (657, 3)\n",
        "2020-04-01 → 2020-04-03 : (930, 3)\n",
        "2020-04-04 → 2020-04-07 : (935, 3)\n",
        "2020-04-08 → 2020-04-08 : (159, 3)\n",
        "2020-04-09 → 2020-04-26 : (0, 2)\n",
        "'''"
      ],
      "execution_count": 8,
      "outputs": [
        {
          "output_type": "stream",
          "text": [
            "1920-01-01 → 2015-05-31 : (991, 3)\n",
            "2015-06-01 → 2020-02-15 : (959, 3)\n",
            "2020-02-16 → 2020-02-29 : (888, 3)\n",
            "2020-03-01 → 2020-03-10 : (950, 3)\n",
            "2020-03-11 → 2020-03-16 : (873, 3)\n",
            "2020-03-17 → 2020-03-21 : (991, 3)\n",
            "2020-03-22 → 2020-03-25 : (834, 3)\n",
            "2020-03-26 → 2020-03-29 : (895, 3)\n",
            "2020-03-30 → 2020-03-31 : (883, 3)\n",
            "2020-04-01 → 2020-04-02 : (873, 3)\n",
            "2020-04-03 → 2020-04-05 : (760, 3)\n",
            "2020-04-06 → 2020-04-07 : (821, 3)\n",
            "2020-04-08 → 2020-04-09 : (686, 3)\n",
            "2020-04-10 → 2020-04-12 : (784, 3)\n",
            "2020-04-13 → 2020-04-14 : (662, 3)\n",
            "2020-04-15 → 2020-04-14 : (0, 2)\n",
            "2020-04-15 → 2020-04-16 : (826, 3)\n",
            "2020-04-17 → 2020-04-19 : (802, 3)\n",
            "2020-04-20 → 2020-04-21 : (927, 3)\n",
            "2020-04-22 → 2020-04-23 : (927, 3)\n",
            "2020-04-24 → 2020-04-25 : (129, 3)\n",
            "2020-04-26 → 2020-05-11 : (0, 2)\n"
          ],
          "name": "stdout"
        }
      ]
    },
    {
      "cell_type": "code",
      "metadata": {
        "id": "9ciolP3CCIBW",
        "colab_type": "code",
        "outputId": "2b5b4d3f-ca7c-46d2-e469-c8946ee4b404",
        "colab": {
          "base_uri": "https://localhost:8080/",
          "height": 35
        }
      },
      "source": [
        "rr.shape"
      ],
      "execution_count": 9,
      "outputs": [
        {
          "output_type": "execute_result",
          "data": {
            "text/plain": [
              "(16461, 3)"
            ]
          },
          "metadata": {
            "tags": []
          },
          "execution_count": 9
        }
      ]
    },
    {
      "cell_type": "markdown",
      "metadata": {
        "colab_type": "text",
        "id": "aYFE4w2nj0BG"
      },
      "source": [
        "### Check results"
      ]
    },
    {
      "cell_type": "code",
      "metadata": {
        "id": "ihXm-9uX16Mv",
        "colab_type": "code",
        "colab": {}
      },
      "source": [
        "RELOAD=True\n",
        "if RELOAD:\n",
        "    cv=pd.DataFrame(list(rr.data.values))\n",
        "    cv.to_json('data/covid_19.json.gz')\n",
        "else:\n",
        "    cv=pd.read_json('{}/covid_19.json.gz'.format(urljason),compression='gzip')"
      ],
      "execution_count": 0,
      "outputs": []
    },
    {
      "cell_type": "code",
      "metadata": {
        "id": "H9kc0Gsu7dsi",
        "colab_type": "code",
        "outputId": "76cb200b-7705-4c3b-dbc4-dbbeed66cf51",
        "colab": {
          "base_uri": "https://localhost:8080/",
          "height": 35
        }
      },
      "source": [
        "ls -lh data/covid_19.json.gz"
      ],
      "execution_count": 13,
      "outputs": [
        {
          "output_type": "stream",
          "text": [
            "-rw-r--r-- 1 root root 12M May 11 00:21 data/covid_19.json.gz\n"
          ],
          "name": "stdout"
        }
      ]
    },
    {
      "cell_type": "code",
      "metadata": {
        "colab_type": "code",
        "id": "8LesJKD1j0BX",
        "outputId": "3f32ac64-8135-4536-b995-558a72ca3c45",
        "colab": {
          "base_uri": "https://localhost:8080/",
          "height": 35
        }
      },
      "source": [
        "cv.shape"
      ],
      "execution_count": 14,
      "outputs": [
        {
          "output_type": "execute_result",
          "data": {
            "text/plain": [
              "(16461, 32)"
            ]
          },
          "metadata": {
            "tags": []
          },
          "execution_count": 14
        }
      ]
    },
    {
      "cell_type": "code",
      "metadata": {
        "id": "dL15FCJY2Yf4",
        "colab_type": "code",
        "outputId": "bd8a9fa9-9587-4f3f-8a47-5eb33e33ef72",
        "colab": {
          "base_uri": "https://localhost:8080/",
          "height": 35
        }
      },
      "source": [
        "cv.scholarly_citations_count.sum()"
      ],
      "execution_count": 15,
      "outputs": [
        {
          "output_type": "execute_result",
          "data": {
            "text/plain": [
              "71858.0"
            ]
          },
          "metadata": {
            "tags": []
          },
          "execution_count": 15
        }
      ]
    },
    {
      "cell_type": "code",
      "metadata": {
        "colab_type": "code",
        "id": "S5f46Ftr2vsV",
        "outputId": "aa059b4d-1a02-4c9b-dbb5-d0b159ebb1c1",
        "colab": {
          "base_uri": "https://localhost:8080/",
          "height": 299
        }
      },
      "source": [
        "cv['Year']=cv.date_published.apply(lambda s: s.split('-')[0] if type(s)==str else \n",
        "                                          s.get('date').split('-')[0] )\n",
        "cv=cv[~cv['Year'].isna()].reset_index(drop=True)\n",
        "cv['Year']=cv['Year'].astype(int)\n",
        "cv[cv['Year']>2007]['Year'].value_counts().sort_index().plot(kind='bar')"
      ],
      "execution_count": 16,
      "outputs": [
        {
          "output_type": "execute_result",
          "data": {
            "text/plain": [
              "<matplotlib.axes._subplots.AxesSubplot at 0x7f89f6640390>"
            ]
          },
          "metadata": {
            "tags": []
          },
          "execution_count": 16
        },
        {
          "output_type": "display_data",
          "data": {
            "image/png": "[encoded data removed]",
            "text/plain": [
              "<Figure size 432x288 with 1 Axes>"
            ]
          },
          "metadata": {
            "tags": [],
            "needs_background": "light"
          }
        }
      ]
    },
    {
      "cell_type": "markdown",
      "metadata": {
        "id": "f1W7TUxYjp8C",
        "colab_type": "text"
      },
      "source": [
        "## Search for citations"
      ]
    },
    {
      "cell_type": "markdown",
      "metadata": {
        "id": "uAAekoYx9ohP",
        "colab_type": "text"
      },
      "source": [
        "### Update previous citations"
      ]
    },
    {
      "cell_type": "code",
      "metadata": {
        "id": "lKUfRX7A9t8S",
        "colab_type": "code",
        "outputId": "4a49663a-dcf4-40f0-9ac7-9ed096ca9e8e",
        "colab": {
          "base_uri": "https://localhost:8080/",
          "height": 35
        }
      },
      "source": [
        "UPDATE=True\n",
        "if UPDATE:\n",
        "    #previus commmit\n",
        "    urlold='https://github.com/restrepo/articles_COVID-19/raw/8b05b8cbd9e699e277c35387c38a2e422ec7d4b2/data/covid_19.json.gz'\n",
        "    cvold=pd.read_json(urlold,compression='gzip')\n",
        "    lold=list(cvold['scholarly_citations'].apply(pd.Series).stack().unique())\n",
        "    print(len(lold))"
      ],
      "execution_count": 17,
      "outputs": [
        {
          "output_type": "stream",
          "text": [
            "19692\n"
          ],
          "name": "stdout"
        }
      ]
    },
    {
      "cell_type": "code",
      "metadata": {
        "id": "JfqkPsVjKQNk",
        "colab_type": "code",
        "outputId": "90d4b7b1-0a51-4cc2-f4c7-dbf51c10d530",
        "colab": {
          "base_uri": "https://localhost:8080/",
          "height": 35
        }
      },
      "source": [
        "l=list(cv['scholarly_citations'].apply(pd.Series).stack().unique())\n",
        "len(l)"
      ],
      "execution_count": 18,
      "outputs": [
        {
          "output_type": "execute_result",
          "data": {
            "text/plain": [
              "23194"
            ]
          },
          "metadata": {
            "tags": []
          },
          "execution_count": 18
        }
      ]
    },
    {
      "cell_type": "code",
      "metadata": {
        "id": "yTPXXXSn_z_F",
        "colab_type": "code",
        "colab": {}
      },
      "source": [
        "import numpy as np"
      ],
      "execution_count": 0,
      "outputs": []
    },
    {
      "cell_type": "code",
      "metadata": {
        "id": "-z0qAB-u_4kN",
        "colab_type": "code",
        "outputId": "29b59b87-bb3e-42af-f8cd-210b960e6e8f",
        "colab": {
          "base_uri": "https://localhost:8080/",
          "height": 35
        }
      },
      "source": [
        "if UPDATE:\n",
        "    lnew=np.setdiff1d(l,lold)\n",
        "else:\n",
        "    lnew=l\n",
        "print(len(lnew))"
      ],
      "execution_count": 21,
      "outputs": [
        {
          "output_type": "stream",
          "text": [
            "4305\n"
          ],
          "name": "stdout"
        }
      ]
    },
    {
      "cell_type": "code",
      "metadata": {
        "id": "otbgXEbL0T7B",
        "colab_type": "code",
        "outputId": "b37226b2-001b-4645-d630-11786ec05da0",
        "colab": {
          "base_uri": "https://localhost:8080/",
          "height": 35
        }
      },
      "source": [
        "import os\n",
        "if os.getcwd()=='/content':\n",
        "    from google.colab import drive\n",
        "    drive.mount('/content/drive')"
      ],
      "execution_count": 1,
      "outputs": [
        {
          "output_type": "stream",
          "text": [
            "Drive already mounted at /content/drive; to attempt to forcibly remount, call drive.mount(\"/content/drive\", force_remount=True).\n"
          ],
          "name": "stdout"
        }
      ]
    },
    {
      "cell_type": "markdown",
      "metadata": {
        "id": "Ra8cZQzB8xB9",
        "colab_type": "text"
      },
      "source": [
        "Lens.org allows to search for a list of idintifiers ot length until 20"
      ]
    },
    {
      "cell_type": "code",
      "metadata": {
        "id": "k9ZVX0US2N2A",
        "colab_type": "code",
        "colab": {}
      },
      "source": [
        "l=list(lnew)\n",
        "cvc=pd.DataFrame()\n",
        "rold=0\n",
        "terms_max=20\n",
        "lenl=len(l)\n",
        "steps=list(range(0,lenl,terms_max))[1:]+[ lenl ]\n",
        "for r in steps:\n",
        "    ll=l[rold:r]\n",
        "    rold=r\n",
        "    #make lens query\n",
        "    tmp=get_query(query_terms,lens_id=ll,url=url,token=token)\n",
        "    cvc=cvc.append(tmp).reset_index(drop=True)\n",
        "    cvc.to_json('covid_19_scholarly_citations.json')\n",
        "    if os.getcwd()=='/content':\n",
        "        !cp covid_19_scholarly_citations.json drive/My\\ Drive\n",
        "        \n",
        "    time.sleep(5)\n",
        "    #break    "
      ],
      "execution_count": 0,
      "outputs": []
    },
    {
      "cell_type": "code",
      "metadata": {
        "id": "0Nl7o5gBL42Y",
        "colab_type": "code",
        "outputId": "3ca7ec6e-21ab-46e0-a702-7f9d499318a5",
        "colab": {
          "base_uri": "https://localhost:8080/",
          "height": 35
        }
      },
      "source": [
        "cvc.shape"
      ],
      "execution_count": 24,
      "outputs": [
        {
          "output_type": "execute_result",
          "data": {
            "text/plain": [
              "(4305, 3)"
            ]
          },
          "metadata": {
            "tags": []
          },
          "execution_count": 24
        }
      ]
    },
    {
      "cell_type": "code",
      "metadata": {
        "id": "HzUlapGURCzi",
        "colab_type": "code",
        "colab": {}
      },
      "source": [
        "import pandas as pd\n",
        "cvc=pd.read_json(\"drive/My Drive/covid_19_scholarly_citations.json\")"
      ],
      "execution_count": 0,
      "outputs": []
    },
    {
      "cell_type": "code",
      "metadata": {
        "colab_type": "code",
        "id": "S-XGUnKSnvUc",
        "colab": {}
      },
      "source": [
        "dfcvc=pd.DataFrame(list(cvc.data.values))"
      ],
      "execution_count": 0,
      "outputs": []
    },
    {
      "cell_type": "code",
      "metadata": {
        "id": "J4Z9RV65MIvB",
        "colab_type": "code",
        "outputId": "0437752c-11c4-416c-c0dc-fcd0258d942a",
        "colab": {
          "base_uri": "https://localhost:8080/",
          "height": 35
        }
      },
      "source": [
        "dfcvc.shape"
      ],
      "execution_count": 13,
      "outputs": [
        {
          "output_type": "execute_result",
          "data": {
            "text/plain": [
              "(4305, 32)"
            ]
          },
          "metadata": {
            "tags": []
          },
          "execution_count": 13
        }
      ]
    },
    {
      "cell_type": "code",
      "metadata": {
        "id": "YCUFstZ-MLJj",
        "colab_type": "code",
        "colab": {}
      },
      "source": [
        "if UPDATE:\n",
        "    dfcvcold=pd.read_json('{}/covid_19_scholarly_citations_part_2.json.gz'.format(\n",
        "        urljason),compression='gzip')"
      ],
      "execution_count": 0,
      "outputs": []
    },
    {
      "cell_type": "code",
      "metadata": {
        "id": "XtwGSGxaMmo7",
        "colab_type": "code",
        "colab": {}
      },
      "source": [
        "dfcvc=dfcvcold.append(dfcvc).reset_index(drop=True)"
      ],
      "execution_count": 0,
      "outputs": []
    },
    {
      "cell_type": "code",
      "metadata": {
        "id": "twRJLX02RsZ1",
        "colab_type": "code",
        "colab": {}
      },
      "source": [
        "endj=2\n",
        "if not UPDATE:\n",
        "    dfcvc[:14000].to_json('covid_19_scholarly_citations_part_1.json.gz')\n",
        "    dfcvc[14000:].to_json('covid_19_scholarly_citations_part_{}.json.gz'.format(endj))\n",
        "else:\n",
        "    dfcvc.to_json('covid_19_scholarly_citations_part_{}.json.gz'.format(endj))"
      ],
      "execution_count": 0,
      "outputs": []
    },
    {
      "cell_type": "code",
      "metadata": {
        "id": "NdamtqM8qEO2",
        "colab_type": "code",
        "outputId": "af6cf0b4-a115-4f9c-e447-d26ed38ae67d",
        "colab": {
          "base_uri": "https://localhost:8080/",
          "height": 35
        }
      },
      "source": [
        "ls -lh covid_19_scholarly_citations_part_*"
      ],
      "execution_count": 16,
      "outputs": [
        {
          "output_type": "stream",
          "text": [
            "-rw-r--r-- 1 root root 14M May 11 03:26 covid_19_scholarly_citations_part_2.json.gz\n"
          ],
          "name": "stdout"
        }
      ]
    },
    {
      "cell_type": "code",
      "metadata": {
        "id": "iVApG0Za1M3f",
        "colab_type": "code",
        "outputId": "d83a2f74-9591-4899-dbf4-03c1509056f9",
        "colab": {
          "base_uri": "https://localhost:8080/",
          "height": 171
        }
      },
      "source": [
        "dfcvc.columns"
      ],
      "execution_count": 0,
      "outputs": [
        {
          "output_type": "execute_result",
          "data": {
            "text/plain": [
              "Index(['lens_id', 'created', 'open_access', 'publication_type',\n",
              "       'publication_supplementary_type', 'authors', 'title', 'volume', 'issue',\n",
              "       'languages', 'references', 'mesh_terms', 'chemicals', 'fields_of_study',\n",
              "       'funding', 'source_urls', 'abstract', 'year_published',\n",
              "       'references_count', 'scholarly_citations_count', 'external_ids',\n",
              "       'start_page', 'end_page', 'source', 'scholarly_citations',\n",
              "       'author_count', 'date_published', 'keywords', 'patent_citations',\n",
              "       'patent_citations_count', 'conference', 'clinical_trials'],\n",
              "      dtype='object')"
            ]
          },
          "metadata": {
            "tags": []
          },
          "execution_count": 81
        }
      ]
    },
    {
      "cell_type": "code",
      "metadata": {
        "id": "JhaOA415CCss",
        "colab_type": "code",
        "colab": {}
      },
      "source": [
        ""
      ],
      "execution_count": 0,
      "outputs": []
    }
  ]
}