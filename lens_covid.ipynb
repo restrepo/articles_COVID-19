{
  "nbformat": 4,
  "nbformat_minor": 0,
  "metadata": {
    "colab": {
      "name": "lens_covid.ipynb",
      "provenance": [],
      "include_colab_link": true
    },
    "kernelspec": {
      "display_name": "Python 3",
      "language": "python",
      "name": "python3"
    },
    "language_info": {
      "codemirror_mode": {
        "name": "ipython",
        "version": 3
      },
      "file_extension": ".py",
      "mimetype": "text/x-python",
      "name": "python",
      "nbconvert_exporter": "python",
      "pygments_lexer": "ipython3",
      "version": "3.5.3"
    },
    "latex_envs": {
      "LaTeX_envs_menu_present": true,
      "autoclose": false,
      "autocomplete": true,
      "bibliofile": "biblio.bib",
      "cite_by": "apalike",
      "current_citInitial": 1,
      "eqLabelWithNumbers": true,
      "eqNumInitial": 1,
      "hotkeys": {
        "equation": "Ctrl-E",
        "itemize": "Ctrl-I"
      },
      "labels_anchors": false,
      "latex_user_defs": false,
      "report_style_numbering": false,
      "user_envs_cfg": false
    }
  },
  "cells": [
    {
      "cell_type": "markdown",
      "metadata": {
        "id": "view-in-github",
        "colab_type": "text"
      },
      "source": [
        "<a href=\"https://colab.research.google.com/github/restrepo/articles_COVID-19/blob/master/lens_covid.ipynb\" target=\"_parent\"><img src=\"https://colab.research.google.com/assets/colab-badge.svg\" alt=\"Open In Colab\"/></a>"
      ]
    },
    {
      "cell_type": "markdown",
      "metadata": {
        "colab_type": "text",
        "id": "D_lKr3Avj0Ag"
      },
      "source": [
        "# Lens API search for Coronavirus in Lens"
      ]
    },
    {
      "cell_type": "markdown",
      "metadata": {
        "colab_type": "text",
        "id": "39xV6tjuj0Ai"
      },
      "source": [
        "Check: https://docs.api.lens.org/request.html"
      ]
    },
    {
      "cell_type": "markdown",
      "metadata": {
        "colab_type": "text",
        "id": "phECk_hnj0Aj"
      },
      "source": [
        "Get token: https://www.lens.org/lens/user/subscriptions"
      ]
    },
    {
      "cell_type": "markdown",
      "metadata": {
        "id": "z9YsatRoc0yu",
        "colab_type": "text"
      },
      "source": [
        "Examples: https://github.com/cambialens/lens-api-doc"
      ]
    },
    {
      "cell_type": "markdown",
      "metadata": {
        "colab_type": "text",
        "id": "fyrZq73Yj0Ak"
      },
      "source": [
        "## Functions and global variables"
      ]
    },
    {
      "cell_type": "code",
      "metadata": {
        "colab_type": "code",
        "id": "Rw3EV881j0Am",
        "outputId": "ee65482a-c7f9-446b-b869-81d51e9b71b1",
        "colab": {
          "base_uri": "https://localhost:8080/",
          "height": 51
        }
      },
      "source": [
        "import getpass\n",
        "import pandas as pd\n",
        "import requests\n",
        "import sys\n",
        "import time\n",
        "import os\n",
        "import datetime\n",
        "if os.getcwd()=='/content':\n",
        "    !pip install unidecode\n",
        "    !mkdir data\n",
        "import unidecode    "
      ],
      "execution_count": 1,
      "outputs": [
        {
          "output_type": "stream",
          "text": [
            "Requirement already satisfied: unidecode in /usr/local/lib/python3.6/dist-packages (1.1.1)\n",
            "mkdir: cannot create directory ‘data’: File exists\n"
          ],
          "name": "stdout"
        }
      ]
    },
    {
      "cell_type": "markdown",
      "metadata": {
        "colab_type": "text",
        "id": "TFUR-R4pj0Ap"
      },
      "source": [
        "<!-- #mmkP9Ibp7bDpLNLKZF8bdYDxCQmxXhFuJzJViVKH92kyBlGmatE2\n",
        " -->"
      ]
    },
    {
      "cell_type": "code",
      "metadata": {
        "colab_type": "code",
        "id": "Nl8_4Hyoj0Aq",
        "outputId": "b313021b-4ff5-43c6-b26f-95e11e5a351f",
        "colab": {
          "base_uri": "https://localhost:8080/",
          "height": 34
        }
      },
      "source": [
        "token=getpass.getpass('token:')"
      ],
      "execution_count": 3,
      "outputs": [
        {
          "output_type": "stream",
          "text": [
            "token:··········\n"
          ],
          "name": "stdout"
        }
      ]
    },
    {
      "cell_type": "code",
      "metadata": {
        "colab_type": "code",
        "id": "TwCrMmcRj0Au",
        "colab": {}
      },
      "source": [
        "url = 'https://api.lens.org/scholarly/search'\n",
        "size=1000"
      ],
      "execution_count": 0,
      "outputs": []
    },
    {
      "cell_type": "code",
      "metadata": {
        "colab_type": "code",
        "id": "vG_EKs5tj0Ay",
        "colab": {}
      },
      "source": [
        "def query(**kwargs):\n",
        "    \"\"\"\n",
        "    WARNING: Accents will be removed!\n",
        "    Use the lens.org API to obtain a API query string\n",
        "    to feed get_query\n",
        "\n",
        "    Parameters\n",
        "    ----------\n",
        "      title=\"covid-19\" #(or Affiliation o lens_id, or ...)\n",
        "      range_type=\"date_published\",\n",
        "      date_ini=1900-01-01,\n",
        "      date_end=... #Default to today\n",
        "      size=1000, \n",
        "    \"\"\"\n",
        "    key=list(kwargs.keys())[0]\n",
        "    q=unidecode.unidecode(kwargs[key])\n",
        "    #Set default values\n",
        "    if not kwargs.get('size'):\n",
        "        kwargs['size']=1000\n",
        "    if not kwargs.get('range_type'):\n",
        "        kwargs['range_type']=\"date_published\"\n",
        "    if not kwargs.get('date_ini'):\n",
        "        kwargs['date_ini']='1900-01-01'\n",
        "    if not kwargs.get('date_end'):\n",
        "        kwargs['date_end']=datetime.datetime.today().strftime('%Y-%m-%d')\n",
        "    if kwargs.get('range_type')==\"year_published\":\n",
        "        date_ini=kwargs.get('date_ini').split('-')[0]\n",
        "        date_end=kwargs.get('date_end').split('-')[0]\n",
        "    data='''{\n",
        "    \"query\": {\n",
        "       \"bool\": {\n",
        "         \"must\": [{\n",
        "           \"match_phrase\":{\n",
        "                    \"%s\": \"%s\"\n",
        "               }\n",
        "           },\n",
        "           {\n",
        "           \"range\": {\n",
        "           \"%s\": {\n",
        "                    \"gte\": \"%s\",\n",
        "                    \"lte\": \"%s\"\n",
        "                }\n",
        "           } \n",
        "           }\n",
        "         ]\n",
        "       }\n",
        "     },\n",
        "     \"size\": %i\n",
        "    }''' %(key,q,kwargs.get('range_type'),\n",
        "                 kwargs.get('date_ini'),\n",
        "                 kwargs.get('date_end'),\n",
        "                 kwargs.get('size'))\n",
        "    return data\n",
        "\n",
        "def get_query(**kwargs):\n",
        "    '''\n",
        "    Use the lens.org API to obtain a DataFrame with the query\n",
        "\n",
        "    Parameters\n",
        "    ----------\n",
        "      title=\"covid-19\" #(or Affiliation o lens_id, or ...)\n",
        "      range_type=\"date_published\",\n",
        "      date_ini=1900-01-01,\n",
        "      date_end=... #Default to today\n",
        "      size=1000, \n",
        "      url=API_url,\n",
        "      token=token #API token  \n",
        "    '''\n",
        "    token=kwargs.get('token')\n",
        "    url=kwargs.get('url')\n",
        "    kk=kwargs.pop('url')\n",
        "    kk=kwargs.pop('token')\n",
        "    data=query(**kwargs)\n",
        "    headers = {'Authorization': '{}'.format(token), 'Content-Type': 'application/json'}\n",
        "    response = requests.post(url, data=data, headers=headers)\n",
        "    if response.status_code != requests.codes.ok:\n",
        "        print(response.status_code)\n",
        "        r='[]'\n",
        "    else:\n",
        "        r=response.text\n",
        "    return pd.read_json(r)    \n",
        "\n",
        "def query_title(title=\"Dark Matter\",range_type=\"date_published\",\n",
        "          date_ini=\"1900-01-01\",\n",
        "          date_end=\"2004-12-31\",size=1000):\n",
        "    \"\"\"\n",
        "    WARNING: Accents needs to be removed!\n",
        "    \"\"\"\n",
        "    title=unidecode.unidecode(title)\n",
        "    if range_type==\"year_published\":\n",
        "        date_ini=date_ini.split('-')[0]\n",
        "        date_end=date_end.split('-')[0]\n",
        "    data='''{\n",
        "    \"query\": {\n",
        "       \"bool\": {\n",
        "         \"must\": [{\n",
        "           \"match_phrase\":{\n",
        "                    \"title\": \"%s\"\n",
        "               }\n",
        "           },\n",
        "           {\n",
        "           \"range\": {\n",
        "           \"%s\": {\n",
        "                    \"gte\": \"%s\",\n",
        "                    \"lte\": \"%s\"\n",
        "                }\n",
        "           } \n",
        "           }\n",
        "         ]\n",
        "       }\n",
        "     },\n",
        "     \"size\": %i\n",
        "    }''' %(title,range_type,date_ini,date_end,size)\n",
        "    return data"
      ],
      "execution_count": 0,
      "outputs": []
    },
    {
      "cell_type": "code",
      "metadata": {
        "id": "nkXq8Vsyo_MN",
        "colab_type": "code",
        "outputId": "0081da3e-5594-419b-8915-49bd87f885da",
        "colab": {
          "base_uri": "https://localhost:8080/",
          "height": 68
        }
      },
      "source": [
        "RELOAD=False\n",
        "rr=pd.DataFrame()\n",
        "start_date=datetime.datetime.strptime('1900-01-01','%Y-%m-%d')\n",
        "today=datetime.datetime.today()\n",
        "for d in ['2020-03-05','2020-03-18',today.strftime('%Y-%m-%d')]:\n",
        "    if not RELOAD:\n",
        "        break\n",
        "    next_date=datetime.datetime.strptime(d,'%Y-%m-%d')\n",
        "    if next_date.date()==today.date():\n",
        "        rr.to_json('data/covid_19_{}.json.gz'.format(\n",
        "             (start_date-datetime.timedelta(days=1)).strftime('%Y-%m-%d')   ))\n",
        "\n",
        "    print('{} → {} : '.format( start_date.strftime('%Y-%m-%d'),\n",
        "                              next_date.strftime('%Y-%m-%d') ),\n",
        "          end='')\n",
        "    tmp=get_query(title=\"covid-19\",\n",
        "      range_type=\"date_published\",\n",
        "      date_ini=start_date.strftime('%Y-%m-%d'),\n",
        "      date_end=next_date.strftime('%Y-%m-%d'),\n",
        "      size=1000,\n",
        "      url=url,\n",
        "      token=token) \n",
        "\n",
        "    print(tmp.shape)\n",
        "    rr=rr.append( tmp  ).reset_index(drop=True)\n",
        "    start_date=next_date+datetime.timedelta(days=1)\n",
        "\n",
        "    time.sleep(5)"
      ],
      "execution_count": 6,
      "outputs": [
        {
          "output_type": "stream",
          "text": [
            "1900-01-01 → 2020-03-05 : (944, 3)\n",
            "2020-03-06 → 2020-03-18 : (988, 3)\n",
            "2020-03-19 → 2020-04-05 : (991, 3)\n"
          ],
          "name": "stdout"
        }
      ]
    },
    {
      "cell_type": "markdown",
      "metadata": {
        "colab_type": "text",
        "id": "aYFE4w2nj0BG"
      },
      "source": [
        "### Check results"
      ]
    },
    {
      "cell_type": "code",
      "metadata": {
        "id": "ihXm-9uX16Mv",
        "colab_type": "code",
        "colab": {}
      },
      "source": [
        "if RELOAD:\n",
        "    cv=pd.DataFrame(list(rr.data.values))\n",
        "    cv.to_json('data/covid_19.json.gz')\n",
        "else:\n",
        "    urljason='https://github.com/restrepo/lensapi/raw/master/data/covid_19.json.gz'\n",
        "    cv=pd.read_json(urljason,compression='gzip')"
      ],
      "execution_count": 0,
      "outputs": []
    },
    {
      "cell_type": "code",
      "metadata": {
        "colab_type": "code",
        "id": "8LesJKD1j0BX",
        "outputId": "fb488463-62de-4e0d-bc7e-52a0d54b7031",
        "colab": {
          "base_uri": "https://localhost:8080/",
          "height": 34
        }
      },
      "source": [
        "cv.shape"
      ],
      "execution_count": 8,
      "outputs": [
        {
          "output_type": "execute_result",
          "data": {
            "text/plain": [
              "(2923, 29)"
            ]
          },
          "metadata": {
            "tags": []
          },
          "execution_count": 8
        }
      ]
    },
    {
      "cell_type": "code",
      "metadata": {
        "id": "tFXKIeTf6GVx",
        "colab_type": "code",
        "colab": {}
      },
      "source": [
        "cv.to_json('data/covid_19.json.gz')\n"
      ],
      "execution_count": 0,
      "outputs": []
    },
    {
      "cell_type": "code",
      "metadata": {
        "id": "dL15FCJY2Yf4",
        "colab_type": "code",
        "outputId": "2e15a843-ae4c-42b8-d194-8c9ca3ca1128",
        "colab": {
          "base_uri": "https://localhost:8080/",
          "height": 34
        }
      },
      "source": [
        "cv.scholarly_citations_count.sum()"
      ],
      "execution_count": 10,
      "outputs": [
        {
          "output_type": "execute_result",
          "data": {
            "text/plain": [
              "732.0"
            ]
          },
          "metadata": {
            "tags": []
          },
          "execution_count": 10
        }
      ]
    },
    {
      "cell_type": "code",
      "metadata": {
        "colab_type": "code",
        "id": "S5f46Ftr2vsV",
        "outputId": "43ee1e20-0d7b-48f8-a436-93fadbc676b3",
        "colab": {
          "base_uri": "https://localhost:8080/",
          "height": 299
        }
      },
      "source": [
        "cv['Year']=cv.date_published.apply(lambda s: s.split('-')[0] if type(s)==str else \n",
        "                                          s.get('date').split('-')[0] )\n",
        "cv=cv[~cv['Year'].isna()].reset_index(drop=True)\n",
        "cv['Year']=cv['Year'].astype(int)\n",
        "cv[cv['Year']>2007]['Year'].value_counts().sort_index().plot(kind='bar')"
      ],
      "execution_count": 11,
      "outputs": [
        {
          "output_type": "execute_result",
          "data": {
            "text/plain": [
              "<matplotlib.axes._subplots.AxesSubplot at 0x7f245c0ed198>"
            ]
          },
          "metadata": {
            "tags": []
          },
          "execution_count": 11
        },
        {
          "output_type": "display_data",
          "data": {
            "image/png": "[encoded data removed]",
            "text/plain": [
              "<Figure size 432x288 with 1 Axes>"
            ]
          },
          "metadata": {
            "tags": []
          }
        }
      ]
    },
    {
      "cell_type": "markdown",
      "metadata": {
        "id": "f1W7TUxYjp8C",
        "colab_type": "text"
      },
      "source": [
        "### Search for citations"
      ]
    },
    {
      "cell_type": "code",
      "metadata": {
        "id": "otbgXEbL0T7B",
        "colab_type": "code",
        "colab": {
          "base_uri": "https://localhost:8080/",
          "height": 34
        },
        "outputId": "a64e0530-18a3-4d80-877a-6d8e5f579f4c"
      },
      "source": [
        "if os.getcwd()=='/content':\n",
        "    from google.colab import drive\n",
        "    drive.mount('/content/drive')"
      ],
      "execution_count": 27,
      "outputs": [
        {
          "output_type": "stream",
          "text": [
            "Drive already mounted at /content/drive; to attempt to forcibly remount, call drive.mount(\"/content/drive\", force_remount=True).\n"
          ],
          "name": "stdout"
        }
      ]
    },
    {
      "cell_type": "code",
      "metadata": {
        "id": "4jc7YD4imLK9",
        "colab_type": "code",
        "colab": {
          "base_uri": "https://localhost:8080/",
          "height": 1000
        },
        "outputId": "358f4ee0-ad57-4d21-a923-47a30cb3aabb"
      },
      "source": [
        "cvc=pd.DataFrame()\n",
        "i=0\n",
        "for l in cv['scholarly_citations'].apply(pd.Series).stack().unique():\n",
        "    i+=1    \n",
        "    print(i,l)\n",
        "    tmp=get_query(lens_id=l,url=url,token=token)\n",
        "    cvc=cvc.append(tmp).reset_index(drop=True)\n",
        "    cvc.to_json('covid_19_scholarly_citations.json')\n",
        "    if os.getcwd()=='/content':\n",
        "        !cp covid_19_scholarly_citations.json drive/My\\ Drive\n",
        "        \n",
        "    time.sleep(5)"
      ],
      "execution_count": 37,
      "outputs": [
        {
          "output_type": "stream",
          "text": [
            "1 031-883-225-563-477\n",
            "2 041-669-833-363-319\n",
            "3 003-127-464-982-370\n",
            "4 014-541-219-035-444\n",
            "5 015-517-208-703-589\n",
            "6 019-239-691-300-250\n",
            "7 035-699-637-023-712\n",
            "8 075-212-637-705-194\n",
            "9 077-581-296-242-529\n",
            "10 082-834-566-213-087\n",
            "11 131-036-518-863-906\n",
            "12 143-440-718-134-599\n",
            "13 176-188-593-862-175\n",
            "14 182-300-970-351-296\n",
            "15 012-011-397-538-967\n",
            "16 018-684-021-973-690\n",
            "17 182-257-306-271-027\n",
            "18 077-798-648-024-232\n",
            "19 066-883-940-279-088\n",
            "20 049-393-163-370-937\n",
            "21 050-622-848-394-888\n",
            "22 051-131-838-590-455\n",
            "23 062-773-505-695-391\n",
            "24 113-694-184-552-930\n",
            "25 088-204-360-607-672\n",
            "26 030-892-203-652-944\n",
            "27 084-755-740-368-445\n",
            "28 131-225-194-423-738\n",
            "29 039-203-752-503-619\n",
            "30 042-980-441-830-510\n",
            "31 109-337-999-920-44X\n",
            "32 126-880-477-423-009\n",
            "33 008-543-552-307-644\n",
            "34 050-268-780-774-083\n",
            "35 066-410-139-266-468\n",
            "36 122-601-290-944-891\n",
            "37 010-093-802-970-403\n",
            "38 022-670-118-873-087\n",
            "39 095-661-491-185-542\n",
            "40 103-917-979-859-840\n",
            "41 137-402-603-626-476\n",
            "42 064-823-637-296-857\n",
            "43 076-028-316-200-837\n",
            "44 150-190-792-087-836\n",
            "45 063-447-598-189-393\n",
            "46 175-917-446-889-360\n",
            "47 039-214-669-772-74X\n",
            "48 050-664-713-843-282\n",
            "49 072-031-618-858-185\n",
            "50 080-806-163-282-722\n",
            "51 084-352-009-406-004\n",
            "52 125-648-875-838-741\n",
            "53 144-031-264-241-03X\n",
            "54 145-082-742-767-949\n",
            "55 109-539-957-663-778\n",
            "56 130-631-323-763-673\n",
            "57 064-663-096-903-369\n",
            "58 083-782-614-549-701\n",
            "59 087-547-991-592-751\n",
            "60 119-389-021-199-092\n",
            "61 130-136-555-657-687\n",
            "62 143-670-239-537-87X\n",
            "63 008-825-186-279-174\n",
            "64 038-383-845-077-027\n",
            "65 043-639-457-535-871\n",
            "66 066-264-391-949-831\n",
            "67 120-748-881-864-125\n",
            "68 140-028-809-270-592\n",
            "69 147-135-740-904-099\n",
            "70 009-916-995-359-377\n",
            "71 029-959-563-246-956\n",
            "72 154-685-517-116-380\n",
            "73 174-158-304-694-997\n",
            "74 049-102-339-111-11X\n",
            "75 016-188-417-069-942\n",
            "76 057-301-404-201-974\n",
            "77 173-937-414-673-667\n",
            "78 002-567-640-183-870\n",
            "79 020-845-892-195-181\n",
            "80 043-641-350-457-933\n",
            "81 059-620-874-568-253\n",
            "82 090-312-582-710-544\n",
            "83 091-905-257-763-896\n",
            "84 103-386-126-613-080\n",
            "85 106-468-328-231-644\n",
            "86 116-303-528-159-584\n",
            "87 002-850-283-119-590\n",
            "88 108-295-930-630-111\n",
            "89 065-484-728-807-424\n",
            "90 003-052-408-102-208\n",
            "91 004-589-928-929-416\n",
            "92 004-875-166-886-452\n",
            "93 016-204-410-122-648\n",
            "94 017-427-797-471-336\n",
            "95 023-952-496-641-779\n",
            "96 028-825-360-611-693\n",
            "97 029-866-819-629-991\n",
            "98 035-254-655-861-806\n",
            "99 040-330-478-010-922\n",
            "100 048-956-418-499-039\n",
            "101 061-273-901-518-920\n",
            "102 069-012-217-261-458\n",
            "103 072-680-279-523-208\n",
            "104 080-228-067-005-985\n",
            "105 085-997-007-362-903\n",
            "106 102-092-559-762-655\n",
            "107 110-597-818-721-238\n",
            "108 128-963-649-329-294\n",
            "109 132-950-142-027-416\n",
            "110 150-825-278-521-173\n",
            "111 172-840-758-460-641\n",
            "112 195-048-023-868-414\n",
            "113 010-591-439-007-410\n",
            "114 055-871-809-202-213\n",
            "115 045-025-015-893-168\n",
            "116 128-831-501-653-907\n",
            "117 030-751-075-344-373\n",
            "118 034-462-900-246-779\n",
            "119 034-737-165-473-35X\n",
            "120 064-522-912-524-932\n",
            "121 151-555-753-218-755\n",
            "122 026-940-752-155-149\n",
            "123 056-480-530-849-528\n",
            "124 073-695-967-615-294\n",
            "125 135-108-281-317-047\n",
            "126 037-130-567-714-070\n",
            "127 198-428-176-817-531\n",
            "128 024-049-393-090-535\n",
            "129 049-542-157-415-525\n",
            "130 166-505-135-816-466\n",
            "131 070-903-570-249-809\n",
            "132 115-332-351-759-889\n",
            "133 019-073-389-244-473\n",
            "134 054-972-341-254-806\n",
            "135 013-614-433-735-212\n",
            "136 036-229-815-421-343\n",
            "137 063-149-115-756-678\n",
            "138 075-546-669-401-144\n",
            "139 194-900-065-144-339\n",
            "140 087-954-499-532-00X\n",
            "141 003-354-003-441-192\n",
            "142 050-425-192-041-584\n",
            "143 108-237-285-451-683\n",
            "144 114-194-945-757-638\n",
            "145 114-927-618-687-527\n",
            "146 118-506-508-040-351\n",
            "147 184-025-848-714-494\n",
            "148 050-163-234-742-411\n",
            "149 034-021-310-204-428\n",
            "150 032-525-218-071-614\n",
            "151 061-202-790-556-546\n",
            "152 174-559-876-814-154\n",
            "153 073-677-197-139-332\n",
            "154 002-199-225-965-73X\n",
            "155 004-156-170-456-374\n",
            "156 154-515-248-773-46X\n",
            "157 027-003-942-278-473\n",
            "158 034-123-864-841-215\n",
            "159 016-847-537-558-413\n",
            "160 072-244-604-936-065\n",
            "161 009-131-942-106-042\n",
            "162 020-955-421-653-411\n",
            "163 029-141-800-106-99X\n",
            "164 033-515-130-738-143\n",
            "165 038-810-371-080-083\n",
            "166 043-708-698-085-353\n",
            "167 055-955-304-397-594\n",
            "168 062-757-492-324-822\n",
            "169 095-436-304-492-707\n",
            "170 105-103-034-087-765\n",
            "171 116-457-436-115-615\n",
            "172 116-822-717-441-022\n",
            "173 162-548-790-666-139\n",
            "174 197-959-359-730-996\n",
            "175 126-399-025-159-875\n",
            "176 075-500-663-936-988\n",
            "177 141-128-076-086-134\n",
            "178 005-342-050-592-799\n",
            "179 041-699-464-520-805\n",
            "180 042-298-450-039-008\n",
            "181 048-116-587-520-60X\n",
            "182 060-549-975-002-503\n",
            "183 071-817-117-298-042\n",
            "184 103-512-801-582-260\n",
            "185 121-399-367-337-692\n",
            "186 004-654-490-908-570\n",
            "187 008-537-158-868-338\n",
            "188 008-759-806-128-666\n",
            "189 020-509-285-269-983\n",
            "190 021-231-515-515-055\n",
            "191 022-980-392-295-105\n",
            "192 035-870-337-056-034\n",
            "193 036-423-581-539-662\n",
            "194 040-037-278-139-702\n",
            "195 051-408-341-382-369\n",
            "196 052-472-125-079-755\n",
            "197 063-682-416-161-489\n",
            "198 072-394-277-203-190\n",
            "199 075-567-610-028-19X\n",
            "200 082-439-488-178-422\n",
            "201 083-688-447-864-825\n",
            "202 108-938-336-332-679\n",
            "203 142-312-488-057-619\n",
            "204 150-748-426-093-89X\n",
            "205 158-101-102-297-590\n",
            "206 161-392-196-916-882\n",
            "207 164-056-902-545-385\n",
            "208 167-943-834-901-623\n",
            "209 195-966-458-964-395\n",
            "210 199-898-752-576-960\n",
            "211 000-071-000-180-100\n",
            "212 009-515-149-020-940\n",
            "213 017-467-405-774-810\n",
            "214 007-722-114-015-147\n",
            "215 068-722-641-118-458\n",
            "216 080-461-259-949-500\n",
            "217 051-505-530-030-586\n",
            "218 131-894-459-458-310\n",
            "219 001-894-402-292-221\n",
            "220 009-006-946-457-322\n",
            "221 017-332-714-750-873\n",
            "222 029-488-318-354-525\n",
            "223 051-809-209-399-03X\n",
            "224 094-326-202-644-833\n",
            "225 124-523-815-971-780\n",
            "226 158-061-344-288-466\n",
            "227 004-071-875-761-149\n",
            "228 103-273-464-212-596\n",
            "229 167-179-875-213-244\n",
            "230 018-327-424-546-217\n",
            "231 156-967-963-893-356\n",
            "232 007-034-384-587-699\n",
            "233 066-474-011-975-903\n",
            "234 028-029-756-828-015\n",
            "235 013-142-588-411-500\n",
            "236 174-427-948-819-284\n",
            "237 036-323-443-867-221\n",
            "238 086-924-137-881-428\n",
            "239 118-270-955-320-832\n",
            "240 029-482-407-560-729\n",
            "241 045-954-911-234-650\n",
            "242 035-182-533-423-541\n",
            "243 052-206-666-145-573\n",
            "244 026-831-250-301-190\n",
            "245 152-691-757-623-611\n",
            "246 198-341-983-670-722\n",
            "247 057-450-741-644-45X\n",
            "248 030-418-756-720-283\n",
            "249 076-831-601-337-077\n",
            "250 164-917-248-133-520\n",
            "251 050-804-792-597-121\n",
            "252 007-465-838-703-100\n",
            "253 137-673-810-533-672\n",
            "254 069-448-515-726-978\n",
            "255 087-325-300-975-814\n",
            "256 127-338-038-037-874\n",
            "257 063-374-149-407-207\n",
            "258 006-741-810-864-799\n",
            "259 023-634-110-773-514\n",
            "260 027-644-701-203-980\n",
            "261 057-025-973-928-42X\n",
            "262 057-203-133-004-186\n",
            "263 070-957-454-131-700\n",
            "264 113-500-412-177-186\n",
            "265 129-234-383-776-13X\n",
            "266 152-173-508-566-951\n",
            "267 002-674-616-978-378\n",
            "268 023-344-821-239-769\n",
            "269 030-589-809-740-816\n",
            "270 033-430-833-198-793\n",
            "271 051-558-455-448-200\n",
            "272 086-485-132-273-763\n",
            "273 103-879-856-404-796\n",
            "274 029-642-439-840-004\n",
            "275 029-454-887-535-574\n",
            "276 132-549-856-955-707\n",
            "277 008-700-719-964-344\n",
            "278 101-998-747-074-758\n",
            "279 029-801-506-288-957\n",
            "280 181-464-016-077-344\n",
            "281 014-099-552-233-111\n",
            "282 019-001-239-532-514\n",
            "283 020-021-410-227-59X\n",
            "284 031-133-873-106-394\n",
            "285 031-189-270-049-637\n",
            "286 037-756-593-624-700\n",
            "287 039-791-136-029-865\n",
            "288 068-748-319-476-957\n",
            "289 116-783-642-420-497\n",
            "290 164-642-519-908-819\n",
            "291 008-414-334-467-980\n",
            "292 017-516-178-650-399\n",
            "293 020-228-444-328-039\n",
            "294 020-476-156-612-046\n",
            "295 029-762-873-055-806\n",
            "296 037-255-111-217-809\n",
            "297 042-576-440-106-614\n",
            "298 043-595-339-174-436\n",
            "299 145-882-032-766-445\n",
            "300 172-396-138-780-902\n",
            "301 000-215-646-520-223\n",
            "302 001-136-571-048-614\n",
            "303 003-718-417-541-534\n",
            "304 011-871-423-351-13X\n",
            "305 025-927-836-901-468\n",
            "306 029-952-042-336-436\n",
            "307 032-355-669-017-730\n",
            "308 050-736-607-879-281\n",
            "309 056-787-428-034-505\n",
            "310 056-805-054-199-925\n",
            "311 062-364-531-778-919\n",
            "312 065-119-424-978-181\n",
            "313 068-218-243-797-27X\n",
            "314 069-362-906-578-944\n",
            "315 113-714-486-377-168\n",
            "316 121-054-149-851-622\n",
            "317 186-763-128-363-275\n",
            "318 043-587-992-729-262\n",
            "319 045-054-213-099-160\n",
            "320 066-986-225-528-761\n",
            "321 115-665-748-647-426\n",
            "322 160-555-840-184-254\n",
            "323 195-836-034-974-658\n",
            "324 002-190-391-864-052\n",
            "325 018-125-010-867-330\n",
            "326 037-358-764-964-256\n",
            "327 052-584-601-316-907\n",
            "328 060-480-337-496-438\n",
            "329 152-210-658-793-201\n",
            "330 109-048-334-492-718\n",
            "331 043-630-498-162-812\n",
            "332 053-726-728-472-728\n",
            "333 076-005-917-350-871\n",
            "334 087-282-640-479-334\n",
            "335 012-500-224-899-50X\n",
            "336 024-176-041-454-683\n",
            "337 064-242-490-490-288\n",
            "338 111-351-612-255-610\n",
            "339 002-008-242-825-507\n",
            "340 116-760-801-273-42X\n",
            "341 112-470-150-380-035\n",
            "342 010-546-691-854-504\n",
            "343 197-745-255-030-043\n",
            "344 176-649-993-666-72X\n",
            "345 020-226-013-247-342\n",
            "346 044-217-872-481-969\n",
            "347 092-932-814-399-194\n",
            "348 017-999-767-842-152\n",
            "349 024-216-418-938-113\n",
            "350 108-623-274-335-842\n",
            "351 089-388-230-200-706\n",
            "352 001-868-328-535-483\n",
            "353 153-880-328-050-80X\n",
            "354 037-492-090-426-810\n",
            "355 033-375-869-882-096\n",
            "356 119-571-242-447-88X\n",
            "357 022-090-232-946-963\n",
            "358 005-499-707-850-496\n",
            "359 162-351-127-010-37X\n",
            "360 061-661-706-078-370\n",
            "361 100-120-353-505-293\n",
            "362 003-571-064-140-394\n",
            "363 015-549-982-793-786\n",
            "364 029-815-765-856-59X\n",
            "365 102-620-048-047-314\n",
            "366 194-137-793-241-923\n",
            "367 109-824-808-211-092\n",
            "368 005-259-305-910-342\n",
            "369 039-676-699-451-062\n",
            "370 058-833-676-359-744\n",
            "371 113-907-636-569-175\n",
            "372 122-224-575-996-90X\n",
            "373 126-012-958-488-196\n",
            "374 002-982-745-727-211\n",
            "375 016-661-458-978-027\n",
            "376 038-585-379-036-046\n",
            "377 049-284-019-979-390\n",
            "378 013-540-379-770-543\n",
            "379 059-472-970-282-683\n",
            "380 096-451-664-534-060\n",
            "381 024-990-756-934-476\n",
            "382 087-377-730-243-458\n",
            "383 070-570-514-249-705\n",
            "384 006-196-023-039-924\n",
            "385 061-949-590-012-38X\n",
            "386 199-885-697-490-52X\n",
            "387 174-031-552-164-233\n",
            "388 110-036-168-210-398\n",
            "389 067-162-525-721-517\n",
            "390 043-603-693-206-848\n",
            "391 165-124-194-843-143\n",
            "392 192-133-947-684-196\n",
            "393 040-595-119-705-718\n"
          ],
          "name": "stdout"
        }
      ]
    },
    {
      "cell_type": "code",
      "metadata": {
        "id": "-wzLS4Tp0z7B",
        "colab_type": "code",
        "colab": {
          "base_uri": "https://localhost:8080/",
          "height": 264
        },
        "outputId": "12a4b1d6-426e-42d9-e67a-74f122f29d53"
      },
      "source": [
        "cvc"
      ],
      "execution_count": 22,
      "outputs": [
        {
          "output_type": "execute_result",
          "data": {
            "text/html": [
              "<div>\n",
              "<style scoped>\n",
              "    .dataframe tbody tr th:only-of-type {\n",
              "        vertical-align: middle;\n",
              "    }\n",
              "\n",
              "    .dataframe tbody tr th {\n",
              "        vertical-align: top;\n",
              "    }\n",
              "\n",
              "    .dataframe thead th {\n",
              "        text-align: right;\n",
              "    }\n",
              "</style>\n",
              "<table border=\"1\" class=\"dataframe\">\n",
              "  <thead>\n",
              "    <tr style=\"text-align: right;\">\n",
              "      <th></th>\n",
              "      <th>total</th>\n",
              "      <th>data</th>\n",
              "      <th>results</th>\n",
              "    </tr>\n",
              "  </thead>\n",
              "  <tbody>\n",
              "    <tr>\n",
              "      <th>0</th>\n",
              "      <td>1</td>\n",
              "      <td>{'lens_id': '031-883-225-563-477', 'created': ...</td>\n",
              "      <td>1</td>\n",
              "    </tr>\n",
              "    <tr>\n",
              "      <th>1</th>\n",
              "      <td>1</td>\n",
              "      <td>{'lens_id': '041-669-833-363-319', 'created': ...</td>\n",
              "      <td>1</td>\n",
              "    </tr>\n",
              "    <tr>\n",
              "      <th>2</th>\n",
              "      <td>1</td>\n",
              "      <td>{'lens_id': '003-127-464-982-370', 'created': ...</td>\n",
              "      <td>1</td>\n",
              "    </tr>\n",
              "    <tr>\n",
              "      <th>3</th>\n",
              "      <td>1</td>\n",
              "      <td>{'lens_id': '014-541-219-035-444', 'created': ...</td>\n",
              "      <td>1</td>\n",
              "    </tr>\n",
              "    <tr>\n",
              "      <th>4</th>\n",
              "      <td>1</td>\n",
              "      <td>{'lens_id': '015-517-208-703-589', 'created': ...</td>\n",
              "      <td>1</td>\n",
              "    </tr>\n",
              "    <tr>\n",
              "      <th>5</th>\n",
              "      <td>1</td>\n",
              "      <td>{'lens_id': '019-239-691-300-250', 'created': ...</td>\n",
              "      <td>1</td>\n",
              "    </tr>\n",
              "    <tr>\n",
              "      <th>6</th>\n",
              "      <td>1</td>\n",
              "      <td>{'lens_id': '035-699-637-023-712', 'created': ...</td>\n",
              "      <td>1</td>\n",
              "    </tr>\n",
              "  </tbody>\n",
              "</table>\n",
              "</div>"
            ],
            "text/plain": [
              "   total                                               data  results\n",
              "0      1  {'lens_id': '031-883-225-563-477', 'created': ...        1\n",
              "1      1  {'lens_id': '041-669-833-363-319', 'created': ...        1\n",
              "2      1  {'lens_id': '003-127-464-982-370', 'created': ...        1\n",
              "3      1  {'lens_id': '014-541-219-035-444', 'created': ...        1\n",
              "4      1  {'lens_id': '015-517-208-703-589', 'created': ...        1\n",
              "5      1  {'lens_id': '019-239-691-300-250', 'created': ...        1\n",
              "6      1  {'lens_id': '035-699-637-023-712', 'created': ...        1"
            ]
          },
          "metadata": {
            "tags": []
          },
          "execution_count": 22
        }
      ]
    },
    {
      "cell_type": "code",
      "metadata": {
        "id": "qnZnH6psmLc1",
        "colab_type": "code",
        "colab": {
          "base_uri": "https://localhost:8080/",
          "height": 79
        },
        "outputId": "7d4d7c88-8724-418a-a4b9-cb70ea28a739"
      },
      "source": [
        "get_query(lens_id='031-883-225-563-477',url=url,token=token)"
      ],
      "execution_count": 114,
      "outputs": [
        {
          "output_type": "execute_result",
          "data": {
            "text/html": [
              "<div>\n",
              "<style scoped>\n",
              "    .dataframe tbody tr th:only-of-type {\n",
              "        vertical-align: middle;\n",
              "    }\n",
              "\n",
              "    .dataframe tbody tr th {\n",
              "        vertical-align: top;\n",
              "    }\n",
              "\n",
              "    .dataframe thead th {\n",
              "        text-align: right;\n",
              "    }\n",
              "</style>\n",
              "<table border=\"1\" class=\"dataframe\">\n",
              "  <thead>\n",
              "    <tr style=\"text-align: right;\">\n",
              "      <th></th>\n",
              "      <th>total</th>\n",
              "      <th>data</th>\n",
              "      <th>results</th>\n",
              "    </tr>\n",
              "  </thead>\n",
              "  <tbody>\n",
              "    <tr>\n",
              "      <th>0</th>\n",
              "      <td>1</td>\n",
              "      <td>{'lens_id': '031-883-225-563-477', 'created': ...</td>\n",
              "      <td>1</td>\n",
              "    </tr>\n",
              "  </tbody>\n",
              "</table>\n",
              "</div>"
            ],
            "text/plain": [
              "   total                                               data  results\n",
              "0      1  {'lens_id': '031-883-225-563-477', 'created': ...        1"
            ]
          },
          "metadata": {
            "tags": []
          },
          "execution_count": 114
        }
      ]
    },
    {
      "cell_type": "code",
      "metadata": {
        "id": "oWIpZ4fkmfZY",
        "colab_type": "code",
        "colab": {
          "base_uri": "https://localhost:8080/",
          "height": 154
        },
        "outputId": "1fa62953-df88-48ab-e6ba-6a7ada317fab"
      },
      "source": [
        "cv.columns"
      ],
      "execution_count": 24,
      "outputs": [
        {
          "output_type": "execute_result",
          "data": {
            "text/plain": [
              "Index(['lens_id', 'created', 'publication_type', 'authors', 'title',\n",
              "       'languages', 'references', 'fields_of_study', 'source_urls', 'abstract',\n",
              "       'year_published', 'references_count', 'external_ids', 'source',\n",
              "       'author_count', 'date_published', 'volume', 'issue', 'mesh_terms',\n",
              "       'scholarly_citations_count', 'start_page', 'end_page',\n",
              "       'scholarly_citations', 'funding', 'publication_supplementary_type',\n",
              "       'open_access', 'keywords', 'chemicals', 'clinical_trials', 'Year'],\n",
              "      dtype='object')"
            ]
          },
          "metadata": {
            "tags": []
          },
          "execution_count": 24
        }
      ]
    },
    {
      "cell_type": "code",
      "metadata": {
        "id": "iVApG0Za1M3f",
        "colab_type": "code",
        "colab": {}
      },
      "source": [
        ""
      ],
      "execution_count": 0,
      "outputs": []
    }
  ]
}