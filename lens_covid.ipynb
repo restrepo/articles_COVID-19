{
  "nbformat": 4,
  "nbformat_minor": 0,
  "metadata": {
    "colab": {
      "name": "lens_covid.ipynb",
      "provenance": [],
      "include_colab_link": true
    },
    "kernelspec": {
      "display_name": "Python 3",
      "language": "python",
      "name": "python3"
    },
    "language_info": {
      "codemirror_mode": {
        "name": "ipython",
        "version": 3
      },
      "file_extension": ".py",
      "mimetype": "text/x-python",
      "name": "python",
      "nbconvert_exporter": "python",
      "pygments_lexer": "ipython3",
      "version": "3.5.3"
    },
    "latex_envs": {
      "LaTeX_envs_menu_present": true,
      "autoclose": false,
      "autocomplete": true,
      "bibliofile": "biblio.bib",
      "cite_by": "apalike",
      "current_citInitial": 1,
      "eqLabelWithNumbers": true,
      "eqNumInitial": 1,
      "hotkeys": {
        "equation": "Ctrl-E",
        "itemize": "Ctrl-I"
      },
      "labels_anchors": false,
      "latex_user_defs": false,
      "report_style_numbering": false,
      "user_envs_cfg": false
    }
  },
  "cells": [
    {
      "cell_type": "markdown",
      "metadata": {
        "id": "view-in-github",
        "colab_type": "text"
      },
      "source": [
        "<a href=\"https://colab.research.google.com/github/restrepo/articles_COVID-19/blob/master/lens_covid.ipynb\" target=\"_parent\"><img src=\"https://colab.research.google.com/assets/colab-badge.svg\" alt=\"Open In Colab\"/></a>"
      ]
    },
    {
      "cell_type": "markdown",
      "metadata": {
        "colab_type": "text",
        "id": "D_lKr3Avj0Ag"
      },
      "source": [
        "# Lens API search for Coronavirus in Lens"
      ]
    },
    {
      "cell_type": "markdown",
      "metadata": {
        "colab_type": "text",
        "id": "39xV6tjuj0Ai"
      },
      "source": [
        "Check: https://docs.api.lens.org/request.html"
      ]
    },
    {
      "cell_type": "markdown",
      "metadata": {
        "colab_type": "text",
        "id": "phECk_hnj0Aj"
      },
      "source": [
        "Get token: https://www.lens.org/lens/user/subscriptions"
      ]
    },
    {
      "cell_type": "markdown",
      "metadata": {
        "id": "z9YsatRoc0yu",
        "colab_type": "text"
      },
      "source": [
        "Examples: https://github.com/cambialens/lens-api-doc"
      ]
    },
    {
      "cell_type": "markdown",
      "metadata": {
        "colab_type": "text",
        "id": "fyrZq73Yj0Ak"
      },
      "source": [
        "## Functions and global variables"
      ]
    },
    {
      "cell_type": "code",
      "metadata": {
        "colab_type": "code",
        "id": "Rw3EV881j0Am",
        "outputId": "6b3ecefb-4ab4-4ae6-a2e1-07158a3225d8",
        "colab": {
          "base_uri": "https://localhost:8080/",
          "height": 103
        }
      },
      "source": [
        "import getpass\n",
        "import pandas as pd\n",
        "import requests\n",
        "import sys\n",
        "import time\n",
        "import os\n",
        "import datetime\n",
        "if os.getcwd()=='/content':\n",
        "    !pip install unidecode\n",
        "    !mkdir data\n",
        "import unidecode    "
      ],
      "execution_count": 1,
      "outputs": [
        {
          "output_type": "stream",
          "text": [
            "Collecting unidecode\n",
            "\u001b[?25l  Downloading https://files.pythonhosted.org/packages/d0/42/d9edfed04228bacea2d824904cae367ee9efd05e6cce7ceaaedd0b0ad964/Unidecode-1.1.1-py2.py3-none-any.whl (238kB)\n",
            "\u001b[K     |████████████████████████████████| 245kB 1.4MB/s \n",
            "\u001b[?25hInstalling collected packages: unidecode\n",
            "Successfully installed unidecode-1.1.1\n"
          ],
          "name": "stdout"
        }
      ]
    },
    {
      "cell_type": "markdown",
      "metadata": {
        "colab_type": "text",
        "id": "TFUR-R4pj0Ap"
      },
      "source": [
        "<!-- #mmkP9Ibp7bDpLNLKZF8bdYDxCQmxXhFuJzJViVKH92kyBlGmatE2\n",
        " -->"
      ]
    },
    {
      "cell_type": "code",
      "metadata": {
        "colab_type": "code",
        "id": "Nl8_4Hyoj0Aq",
        "outputId": "d4fe801e-dbbc-42c1-fdb7-5edc448d168e",
        "colab": {
          "base_uri": "https://localhost:8080/",
          "height": 34
        }
      },
      "source": [
        "token=getpass.getpass('token:')"
      ],
      "execution_count": 2,
      "outputs": [
        {
          "output_type": "stream",
          "text": [
            "token:··········\n"
          ],
          "name": "stdout"
        }
      ]
    },
    {
      "cell_type": "code",
      "metadata": {
        "colab_type": "code",
        "id": "TwCrMmcRj0Au",
        "colab": {}
      },
      "source": [
        "url = 'https://api.lens.org/scholarly/search'\n",
        "size=1000"
      ],
      "execution_count": 0,
      "outputs": []
    },
    {
      "cell_type": "code",
      "metadata": {
        "id": "joQbaj1S3PFl",
        "colab_type": "code",
        "colab": {}
      },
      "source": [
        "def query_terms(**kwargs):\n",
        "    \"\"\"\n",
        "    WARNING: Accents will be removed!\n",
        "    Use the lens.org API to obtain a API query string\n",
        "    to feed get_query\n",
        "\n",
        "    Parameters\n",
        "    ----------\n",
        "      title=\"covid-19\" #(or Affiliation o lens_id, or ...)\n",
        "      range_type=\"date_published\",\n",
        "      date_ini=1900-01-01,\n",
        "      date_end=... #Default to today\n",
        "      size=1000, \n",
        "    \"\"\"\n",
        "    key=list(kwargs.keys())[0]\n",
        "    q=unidecode.unidecode(kwargs[key])\n",
        "    #Set default values\n",
        "    print('va1')\n",
        "\n",
        "    if not kwargs.get('size'):\n",
        "        kwargs['size']=1000\n",
        "        print('va2',kwargs['size'])\n",
        "\n",
        "\n",
        "    if not kwargs.get('range_type'):\n",
        "        kwargs['range_type']=\"date_published\"\n",
        "    if not kwargs.get('date_ini'):\n",
        "        kwargs['date_ini']='1900-01-01'\n",
        "    if not kwargs.get('date_end'):\n",
        "        kwargs['date_end']=datetime.datetime.today().strftime('%Y-%m-%d')\n",
        "    if kwargs.get('range_type')==\"year_published\":\n",
        "        date_ini=kwargs.get('date_ini').split('-')[0]\n",
        "        date_end=kwargs.get('date_end').split('-')[0]\n",
        "    data='''{\n",
        "    \"query\": {\n",
        "        \"terms\": {\n",
        "\t\t\t\"lens_id\": [\"031-883-225-563-477\",\"041-669-833-363-319\",\n",
        "                        \"003-127-464-982-370\",\"014-541-219-035-444\"]\n",
        "\t\t}\n",
        "     }\n",
        "    }''' #%(#key,q,#kwargs.get('range_type'),\n",
        "                 #kwargs.get('date_ini'),\n",
        "                 #kwargs.get('date_end'),\n",
        "          #       kwargs.get('size'))\n",
        "    return data\n",
        "\n",
        "def query(**kwargs):\n",
        "    \"\"\"\n",
        "    WARNING: Accents will be removed!\n",
        "    Use the lens.org API to obtain a API query string\n",
        "    to feed get_query\n",
        "\n",
        "    Parameters\n",
        "    ----------\n",
        "      title=\"covid-19\" #(or Affiliation o lens_id, or ...)\n",
        "      range_type=\"date_published\",\n",
        "      date_ini=1900-01-01,\n",
        "      date_end=... #Default to today\n",
        "      size=1000, \n",
        "    \"\"\"\n",
        "    key=list(kwargs.keys())[0]\n",
        "    q=unidecode.unidecode(kwargs[key])\n",
        "    #Set default values\n",
        "    if not kwargs.get('size'):\n",
        "        kwargs['size']=1000\n",
        "    if not kwargs.get('range_type'):\n",
        "        kwargs['range_type']=\"date_published\"\n",
        "    if not kwargs.get('date_ini'):\n",
        "        kwargs['date_ini']='1900-01-01'\n",
        "    if not kwargs.get('date_end'):\n",
        "        kwargs['date_end']=datetime.datetime.today().strftime('%Y-%m-%d')\n",
        "    if kwargs.get('range_type')==\"year_published\":\n",
        "        date_ini=kwargs.get('date_ini').split('-')[0]\n",
        "        date_end=kwargs.get('date_end').split('-')[0]\n",
        "    data='''{\n",
        "    \"query\": {\n",
        "       \"bool\": {\n",
        "         \"must\": [{\n",
        "           \"match_phrase\":{\n",
        "                    \"%s\": \"%s\"\n",
        "               }\n",
        "           },\n",
        "           {\n",
        "           \"range\": {\n",
        "           \"%s\": {\n",
        "                    \"gte\": \"%s\",\n",
        "                    \"lte\": \"%s\"\n",
        "                }\n",
        "           } \n",
        "           }\n",
        "         ]\n",
        "       }\n",
        "     },\n",
        "     \"size\": %i\n",
        "    }''' %(key,q,kwargs.get('range_type'),\n",
        "                 kwargs.get('date_ini'),\n",
        "                 kwargs.get('date_end'),\n",
        "                 kwargs.get('size'))\n",
        "    return data\n",
        "\n",
        "def get_query(*args,**kwargs):\n",
        "    '''\n",
        "    Use the lens.org API to obtain a DataFrame with the query\n",
        "\n",
        "    Parameters\n",
        "    ----------\n",
        "      title=\"covid-19\" #(or Affiliation o lens_id, or ...)\n",
        "      range_type=\"date_published\",\n",
        "      date_ini=1900-01-01,\n",
        "      date_end=... #Default to today\n",
        "      size=1000, \n",
        "      url=API_url,\n",
        "      token=token #API token  \n",
        "    '''\n",
        "    query=args[0]\n",
        "    token=kwargs.get('token')\n",
        "    url=kwargs.get('url')\n",
        "    kk=kwargs.pop('url')\n",
        "    kk=kwargs.pop('token')\n",
        "    data=query(**kwargs)\n",
        "    headers = {'Authorization': '{}'.format(token), 'Content-Type': 'application/json'}\n",
        "    response = requests.post(url, data=data, headers=headers)\n",
        "    if response.status_code != requests.codes.ok:\n",
        "        print(response.status_code)\n",
        "        r='[]'\n",
        "    else:\n",
        "        r=response.text\n",
        "    return pd.read_json(r)    \n"
      ],
      "execution_count": 0,
      "outputs": []
    },
    {
      "cell_type": "code",
      "metadata": {
        "id": "vzKZ67rwwbvT",
        "colab_type": "code",
        "colab": {}
      },
      "source": [
        ""
      ],
      "execution_count": 0,
      "outputs": []
    },
    {
      "cell_type": "code",
      "metadata": {
        "id": "rdS8f1WJag_l",
        "colab_type": "code",
        "colab": {
          "base_uri": "https://localhost:8080/",
          "height": 206
        },
        "outputId": "60f2400d-a07e-4001-f51a-f71433a38c1e"
      },
      "source": [
        "TEST=True\n",
        "data=query_terms(title='hola')\n",
        "headers = {'Authorization': '{}'.format(token), 'Content-Type': 'application/json'}\n",
        "response = requests.post(url, data=data, headers=headers)\n",
        "if response.status_code != requests.codes.ok:\n",
        "    print(response.status_code)\n",
        "    r='[]'\n",
        "else:\n",
        "    r=response.text\n",
        "pd.read_json(r)"
      ],
      "execution_count": 49,
      "outputs": [
        {
          "output_type": "stream",
          "text": [
            "va1\n",
            "va2 1000\n"
          ],
          "name": "stdout"
        },
        {
          "output_type": "execute_result",
          "data": {
            "text/html": [
              "<div>\n",
              "<style scoped>\n",
              "    .dataframe tbody tr th:only-of-type {\n",
              "        vertical-align: middle;\n",
              "    }\n",
              "\n",
              "    .dataframe tbody tr th {\n",
              "        vertical-align: top;\n",
              "    }\n",
              "\n",
              "    .dataframe thead th {\n",
              "        text-align: right;\n",
              "    }\n",
              "</style>\n",
              "<table border=\"1\" class=\"dataframe\">\n",
              "  <thead>\n",
              "    <tr style=\"text-align: right;\">\n",
              "      <th></th>\n",
              "      <th>total</th>\n",
              "      <th>data</th>\n",
              "      <th>results</th>\n",
              "    </tr>\n",
              "  </thead>\n",
              "  <tbody>\n",
              "    <tr>\n",
              "      <th>0</th>\n",
              "      <td>4</td>\n",
              "      <td>{'lens_id': '003-127-464-982-370', 'created': ...</td>\n",
              "      <td>4</td>\n",
              "    </tr>\n",
              "    <tr>\n",
              "      <th>1</th>\n",
              "      <td>4</td>\n",
              "      <td>{'lens_id': '014-541-219-035-444', 'created': ...</td>\n",
              "      <td>4</td>\n",
              "    </tr>\n",
              "    <tr>\n",
              "      <th>2</th>\n",
              "      <td>4</td>\n",
              "      <td>{'lens_id': '031-883-225-563-477', 'created': ...</td>\n",
              "      <td>4</td>\n",
              "    </tr>\n",
              "    <tr>\n",
              "      <th>3</th>\n",
              "      <td>4</td>\n",
              "      <td>{'lens_id': '041-669-833-363-319', 'created': ...</td>\n",
              "      <td>4</td>\n",
              "    </tr>\n",
              "  </tbody>\n",
              "</table>\n",
              "</div>"
            ],
            "text/plain": [
              "   total                                               data  results\n",
              "0      4  {'lens_id': '003-127-464-982-370', 'created': ...        4\n",
              "1      4  {'lens_id': '014-541-219-035-444', 'created': ...        4\n",
              "2      4  {'lens_id': '031-883-225-563-477', 'created': ...        4\n",
              "3      4  {'lens_id': '041-669-833-363-319', 'created': ...        4"
            ]
          },
          "metadata": {
            "tags": []
          },
          "execution_count": 49
        }
      ]
    },
    {
      "cell_type": "code",
      "metadata": {
        "id": "Cd09bMBccPoz",
        "colab_type": "code",
        "colab": {}
      },
      "source": [
        "kk=pd.read_json(r)"
      ],
      "execution_count": 0,
      "outputs": []
    },
    {
      "cell_type": "code",
      "metadata": {
        "colab_type": "code",
        "id": "vG_EKs5tj0Ay",
        "colab": {}
      },
      "source": [
        "def query(**kwargs):\n",
        "    \"\"\"\n",
        "    WARNING: Accents will be removed!\n",
        "    Use the lens.org API to obtain a API query string\n",
        "    to feed get_query\n",
        "\n",
        "    Parameters\n",
        "    ----------\n",
        "      title=\"covid-19\" #(or Affiliation o lens_id, or ...)\n",
        "      range_type=\"date_published\",\n",
        "      date_ini=1900-01-01,\n",
        "      date_end=... #Default to today\n",
        "      size=1000, \n",
        "    \"\"\"\n",
        "    key=list(kwargs.keys())[0]\n",
        "    q=unidecode.unidecode(kwargs[key])\n",
        "    #Set default values\n",
        "    if not kwargs.get('size'):\n",
        "        kwargs['size']=1000\n",
        "    if not kwargs.get('range_type'):\n",
        "        kwargs['range_type']=\"date_published\"\n",
        "    if not kwargs.get('date_ini'):\n",
        "        kwargs['date_ini']='1900-01-01'\n",
        "    if not kwargs.get('date_end'):\n",
        "        kwargs['date_end']=datetime.datetime.today().strftime('%Y-%m-%d')\n",
        "    if kwargs.get('range_type')==\"year_published\":\n",
        "        date_ini=kwargs.get('date_ini').split('-')[0]\n",
        "        date_end=kwargs.get('date_end').split('-')[0]\n",
        "    data='''{\n",
        "    \"query\": {\n",
        "       \"bool\": {\n",
        "         \"must\": [{\n",
        "           \"match_phrase\":{\n",
        "                    \"%s\": \"%s\"\n",
        "               }\n",
        "           },\n",
        "           {\n",
        "           \"range\": {\n",
        "           \"%s\": {\n",
        "                    \"gte\": \"%s\",\n",
        "                    \"lte\": \"%s\"\n",
        "                }\n",
        "           } \n",
        "           }\n",
        "         ]\n",
        "       }\n",
        "     },\n",
        "     \"size\": %i\n",
        "    }''' %(key,q,kwargs.get('range_type'),\n",
        "                 kwargs.get('date_ini'),\n",
        "                 kwargs.get('date_end'),\n",
        "                 kwargs.get('size'))\n",
        "    return data\n",
        "\n",
        "def get_query(**kwargs):\n",
        "    '''\n",
        "    Use the lens.org API to obtain a DataFrame with the query\n",
        "\n",
        "    Parameters\n",
        "    ----------\n",
        "      title=\"covid-19\" #(or Affiliation o lens_id, or ...)\n",
        "      range_type=\"date_published\",\n",
        "      date_ini=1900-01-01,\n",
        "      date_end=... #Default to today\n",
        "      size=1000, \n",
        "      url=API_url,\n",
        "      token=token #API token  \n",
        "    '''\n",
        "    token=kwargs.get('token')\n",
        "    url=kwargs.get('url')\n",
        "    kk=kwargs.pop('url')\n",
        "    kk=kwargs.pop('token')\n",
        "    data=query(**kwargs)\n",
        "    headers = {'Authorization': '{}'.format(token), 'Content-Type': 'application/json'}\n",
        "    response = requests.post(url, data=data, headers=headers)\n",
        "    if response.status_code != requests.codes.ok:\n",
        "        print(response.status_code)\n",
        "        r='[]'\n",
        "    else:\n",
        "        r=response.text\n",
        "    return pd.read_json(r)    \n",
        "\n",
        "def query_title(title=\"Dark Matter\",range_type=\"date_published\",\n",
        "          date_ini=\"1900-01-01\",\n",
        "          date_end=\"2004-12-31\",size=1000):\n",
        "    \"\"\"\n",
        "    WARNING: Accents needs to be removed!\n",
        "    \"\"\"\n",
        "    title=unidecode.unidecode(title)\n",
        "    if range_type==\"year_published\":\n",
        "        date_ini=date_ini.split('-')[0]\n",
        "        date_end=date_end.split('-')[0]\n",
        "    data='''{\n",
        "    \"query\": {\n",
        "       \"bool\": {\n",
        "         \"must\": [{\n",
        "           \"match_phrase\":{\n",
        "                    \"title\": \"%s\"\n",
        "               }\n",
        "           },\n",
        "           {\n",
        "           \"range\": {\n",
        "           \"%s\": {\n",
        "                    \"gte\": \"%s\",\n",
        "                    \"lte\": \"%s\"\n",
        "                }\n",
        "           } \n",
        "           }\n",
        "         ]\n",
        "       }\n",
        "     },\n",
        "     \"size\": %i\n",
        "    }''' %(title,range_type,date_ini,date_end,size)\n",
        "    return data"
      ],
      "execution_count": 0,
      "outputs": []
    },
    {
      "cell_type": "code",
      "metadata": {
        "id": "nkXq8Vsyo_MN",
        "colab_type": "code",
        "colab": {}
      },
      "source": [
        "RELOAD=False\n",
        "rr=pd.DataFrame()\n",
        "start_date=datetime.datetime.strptime('1900-01-01','%Y-%m-%d')\n",
        "today=datetime.datetime.today()\n",
        "for d in ['2020-03-05','2020-03-18',today.strftime('%Y-%m-%d')]:\n",
        "    if not RELOAD:\n",
        "        break\n",
        "    next_date=datetime.datetime.strptime(d,'%Y-%m-%d')\n",
        "    if next_date.date()==today.date():\n",
        "        rr.to_json('data/covid_19_{}.json.gz'.format(\n",
        "             (start_date-datetime.timedelta(days=1)).strftime('%Y-%m-%d')   ))\n",
        "\n",
        "    print('{} → {} : '.format( start_date.strftime('%Y-%m-%d'),\n",
        "                              next_date.strftime('%Y-%m-%d') ),\n",
        "          end='')\n",
        "    tmp=get_query(query,title=\"covid-19\",\n",
        "      range_type=\"date_published\",\n",
        "      date_ini=start_date.strftime('%Y-%m-%d'),\n",
        "      date_end=next_date.strftime('%Y-%m-%d'),\n",
        "      size=1000,\n",
        "      url=url,\n",
        "      token=token) \n",
        "\n",
        "    print(tmp.shape)\n",
        "    rr=rr.append( tmp  ).reset_index(drop=True)\n",
        "    start_date=next_date+datetime.timedelta(days=1)\n",
        "\n",
        "    break\n",
        "    time.sleep(5)"
      ],
      "execution_count": 0,
      "outputs": []
    },
    {
      "cell_type": "markdown",
      "metadata": {
        "colab_type": "text",
        "id": "aYFE4w2nj0BG"
      },
      "source": [
        "### Check results"
      ]
    },
    {
      "cell_type": "code",
      "metadata": {
        "id": "ihXm-9uX16Mv",
        "colab_type": "code",
        "colab": {}
      },
      "source": [
        "if RELOAD:\n",
        "    cv=pd.DataFrame(list(rr.data.values))\n",
        "    cv.to_json('data/covid_19.json.gz')\n",
        "else:\n",
        "    urljason='https://github.com/restrepo/lensapi/raw/master/data/covid_19.json.gz'\n",
        "    cv=pd.read_json(urljason,compression='gzip')"
      ],
      "execution_count": 0,
      "outputs": []
    },
    {
      "cell_type": "code",
      "metadata": {
        "colab_type": "code",
        "id": "8LesJKD1j0BX",
        "outputId": "2d3a32b4-f55d-465d-e077-f9cd41cf66b5",
        "colab": {
          "base_uri": "https://localhost:8080/",
          "height": 34
        }
      },
      "source": [
        "cv.shape"
      ],
      "execution_count": 60,
      "outputs": [
        {
          "output_type": "execute_result",
          "data": {
            "text/plain": [
              "(2923, 30)"
            ]
          },
          "metadata": {
            "tags": []
          },
          "execution_count": 60
        }
      ]
    },
    {
      "cell_type": "code",
      "metadata": {
        "id": "tFXKIeTf6GVx",
        "colab_type": "code",
        "colab": {}
      },
      "source": [
        "cv.to_json('data/covid_19.json.gz')\n"
      ],
      "execution_count": 0,
      "outputs": []
    },
    {
      "cell_type": "code",
      "metadata": {
        "id": "dL15FCJY2Yf4",
        "colab_type": "code",
        "outputId": "2e15a843-ae4c-42b8-d194-8c9ca3ca1128",
        "colab": {
          "base_uri": "https://localhost:8080/",
          "height": 34
        }
      },
      "source": [
        "cv.scholarly_citations_count.sum()"
      ],
      "execution_count": 0,
      "outputs": [
        {
          "output_type": "execute_result",
          "data": {
            "text/plain": [
              "732.0"
            ]
          },
          "metadata": {
            "tags": []
          },
          "execution_count": 10
        }
      ]
    },
    {
      "cell_type": "code",
      "metadata": {
        "colab_type": "code",
        "id": "S5f46Ftr2vsV",
        "outputId": "4377f973-9aed-4c1a-846c-09b82ab5f694",
        "colab": {
          "base_uri": "https://localhost:8080/",
          "height": 299
        }
      },
      "source": [
        "cv['Year']=cv.date_published.apply(lambda s: s.split('-')[0] if type(s)==str else \n",
        "                                          s.get('date').split('-')[0] )\n",
        "cv=cv[~cv['Year'].isna()].reset_index(drop=True)\n",
        "cv['Year']=cv['Year'].astype(int)\n",
        "cv[cv['Year']>2007]['Year'].value_counts().sort_index().plot(kind='bar')"
      ],
      "execution_count": 61,
      "outputs": [
        {
          "output_type": "execute_result",
          "data": {
            "text/plain": [
              "<matplotlib.axes._subplots.AxesSubplot at 0x7f65e932fd68>"
            ]
          },
          "metadata": {
            "tags": []
          },
          "execution_count": 61
        },
        {
          "output_type": "display_data",
          "data": {
            "image/png": "[encoded data removed]",
            "text/plain": [
              "<Figure size 432x288 with 1 Axes>"
            ]
          },
          "metadata": {
            "tags": []
          }
        }
      ]
    },
    {
      "cell_type": "markdown",
      "metadata": {
        "id": "f1W7TUxYjp8C",
        "colab_type": "text"
      },
      "source": [
        "### Search for citations"
      ]
    },
    {
      "cell_type": "code",
      "metadata": {
        "id": "otbgXEbL0T7B",
        "colab_type": "code",
        "colab": {}
      },
      "source": [
        "if os.getcwd()=='/content':\n",
        "    from google.colab import drive\n",
        "    drive.mount('/content/drive')"
      ],
      "execution_count": 0,
      "outputs": []
    },
    {
      "cell_type": "code",
      "metadata": {
        "id": "4jc7YD4imLK9",
        "colab_type": "code",
        "outputId": "5ef21469-e349-408e-81a6-afdbadc83318",
        "colab": {
          "base_uri": "https://localhost:8080/",
          "height": 51
        }
      },
      "source": [
        "cvc=pd.DataFrame()\n",
        "i=0\n",
        "for l in cv['scholarly_citations'].apply(pd.Series).stack().unique():\n",
        "    i+=1    \n",
        "    print(i,l)\n",
        "    tmp=get_query(query,lens_id=l,url=url,token=token)\n",
        "    cvc=cvc.append(tmp).reset_index(drop=True)\n",
        "    cvc.to_json('covid_19_scholarly_citations.json')\n",
        "    if os.getcwd()=='/content':\n",
        "        !cp covid_19_scholarly_citations.json drive/My\\ Drive\n",
        "        \n",
        "    time.sleep(5)\n",
        "    break"
      ],
      "execution_count": 63,
      "outputs": [
        {
          "output_type": "stream",
          "text": [
            "1 031-883-225-563-477\n",
            "cp: cannot create regular file 'drive/My Drive': No such file or directory\n"
          ],
          "name": "stdout"
        }
      ]
    },
    {
      "cell_type": "code",
      "metadata": {
        "id": "-wzLS4Tp0z7B",
        "colab_type": "code",
        "colab": {}
      },
      "source": [
        "dfcvc=pd.DataFrame(list(cvc.data.values))"
      ],
      "execution_count": 0,
      "outputs": []
    },
    {
      "cell_type": "code",
      "metadata": {
        "id": "dM02vh2hCE_J",
        "colab_type": "code",
        "colab": {}
      },
      "source": [
        "dfcvc.to_json('covid_19_scholarly_citations.json')"
      ],
      "execution_count": 0,
      "outputs": []
    },
    {
      "cell_type": "code",
      "metadata": {
        "id": "qnZnH6psmLc1",
        "colab_type": "code",
        "outputId": "7d4d7c88-8724-418a-a4b9-cb70ea28a739",
        "colab": {
          "base_uri": "https://localhost:8080/",
          "height": 79
        }
      },
      "source": [
        "get_query(lens_id='031-883-225-563-477',url=url,token=token)"
      ],
      "execution_count": 0,
      "outputs": [
        {
          "output_type": "execute_result",
          "data": {
            "text/html": [
              "<div>\n",
              "<style scoped>\n",
              "    .dataframe tbody tr th:only-of-type {\n",
              "        vertical-align: middle;\n",
              "    }\n",
              "\n",
              "    .dataframe tbody tr th {\n",
              "        vertical-align: top;\n",
              "    }\n",
              "\n",
              "    .dataframe thead th {\n",
              "        text-align: right;\n",
              "    }\n",
              "</style>\n",
              "<table border=\"1\" class=\"dataframe\">\n",
              "  <thead>\n",
              "    <tr style=\"text-align: right;\">\n",
              "      <th></th>\n",
              "      <th>total</th>\n",
              "      <th>data</th>\n",
              "      <th>results</th>\n",
              "    </tr>\n",
              "  </thead>\n",
              "  <tbody>\n",
              "    <tr>\n",
              "      <th>0</th>\n",
              "      <td>1</td>\n",
              "      <td>{'lens_id': '031-883-225-563-477', 'created': ...</td>\n",
              "      <td>1</td>\n",
              "    </tr>\n",
              "  </tbody>\n",
              "</table>\n",
              "</div>"
            ],
            "text/plain": [
              "   total                                               data  results\n",
              "0      1  {'lens_id': '031-883-225-563-477', 'created': ...        1"
            ]
          },
          "metadata": {
            "tags": []
          },
          "execution_count": 114
        }
      ]
    },
    {
      "cell_type": "code",
      "metadata": {
        "id": "iVApG0Za1M3f",
        "colab_type": "code",
        "outputId": "e85a9779-ed5a-4741-d86d-1105e7e3c2cf",
        "colab": {
          "base_uri": "https://localhost:8080/",
          "height": 154
        }
      },
      "source": [
        "dfcvc.columns"
      ],
      "execution_count": 0,
      "outputs": [
        {
          "output_type": "execute_result",
          "data": {
            "text/plain": [
              "Index(['lens_id', 'created', 'publication_type', 'authors', 'title',\n",
              "       'languages', 'references', 'funding', 'abstract', 'year_published',\n",
              "       'references_count', 'external_ids', 'start_page', 'source',\n",
              "       'author_count', 'date_published', 'open_access', 'volume', 'issue',\n",
              "       'keywords', 'mesh_terms', 'chemicals', 'scholarly_citations_count',\n",
              "       'scholarly_citations', 'publication_supplementary_type',\n",
              "       'fields_of_study', 'source_urls', 'end_page', 'clinical_trials'],\n",
              "      dtype='object')"
            ]
          },
          "metadata": {
            "tags": []
          },
          "execution_count": 42
        }
      ]
    },
    {
      "cell_type": "code",
      "metadata": {
        "id": "JhaOA415CCss",
        "colab_type": "code",
        "colab": {}
      },
      "source": [
        ""
      ],
      "execution_count": 0,
      "outputs": []
    }
  ]
}