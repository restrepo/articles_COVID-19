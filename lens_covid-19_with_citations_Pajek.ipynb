{
  "nbformat": 4,
  "nbformat_minor": 0,
  "metadata": {
    "colab": {
      "name": "lens_covid-19_with_citations_Pajek.ipynb",
      "provenance": [],
      "include_colab_link": true
    },
    "kernelspec": {
      "display_name": "Python 3",
      "language": "python",
      "name": "python3"
    },
    "language_info": {
      "codemirror_mode": {
        "name": "ipython",
        "version": 3
      },
      "file_extension": ".py",
      "mimetype": "text/x-python",
      "name": "python",
      "nbconvert_exporter": "python",
      "pygments_lexer": "ipython3",
      "version": "3.5.3"
    },
    "latex_envs": {
      "LaTeX_envs_menu_present": true,
      "autoclose": false,
      "autocomplete": true,
      "bibliofile": "biblio.bib",
      "cite_by": "apalike",
      "current_citInitial": 1,
      "eqLabelWithNumbers": true,
      "eqNumInitial": 1,
      "hotkeys": {
        "equation": "Ctrl-E",
        "itemize": "Ctrl-I"
      },
      "labels_anchors": false,
      "latex_user_defs": false,
      "report_style_numbering": false,
      "user_envs_cfg": false
    }
  },
  "cells": [
    {
      "cell_type": "markdown",
      "metadata": {
        "id": "view-in-github",
        "colab_type": "text"
      },
      "source": [
        "<a href=\"https://colab.research.google.com/github/restrepo/articles_COVID-19/blob/master/lens_covid-19_with_citations_Pajek.ipynb\" target=\"_parent\"><img src=\"https://colab.research.google.com/assets/colab-badge.svg\" alt=\"Open In Colab\"/></a>"
      ]
    },
    {
      "cell_type": "markdown",
      "metadata": {
        "colab_type": "text",
        "id": "D_lKr3Avj0Ag"
      },
      "source": [
        "# Articles with `COVID-19`  in `title` of Lens.org"
      ]
    },
    {
      "cell_type": "markdown",
      "metadata": {
        "id": "o77CFWgaFJLU",
        "colab_type": "text"
      },
      "source": [
        "See [lens_covid.ipynb](./lens_covid.ipynb) [[GitHub]](https://github.com/restrepo/articles_COVID-19/blob/master/lens_covid.ipynb) [[Colab]](https://colab.research.google.com/github/restrepo/articles_COVID-19/blob/master/lens_covid.ipynb) to get the databases from lens.org API"
      ]
    },
    {
      "cell_type": "code",
      "metadata": {
        "colab_type": "code",
        "id": "Rw3EV881j0Am",
        "colab": {}
      },
      "source": [
        "import pandas as pd"
      ],
      "execution_count": 0,
      "outputs": []
    },
    {
      "cell_type": "markdown",
      "metadata": {
        "id": "hodglFYuEWqw",
        "colab_type": "text"
      },
      "source": [
        "### Articles"
      ]
    },
    {
      "cell_type": "markdown",
      "metadata": {
        "id": "IwG6wRFhDBL-",
        "colab_type": "text"
      },
      "source": [
        "Load articles with title covid-19"
      ]
    },
    {
      "cell_type": "code",
      "metadata": {
        "id": "JhaOA415CCss",
        "colab_type": "code",
        "outputId": "1e0b6fec-a79c-4594-df5c-8fbb0b874e9f",
        "colab": {
          "base_uri": "https://localhost:8080/",
          "height": 34
        }
      },
      "source": [
        "base='https://github.com/restrepo/articles_COVID-19/raw/master/data/'\n",
        "file='covid_19.json.gz'\n",
        "cv=pd.read_json('{}{}'.format(base,file),compression='gzip')\n",
        "cv.shape"
      ],
      "execution_count": 3,
      "outputs": [
        {
          "output_type": "execute_result",
          "data": {
            "text/plain": [
              "(6493, 32)"
            ]
          },
          "metadata": {
            "tags": []
          },
          "execution_count": 3
        }
      ]
    },
    {
      "cell_type": "code",
      "metadata": {
        "id": "hLTSkPyiBWMc",
        "colab_type": "code",
        "colab": {
          "base_uri": "https://localhost:8080/",
          "height": 416
        },
        "outputId": "a680b481-0851-4036-9541-78588323dd73"
      },
      "source": [
        "[['lens_id','scholarly_citations']]"
      ],
      "execution_count": 12,
      "outputs": [
        {
          "output_type": "execute_result",
          "data": {
            "text/html": [
              "<div>\n",
              "<style scoped>\n",
              "    .dataframe tbody tr th:only-of-type {\n",
              "        vertical-align: middle;\n",
              "    }\n",
              "\n",
              "    .dataframe tbody tr th {\n",
              "        vertical-align: top;\n",
              "    }\n",
              "\n",
              "    .dataframe thead th {\n",
              "        text-align: right;\n",
              "    }\n",
              "</style>\n",
              "<table border=\"1\" class=\"dataframe\">\n",
              "  <thead>\n",
              "    <tr style=\"text-align: right;\">\n",
              "      <th></th>\n",
              "      <th>lens_id</th>\n",
              "      <th>scholarly_citations</th>\n",
              "    </tr>\n",
              "  </thead>\n",
              "  <tbody>\n",
              "    <tr>\n",
              "      <th>0</th>\n",
              "      <td>000-010-369-238-182</td>\n",
              "      <td>[000-001-772-599-784, 000-806-857-947-870, 001...</td>\n",
              "    </tr>\n",
              "    <tr>\n",
              "      <th>1</th>\n",
              "      <td>000-026-995-805-267</td>\n",
              "      <td>[000-116-303-439-999, 000-476-993-788-043, 000...</td>\n",
              "    </tr>\n",
              "    <tr>\n",
              "      <th>2</th>\n",
              "      <td>000-037-106-895-586</td>\n",
              "      <td>[000-790-319-847-633, 001-237-651-609-621, 004...</td>\n",
              "    </tr>\n",
              "    <tr>\n",
              "      <th>4</th>\n",
              "      <td>000-102-992-920-771</td>\n",
              "      <td>[013-540-154-555-148, 021-208-857-863-45X]</td>\n",
              "    </tr>\n",
              "    <tr>\n",
              "      <th>5</th>\n",
              "      <td>000-162-542-213-353</td>\n",
              "      <td>[000-550-807-522-560, 001-732-040-244-190, 006...</td>\n",
              "    </tr>\n",
              "    <tr>\n",
              "      <th>...</th>\n",
              "      <td>...</td>\n",
              "      <td>...</td>\n",
              "    </tr>\n",
              "    <tr>\n",
              "      <th>6165</th>\n",
              "      <td>116-760-801-273-42X</td>\n",
              "      <td>[165-124-194-843-143, 192-133-947-684-196]</td>\n",
              "    </tr>\n",
              "    <tr>\n",
              "      <th>6222</th>\n",
              "      <td>130-448-709-050-646</td>\n",
              "      <td>[112-470-150-380-035, 158-992-314-027-375]</td>\n",
              "    </tr>\n",
              "    <tr>\n",
              "      <th>6276</th>\n",
              "      <td>145-449-722-363-398</td>\n",
              "      <td>[050-163-234-742-411]</td>\n",
              "    </tr>\n",
              "    <tr>\n",
              "      <th>6306</th>\n",
              "      <td>152-188-537-897-065</td>\n",
              "      <td>[031-883-225-563-477]</td>\n",
              "    </tr>\n",
              "    <tr>\n",
              "      <th>6415</th>\n",
              "      <td>178-988-145-870-698</td>\n",
              "      <td>[031-883-225-563-477]</td>\n",
              "    </tr>\n",
              "  </tbody>\n",
              "</table>\n",
              "<p>1566 rows × 2 columns</p>\n",
              "</div>"
            ],
            "text/plain": [
              "                  lens_id                                scholarly_citations\n",
              "0     000-010-369-238-182  [000-001-772-599-784, 000-806-857-947-870, 001...\n",
              "1     000-026-995-805-267  [000-116-303-439-999, 000-476-993-788-043, 000...\n",
              "2     000-037-106-895-586  [000-790-319-847-633, 001-237-651-609-621, 004...\n",
              "4     000-102-992-920-771         [013-540-154-555-148, 021-208-857-863-45X]\n",
              "5     000-162-542-213-353  [000-550-807-522-560, 001-732-040-244-190, 006...\n",
              "...                   ...                                                ...\n",
              "6165  116-760-801-273-42X         [165-124-194-843-143, 192-133-947-684-196]\n",
              "6222  130-448-709-050-646         [112-470-150-380-035, 158-992-314-027-375]\n",
              "6276  145-449-722-363-398                              [050-163-234-742-411]\n",
              "6306  152-188-537-897-065                              [031-883-225-563-477]\n",
              "6415  178-988-145-870-698                              [031-883-225-563-477]\n",
              "\n",
              "[1566 rows x 2 columns]"
            ]
          },
          "metadata": {
            "tags": []
          },
          "execution_count": 12
        }
      ]
    },
    {
      "cell_type": "code",
      "metadata": {
        "id": "PuhrXZdICCaa",
        "colab_type": "code",
        "colab": {
          "base_uri": "https://localhost:8080/",
          "height": 34
        },
        "outputId": "5012b4cc-1e8e-48d3-cbf3-74739f083480"
      },
      "source": [
        "['hola mundo']*3"
      ],
      "execution_count": 15,
      "outputs": [
        {
          "output_type": "execute_result",
          "data": {
            "text/plain": [
              "['hola mundo', 'hola mundo', 'hola mundo']"
            ]
          },
          "metadata": {
            "tags": []
          },
          "execution_count": 15
        }
      ]
    },
    {
      "cell_type": "code",
      "metadata": {
        "id": "yWIgs0w7CK_z",
        "colab_type": "code",
        "colab": {}
      },
      "source": [
        "qq=[]\n",
        "def to_pajek(row,newlist=qq):\n",
        "    c=len(row.get('scholarly_citations'))\n",
        "    for i in range(c):\n",
        "        qq.append({ 'lens_id': row.get('lens_id'),'scholarly_citations': row.get('scholarly_citations')[i] })\n",
        "    return 'qq is being build'\n",
        "    #[ 'lens_id'            : [row.get('lens_id')]*c,\n",
        "    #         'scholarly_citations':row.get('scholarly_citations') }"
      ],
      "execution_count": 0,
      "outputs": []
    },
    {
      "cell_type": "code",
      "metadata": {
        "id": "4ciL3DYHE3cm",
        "colab_type": "code",
        "colab": {
          "base_uri": "https://localhost:8080/",
          "height": 222
        },
        "outputId": "4ad31164-5bb1-4a5c-96a0-952af876aa5a"
      },
      "source": [
        "cv.dropna(subset=['scholarly_citations']).apply( \n",
        "    to_pajek ,axis='columns')"
      ],
      "execution_count": 54,
      "outputs": [
        {
          "output_type": "execute_result",
          "data": {
            "text/plain": [
              "0       qq is being build\n",
              "1       qq is being build\n",
              "2       qq is being build\n",
              "4       qq is being build\n",
              "5       qq is being build\n",
              "              ...        \n",
              "6165    qq is being build\n",
              "6222    qq is being build\n",
              "6276    qq is being build\n",
              "6306    qq is being build\n",
              "6415    qq is being build\n",
              "Length: 1566, dtype: object"
            ]
          },
          "metadata": {
            "tags": []
          },
          "execution_count": 54
        }
      ]
    },
    {
      "cell_type": "code",
      "metadata": {
        "id": "yhoQOwv-FeLG",
        "colab_type": "code",
        "colab": {
          "base_uri": "https://localhost:8080/",
          "height": 416
        },
        "outputId": "91dc763e-f49a-44f9-d08e-83521622955e"
      },
      "source": [
        "pd.DataFrame(qq)"
      ],
      "execution_count": 55,
      "outputs": [
        {
          "output_type": "execute_result",
          "data": {
            "text/html": [
              "<div>\n",
              "<style scoped>\n",
              "    .dataframe tbody tr th:only-of-type {\n",
              "        vertical-align: middle;\n",
              "    }\n",
              "\n",
              "    .dataframe tbody tr th {\n",
              "        vertical-align: top;\n",
              "    }\n",
              "\n",
              "    .dataframe thead th {\n",
              "        text-align: right;\n",
              "    }\n",
              "</style>\n",
              "<table border=\"1\" class=\"dataframe\">\n",
              "  <thead>\n",
              "    <tr style=\"text-align: right;\">\n",
              "      <th></th>\n",
              "      <th>lens_id</th>\n",
              "      <th>scholarly_citations</th>\n",
              "    </tr>\n",
              "  </thead>\n",
              "  <tbody>\n",
              "    <tr>\n",
              "      <th>0</th>\n",
              "      <td>000-010-369-238-182</td>\n",
              "      <td>000-001-772-599-784</td>\n",
              "    </tr>\n",
              "    <tr>\n",
              "      <th>1</th>\n",
              "      <td>000-010-369-238-182</td>\n",
              "      <td>000-806-857-947-870</td>\n",
              "    </tr>\n",
              "    <tr>\n",
              "      <th>2</th>\n",
              "      <td>000-010-369-238-182</td>\n",
              "      <td>001-945-026-134-859</td>\n",
              "    </tr>\n",
              "    <tr>\n",
              "      <th>3</th>\n",
              "      <td>000-010-369-238-182</td>\n",
              "      <td>002-219-418-776-885</td>\n",
              "    </tr>\n",
              "    <tr>\n",
              "      <th>4</th>\n",
              "      <td>000-010-369-238-182</td>\n",
              "      <td>004-083-118-432-223</td>\n",
              "    </tr>\n",
              "    <tr>\n",
              "      <th>...</th>\n",
              "      <td>...</td>\n",
              "      <td>...</td>\n",
              "    </tr>\n",
              "    <tr>\n",
              "      <th>51230</th>\n",
              "      <td>130-448-709-050-646</td>\n",
              "      <td>112-470-150-380-035</td>\n",
              "    </tr>\n",
              "    <tr>\n",
              "      <th>51231</th>\n",
              "      <td>130-448-709-050-646</td>\n",
              "      <td>158-992-314-027-375</td>\n",
              "    </tr>\n",
              "    <tr>\n",
              "      <th>51232</th>\n",
              "      <td>145-449-722-363-398</td>\n",
              "      <td>050-163-234-742-411</td>\n",
              "    </tr>\n",
              "    <tr>\n",
              "      <th>51233</th>\n",
              "      <td>152-188-537-897-065</td>\n",
              "      <td>031-883-225-563-477</td>\n",
              "    </tr>\n",
              "    <tr>\n",
              "      <th>51234</th>\n",
              "      <td>178-988-145-870-698</td>\n",
              "      <td>031-883-225-563-477</td>\n",
              "    </tr>\n",
              "  </tbody>\n",
              "</table>\n",
              "<p>51235 rows × 2 columns</p>\n",
              "</div>"
            ],
            "text/plain": [
              "                   lens_id  scholarly_citations\n",
              "0      000-010-369-238-182  000-001-772-599-784\n",
              "1      000-010-369-238-182  000-806-857-947-870\n",
              "2      000-010-369-238-182  001-945-026-134-859\n",
              "3      000-010-369-238-182  002-219-418-776-885\n",
              "4      000-010-369-238-182  004-083-118-432-223\n",
              "...                    ...                  ...\n",
              "51230  130-448-709-050-646  112-470-150-380-035\n",
              "51231  130-448-709-050-646  158-992-314-027-375\n",
              "51232  145-449-722-363-398  050-163-234-742-411\n",
              "51233  152-188-537-897-065  031-883-225-563-477\n",
              "51234  178-988-145-870-698  031-883-225-563-477\n",
              "\n",
              "[51235 rows x 2 columns]"
            ]
          },
          "metadata": {
            "tags": []
          },
          "execution_count": 55
        }
      ]
    },
    {
      "cell_type": "code",
      "metadata": {
        "id": "FXw8Jq992O-W",
        "colab_type": "code",
        "outputId": "c2188c06-a321-45ea-cc39-448c71420e85",
        "colab": {
          "base_uri": "https://localhost:8080/",
          "height": 416
        }
      },
      "source": [
        "cv[['lens_id','scholarly_citations']]"
      ],
      "execution_count": 0,
      "outputs": [
        {
          "output_type": "execute_result",
          "data": {
            "text/html": [
              "<div>\n",
              "<style scoped>\n",
              "    .dataframe tbody tr th:only-of-type {\n",
              "        vertical-align: middle;\n",
              "    }\n",
              "\n",
              "    .dataframe tbody tr th {\n",
              "        vertical-align: top;\n",
              "    }\n",
              "\n",
              "    .dataframe thead th {\n",
              "        text-align: right;\n",
              "    }\n",
              "</style>\n",
              "<table border=\"1\" class=\"dataframe\">\n",
              "  <thead>\n",
              "    <tr style=\"text-align: right;\">\n",
              "      <th></th>\n",
              "      <th>lens_id</th>\n",
              "      <th>scholarly_citations</th>\n",
              "    </tr>\n",
              "  </thead>\n",
              "  <tbody>\n",
              "    <tr>\n",
              "      <th>0</th>\n",
              "      <td>000-010-369-238-182</td>\n",
              "      <td>[000-001-772-599-784, 000-806-857-947-870, 001...</td>\n",
              "    </tr>\n",
              "    <tr>\n",
              "      <th>1</th>\n",
              "      <td>000-026-995-805-267</td>\n",
              "      <td>[000-116-303-439-999, 000-476-993-788-043, 000...</td>\n",
              "    </tr>\n",
              "    <tr>\n",
              "      <th>2</th>\n",
              "      <td>000-037-106-895-586</td>\n",
              "      <td>[000-790-319-847-633, 001-237-651-609-621, 004...</td>\n",
              "    </tr>\n",
              "    <tr>\n",
              "      <th>3</th>\n",
              "      <td>000-083-935-544-000</td>\n",
              "      <td>None</td>\n",
              "    </tr>\n",
              "    <tr>\n",
              "      <th>4</th>\n",
              "      <td>000-102-992-920-771</td>\n",
              "      <td>[013-540-154-555-148, 021-208-857-863-45X]</td>\n",
              "    </tr>\n",
              "    <tr>\n",
              "      <th>...</th>\n",
              "      <td>...</td>\n",
              "      <td>...</td>\n",
              "    </tr>\n",
              "    <tr>\n",
              "      <th>6488</th>\n",
              "      <td>199-398-967-533-238</td>\n",
              "      <td>None</td>\n",
              "    </tr>\n",
              "    <tr>\n",
              "      <th>6489</th>\n",
              "      <td>199-619-345-931-780</td>\n",
              "      <td>None</td>\n",
              "    </tr>\n",
              "    <tr>\n",
              "      <th>6490</th>\n",
              "      <td>199-778-032-819-366</td>\n",
              "      <td>None</td>\n",
              "    </tr>\n",
              "    <tr>\n",
              "      <th>6491</th>\n",
              "      <td>199-848-066-348-305</td>\n",
              "      <td>None</td>\n",
              "    </tr>\n",
              "    <tr>\n",
              "      <th>6492</th>\n",
              "      <td>199-898-752-576-960</td>\n",
              "      <td>None</td>\n",
              "    </tr>\n",
              "  </tbody>\n",
              "</table>\n",
              "<p>6493 rows × 2 columns</p>\n",
              "</div>"
            ],
            "text/plain": [
              "                  lens_id                                scholarly_citations\n",
              "0     000-010-369-238-182  [000-001-772-599-784, 000-806-857-947-870, 001...\n",
              "1     000-026-995-805-267  [000-116-303-439-999, 000-476-993-788-043, 000...\n",
              "2     000-037-106-895-586  [000-790-319-847-633, 001-237-651-609-621, 004...\n",
              "3     000-083-935-544-000                                               None\n",
              "4     000-102-992-920-771         [013-540-154-555-148, 021-208-857-863-45X]\n",
              "...                   ...                                                ...\n",
              "6488  199-398-967-533-238                                               None\n",
              "6489  199-619-345-931-780                                               None\n",
              "6490  199-778-032-819-366                                               None\n",
              "6491  199-848-066-348-305                                               None\n",
              "6492  199-898-752-576-960                                               None\n",
              "\n",
              "[6493 rows x 2 columns]"
            ]
          },
          "metadata": {
            "tags": []
          },
          "execution_count": 8
        }
      ]
    },
    {
      "cell_type": "code",
      "metadata": {
        "id": "atROfF5lGj3P",
        "colab_type": "code",
        "outputId": "83a5be91-3501-42e2-ca0f-53048474ef7d",
        "colab": {
          "base_uri": "https://localhost:8080/",
          "height": 34
        }
      },
      "source": [
        "cv['scholarly_citations_count'].sum()"
      ],
      "execution_count": 0,
      "outputs": [
        {
          "output_type": "execute_result",
          "data": {
            "text/plain": [
              "51235.0"
            ]
          },
          "metadata": {
            "tags": []
          },
          "execution_count": 4
        }
      ]
    },
    {
      "cell_type": "markdown",
      "metadata": {
        "id": "6UDMtZEYDsCn",
        "colab_type": "text"
      },
      "source": [
        "Citations list of `lens_id` for sample for article 1"
      ]
    },
    {
      "cell_type": "code",
      "metadata": {
        "id": "xcb-RJNuD0Rd",
        "colab_type": "code",
        "outputId": "dbc5b079-f006-4f86-f098-a119114d420d",
        "colab": {
          "base_uri": "https://localhost:8080/",
          "height": 34
        }
      },
      "source": [
        "cv.loc[4,'scholarly_citations']"
      ],
      "execution_count": 0,
      "outputs": [
        {
          "output_type": "execute_result",
          "data": {
            "text/plain": [
              "['013-540-154-555-148', '021-208-857-863-45X']"
            ]
          },
          "metadata": {
            "tags": []
          },
          "execution_count": 5
        }
      ]
    },
    {
      "cell_type": "markdown",
      "metadata": {
        "id": "KixLRBR5Eay5",
        "colab_type": "text"
      },
      "source": [
        "### Citations"
      ]
    },
    {
      "cell_type": "markdown",
      "metadata": {
        "id": "YqAgRPLuDUid",
        "colab_type": "text"
      },
      "source": [
        "Load citations to articles. Get the metadata for each one of the `lens_id` citations"
      ]
    },
    {
      "cell_type": "code",
      "metadata": {
        "id": "QYLV4JPIy_7t",
        "colab_type": "code",
        "outputId": "8d0a7dc8-8980-429e-84da-61d75fc0ac21",
        "colab": {
          "base_uri": "https://localhost:8080/",
          "height": 34
        }
      },
      "source": [
        "base='https://github.com/restrepo/articles_COVID-19/raw/master/data/'\n",
        "file='covid_19_scholarly_citations_part_1.json.gz'\n",
        "cvc=pd.read_json('{}{}'.format(base,file),compression='gzip')\n",
        "file='covid_19_scholarly_citations_part_2.json.gz'\n",
        "cvc=cvc.append( pd.read_json('{}{}'.format(base,file),compression='gzip') \n",
        "        ).reset_index(drop=True)\n",
        "cvc.shape"
      ],
      "execution_count": 0,
      "outputs": [
        {
          "output_type": "execute_result",
          "data": {
            "text/plain": [
              "(19652, 32)"
            ]
          },
          "metadata": {
            "tags": []
          },
          "execution_count": 6
        }
      ]
    },
    {
      "cell_type": "markdown",
      "metadata": {
        "id": "udxrDDLVzs-M",
        "colab_type": "text"
      },
      "source": [
        "## Articles with references column"
      ]
    },
    {
      "cell_type": "code",
      "metadata": {
        "id": "Cv4qMHRmzyCH",
        "colab_type": "code",
        "outputId": "26ada065-3d9c-4c44-8a48-1ec8a9ed4bf4",
        "colab": {
          "base_uri": "https://localhost:8080/",
          "height": 34
        }
      },
      "source": [
        "base='https://github.com/restrepo/articles_COVID-19/raw/master/data/'\n",
        "file='lens_covid-19_web.json'\n",
        "cv_with_references=pd.read_json('{}{}'.format(base,file))\n",
        "cv_with_references.shape"
      ],
      "execution_count": 0,
      "outputs": [
        {
          "output_type": "execute_result",
          "data": {
            "text/plain": [
              "(6446, 22)"
            ]
          },
          "metadata": {
            "tags": []
          },
          "execution_count": 13
        }
      ]
    },
    {
      "cell_type": "code",
      "metadata": {
        "id": "Ma4UuKOk0Ej_",
        "colab_type": "code",
        "outputId": "3792fc71-816a-431e-8e04-625abc2970e9",
        "colab": {
          "base_uri": "https://localhost:8080/",
          "height": 188
        }
      },
      "source": [
        "cv.columns"
      ],
      "execution_count": 0,
      "outputs": [
        {
          "output_type": "execute_result",
          "data": {
            "text/plain": [
              "Index(['lens_id', 'created', 'open_access', 'publication_type', 'authors',\n",
              "       'title', 'volume', 'issue', 'languages', 'references',\n",
              "       'fields_of_study', 'funding', 'source_urls', 'abstract',\n",
              "       'year_published', 'references_count', 'scholarly_citations_count',\n",
              "       'external_ids', 'start_page', 'end_page', 'source',\n",
              "       'scholarly_citations', 'author_count', 'date_published',\n",
              "       'publication_supplementary_type', 'mesh_terms', 'patent_citations',\n",
              "       'patent_citations_count', 'chemicals', 'keywords', 'conference',\n",
              "       'clinical_trials'],\n",
              "      dtype='object')"
            ]
          },
          "metadata": {
            "tags": []
          },
          "execution_count": 9
        }
      ]
    },
    {
      "cell_type": "code",
      "metadata": {
        "id": "CCPk6EaL3XhR",
        "colab_type": "code",
        "colab": {}
      },
      "source": [
        ""
      ],
      "execution_count": 0,
      "outputs": []
    }
  ]
}