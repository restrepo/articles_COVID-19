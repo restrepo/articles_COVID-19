{
  "nbformat": 4,
  "nbformat_minor": 0,
  "metadata": {
    "colab": {
      "name": "lens_covid-19_with_citations_Pajek.ipynb",
      "provenance": [],
      "include_colab_link": true
    },
    "kernelspec": {
      "display_name": "Python 3",
      "language": "python",
      "name": "python3"
    },
    "language_info": {
      "codemirror_mode": {
        "name": "ipython",
        "version": 3
      },
      "file_extension": ".py",
      "mimetype": "text/x-python",
      "name": "python",
      "nbconvert_exporter": "python",
      "pygments_lexer": "ipython3",
      "version": "3.5.3"
    },
    "latex_envs": {
      "LaTeX_envs_menu_present": true,
      "autoclose": false,
      "autocomplete": true,
      "bibliofile": "biblio.bib",
      "cite_by": "apalike",
      "current_citInitial": 1,
      "eqLabelWithNumbers": true,
      "eqNumInitial": 1,
      "hotkeys": {
        "equation": "Ctrl-E",
        "itemize": "Ctrl-I"
      },
      "labels_anchors": false,
      "latex_user_defs": false,
      "report_style_numbering": false,
      "user_envs_cfg": false
    }
  },
  "cells": [
    {
      "cell_type": "markdown",
      "metadata": {
        "id": "view-in-github",
        "colab_type": "text"
      },
      "source": [
        "<a href=\"https://colab.research.google.com/github/restrepo/articles_COVID-19/blob/master/lens_covid-19_with_citations_Pajek.ipynb\" target=\"_parent\"><img src=\"https://colab.research.google.com/assets/colab-badge.svg\" alt=\"Open In Colab\"/></a>"
      ]
    },
    {
      "cell_type": "markdown",
      "metadata": {
        "colab_type": "text",
        "id": "D_lKr3Avj0Ag"
      },
      "source": [
        "# Articles with `COVID-19`  in `title` of Lens.org"
      ]
    },
    {
      "cell_type": "markdown",
      "metadata": {
        "id": "o77CFWgaFJLU",
        "colab_type": "text"
      },
      "source": [
        "See [lens_covid.ipynb](./lens_covid.ipynb) [[GitHub]](https://github.com/restrepo/articles_COVID-19/blob/master/lens_covid.ipynb) [[Colab]](https://colab.research.google.com/github/restrepo/articles_COVID-19/blob/master/lens_covid.ipynb) to get the databases from lens.org API"
      ]
    },
    {
      "cell_type": "code",
      "metadata": {
        "colab_type": "code",
        "id": "Rw3EV881j0Am",
        "colab": {}
      },
      "source": [
        "import pandas as pd"
      ],
      "execution_count": 0,
      "outputs": []
    },
    {
      "cell_type": "markdown",
      "metadata": {
        "id": "hodglFYuEWqw",
        "colab_type": "text"
      },
      "source": [
        "### Articles"
      ]
    },
    {
      "cell_type": "markdown",
      "metadata": {
        "id": "IwG6wRFhDBL-",
        "colab_type": "text"
      },
      "source": [
        "Load articles with title covid-19"
      ]
    },
    {
      "cell_type": "code",
      "metadata": {
        "id": "JhaOA415CCss",
        "colab_type": "code",
        "outputId": "a0c558c1-7a1d-44a4-d2e3-f0b1b8107053",
        "colab": {
          "base_uri": "https://localhost:8080/",
          "height": 34
        }
      },
      "source": [
        "base='https://github.com/restrepo/articles_COVID-19/raw/master/data/'\n",
        "file='covid_19.json.gz'\n",
        "cv=pd.read_json('{}{}'.format(base,file),compression='gzip')\n",
        "cv.shape"
      ],
      "execution_count": 2,
      "outputs": [
        {
          "output_type": "execute_result",
          "data": {
            "text/plain": [
              "(11562, 32)"
            ]
          },
          "metadata": {
            "tags": []
          },
          "execution_count": 2
        }
      ]
    },
    {
      "cell_type": "code",
      "metadata": {
        "id": "yWIgs0w7CK_z",
        "colab_type": "code",
        "colab": {}
      },
      "source": [
        "qq=[]\n",
        "def to_pajek(row,newlist=qq):\n",
        "    c=len(row.get('scholarly_citations'))\n",
        "    for i in range(c):\n",
        "        qq.append({ 'lens_id': row.get('lens_id'),'scholarly_citations': row.get('scholarly_citations')[i] })\n",
        "    return 'qq is being build'\n",
        "def to_authors(row,newlist=qq):\n",
        "    try:\n",
        "        c=len(row.get('authors'))\n",
        "    except:\n",
        "        c=0\n",
        "    for i in range(c):\n",
        "        try:\n",
        "            i_author=row.get('authors')[i]\n",
        "        except:\n",
        "            i_author={}\n",
        "        try:\n",
        "            i_affiliations=i_author.get('affiliations')[0]\n",
        "        except:\n",
        "            i_affiliations={}\n",
        "        qq.append({ 'lens_id': row.get('lens_id'),\n",
        "                   'author': '{} {}'.format(i_author.get('first_name'),\n",
        "                                            i_author.get('last_name')),\n",
        "                   'affiliation': i_affiliations.get('name'),\n",
        "                   'country': i_affiliations.get('country_code')})\n",
        "    return qq#'qq is being build'    "
      ],
      "execution_count": 0,
      "outputs": []
    },
    {
      "cell_type": "code",
      "metadata": {
        "id": "4ciL3DYHE3cm",
        "colab_type": "code",
        "outputId": "f10af754-3227-4880-e3b9-377f9531a2ec",
        "colab": {
          "base_uri": "https://localhost:8080/",
          "height": 222
        }
      },
      "source": [
        "qq=[]\n",
        "cvac=cv.dropna(subset=['scholarly_citations'])\n",
        "cvac.apply( \n",
        "    to_pajek ,axis='columns')"
      ],
      "execution_count": 4,
      "outputs": [
        {
          "output_type": "execute_result",
          "data": {
            "text/plain": [
              "0        qq is being build\n",
              "1        qq is being build\n",
              "3        qq is being build\n",
              "4        qq is being build\n",
              "5        qq is being build\n",
              "               ...        \n",
              "10378    qq is being build\n",
              "10423    qq is being build\n",
              "10816    qq is being build\n",
              "10936    qq is being build\n",
              "11130    qq is being build\n",
              "Length: 2170, dtype: object"
            ]
          },
          "metadata": {
            "tags": []
          },
          "execution_count": 4
        }
      ]
    },
    {
      "cell_type": "code",
      "metadata": {
        "id": "yhoQOwv-FeLG",
        "colab_type": "code",
        "colab": {}
      },
      "source": [
        "pcvac=pd.DataFrame(qq)\n",
        "pcvac.to_excel('pajek_hoja_1.xlsx',index=False)"
      ],
      "execution_count": 0,
      "outputs": []
    },
    {
      "cell_type": "code",
      "metadata": {
        "id": "6l1iuX54a1Pv",
        "colab_type": "code",
        "outputId": "6beba66b-ee3f-415b-8b32-44c611fe0e07",
        "colab": {
          "base_uri": "https://localhost:8080/",
          "height": 34
        }
      },
      "source": [
        "pcvac.shape"
      ],
      "execution_count": 6,
      "outputs": [
        {
          "output_type": "execute_result",
          "data": {
            "text/plain": [
              "(57623, 2)"
            ]
          },
          "metadata": {
            "tags": []
          },
          "execution_count": 6
        }
      ]
    },
    {
      "cell_type": "code",
      "metadata": {
        "colab_type": "code",
        "outputId": "9c085740-799f-409c-ed03-bd40a6d2eff1",
        "id": "ewUttJjsWZYg",
        "colab": {
          "base_uri": "https://localhost:8080/",
          "height": 34
        }
      },
      "source": [
        "cv['scholarly_citations_count'].sum()"
      ],
      "execution_count": 7,
      "outputs": [
        {
          "output_type": "execute_result",
          "data": {
            "text/plain": [
              "57623.0"
            ]
          },
          "metadata": {
            "tags": []
          },
          "execution_count": 7
        }
      ]
    },
    {
      "cell_type": "markdown",
      "metadata": {
        "id": "6UDMtZEYDsCn",
        "colab_type": "text"
      },
      "source": [
        "Citations list of `lens_id` for sample for article 1"
      ]
    },
    {
      "cell_type": "code",
      "metadata": {
        "id": "xcb-RJNuD0Rd",
        "colab_type": "code",
        "outputId": "aba55410-5cfe-4a96-c053-15b5ff9c5319",
        "colab": {
          "base_uri": "https://localhost:8080/",
          "height": 701
        }
      },
      "source": [
        "cv.loc[4,'scholarly_citations']"
      ],
      "execution_count": 8,
      "outputs": [
        {
          "output_type": "execute_result",
          "data": {
            "text/plain": [
              "['000-550-807-522-560',\n",
              " '001-732-040-244-190',\n",
              " '006-715-195-623-985',\n",
              " '007-735-425-474-888',\n",
              " '013-000-803-258-286',\n",
              " '014-347-263-225-190',\n",
              " '016-723-660-078-517',\n",
              " '019-142-659-749-137',\n",
              " '019-593-719-428-339',\n",
              " '021-857-065-276-88X',\n",
              " '023-532-394-629-76X',\n",
              " '023-938-579-373-924',\n",
              " '027-022-511-885-566',\n",
              " '027-359-098-622-423',\n",
              " '028-020-304-718-48X',\n",
              " '029-545-516-338-604',\n",
              " '031-943-694-788-291',\n",
              " '036-650-409-218-891',\n",
              " '037-582-455-747-924',\n",
              " '039-546-237-651-187',\n",
              " '045-613-960-210-991',\n",
              " '047-946-512-759-516',\n",
              " '051-151-390-415-98X',\n",
              " '052-723-983-020-438',\n",
              " '054-798-378-927-006',\n",
              " '056-486-289-590-464',\n",
              " '060-501-577-846-679',\n",
              " '061-510-539-702-085',\n",
              " '077-857-162-265-244',\n",
              " '086-197-944-927-287',\n",
              " '087-356-158-736-362',\n",
              " '088-637-824-794-650',\n",
              " '088-853-263-513-21X',\n",
              " '089-510-684-160-039',\n",
              " '090-399-466-472-424',\n",
              " '091-415-651-775-455',\n",
              " '108-267-904-084-622',\n",
              " '125-427-803-476-500',\n",
              " '158-529-659-523-855',\n",
              " '174-740-551-659-711']"
            ]
          },
          "metadata": {
            "tags": []
          },
          "execution_count": 8
        }
      ]
    },
    {
      "cell_type": "markdown",
      "metadata": {
        "id": "KixLRBR5Eay5",
        "colab_type": "text"
      },
      "source": [
        "### Citations"
      ]
    },
    {
      "cell_type": "markdown",
      "metadata": {
        "id": "YqAgRPLuDUid",
        "colab_type": "text"
      },
      "source": [
        "Load citations to articles. Get the metadata for each one of the `lens_id` citations"
      ]
    },
    {
      "cell_type": "code",
      "metadata": {
        "id": "QYLV4JPIy_7t",
        "colab_type": "code",
        "outputId": "91308a45-b0b3-4be3-999e-b61afeeba449",
        "colab": {
          "base_uri": "https://localhost:8080/",
          "height": 34
        }
      },
      "source": [
        "base='https://github.com/restrepo/articles_COVID-19/raw/master/data/'\n",
        "file='covid_19_scholarly_citations_part_1.json.gz'\n",
        "cvc=pd.read_json('{}{}'.format(base,file),compression='gzip')\n",
        "file='covid_19_scholarly_citations_part_2.json.gz'\n",
        "cvc=cvc.append( pd.read_json('{}{}'.format(base,file),compression='gzip') \n",
        "        ).reset_index(drop=True)\n",
        "cvc.shape"
      ],
      "execution_count": 9,
      "outputs": [
        {
          "output_type": "execute_result",
          "data": {
            "text/plain": [
              "(21130, 32)"
            ]
          },
          "metadata": {
            "tags": []
          },
          "execution_count": 9
        }
      ]
    },
    {
      "cell_type": "code",
      "metadata": {
        "id": "AUL9JG_0WgQr",
        "colab_type": "code",
        "colab": {}
      },
      "source": [
        "cvt=cvac.append(cvc).reset_index(drop=True)"
      ],
      "execution_count": 0,
      "outputs": []
    },
    {
      "cell_type": "code",
      "metadata": {
        "id": "vgb7zPl4WlpR",
        "colab_type": "code",
        "outputId": "76ecab6b-afb5-4234-9c19-471f3471e4bc",
        "colab": {
          "base_uri": "https://localhost:8080/",
          "height": 34
        }
      },
      "source": [
        "cvt.shape"
      ],
      "execution_count": 11,
      "outputs": [
        {
          "output_type": "execute_result",
          "data": {
            "text/plain": [
              "(23300, 32)"
            ]
          },
          "metadata": {
            "tags": []
          },
          "execution_count": 11
        }
      ]
    },
    {
      "cell_type": "code",
      "metadata": {
        "id": "8expvl_5Wn89",
        "colab_type": "code",
        "colab": {}
      },
      "source": [
        "cvt=cvt.drop_duplicates('lens_id').reset_index(drop=True)"
      ],
      "execution_count": 0,
      "outputs": []
    },
    {
      "cell_type": "code",
      "metadata": {
        "id": "UpOQQSvjbp4Y",
        "colab_type": "code",
        "outputId": "e92214e5-4936-43ba-d68c-bbeb6daf8801",
        "colab": {
          "base_uri": "https://localhost:8080/",
          "height": 34
        }
      },
      "source": [
        "cvt.shape"
      ],
      "execution_count": 13,
      "outputs": [
        {
          "output_type": "execute_result",
          "data": {
            "text/plain": [
              "(21748, 32)"
            ]
          },
          "metadata": {
            "tags": []
          },
          "execution_count": 13
        }
      ]
    },
    {
      "cell_type": "code",
      "metadata": {
        "id": "kEhWrW75WfUk",
        "colab_type": "code",
        "colab": {}
      },
      "source": [
        "qq=[]\n",
        "cvt.apply(to_authors,axis='columns').values"
      ],
      "execution_count": 0,
      "outputs": []
    },
    {
      "cell_type": "code",
      "metadata": {
        "id": "UrPOAsrSXUIX",
        "colab_type": "code",
        "colab": {}
      },
      "source": [
        "pcvt=pd.DataFrame(qq)\n",
        "pcvt.to_excel('pajek_hoja_3.xlsx',index=False)"
      ],
      "execution_count": 0,
      "outputs": []
    },
    {
      "cell_type": "code",
      "metadata": {
        "id": "sg0suup_b3b-",
        "colab_type": "code",
        "outputId": "2e1a7771-c859-4300-c136-1e529798591f",
        "colab": {
          "base_uri": "https://localhost:8080/",
          "height": 79
        }
      },
      "source": [
        "pcvt[:1]"
      ],
      "execution_count": 16,
      "outputs": [
        {
          "output_type": "execute_result",
          "data": {
            "text/html": [
              "<div>\n",
              "<style scoped>\n",
              "    .dataframe tbody tr th:only-of-type {\n",
              "        vertical-align: middle;\n",
              "    }\n",
              "\n",
              "    .dataframe tbody tr th {\n",
              "        vertical-align: top;\n",
              "    }\n",
              "\n",
              "    .dataframe thead th {\n",
              "        text-align: right;\n",
              "    }\n",
              "</style>\n",
              "<table border=\"1\" class=\"dataframe\">\n",
              "  <thead>\n",
              "    <tr style=\"text-align: right;\">\n",
              "      <th></th>\n",
              "      <th>lens_id</th>\n",
              "      <th>author</th>\n",
              "      <th>affiliation</th>\n",
              "      <th>country</th>\n",
              "    </tr>\n",
              "  </thead>\n",
              "  <tbody>\n",
              "    <tr>\n",
              "      <th>0</th>\n",
              "      <td>000-026-995-805-267</td>\n",
              "      <td>Johan A. den Boon</td>\n",
              "      <td>University of Wisconsin-Madison</td>\n",
              "      <td>US</td>\n",
              "    </tr>\n",
              "  </tbody>\n",
              "</table>\n",
              "</div>"
            ],
            "text/plain": [
              "               lens_id  ... country\n",
              "0  000-026-995-805-267  ...      US\n",
              "\n",
              "[1 rows x 4 columns]"
            ]
          },
          "metadata": {
            "tags": []
          },
          "execution_count": 16
        }
      ]
    },
    {
      "cell_type": "code",
      "metadata": {
        "id": "qLF6F0CIYVOE",
        "colab_type": "code",
        "colab": {}
      },
      "source": [
        "cvt['date']=cvt.created.str.split('T').str[0]\n",
        "cvt['journal']=cvt.source.apply(lambda d: d.get('title') if isinstance(d,dict) else '')\n",
        "cvt[['lens_id','title','date','journal']].to_excel('pajek_hoja_2.xlsx',index=False)"
      ],
      "execution_count": 0,
      "outputs": []
    },
    {
      "cell_type": "markdown",
      "metadata": {
        "id": "udxrDDLVzs-M",
        "colab_type": "text"
      },
      "source": [
        "## Articles with references column"
      ]
    },
    {
      "cell_type": "code",
      "metadata": {
        "id": "Cv4qMHRmzyCH",
        "colab_type": "code",
        "outputId": "8a83e011-a6a9-42b5-f1a2-e615df52f76c",
        "colab": {
          "base_uri": "https://localhost:8080/",
          "height": 34
        }
      },
      "source": [
        "#NOT UPDATED!\n",
        "base='https://github.com/restrepo/articles_COVID-19/raw/master/data/'\n",
        "file='lens_covid-19_web.json'\n",
        "cv_with_references=pd.read_json('{}{}'.format(base,file))\n",
        "cv_with_references.shape"
      ],
      "execution_count": 19,
      "outputs": [
        {
          "output_type": "execute_result",
          "data": {
            "text/plain": [
              "(6446, 22)"
            ]
          },
          "metadata": {
            "tags": []
          },
          "execution_count": 19
        }
      ]
    },
    {
      "cell_type": "code",
      "metadata": {
        "id": "Ma4UuKOk0Ej_",
        "colab_type": "code",
        "outputId": "5175a920-57dc-4f00-e2f0-392a27b866ee",
        "colab": {
          "base_uri": "https://localhost:8080/",
          "height": 171
        }
      },
      "source": [
        "cv.columns"
      ],
      "execution_count": 20,
      "outputs": [
        {
          "output_type": "execute_result",
          "data": {
            "text/plain": [
              "Index(['lens_id', 'created', 'open_access', 'publication_type',\n",
              "       'publication_supplementary_type', 'authors', 'title', 'volume', 'issue',\n",
              "       'languages', 'references', 'mesh_terms', 'fields_of_study', 'funding',\n",
              "       'source_urls', 'abstract', 'year_published', 'references_count',\n",
              "       'scholarly_citations_count', 'external_ids', 'start_page', 'end_page',\n",
              "       'source', 'scholarly_citations', 'author_count', 'date_published',\n",
              "       'patent_citations', 'patent_citations_count', 'chemicals', 'keywords',\n",
              "       'conference', 'clinical_trials'],\n",
              "      dtype='object')"
            ]
          },
          "metadata": {
            "tags": []
          },
          "execution_count": 20
        }
      ]
    },
    {
      "cell_type": "code",
      "metadata": {
        "id": "CCPk6EaL3XhR",
        "colab_type": "code",
        "colab": {}
      },
      "source": [
        ""
      ],
      "execution_count": 0,
      "outputs": []
    },
    {
      "cell_type": "code",
      "metadata": {
        "id": "mPpIaTxFYx4-",
        "colab_type": "code",
        "colab": {}
      },
      "source": [
        ""
      ],
      "execution_count": 0,
      "outputs": []
    }
  ]
}